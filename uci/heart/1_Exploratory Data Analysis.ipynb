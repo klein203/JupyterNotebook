{
 "cells": [
  {
   "cell_type": "markdown",
   "metadata": {},
   "source": [
    "# 概述\n",
    "导入uci heart disease数据，进行探索性数据分析（EDA），分析各列特征含义，并生成全方位的数据探索性分析档案"
   ]
  },
  {
   "cell_type": "markdown",
   "metadata": {},
   "source": [
    "# 导入工具包"
   ]
  },
  {
   "cell_type": "code",
   "execution_count": null,
   "metadata": {},
   "outputs": [],
   "source": [
    "import pandas as pd"
   ]
  },
  {
   "cell_type": "markdown",
   "metadata": {},
   "source": [
    "# 读取源数据"
   ]
  },
  {
   "cell_type": "code",
   "execution_count": null,
   "metadata": {},
   "outputs": [],
   "source": [
    "df = pd.read_csv('./data/heart.csv')"
   ]
  },
  {
   "cell_type": "markdown",
   "metadata": {},
   "source": [
    "# 初步分析"
   ]
  },
  {
   "cell_type": "code",
   "execution_count": null,
   "metadata": {},
   "outputs": [],
   "source": [
    "df.shape"
   ]
  },
  {
   "cell_type": "code",
   "execution_count": null,
   "metadata": {},
   "outputs": [],
   "source": [
    "df.head()"
   ]
  },
  {
   "cell_type": "markdown",
   "metadata": {},
   "source": [
    "# 各列说明\n",
    "1. age - 年龄\n",
    "2. sex - 性别 0：女；1：男\n",
    "3. chest pain type (4 values) - 心绞痛病史 1：典型心绞痛；2：非典型心绞痛；3：无心绞痛；4：无症状\n",
    "4. resting blood pressure - 静息血压\n",
    "5. serum cholestoral in mg/dl - 胆固醇含量\n",
    "6. fasting blood sugar > 120 mg/dl - 空腹时血糖偏高 1：是；0；否\n",
    "7. resting electrocardiographic results (values 0,1,2) - 静息时的心电图特征 0：正常；1：ST-T波异常；2：根据Estes准则，有潜在的左心室增肥\n",
    "8. maximum heart rate achieved - 最大心率\n",
    "9. exercise induced angina - 运动是否会导致心绞痛 1：会；0：不会\n",
    "10. oldpeak = ST depression induced by exercise relative to rest - 运动相比静息状态，心电图中的ST-T波是否会被压平 1：会；0：不会\n",
    "11. the slope of the peak exercise ST segment - 心电图中ST波峰值的强度 1：上升；2：平坦；3：下降\n",
    "12. number of major vessels (0-3) colored by flourosopy - 心脏周边大学管的个数（0-3）\n",
    "13. thal: 3 = normal; 6 = fixed defect; 7 = reversable defect - 是否患有地中海贫血症 3：无；6：fixed defect；7：reversable defect\n",
    "14. target: 1 = disease; 0 = not disease\n",
    "![electrocardiogram](data/electrocardiogram.png)"
   ]
  },
  {
   "cell_type": "code",
   "execution_count": null,
   "metadata": {},
   "outputs": [],
   "source": [
    "df.columns"
   ]
  },
  {
   "cell_type": "code",
   "execution_count": null,
   "metadata": {},
   "outputs": [],
   "source": [
    "df.describe()"
   ]
  },
  {
   "cell_type": "markdown",
   "metadata": {},
   "source": [
    "# 数据集数据缺损情况"
   ]
  },
  {
   "cell_type": "code",
   "execution_count": null,
   "metadata": {},
   "outputs": [],
   "source": [
    "df.info()"
   ]
  },
  {
   "cell_type": "code",
   "execution_count": null,
   "metadata": {},
   "outputs": [],
   "source": [
    "df.isnull().sum()"
   ]
  },
  {
   "cell_type": "markdown",
   "metadata": {},
   "source": [
    "# 一行代码生成数据探索性分析EDA报告\n",
    "EDA = Exploratory Data Analysis"
   ]
  },
  {
   "cell_type": "code",
   "execution_count": null,
   "metadata": {},
   "outputs": [],
   "source": [
    "import pandas_profiling as pdp"
   ]
  },
  {
   "cell_type": "code",
   "execution_count": null,
   "metadata": {},
   "outputs": [],
   "source": [
    "profile = pdp.ProfileReport(df)"
   ]
  },
  {
   "cell_type": "code",
   "execution_count": null,
   "metadata": {},
   "outputs": [],
   "source": [
    "profile.to_file(\"profile.html\")"
   ]
  }
 ],
 "metadata": {
  "kernelspec": {
   "display_name": "Python 3",
   "language": "python",
   "name": "python3"
  },
  "language_info": {
   "codemirror_mode": {
    "name": "ipython",
    "version": 3
   },
   "file_extension": ".py",
   "mimetype": "text/x-python",
   "name": "python",
   "nbconvert_exporter": "python",
   "pygments_lexer": "ipython3",
   "version": "3.7.3"
  }
 },
 "nbformat": 4,
 "nbformat_minor": 4
}
