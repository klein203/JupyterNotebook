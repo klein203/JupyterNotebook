{
 "cells": [
  {
   "cell_type": "markdown",
   "metadata": {},
   "source": [
    "# 概述\n",
    "计算测试的每个样本的每个特征对两类预测结果的shap值。\n",
    "\n",
    "得到特征重要图、shap值图、单个样本所有特征的shap值图、某一特征不同值的shap值图。\n",
    "\n",
    "绘制单一样本的决策瀑布图、决策图、所有样本的决策图、被分类错误样本的决策图、特征两两关系决策图、单一样本某一特征变化的决策图、找到受某一特征影响最大的样本\n",
    "\n",
    "## 导入工具包，导入数据集，训练模型并做预测"
   ]
  },
  {
   "cell_type": "code",
   "execution_count": null,
   "metadata": {},
   "outputs": [],
   "source": [
    "import numpy as np\n",
    "import pandas as pd\n",
    "\n",
    "import matplotlib.pyplot as plt\n",
    "%matplotlib inline\n",
    "\n",
    "import warnings\n",
    "warnings.filterwarnings(\"ignore\")\n",
    "\n",
    "from sklearn.model_selection import train_test_split\n",
    "from sklearn.ensemble import RandomForestClassifier\n",
    "\n",
    "df = pd.read_csv(\"./data/process_heart.csv\")\n",
    "\n",
    "X = df.drop(\"target\", axis=1)\n",
    "y = df[\"target\"]\n",
    "\n",
    "X_train, X_test, y_train, y_test = train_test_split(X, y, test_size=0.2, random_state=10)\n",
    "\n",
    "model = RandomForestClassifier(max_depth=5, n_estimators=100)\n",
    "model.fit(X_train, y_train)\n",
    "\n",
    "y_pred = model.predict(X_test)\n",
    "y_pred_proba = model.predict_proba(X_test)"
   ]
  },
  {
   "cell_type": "markdown",
   "metadata": {},
   "source": [
    "## 导入shap机器学习可解释性分析工具包"
   ]
  },
  {
   "cell_type": "code",
   "execution_count": null,
   "metadata": {},
   "outputs": [],
   "source": [
    "import shap\n",
    "shap.initjs()"
   ]
  },
  {
   "cell_type": "markdown",
   "metadata": {},
   "source": [
    "## 计算测试集每个样本的每个特征对两类预测结果的shap值"
   ]
  },
  {
   "cell_type": "code",
   "execution_count": null,
   "metadata": {},
   "outputs": [],
   "source": [
    "explainer = shap.TreeExplainer(model)\n",
    "shap_values = explainer.shap_values(X_test)\n",
    "len(shap_values)"
   ]
  },
  {
   "cell_type": "markdown",
   "metadata": {},
   "source": [
    "### 样本中，不患病(target=0)的预测结束的shap值"
   ]
  },
  {
   "cell_type": "code",
   "execution_count": null,
   "metadata": {},
   "outputs": [],
   "source": [
    "shap_values[0].shape"
   ]
  },
  {
   "cell_type": "markdown",
   "metadata": {},
   "source": [
    "### 样本中，患病(target=1)的预测结束的shap值"
   ]
  },
  {
   "cell_type": "code",
   "execution_count": null,
   "metadata": {},
   "outputs": [],
   "source": [
    "shap_values[1].shape"
   ]
  },
  {
   "cell_type": "markdown",
   "metadata": {},
   "source": [
    "### 测试集所有样本，预测“不患病”与“患病”各自的平均概率"
   ]
  },
  {
   "cell_type": "code",
   "execution_count": null,
   "metadata": {},
   "outputs": [],
   "source": [
    "expected_value = explainer.expected_value\n",
    "expected_value"
   ]
  },
  {
   "cell_type": "code",
   "execution_count": null,
   "metadata": {},
   "outputs": [],
   "source": [
    "explainer.expected_value[0] + explainer.expected_value[1]"
   ]
  },
  {
   "cell_type": "markdown",
   "metadata": {},
   "source": [
    "### 对某个样本，模型预测为“患病”的概率即为 测试集“患病”的平均概率与该样本各特征对“患病”预测结果的shap值之和"
   ]
  },
  {
   "cell_type": "code",
   "execution_count": null,
   "metadata": {},
   "outputs": [],
   "source": [
    "shap_values[1].sum(axis=1).shape"
   ]
  },
  {
   "cell_type": "code",
   "execution_count": null,
   "metadata": {},
   "outputs": [],
   "source": [
    "y_pred_proba_shap = shap_values[1].sum(axis=1) + explainer.expected_value[1]"
   ]
  },
  {
   "cell_type": "code",
   "execution_count": null,
   "metadata": {},
   "outputs": [],
   "source": [
    "y_pred_proba_shap.shape"
   ]
  },
  {
   "cell_type": "markdown",
   "metadata": {},
   "source": [
    "y_pred_proba_shap == y_pred_proba[:, 1]"
   ]
  },
  {
   "cell_type": "code",
   "execution_count": null,
   "metadata": {},
   "outputs": [],
   "source": [
    "y_pred_proba_shap"
   ]
  },
  {
   "cell_type": "code",
   "execution_count": null,
   "metadata": {},
   "outputs": [],
   "source": [
    "y_pred_proba[:, 1]"
   ]
  },
  {
   "cell_type": "markdown",
   "metadata": {},
   "source": [
    "## 特征重要值"
   ]
  },
  {
   "cell_type": "code",
   "execution_count": null,
   "metadata": {},
   "outputs": [],
   "source": [
    "shap.summary_plot(shap_values[1], X_test, plot_type=\"bar\")"
   ]
  },
  {
   "cell_type": "markdown",
   "metadata": {},
   "source": [
    "## 各特征的数值大小 与 各特征的shap值 关系图\n",
    "每行代表一个特征，红色表示该特征的值较高的数据点，蓝色表示较低的数据点；越靠右表示对该特征对预测为“患病”的正向影响较高"
   ]
  },
  {
   "cell_type": "code",
   "execution_count": null,
   "metadata": {},
   "outputs": [],
   "source": [
    "shap.summary_plot(shap_values[1], X_test)"
   ]
  },
  {
   "cell_type": "code",
   "execution_count": null,
   "metadata": {},
   "outputs": [],
   "source": [
    "shap.summary_plot(shap_values[1], X_test, plot_type=\"violin\")"
   ]
  },
  {
   "cell_type": "markdown",
   "metadata": {},
   "source": [
    "## 各特征两两特征对shap值的关系（对角线的图代表单一特征数值大小与该特征的shap值的关系图）\n",
    "红色代表两特征都是高值，蓝色代表两特征都是低值"
   ]
  },
  {
   "cell_type": "code",
   "execution_count": null,
   "metadata": {},
   "outputs": [],
   "source": [
    "shap_interaction_values = explainer.shap_interaction_values(X_test)\n",
    "shap.summary_plot(shap_interaction_values[1], X_test)"
   ]
  },
  {
   "cell_type": "markdown",
   "metadata": {},
   "source": [
    "## 分析单个样本各特征对预测为“患病”结果的影响"
   ]
  },
  {
   "cell_type": "code",
   "execution_count": null,
   "metadata": {},
   "outputs": [],
   "source": [
    "X_test.head()"
   ]
  },
  {
   "cell_type": "code",
   "execution_count": null,
   "metadata": {},
   "outputs": [],
   "source": [
    "idx = 126\n",
    "patient = X.iloc[idx, :]\n",
    "patient"
   ]
  },
  {
   "cell_type": "code",
   "execution_count": null,
   "metadata": {},
   "outputs": [],
   "source": [
    "# idx is 126 in X_test, offset is 4 in shap_interaction_values (idx in shap_interaction_values is 4-1)\n",
    "shap.summary_plot(shap_interaction_values[1][3], X_test, plot_type=\"bar\")"
   ]
  },
  {
   "cell_type": "code",
   "execution_count": null,
   "metadata": {},
   "outputs": [],
   "source": [
    "shap_values_patient = explainer.shap_values(patient)\n",
    "shap_values_patient"
   ]
  },
  {
   "cell_type": "code",
   "execution_count": null,
   "metadata": {},
   "outputs": [],
   "source": [
    "# base value - model output value (0.5704 - 0.80)\n",
    "shap_values_patient[0].sum()"
   ]
  },
  {
   "cell_type": "code",
   "execution_count": null,
   "metadata": {},
   "outputs": [],
   "source": [
    "shap.force_plot(explainer.expected_value[1], shap_values_patient[1], patient)"
   ]
  },
  {
   "cell_type": "code",
   "execution_count": null,
   "metadata": {},
   "outputs": [],
   "source": [
    "shap.waterfall_plot(explainer.expected_value[1], shap_values_patient[1], patient)"
   ]
  },
  {
   "cell_type": "markdown",
   "metadata": {},
   "source": [
    "## 测试集所有样本的summary plot\n",
    "将测试集所有样本的force plot旋转九十度并拼在一起，形成summary plot\n",
    "\n",
    "可以在下拉菜单选择按照相似性聚类展示、按照预测结果概率从大到小展示、按照测试集原本样本顺序、按照某个特征分别展示"
   ]
  },
  {
   "cell_type": "code",
   "execution_count": null,
   "metadata": {},
   "outputs": [],
   "source": [
    "number_show = 60\n",
    "shap_values_summary = explainer.shap_values(X_train.iloc[:number_show])\n",
    "shap.force_plot(explainer.expected_value[1], shap_values_summary[1], X_test.iloc[:number_show])"
   ]
  },
  {
   "cell_type": "markdown",
   "metadata": {},
   "source": [
    "### Dependent Plot\n",
    "展示某个特征从小变大时对预测结果的shap值"
   ]
  },
  {
   "cell_type": "code",
   "execution_count": null,
   "metadata": {},
   "outputs": [],
   "source": [
    "shap.dependence_plot(\"num_major_vessels\", shap_values[1], X_test, interaction_index=None)"
   ]
  },
  {
   "cell_type": "code",
   "execution_count": null,
   "metadata": {},
   "outputs": [],
   "source": [
    "shap.dependence_plot(\"max_heart_rate_achieved\", shap_values[1], X_test, interaction_index=None)"
   ]
  },
  {
   "cell_type": "code",
   "execution_count": null,
   "metadata": {},
   "outputs": [],
   "source": [
    "shap.dependence_plot(\"max_heart_rate_achieved\", shap_values[1], X_test, interaction_index=\"sex_male\")"
   ]
  },
  {
   "cell_type": "markdown",
   "metadata": {},
   "source": [
    "### Partial Dependent Plot\n",
    "展示某个特征从小变大时模型预测结果"
   ]
  },
  {
   "cell_type": "code",
   "execution_count": null,
   "metadata": {},
   "outputs": [],
   "source": [
    "shap.partial_dependence_plot(\"max_heart_rate_achieved\", model.predict, X_test, model_expected_value=True, feature_expected_value=True)"
   ]
  },
  {
   "cell_type": "code",
   "execution_count": null,
   "metadata": {},
   "outputs": [],
   "source": [
    "shap.partial_dependence_plot(\"num_major_vessels\", model.predict, X_test, model_expected_value=True, feature_expected_value=True)"
   ]
  },
  {
   "cell_type": "markdown",
   "metadata": {},
   "source": [
    "## 决策图：Decision Plot\n",
    "### 瀑布图只能展示单个数据的决策过程，决策图可以展示测试集所有数据的决策过程"
   ]
  },
  {
   "cell_type": "code",
   "execution_count": null,
   "metadata": {},
   "outputs": [],
   "source": [
    "shap.decision_plot(expected_value[1], shap_values[1], X_test)"
   ]
  },
  {
   "cell_type": "markdown",
   "metadata": {},
   "source": [
    "### 查看典型决策路径与异常点\n",
    "feature_order=\"hclust\""
   ]
  },
  {
   "cell_type": "code",
   "execution_count": null,
   "metadata": {},
   "outputs": [],
   "source": [
    "shap.decision_plot(expected_value[1], shap_values[1], X_test, feature_order=\"hclust\")"
   ]
  },
  {
   "cell_type": "markdown",
   "metadata": {},
   "source": [
    "加link=\"logit\"参数，进行对数几率缩放转换"
   ]
  },
  {
   "cell_type": "code",
   "execution_count": null,
   "metadata": {},
   "outputs": [],
   "source": [
    "shap.decision_plot(expected_value[1], shap_values[1], X_test, link=\"logit\")"
   ]
  },
  {
   "cell_type": "markdown",
   "metadata": {},
   "source": [
    "## 自定义决策图特征显示顺序"
   ]
  },
  {
   "cell_type": "code",
   "execution_count": null,
   "metadata": {},
   "outputs": [],
   "source": [
    "feature_idx = [i for i in range(26)]\n",
    "\n",
    "idx = 25\n",
    "selection = np.zeros((61))\n",
    "selection[idx] = 1\n",
    "selection = selection > 0\n",
    "\n",
    "print(\"索引号为%d的样本，在原始数据集X中的索引号为%d\" % (idx, X_test.iloc[idx:idx+1].index[0]))\n",
    "shap.decision_plot(expected_value[1], shap_values[1][selection], X_test[selection], feature_order=feature_idx)"
   ]
  },
  {
   "cell_type": "markdown",
   "metadata": {},
   "source": [
    "## 选出测试集中模型预测错误的样本"
   ]
  },
  {
   "cell_type": "code",
   "execution_count": null,
   "metadata": {},
   "outputs": [],
   "source": [
    "misclassified = y_pred != y_test\n",
    "misclassified_df = pd.DataFrame({\"misclassified\": misclassified})\n",
    "misclassified_df = misclassified_df[misclassified_df[\"misclassified\"] == True]\n",
    "misclassified_df"
   ]
  },
  {
   "cell_type": "code",
   "execution_count": null,
   "metadata": {},
   "outputs": [],
   "source": [
    "idx = 194\n",
    "patient = X.iloc[idx, :]\n",
    "patient_df = X.loc[idx:idx]\n",
    "model_predict_proba = model.predict_proba(patient_df)[0][1]\n",
    "print(\"%d号病人的真实标签为%s，模型预测可能性为%.2f\" % (idx, bool(y_test[idx]), model_predict_proba))\n",
    "\n",
    "shap_values_patient = explainer.shap_values(patient)\n",
    "shap.force_plot(explainer.expected_value[1], shap_values_patient[1], patient)"
   ]
  },
  {
   "cell_type": "code",
   "execution_count": null,
   "metadata": {},
   "outputs": [],
   "source": [
    "idx = 139\n",
    "patient = X.iloc[idx, :]\n",
    "patient_df = X.loc[idx:idx]\n",
    "model_predict_proba = model.predict_proba(patient_df)[0][1]\n",
    "print(\"%d号病人的真实标签为%s，模型预测可能性为%.2f\" % (idx, bool(y_test[idx]), model_predict_proba))\n",
    "\n",
    "shap_values_patient = explainer.shap_values(patient)\n",
    "shap.force_plot(explainer.expected_value[1], shap_values_patient[1], patient)"
   ]
  },
  {
   "cell_type": "markdown",
   "metadata": {},
   "source": [
    "## 在决策图中显示测试集中模型预测错误的样本"
   ]
  },
  {
   "cell_type": "code",
   "execution_count": null,
   "metadata": {},
   "outputs": [],
   "source": [
    "shap.decision_plot(expected_value[1], shap_values[1], X_test, highlight=misclassified)"
   ]
  },
  {
   "cell_type": "code",
   "execution_count": null,
   "metadata": {},
   "outputs": [],
   "source": [
    "shap.decision_plot(expected_value[1], shap_values[1][misclassified], X_test[misclassified], highlight=range(len(misclassified_df)), feature_order=\"hclust\")"
   ]
  },
  {
   "cell_type": "markdown",
   "metadata": {},
   "source": [
    "## 两两交互特征对预测结果影响\n",
    "主对角线的图与summary plot相同。\n",
    "\n",
    "选取索引值为5的样本的变量交互shap值矩阵"
   ]
  },
  {
   "cell_type": "code",
   "execution_count": null,
   "metadata": {},
   "outputs": [],
   "source": [
    "shap_interaction_values[1][5].shape"
   ]
  },
  {
   "cell_type": "code",
   "execution_count": null,
   "metadata": {},
   "outputs": [],
   "source": [
    "import seaborn as sns\n",
    "\n",
    "plt.figure(figsize=(10, 10))\n",
    "sns.heatmap(shap_interaction_values[1][5], annot=True, fmt=\".1f\", square=True)\n",
    "plt.show()"
   ]
  },
  {
   "cell_type": "markdown",
   "metadata": {},
   "source": [
    "### 考虑两两交互特征的决策图"
   ]
  },
  {
   "cell_type": "code",
   "execution_count": null,
   "metadata": {},
   "outputs": [],
   "source": [
    "shap.decision_plot(expected_value[1], shap_interaction_values[1], X_test, highlight=misclassified)"
   ]
  },
  {
   "cell_type": "code",
   "execution_count": null,
   "metadata": {},
   "outputs": [],
   "source": [
    "# slice(None, None, -1) 全部\n",
    "# slice(None, -101, -1) 100个\n",
    "shap.decision_plot(expected_value[1], shap_interaction_values[1], X_test, highlight=misclassified, feature_display_range=slice(None, None, -1), ignore_warnings=True)"
   ]
  },
  {
   "cell_type": "markdown",
   "metadata": {},
   "source": [
    "### 考虑到两两交互特征的单个样本决策图"
   ]
  },
  {
   "cell_type": "code",
   "execution_count": null,
   "metadata": {},
   "outputs": [],
   "source": [
    "idx = 24\n",
    "selection = np.zeros((61))\n",
    "selection[idx] = 1\n",
    "selection = selection > 0\n",
    "\n",
    "print(\"索引号为%d的样本，在原始数据集X中的索引号为%d\" % (idx, X_test.iloc[idx:idx+1].index[0]))\n",
    "shap.decision_plot(expected_value[1], shap_values[1][selection], X_test[selection])"
   ]
  },
  {
   "cell_type": "markdown",
   "metadata": {},
   "source": [
    "### 25号病人某一特征变化对模型分类结果的影响"
   ]
  },
  {
   "cell_type": "code",
   "execution_count": null,
   "metadata": {},
   "outputs": [],
   "source": [
    "idx = 25\n",
    "X_test.loc[idx]\n",
    "print(\"索引号为%d的样本，在原始数据集X中的索引号为%d\" % (idx, X_test.iloc[idx:idx+1].index[0]))\n",
    "\n",
    "feature_selected = \"max_heart_rate_achieved\"\n",
    "sep = 200\n",
    "feature_selected_min = X[feature_selected].min()\n",
    "feature_selected_max = X[feature_selected].max()\n",
    "step = (feature_selected_max - feature_selected_min ) / sep\n",
    "rg = np.arange(feature_selected_min, feature_selected_max, step)\n",
    "R = X.iloc[np.repeat(idx, len(rg))].reset_index(drop=True)\n",
    "R[feature_selected] = rg\n",
    "hypothetical_shap_values = explainer.shap_values(R)[1]\n",
    "shap.dependence_plot(feature_selected, hypothetical_shap_values, R, interaction_index=None)"
   ]
  },
  {
   "cell_type": "markdown",
   "metadata": {},
   "source": [
    "### 绘制25号病人某一特征不同变化范围的决策图"
   ]
  },
  {
   "cell_type": "code",
   "execution_count": null,
   "metadata": {},
   "outputs": [],
   "source": [
    "shap.decision_plot(expected_value[1], hypothetical_shap_values[[0, 50, 99]], X_test.iloc[idx], feature_order=\"importance\")"
   ]
  }
 ],
 "metadata": {
  "kernelspec": {
   "display_name": "Python 3",
   "language": "python",
   "name": "python3"
  },
  "language_info": {
   "codemirror_mode": {
    "name": "ipython",
    "version": 3
   },
   "file_extension": ".py",
   "mimetype": "text/x-python",
   "name": "python",
   "nbconvert_exporter": "python",
   "pygments_lexer": "ipython3",
   "version": "3.7.3"
  }
 },
 "nbformat": 4,
 "nbformat_minor": 4
}
