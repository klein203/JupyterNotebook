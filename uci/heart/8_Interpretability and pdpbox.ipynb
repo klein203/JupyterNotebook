{
 "cells": [
  {
   "cell_type": "markdown",
   "metadata": {},
   "source": [
    "# 概述\n",
    "使用pdpbox工具包，对随机森林分类模型，进行可解释性分析。绘制PDP图、ICE图、双变量PDP图，可以直观看出每个特征的不同值对模型预测结果的影响，以及特征交互对模型预测结果的影响\n",
    "\n",
    "### PDP = Partial Dependent Plot 部分依赖图\n",
    "部分依赖图简称PDP，能够展现出一个或两个特征变量对模型预测结果影响的函数关系：近似线性关系、单调关系或者更复杂的关系。\n",
    "\n",
    "- 优点\n",
    "1. 易于实施\n",
    "\n",
    "- 缺点\n",
    "1. 不能反映特征变量本身的分布情况，且拥有苛刻的假设条件——变量之间严格独立。若变量之间存在相关关系，会导致计算过程中产生过多的无效样本，估计出的值比实际偏高。\n",
    "2. 样本整体的非均匀效应（Heterogeneous effect）：PDP只能反映特征变量的平均水平，忽视了数据异质对结果产生的影响。\n",
    "\n",
    "### ICE = Individual Conditional Expectation 个体条件期望图\n",
    "个体条件期望图简称ICE，计算方法与PDP类似，它刻画的是每个个体的预测值与单一变量之间的关系。个体条件期望图消除了非均匀效应的影响，它的原理和实现方法如下：对某一个体，保持其他变量不变，随机置换我们选定的特征变量的取值，放入黑箱模型输出预测结果，最后绘制出针对这个个体的单一特征变量与预测值之间的关系图。相较于PDP的一概而论，ICE图能够更准确地反映特征变量与目标之间的关系\n",
    "\n",
    "- 优点\n",
    "1. 易于理解，能够避免数据异质的问题。在ICE图提出之后，人们又提出了衍生ICE图，能够进一步检测变量之间的交互关系并在ICE图中反映出来。\n",
    "\n",
    "- 缺点\n",
    "1. 只能反映单一特征变量与目标之间的关系，仍然受制于变量独立假设的要求，同时ICE图像往往由于个体过多导致图像看起来过于冗杂，不容易获取解释信息。\n",
    "\n",
    "## 导入工具包，导入数据集"
   ]
  },
  {
   "cell_type": "code",
   "execution_count": null,
   "metadata": {},
   "outputs": [],
   "source": [
    "import numpy as np\n",
    "import pandas as pd\n",
    "\n",
    "import matplotlib.pyplot as plt\n",
    "%matplotlib inline\n",
    "\n",
    "import warnings\n",
    "warnings.filterwarnings(\"ignore\")\n",
    "\n",
    "from sklearn.model_selection import train_test_split\n",
    "from sklearn.ensemble import RandomForestClassifier\n",
    "\n",
    "df = pd.read_csv(\"./data/process_heart.csv\")\n",
    "\n",
    "X = df.drop(\"target\", axis=1)\n",
    "y = df[\"target\"]\n",
    "\n",
    "X_train, X_test, y_train, y_test = train_test_split(X, y, test_size=0.2, random_state=10)\n",
    "\n",
    "model = RandomForestClassifier(max_depth=5, n_estimators=100)\n",
    "model.fit(X_train, y_train)\n",
    "\n",
    "y_pred = model.predict(X_test)\n",
    "\n",
    "base_feature_names = X.columns.tolist()\n",
    "base_feature_names"
   ]
  },
  {
   "cell_type": "markdown",
   "metadata": {},
   "source": [
    "## 导入PDPBOX工具包"
   ]
  },
  {
   "cell_type": "code",
   "execution_count": null,
   "metadata": {},
   "outputs": [],
   "source": [
    "from pdpbox import info_plots, pdp"
   ]
  },
  {
   "cell_type": "markdown",
   "metadata": {},
   "source": [
    "## 绘制PDP图\n",
    "反映某一特征在不同值变化时对模型的预测结果的影响。注意对比PDP图和先验数据集不同类别分布的差异\n",
    "### 性别"
   ]
  },
  {
   "cell_type": "code",
   "execution_count": null,
   "metadata": {},
   "outputs": [],
   "source": [
    "fig, axes, summary_df = info_plots.actual_plot(\n",
    "    model=model, X=X_train, feature=\"sex_male\", feature_name=\"gender\", predict_kwds={}\n",
    ")\n",
    "_ = axes[\"bar_ax\"].set_xticklabels([\"Female\", \"Male\"])"
   ]
  },
  {
   "cell_type": "markdown",
   "metadata": {},
   "source": [
    "原始数据集中，性别特征统计分布（先验分布），及患心脏病和不患心脏病类别分布图"
   ]
  },
  {
   "cell_type": "code",
   "execution_count": null,
   "metadata": {},
   "outputs": [],
   "source": [
    "fig, axes, summary_df = info_plots.target_plot(\n",
    "    df=df, feature=\"sex_male\", feature_name=\"gender\", target=[\"target\"]\n",
    ")\n",
    "_ = axes[\"bar_ax\"].set_xticklabels([\"Female\", \"Male\"])"
   ]
  },
  {
   "cell_type": "markdown",
   "metadata": {},
   "source": [
    "### 心脏周围大血管数"
   ]
  },
  {
   "cell_type": "code",
   "execution_count": null,
   "metadata": {},
   "outputs": [],
   "source": [
    "fig, axes, summary_df = info_plots.actual_plot(\n",
    "    model=model, X=X_train, feature=\"num_major_vessels\", feature_name=\"num_vessels\", predict_kwds={}\n",
    ")"
   ]
  },
  {
   "cell_type": "code",
   "execution_count": null,
   "metadata": {},
   "outputs": [],
   "source": [
    "fig, axes, summary_df = info_plots.target_plot(\n",
    "    df=df, feature=\"num_major_vessels\", feature_name=\"num_vessels\", target=[\"target\"]\n",
    ")"
   ]
  },
  {
   "cell_type": "markdown",
   "metadata": {},
   "source": [
    "### 最大心率"
   ]
  },
  {
   "cell_type": "code",
   "execution_count": null,
   "metadata": {},
   "outputs": [],
   "source": [
    "fig, axes, summary_df = info_plots.actual_plot(\n",
    "    model=model, X=X_train, feature=\"max_heart_rate_achieved\", feature_name=\"max_heart_rate\", predict_kwds={}\n",
    ")"
   ]
  },
  {
   "cell_type": "code",
   "execution_count": null,
   "metadata": {},
   "outputs": [],
   "source": [
    "fig, axes, summary_df = info_plots.target_plot(\n",
    "    df=df, feature=\"max_heart_rate_achieved\", feature_name=\"max_heart_rate\", target=[\"target\"]\n",
    ")"
   ]
  },
  {
   "cell_type": "markdown",
   "metadata": {},
   "source": [
    "## 绘制ICE图\n",
    "将测试集每一个样本的PDP图单独显示出来，即是ICE图\n",
    "### 性别"
   ]
  },
  {
   "cell_type": "code",
   "execution_count": null,
   "metadata": {},
   "outputs": [],
   "source": [
    "feature_name = \"sex_male\"\n",
    "nick_name = \"sex\"\n",
    "pdp_dist = pdp.pdp_isolate(\n",
    "    model=model, dataset=X_test, model_features=base_feature_names, feature=feature_name\n",
    ")\n",
    "fig, axes = pdp.pdp_plot(pdp_dist, nick_name, plot_lines=True, frac_to_plot=0.8, plot_pts_dist=True)"
   ]
  },
  {
   "cell_type": "markdown",
   "metadata": {},
   "source": [
    "### 心脏周围大血管数量"
   ]
  },
  {
   "cell_type": "code",
   "execution_count": null,
   "metadata": {},
   "outputs": [],
   "source": [
    "feature_name = \"num_major_vessels\"\n",
    "nick_name = \"num_vessels\"\n",
    "pdp_dist = pdp.pdp_isolate(\n",
    "    model=model, dataset=X_test, model_features=base_feature_names, feature=feature_name\n",
    ")\n",
    "fig, axes = pdp.pdp_plot(pdp_dist, nick_name, plot_lines=True, frac_to_plot=0.8, plot_pts_dist=True)"
   ]
  },
  {
   "cell_type": "markdown",
   "metadata": {},
   "source": [
    "### 年龄"
   ]
  },
  {
   "cell_type": "code",
   "execution_count": null,
   "metadata": {},
   "outputs": [],
   "source": [
    "feature_name = \"age\"\n",
    "nick_name = \"age\"\n",
    "pdp_dist = pdp.pdp_isolate(\n",
    "    model=model, dataset=X_test, model_features=base_feature_names, feature=feature_name\n",
    ")\n",
    "fig, axes = pdp.pdp_plot(pdp_dist, nick_name, plot_lines=True, frac_to_plot=0.8, plot_pts_dist=True)"
   ]
  },
  {
   "cell_type": "code",
   "execution_count": null,
   "metadata": {},
   "outputs": [],
   "source": [
    "fig, axes = pdp.pdp_plot(\n",
    "    pdp_dist, nick_name, \n",
    "    plot_lines=True, \n",
    "    frac_to_plot=0.5, \n",
    "    plot_pts_dist=True, \n",
    "    show_percentile=True, \n",
    "    x_quantile=True)"
   ]
  },
  {
   "cell_type": "markdown",
   "metadata": {},
   "source": [
    "## 理解最大心率对预测结果的影响\n",
    "### 先验分布"
   ]
  },
  {
   "cell_type": "code",
   "execution_count": null,
   "metadata": {},
   "outputs": [],
   "source": [
    "feature_name = \"max_heart_rate_achieved\"\n",
    "nick_name = \"max_heart_rate\"\n",
    "\n",
    "fig, axes, summary_df = info_plots.target_plot(\n",
    "    df=df, feature=feature_name, feature_name=nick_name, target=[\"target\"], show_percentile=True\n",
    ")"
   ]
  },
  {
   "cell_type": "markdown",
   "metadata": {},
   "source": [
    "### 考虑了模型，具有因果性，可比较模型预测结果与先验的趋势"
   ]
  },
  {
   "cell_type": "code",
   "execution_count": null,
   "metadata": {},
   "outputs": [],
   "source": [
    "fig, axes, summary_df = info_plots.actual_plot(\n",
    "    model=model, X=X_train, feature=feature_name, feature_name=nick_name, predict_kwds={}\n",
    ")"
   ]
  },
  {
   "cell_type": "markdown",
   "metadata": {},
   "source": [
    "### PDP图"
   ]
  },
  {
   "cell_type": "code",
   "execution_count": null,
   "metadata": {},
   "outputs": [],
   "source": [
    "pdp_dist = pdp.pdp_isolate(\n",
    "    model=model, dataset=X_test, model_features=base_feature_names, feature=feature_name\n",
    ")\n",
    "fig, axes = pdp.pdp_plot(pdp_dist, nick_name)"
   ]
  },
  {
   "cell_type": "markdown",
   "metadata": {},
   "source": [
    "### ICE图"
   ]
  },
  {
   "cell_type": "code",
   "execution_count": null,
   "metadata": {},
   "outputs": [],
   "source": [
    "pdp_dist = pdp.pdp_isolate(\n",
    "    model=model, dataset=X_test, model_features=base_feature_names, feature=feature_name\n",
    ")\n",
    "fig, axes = pdp.pdp_plot(pdp_dist, nick_name, plot_lines=True, frac_to_plot=0.8, plot_pts_dist=True)"
   ]
  },
  {
   "cell_type": "markdown",
   "metadata": {},
   "source": [
    "## 深入理解地中海贫血症对预测结果的影响\n",
    "注意：地中海贫血症是OneHotEncoding\n",
    "### 先验分布"
   ]
  },
  {
   "cell_type": "code",
   "execution_count": null,
   "metadata": {},
   "outputs": [],
   "source": [
    "feature_names = [\n",
    "    'thalassemia_normal',\n",
    "    'thalassemia_fixed defect',\n",
    "    'thalassemia_reversable defect',\n",
    "    'thalassemia_unknown'\n",
    "]\n",
    "nick_name = \"thalassemia\"\n",
    "\n",
    "fig, axes, summary_df = info_plots.target_plot(\n",
    "    df=df, feature=feature_names, feature_name=nick_name, target=[\"target\"], show_percentile=True\n",
    ")\n",
    "_ = axes[\"bar_ax\"].set_xticklabels([\"Normal\", \"Fixed Defect\", \"Reverable Defect\", \"Unknown\"])"
   ]
  },
  {
   "cell_type": "markdown",
   "metadata": {},
   "source": [
    "### 考虑模型，预测分布"
   ]
  },
  {
   "cell_type": "code",
   "execution_count": null,
   "metadata": {},
   "outputs": [],
   "source": [
    "fig, axes, summary_df = info_plots.actual_plot(\n",
    "    model=model, X=X_train, feature=feature_names, feature_name=nick_name, predict_kwds={}\n",
    ")\n",
    "_ = axes[\"bar_ax\"].set_xticklabels([\"Normal\", \"Fixed Defect\", \"Reverable Defect\", \"Unknown\"])"
   ]
  },
  {
   "cell_type": "markdown",
   "metadata": {},
   "source": [
    "### PDP图"
   ]
  },
  {
   "cell_type": "code",
   "execution_count": null,
   "metadata": {},
   "outputs": [],
   "source": [
    "pdp_dist = pdp.pdp_isolate(\n",
    "    model=model, dataset=X_test, model_features=base_feature_names, feature=feature_names\n",
    ")\n",
    "fig, axes = pdp.pdp_plot(pdp_dist, nick_name)"
   ]
  },
  {
   "cell_type": "markdown",
   "metadata": {},
   "source": [
    "### ICE图"
   ]
  },
  {
   "cell_type": "code",
   "execution_count": null,
   "metadata": {},
   "outputs": [],
   "source": [
    "pdp_dist = pdp.pdp_isolate(\n",
    "    model=model, dataset=X_test, model_features=base_feature_names, feature=feature_names\n",
    ")\n",
    "fig, axes = pdp.pdp_plot(pdp_dist, nick_name, plot_lines=True, frac_to_plot=0.8, plot_pts_dist=True)"
   ]
  },
  {
   "cell_type": "markdown",
   "metadata": {},
   "source": [
    "## PDP图合集，绘制所有特征的PDP图"
   ]
  },
  {
   "cell_type": "code",
   "execution_count": null,
   "metadata": {},
   "outputs": [],
   "source": [
    "for feature_name in base_feature_names:\n",
    "    pdp_dist = pdp.pdp_isolate(\n",
    "        model=model, dataset=X_test, model_features=base_feature_names, feature=feature_name\n",
    "    )\n",
    "    fig, axes = pdp.pdp_plot(pdp_dist, feature_name)\n",
    "    plt.show()"
   ]
  },
  {
   "cell_type": "markdown",
   "metadata": {},
   "source": [
    "## 二维PDP图：特征之间交互关系分析\n",
    "### 最大心率与心脏周围血管数量"
   ]
  },
  {
   "cell_type": "code",
   "execution_count": null,
   "metadata": {},
   "outputs": [],
   "source": [
    "feature_names = [\"max_heart_rate_achieved\", \"num_major_vessels\"]\n",
    "nick_names = [\"max_heart_rate\", \"num_vessels\"]\n",
    "\n",
    "inter1 = pdp.pdp_interact(\n",
    "    model=model, dataset=X_test, model_features=base_feature_names, features=feature_names\n",
    ")\n",
    "\n",
    "fig, axes = pdp.pdp_interact_plot(\n",
    "    pdp_interact_out=inter1, feature_names=nick_names, plot_type=\"contour\", x_quantile=True, plot_pdp=True\n",
    ")"
   ]
  },
  {
   "cell_type": "code",
   "execution_count": null,
   "metadata": {},
   "outputs": [],
   "source": [
    "fig, axes = pdp.pdp_interact_plot(\n",
    "    pdp_interact_out=inter1, feature_names=nick_names, plot_type=\"grid\", x_quantile=True, plot_pdp=True\n",
    ")"
   ]
  },
  {
   "cell_type": "markdown",
   "metadata": {},
   "source": [
    "### st_slope_flat与st_depression"
   ]
  },
  {
   "cell_type": "code",
   "execution_count": null,
   "metadata": {},
   "outputs": [],
   "source": [
    "feature_names = [\"st_slope_flat\", \"st_depression\"]\n",
    "nick_names = [\"st_slope_flat\", \"st_depression\"]\n",
    "\n",
    "inter2 = pdp.pdp_interact(\n",
    "    model=model, dataset=X_test, model_features=base_feature_names, features=feature_names\n",
    ")\n",
    "\n",
    "fig, axes = pdp.pdp_interact_plot(\n",
    "    pdp_interact_out=inter2, feature_names=nick_names, plot_type=\"contour\", x_quantile=True, plot_pdp=True\n",
    ")\n",
    "plt.show()"
   ]
  },
  {
   "cell_type": "markdown",
   "metadata": {},
   "source": [
    "### 最大心率与静息血压"
   ]
  },
  {
   "cell_type": "code",
   "execution_count": null,
   "metadata": {},
   "outputs": [],
   "source": [
    "feature_names = [\"max_heart_rate_achieved\", \"resting_blood_pressure\"]\n",
    "nick_names = [\"max_heart_rate\", \"resting_blood_pressure\"]\n",
    "\n",
    "inter3 = pdp.pdp_interact(\n",
    "    model=model, dataset=X_test, model_features=base_feature_names, features=feature_names\n",
    ")\n",
    "\n",
    "fig, axes = pdp.pdp_interact_plot(\n",
    "    pdp_interact_out=inter3, feature_names=nick_names, plot_type=\"contour\", x_quantile=True, plot_pdp=True\n",
    ")\n",
    "plt.show()"
   ]
  }
 ],
 "metadata": {
  "kernelspec": {
   "display_name": "Python 3",
   "language": "python",
   "name": "python3"
  },
  "language_info": {
   "codemirror_mode": {
    "name": "ipython",
    "version": 3
   },
   "file_extension": ".py",
   "mimetype": "text/x-python",
   "name": "python",
   "nbconvert_exporter": "python",
   "pygments_lexer": "ipython3",
   "version": "3.7.3"
  }
 },
 "nbformat": 4,
 "nbformat_minor": 4
}
