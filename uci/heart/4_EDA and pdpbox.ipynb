{
 "cells": [
  {
   "cell_type": "markdown",
   "metadata": {},
   "source": [
    "# 概述\n",
    "使用pdpbox工具包，进行探索性数据分析，分析不同特征与患心脏病之间的先验关系，并分析特征两两之间的影响关系\n",
    "## 导入工具包，导入数据集"
   ]
  },
  {
   "cell_type": "code",
   "execution_count": null,
   "metadata": {},
   "outputs": [],
   "source": [
    "import numpy as np\n",
    "import pandas as pd\n",
    "\n",
    "import matplotlib.pyplot as plt\n",
    "%matplotlib inline\n",
    "\n",
    "import warnings\n",
    "warnings.filterwarnings(\"ignore\")\n",
    "\n",
    "df = pd.read_csv(\"./data/process_heart.csv\")"
   ]
  },
  {
   "cell_type": "markdown",
   "metadata": {},
   "source": [
    "## 导入pdpbox工具包"
   ]
  },
  {
   "cell_type": "code",
   "execution_count": null,
   "metadata": {},
   "outputs": [],
   "source": [
    "from pdpbox import pdp, get_dataset, info_plots"
   ]
  },
  {
   "cell_type": "markdown",
   "metadata": {},
   "source": [
    "### 特征：性别\n",
    "该特征统计分布，及患心脏病和不患心脏病类别分布图"
   ]
  },
  {
   "cell_type": "code",
   "execution_count": null,
   "metadata": {},
   "outputs": [],
   "source": [
    "fig, axes, summary_df = info_plots.target_plot(df=df, feature=\"sex_male\", feature_name=\"gender\", target=[\"target\"])\n",
    "_ = axes[\"bar_ax\"].set_xticklabels([\"Female\", \"Male\"])"
   ]
  },
  {
   "cell_type": "code",
   "execution_count": null,
   "metadata": {},
   "outputs": [],
   "source": [
    "summary_df"
   ]
  },
  {
   "cell_type": "markdown",
   "metadata": {},
   "source": [
    "### 特征：心脏周围大血管的个数\n",
    "该特征统计分布，及患心脏病和不患心脏病类别分布图"
   ]
  },
  {
   "cell_type": "code",
   "execution_count": null,
   "metadata": {},
   "outputs": [],
   "source": [
    "fig, axes, summary_df = info_plots.target_plot(df=df, feature=\"num_major_vessels\", feature_name=\"num_vessels\", target=[\"target\"])"
   ]
  },
  {
   "cell_type": "code",
   "execution_count": null,
   "metadata": {},
   "outputs": [],
   "source": [
    "summary_df"
   ]
  },
  {
   "cell_type": "markdown",
   "metadata": {},
   "source": [
    "### 特征：地中海贫血症 - reservable defect\n",
    "该特征统计分布，及患心脏病和不患心脏病类别分布图"
   ]
  },
  {
   "cell_type": "code",
   "execution_count": null,
   "metadata": {},
   "outputs": [],
   "source": [
    "fig, axes, summary_df = info_plots.target_plot(df=df, feature=\"thalassemia_reversable defect\", feature_name=\"thalassemia_reversable defect\", target=[\"target\"])\n",
    "_ = axes[\"bar_ax\"].set_xticklabels([\"Not Reversable Defect\", \"Reversable Defect\"])"
   ]
  },
  {
   "cell_type": "code",
   "execution_count": null,
   "metadata": {},
   "outputs": [],
   "source": [
    "summary_df"
   ]
  },
  {
   "cell_type": "markdown",
   "metadata": {},
   "source": [
    "### 特征：年龄\n",
    "该特征统计分布，及患心脏病和不患心脏病类别分布图"
   ]
  },
  {
   "cell_type": "code",
   "execution_count": null,
   "metadata": {
    "jupyter": {
     "source_hidden": true
    }
   },
   "outputs": [],
   "source": [
    "fig, axes, summary_df = info_plots.target_plot(df=df, feature=\"age\", feature_name=\"age\", target=[\"target\"])\n",
    "# _ = axes[\"bar_ax\"].set_xticklabels([\"Not Reversable Defect\", \"Reversable Defect\"])"
   ]
  },
  {
   "cell_type": "code",
   "execution_count": null,
   "metadata": {},
   "outputs": [],
   "source": [
    "fig, axes, summary_df = info_plots.target_plot(df=df, feature=\"age\", feature_name=\"age\", target=[\"target\"])"
   ]
  },
  {
   "cell_type": "code",
   "execution_count": null,
   "metadata": {},
   "outputs": [],
   "source": [
    "summary_df"
   ]
  },
  {
   "cell_type": "markdown",
   "metadata": {},
   "source": [
    "### 特征：最大心率\n",
    "该特征统计分布，及患心脏病和不患心脏病类别分布图"
   ]
  },
  {
   "cell_type": "code",
   "execution_count": null,
   "metadata": {},
   "outputs": [],
   "source": [
    "fig, axes, summary_df = info_plots.target_plot(df=df, feature=\"max_heart_rate_achieved\", feature_name=\"max_heart_rate_achieved\", target=[\"target\"])"
   ]
  },
  {
   "cell_type": "code",
   "execution_count": null,
   "metadata": {},
   "outputs": [],
   "source": [
    "summary_df"
   ]
  },
  {
   "cell_type": "markdown",
   "metadata": {},
   "source": [
    "## 特征两两交互影响的分析\n",
    "### 心脏周围大血管个数与最大心率"
   ]
  },
  {
   "cell_type": "code",
   "execution_count": null,
   "metadata": {},
   "outputs": [],
   "source": [
    "feat_name1 = \"num_major_vessels\"\n",
    "nick_name1 = \"num_vessels\"\n",
    "feat_name2 = \"max_heart_rate_achieved\"\n",
    "nick_name2 = \"max_heart_rate\"\n",
    "\n",
    "fig, axes, summary_df = info_plots.target_plot_interact(df=df, features=[feat_name1, feat_name2], feature_names=[nick_name1, nick_name2], target=[\"target\"])\n",
    "_ = axes[\"value_ax\"].set_xticklabels([\"0\", \"1\", \"2\"])"
   ]
  },
  {
   "cell_type": "markdown",
   "metadata": {},
   "source": [
    "### 年龄与最大心率"
   ]
  },
  {
   "cell_type": "code",
   "execution_count": null,
   "metadata": {},
   "outputs": [],
   "source": [
    "feat_name1 = \"age\"\n",
    "nick_name1 = \"age\"\n",
    "feat_name2 = \"max_heart_rate_achieved\"\n",
    "nick_name2 = \"max_heart_rate\"\n",
    "\n",
    "fig, axes, summary_df = info_plots.target_plot_interact(df=df, features=[feat_name1, feat_name2], feature_names=[nick_name1, nick_name2], target=[\"target\"])"
   ]
  }
 ],
 "metadata": {
  "kernelspec": {
   "display_name": "Python 3",
   "language": "python",
   "name": "python3"
  },
  "language_info": {
   "codemirror_mode": {
    "name": "ipython",
    "version": 3
   },
   "file_extension": ".py",
   "mimetype": "text/x-python",
   "name": "python",
   "nbconvert_exporter": "python",
   "pygments_lexer": "ipython3",
   "version": "3.7.3"
  }
 },
 "nbformat": 4,
 "nbformat_minor": 4
}
