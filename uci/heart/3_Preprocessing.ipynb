{
 "cells": [
  {
   "cell_type": "markdown",
   "metadata": {},
   "source": [
    "# 概述\n",
    "特征预处理，数据分析中定类、定序、定距、定比四大基本数据类型。定类数据转换为OneHotEncoding\n",
    "## 导入工具包和数据集"
   ]
  },
  {
   "cell_type": "code",
   "execution_count": null,
   "metadata": {},
   "outputs": [],
   "source": [
    "import warnings\n",
    "warnings.filterwarnings(\"ignore\")\n",
    "\n",
    "import pandas as pd"
   ]
  },
  {
   "cell_type": "code",
   "execution_count": null,
   "metadata": {},
   "outputs": [],
   "source": [
    "df = pd.read_csv('./data/heart.csv')"
   ]
  },
  {
   "cell_type": "code",
   "execution_count": null,
   "metadata": {},
   "outputs": [],
   "source": [
    "df.shape"
   ]
  },
  {
   "cell_type": "code",
   "execution_count": null,
   "metadata": {},
   "outputs": [],
   "source": [
    "df.head()"
   ]
  },
  {
   "cell_type": "code",
   "execution_count": null,
   "metadata": {},
   "outputs": [],
   "source": [
    "df.dtypes"
   ]
  },
  {
   "cell_type": "markdown",
   "metadata": {},
   "source": [
    "## 将简写的列名改为完整的特征名称"
   ]
  },
  {
   "cell_type": "code",
   "execution_count": null,
   "metadata": {},
   "outputs": [],
   "source": [
    "df.columns = [\n",
    "    \"age\",\n",
    "    \"sex\",\n",
    "    \"chest_pain_type\",\n",
    "    \"resting_blood_pressure\",\n",
    "    \"cholestrerol\",\n",
    "    \"fasting_blood_sugar\",\n",
    "    \"rest_ecg\",\n",
    "    \"max_heart_rate_achieved\",\n",
    "    \"exercise_induced_angina\",\n",
    "    \"st_depression\",\n",
    "    \"st_slope\",\n",
    "    \"num_major_vessels\",\n",
    "    \"thalassemia\",\n",
    "    \"target\"\n",
    "]\n",
    "\n",
    "df.head()"
   ]
  },
  {
   "cell_type": "markdown",
   "metadata": {},
   "source": [
    "## 区分 定类、定序、定距、定比 四种特征\n",
    "特征类型 | 描述 | 举例 | 运算  \n",
    "-: | -: | -: | -:\n",
    "定类 Norminal Data | 离散值 | 颜色（红、蓝、黄、绿） | 仅可判断是否相等\n",
    "定序 Ordinal Data | 离散值，有顺序 | 学历（大学、中学、小学） | 定类运算+排序\n",
    "定距 Interval Data | 连续值，可比大小，但维数无可比性，数值0不代表真正零点 | 摄氏度、地震级数 | 定序运算+加减\n",
    "定比 Ratio Data | 连续值，维数有可比性，数值0代表真正零点 | 年龄、体重 | 定距运算+乘除"
   ]
  },
  {
   "cell_type": "code",
   "execution_count": null,
   "metadata": {},
   "outputs": [],
   "source": []
  }
 ],
 "metadata": {
  "kernelspec": {
   "display_name": "Python 3",
   "language": "python",
   "name": "python3"
  },
  "language_info": {
   "codemirror_mode": {
    "name": "ipython",
    "version": 3
   },
   "file_extension": ".py",
   "mimetype": "text/x-python",
   "name": "python",
   "nbconvert_exporter": "python",
   "pygments_lexer": "ipython3",
   "version": "3.7.3"
  }
 },
 "nbformat": 4,
 "nbformat_minor": 4
}
