{
 "cells": [
  {
   "cell_type": "code",
   "execution_count": 1,
   "metadata": {},
   "outputs": [],
   "source": [
    "import numpy as np"
   ]
  },
  {
   "cell_type": "code",
   "execution_count": 2,
   "metadata": {},
   "outputs": [
    {
     "name": "stdout",
     "output_type": "stream",
     "text": [
      "- All the optional weak classifiers as below:\n",
      "G0(x) = sign(x<2.5), er = 0.3000\n",
      "G1(x) = sign(x<8.5), er = 0.3000\n",
      "G2(x) = sign(x<1.5), er = 0.4000\n",
      "G3(x) = sign(x<3.5), er = 0.4000\n",
      "G4(x) = sign(x>5.5), er = 0.4000\n",
      "G5(x) = sign(x<7.5), er = 0.4000\n",
      "G6(x) = sign(x>0.5), er = 0.5000\n",
      "G7(x) = sign(x>4.5), er = 0.5000\n",
      "G8(x) = sign(x>6.5), er = 0.5000\n",
      "- Steps run:\n"
     ]
    },
    {
     "ename": "NameError",
     "evalue": "name 'epoch' is not defined",
     "output_type": "error",
     "traceback": [
      "\u001b[1;31m---------------------------------------------------------------------------\u001b[0m",
      "\u001b[1;31mNameError\u001b[0m                                 Traceback (most recent call last)",
      "\u001b[1;32m<ipython-input-2-4cd42512e59b>\u001b[0m in \u001b[0;36m<module>\u001b[1;34m\u001b[0m\n\u001b[0;32m     66\u001b[0m     \u001b[0mer\u001b[0m \u001b[1;33m=\u001b[0m \u001b[0mnp\u001b[0m\u001b[1;33m.\u001b[0m\u001b[0msum\u001b[0m\u001b[1;33m(\u001b[0m\u001b[0mnp\u001b[0m\u001b[1;33m.\u001b[0m\u001b[0msign\u001b[0m\u001b[1;33m(\u001b[0m\u001b[0mres\u001b[0m\u001b[1;33m)\u001b[0m \u001b[1;33m!=\u001b[0m \u001b[0my\u001b[0m\u001b[1;33m)\u001b[0m\u001b[1;33m\u001b[0m\u001b[1;33m\u001b[0m\u001b[0m\n\u001b[0;32m     67\u001b[0m \u001b[1;33m\u001b[0m\u001b[0m\n\u001b[1;32m---> 68\u001b[1;33m     \u001b[0mprint\u001b[0m\u001b[1;33m(\u001b[0m\u001b[1;34m'[Step %d] G%d(x), a[%d]=%.4f, z=%.4f, w=%s, er=%.4f'\u001b[0m \u001b[1;33m%\u001b[0m \u001b[1;33m(\u001b[0m\u001b[0mepoch\u001b[0m\u001b[1;33m,\u001b[0m \u001b[0midx\u001b[0m\u001b[1;33m,\u001b[0m \u001b[0midx\u001b[0m\u001b[1;33m,\u001b[0m \u001b[0ma\u001b[0m\u001b[1;33m[\u001b[0m\u001b[0midx\u001b[0m\u001b[1;33m]\u001b[0m\u001b[1;33m,\u001b[0m \u001b[0mz\u001b[0m\u001b[1;33m,\u001b[0m \u001b[0mw\u001b[0m\u001b[1;33m,\u001b[0m \u001b[0mer\u001b[0m\u001b[1;33m/\u001b[0m\u001b[0mm\u001b[0m\u001b[1;33m)\u001b[0m\u001b[1;33m)\u001b[0m\u001b[1;33m\u001b[0m\u001b[1;33m\u001b[0m\u001b[0m\n\u001b[0m\u001b[0;32m     69\u001b[0m \u001b[1;33m\u001b[0m\u001b[0m\n\u001b[0;32m     70\u001b[0m     \u001b[1;32mif\u001b[0m \u001b[0mer\u001b[0m \u001b[1;33m<\u001b[0m \u001b[0mer_threhold\u001b[0m\u001b[1;33m:\u001b[0m\u001b[1;33m\u001b[0m\u001b[1;33m\u001b[0m\u001b[0m\n",
      "\u001b[1;31mNameError\u001b[0m: name 'epoch' is not defined"
     ]
    }
   ],
   "source": [
    "def g(X, val, op):\n",
    "    if op == 1:\n",
    "        # op = 1, sign(X > val)\n",
    "        return np.sign(X - val)\n",
    "    else:\n",
    "        # op = -1, sign(X < val)\n",
    "        return np.sign(val - X)\n",
    "\n",
    "m = 10\n",
    "n = 1\n",
    "\n",
    "X = np.arange(m).reshape((m, n))\n",
    "y = np.array([1., 1., 1., -1., -1., -1., 1., 1., 1., -1.])\n",
    "w = np.ones(m) / m\n",
    "all_sps = (X[:-1, 0] + X[1:, 0]) / 2\n",
    "all_ops = np.ones(m - 1)\n",
    "all_ers = np.ones(m - 1)\n",
    "\n",
    "steps = 100\n",
    "er_threhold = 1e-10\n",
    "epsilon = 1e-16\n",
    "\n",
    "# calculate all errors\n",
    "for i, s in enumerate(all_sps):\n",
    "    all_ers[i] = np.sum(w * (g(X.ravel(), s, all_ops[i]) != y))\n",
    "    if all_ers[i] > 0.5:\n",
    "        all_ops[i] = - all_ops[i]\n",
    "        all_ers[i] = 1. - all_ers[i]\n",
    "\n",
    "# choose 'm_weak_classifiers' of weak classifier\n",
    "m_weak_classifiers = m - 1\n",
    "a = np.zeros(m_weak_classifiers)\n",
    "rkn_idx = np.argsort(all_ers)[:m_weak_classifiers]\n",
    "sps = all_sps[rkn_idx]\n",
    "ops = all_ops[rkn_idx]\n",
    "ers = all_ers[rkn_idx]\n",
    "\n",
    "# show all weak classifiers\n",
    "print('- All the optional weak classifiers as below:')\n",
    "for i in range(m_weak_classifiers):\n",
    "    op = ''\n",
    "    if ops[i] == 1:\n",
    "        op = '>'\n",
    "    else:\n",
    "        op = '<'\n",
    "    print('G%d(x) = sign(x%s%.1f), er = %.4f' % (i, op, sps[i], ers[i]))\n",
    "\n",
    "# run N epoches, if err < 1e-10, break\n",
    "print('- Steps run:')\n",
    "for step in range(steps):\n",
    "    # choose best weak classifier of current epoch\n",
    "    ers = np.ones(m_weak_classifiers)\n",
    "    for i, s in enumerate(sps):\n",
    "        ers[i] = np.sum(w * (g(X[:, 0], s, ops[i]) != y))\n",
    "    idx = np.argsort(ers)[0]\n",
    "    \n",
    "    # calculate parameters iteratively\n",
    "    a[idx] = 1 / 2 * np.log((1 - ers[idx]) / np.maximum(ers[idx], epsilon))\n",
    "    z = np.sum(w * np.exp(- a[idx] * y * g(X.ravel(), sps[idx], ops[idx])))\n",
    "    w = w / z * np.exp(- a[idx] * y * g(X.ravel(), sps[idx], ops[idx]))\n",
    "        \n",
    "    # estimate\n",
    "    res = 0.\n",
    "    for i in range(m_weak_classifiers):\n",
    "        res += a[i] * g(X.ravel(), sps[i], ops[i])\n",
    "    er = np.sum(np.sign(res) != y)\n",
    "    \n",
    "    print('[Step %d] G%d(x), a[%d]=%.4f, z=%.4f, w=%s, er=%.4f' % (step, idx, idx, a[idx], z, w, er/m))\n",
    "    \n",
    "    if er < er_threhold:\n",
    "        # show function\n",
    "        func_idxs = []\n",
    "        for i in range(m_weak_classifiers):\n",
    "            if a[i] != 0.:\n",
    "                func_idxs.append(i)\n",
    "        \n",
    "        func = 'G(x) = sign['\n",
    "        for i in func_idxs:\n",
    "            func = '%s%.4f*G%d(x)' % (func, a[i], i)\n",
    "            if i < len(func_idxs):\n",
    "                func = '%s + ' % (func)\n",
    "                \n",
    "        func = '%s]' % (func)\n",
    "        print('- Final G(x):')\n",
    "        print(func)\n",
    "        break"
   ]
  }
 ],
 "metadata": {
  "kernelspec": {
   "display_name": "Python 3",
   "language": "python",
   "name": "python3"
  },
  "language_info": {
   "codemirror_mode": {
    "name": "ipython",
    "version": 3
   },
   "file_extension": ".py",
   "mimetype": "text/x-python",
   "name": "python",
   "nbconvert_exporter": "python",
   "pygments_lexer": "ipython3",
   "version": "3.7.3"
  }
 },
 "nbformat": 4,
 "nbformat_minor": 4
}
