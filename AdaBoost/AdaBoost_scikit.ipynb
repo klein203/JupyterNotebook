{
 "cells": [
  {
   "cell_type": "code",
   "execution_count": 2,
   "metadata": {},
   "outputs": [],
   "source": [
    "import numpy as np\n",
    "import matplotlib.pyplot as plt\n",
    "from matplotlib.colors import ListedColormap\n",
    "\n",
    "from sklearn.datasets import load_iris\n",
    "from sklearn.tree import DecisionTreeClassifier\n",
    "from sklearn.ensemble import AdaBoostClassifier\n",
    "from sklearn import metrics"
   ]
  },
  {
   "cell_type": "code",
   "execution_count": 11,
   "metadata": {},
   "outputs": [
    {
     "name": "stdout",
     "output_type": "stream",
     "text": [
      "scores = 0.9267\n"
     ]
    },
    {
     "ename": "TypeError",
     "evalue": "'CClass' object is not callable",
     "output_type": "error",
     "traceback": [
      "\u001b[1;31m---------------------------------------------------------------------------\u001b[0m",
      "\u001b[1;31mTypeError\u001b[0m                                 Traceback (most recent call last)",
      "\u001b[1;32m<ipython-input-11-c8177fcffc1c>\u001b[0m in \u001b[0;36m<module>\u001b[1;34m\u001b[0m\n\u001b[0;32m     24\u001b[0m \u001b[0mscores\u001b[0m \u001b[1;33m=\u001b[0m \u001b[0mmodel\u001b[0m\u001b[1;33m.\u001b[0m\u001b[0mscore\u001b[0m\u001b[1;33m(\u001b[0m\u001b[0mX_train\u001b[0m\u001b[1;33m,\u001b[0m \u001b[0my_train\u001b[0m\u001b[1;33m)\u001b[0m\u001b[1;33m\u001b[0m\u001b[1;33m\u001b[0m\u001b[0m\n\u001b[0;32m     25\u001b[0m \u001b[0mprint\u001b[0m\u001b[1;33m(\u001b[0m\u001b[1;34m'scores = %.4f'\u001b[0m \u001b[1;33m%\u001b[0m \u001b[0mscores\u001b[0m\u001b[1;33m)\u001b[0m\u001b[1;33m\u001b[0m\u001b[1;33m\u001b[0m\u001b[0m\n\u001b[1;32m---> 26\u001b[1;33m \u001b[0mprint\u001b[0m\u001b[1;33m(\u001b[0m\u001b[1;34m'estimator weights / errors = %s'\u001b[0m \u001b[1;33m%\u001b[0m \u001b[0mnp\u001b[0m\u001b[1;33m.\u001b[0m\u001b[0mc_\u001b[0m\u001b[1;33m(\u001b[0m\u001b[0mmodel\u001b[0m\u001b[1;33m.\u001b[0m\u001b[0mestimator_weights_\u001b[0m\u001b[1;33m,\u001b[0m \u001b[0mmodel\u001b[0m\u001b[1;33m.\u001b[0m\u001b[0mestimator_errors_\u001b[0m\u001b[1;33m)\u001b[0m\u001b[1;33m)\u001b[0m\u001b[1;33m\u001b[0m\u001b[1;33m\u001b[0m\u001b[0m\n\u001b[0m\u001b[0;32m     27\u001b[0m \u001b[1;33m\u001b[0m\u001b[0m\n\u001b[0;32m     28\u001b[0m \u001b[1;31m# Plot\u001b[0m\u001b[1;33m\u001b[0m\u001b[1;33m\u001b[0m\u001b[1;33m\u001b[0m\u001b[0m\n",
      "\u001b[1;31mTypeError\u001b[0m: 'CClass' object is not callable"
     ]
    }
   ],
   "source": [
    "pair = [0, 1]\n",
    "RANDOM_SEED = 13\n",
    "plot_step = 0.02\n",
    "\n",
    "# load iris dataset\n",
    "iris = load_iris()\n",
    "\n",
    "X_train = iris.data[:, pair]\n",
    "y_train = iris.target\n",
    "\n",
    "# Shuffle\n",
    "idx = np.arange(X_train.shape[0])\n",
    "np.random.seed(RANDOM_SEED)\n",
    "np.random.shuffle(idx)\n",
    "X_train = X_train[idx]\n",
    "y_train = y_train[idx]\n",
    "\n",
    "# Standardize\n",
    "X_train = (X_train - X_train.mean(axis=0)) / X_train.std(axis=0)\n",
    "\n",
    "# Train and score\n",
    "model = AdaBoostClassifier(DecisionTreeClassifier(max_depth=5), n_estimators=20, algorithm=\"SAMME\", learning_rate=0.7)\n",
    "model.fit(X_train, y_train)\n",
    "scores = model.score(X_train, y_train)\n",
    "print('scores = %.4f' % scores)\n",
    "print('estimator weights / errors = %s' % np.c_(model.estimator_weights_, model.estimator_errors_))\n",
    "\n",
    "# Plot\n",
    "plt.figure(figsize=(6 * 2, 6))\n",
    "\n",
    "x_min = X_train[:, 0].min() - .2\n",
    "x_max = X_train[:, 0].max() + .2\n",
    "y_min = X_train[:, 1].min() - .2\n",
    "y_max = X_train[:, 1].max() + .2\n",
    "xx, yy = np.meshgrid(np.arange(x_min, x_max, plot_step), np.arange(y_min, y_max, plot_step))\n",
    "\n",
    "plt.subplot(1, 2, 1)\n",
    "z = model.predict(np.c_[xx.ravel(), yy.ravel()])\n",
    "z = z.reshape(xx.shape)\n",
    "plt.contourf(xx, yy, z, cmap=plt.cm.RdYlBu)\n",
    "plt.scatter(X_train[:, 0], X_train[:, 1], c=y_train, cmap=ListedColormap(['r', 'y', 'b']), edgecolor='k', s=20)\n",
    "\n",
    "plt.subplot(1, 2, 2)\n",
    "estimator_alpha = 1. / len(model.estimators_)\n",
    "for tree in model.estimators_:\n",
    "    z = tree.predict(np.c_[xx.ravel(), yy.ravel()])\n",
    "    z = z.reshape(xx.shape)\n",
    "    cs = plt.contourf(xx, yy, z, alpha=estimator_alpha, cmap=plt.cm.RdYlBu)\n",
    "\n",
    "plt.scatter(X_train[:, 0], X_train[:, 1], c=y_train, cmap=ListedColormap(['r', 'y', 'b']), edgecolor='k', s=20)\n",
    "\n",
    "plt.show()"
   ]
  }
 ],
 "metadata": {
  "kernelspec": {
   "display_name": "Python 3",
   "language": "python",
   "name": "python3"
  },
  "language_info": {
   "codemirror_mode": {
    "name": "ipython",
    "version": 3
   },
   "file_extension": ".py",
   "mimetype": "text/x-python",
   "name": "python",
   "nbconvert_exporter": "python",
   "pygments_lexer": "ipython3",
   "version": "3.7.3"
  }
 },
 "nbformat": 4,
 "nbformat_minor": 4
}
