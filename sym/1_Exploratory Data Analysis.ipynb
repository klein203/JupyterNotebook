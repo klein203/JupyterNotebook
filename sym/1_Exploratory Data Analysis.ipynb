{
 "cells": [
  {
   "cell_type": "code",
   "execution_count": null,
   "metadata": {},
   "outputs": [],
   "source": [
    "import pandas as pd\n",
    "import seaborn as sns"
   ]
  },
  {
   "cell_type": "code",
   "execution_count": null,
   "metadata": {},
   "outputs": [],
   "source": [
    "raw_data_path = './data/raw_data.csv'\n",
    "raw_data = pd.read_csv(raw_data_path)"
   ]
  },
  {
   "cell_type": "code",
   "execution_count": null,
   "metadata": {},
   "outputs": [],
   "source": [
    "MAX_NTIMES = 5\n",
    "\n",
    "# all feature names\n",
    "all_feature_names = raw_data.columns\n",
    "\n",
    "# ext feature names\n",
    "ext_feature_names = [name[:-2] for name in all_feature_names if name.endswith('v0')]\n",
    "\n",
    "# base feature names\n",
    "base_feature_names = set(all_feature_names)\n",
    "for i in range(MAX_NTIMES):\n",
    "    base_feature_names -= set([name for name in all_feature_names if name.endswith('v'+str(i))])\n",
    "\n",
    "base_feature_names = list(base_feature_names)\n",
    "\n",
    "# additional feature name\n",
    "ntimes_feature_name = 'visit_time'"
   ]
  },
  {
   "cell_type": "code",
   "execution_count": null,
   "metadata": {},
   "outputs": [],
   "source": [
    "trans_feature_names = base_feature_names + ext_feature_names + [ntimes_feature_name]\n",
    "trans_data = pd.DataFrame(columns=trans_feature_names, copy=True)\n",
    "\n",
    "raw_ext_feature_names_dict = {}\n",
    "for i in range(MAX_NTIMES):\n",
    "    raw_ext_feature_names_dict[i] = {name+'v'+str(i): name for name in ext_feature_names}\n",
    "    \n",
    "# iterate raw_data set\n",
    "for index, row in raw_data.iterrows():\n",
    "    for i in range(MAX_NTIMES):\n",
    "        # generate a dict like 'updrsv0': 'updrsv'\n",
    "#         raw_ext_feature_names_dict = {name+'v'+str(i): name for name in ext_feature_names}\n",
    "#         print(raw_ext_feature_names_dict)\n",
    "        raw_ext_feature_names = list(raw_ext_feature_names_dict[i].keys())\n",
    "\n",
    "        # new row\n",
    "        row_data = row[base_feature_names + raw_ext_feature_names]\n",
    "        row_data[ntimes_feature_name] = i\n",
    "        \n",
    "        # rename 'updrsv0' to 'updrs'\n",
    "        row_data.rename(index=raw_ext_feature_names_dict[i], inplace=True)\n",
    "\n",
    "        trans_data = trans_data.append([row_data], ignore_index=True)"
   ]
  },
  {
   "cell_type": "code",
   "execution_count": null,
   "metadata": {},
   "outputs": [],
   "source": [
    "trans_data.to_csv('./data/data_1.csv', index=False)"
   ]
  }
 ],
 "metadata": {
  "kernelspec": {
   "display_name": "Python 3",
   "language": "python",
   "name": "python3"
  },
  "language_info": {
   "codemirror_mode": {
    "name": "ipython",
    "version": 3
   },
   "file_extension": ".py",
   "mimetype": "text/x-python",
   "name": "python",
   "nbconvert_exporter": "python",
   "pygments_lexer": "ipython3",
   "version": "3.7.3"
  }
 },
 "nbformat": 4,
 "nbformat_minor": 4
}
