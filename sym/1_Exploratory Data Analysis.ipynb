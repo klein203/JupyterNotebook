{
 "cells": [
  {
   "cell_type": "code",
   "execution_count": null,
   "metadata": {},
   "outputs": [],
   "source": [
    "import pandas as pd\n",
    "import seaborn as sns"
   ]
  },
  {
   "cell_type": "code",
   "execution_count": null,
   "metadata": {},
   "outputs": [],
   "source": [
    "raw_data_path = './data/raw_data.csv'\n",
    "raw_data = pd.read_csv(raw_data_path)"
   ]
  },
  {
   "cell_type": "code",
   "execution_count": null,
   "metadata": {},
   "outputs": [],
   "source": [
    "MAX_NTIMES = 5\n",
    "\n",
    "all_columns = raw_data.columns\n",
    "extended_columns = [col[:-1] for col in all_columns if col.endswith('0')]\n",
    "extended_columns.append('ntimes')\n",
    "\n",
    "base_columns = set(all_columns)\n",
    "for i in range(MAX_NTIMES):\n",
    "    base_columns -= set([col for col in all_columns if col.endswith(str(i))])\n",
    "\n",
    "base_columns = list(base_columns)\n",
    "base_columns\n",
    "# extended_columns"
   ]
  },
  {
   "cell_type": "code",
   "execution_count": null,
   "metadata": {},
   "outputs": [],
   "source": [
    "transformed_columns = base_columns + extended_columns\n",
    "transformed_data = pd.DataFrame(columns=transformed_columns)\n",
    "# transformed_columns"
   ]
  },
  {
   "cell_type": "code",
   "execution_count": null,
   "metadata": {},
   "outputs": [],
   "source": [
    "for index, row in raw_data.iterrows():\n",
    "    for i in range(MAX_NTIMES):\n",
    "    series\n",
    "    print(row[base_columns])\n",
    "    print('---------------')\n",
    "    transformed_data.append()"
   ]
  },
  {
   "cell_type": "code",
   "execution_count": null,
   "metadata": {},
   "outputs": [],
   "source": [
    "pd.Series?"
   ]
  },
  {
   "cell_type": "code",
   "execution_count": null,
   "metadata": {},
   "outputs": [],
   "source": [
    "pd.DataFrame().append"
   ]
  },
  {
   "cell_type": "code",
   "execution_count": null,
   "metadata": {},
   "outputs": [],
   "source": [
    "set(raw_data.columns)\n",
    "# set([col for col in raw_data.columns if raw_data[col].isnull().any()])"
   ]
  },
  {
   "cell_type": "code",
   "execution_count": null,
   "metadata": {},
   "outputs": [],
   "source": [
    "updrsv_cols = [col for col in raw_data.columns if col.startswith('updrsv')]\n",
    "raw_data[updrsv_cols]"
   ]
  },
  {
   "cell_type": "code",
   "execution_count": null,
   "metadata": {},
   "outputs": [],
   "source": [
    "cols = [col for col in raw_data.columns if col.endswith('1')]\n",
    "cols\n",
    "# raw_data[cols]\n",
    "\n",
    "# raw_data['hyv1'].unique()"
   ]
  },
  {
   "cell_type": "code",
   "execution_count": null,
   "metadata": {},
   "outputs": [],
   "source": [
    "cols = [col for col in raw_data.columns if col.startswith('age')]\n",
    "raw_data[cols]"
   ]
  }
 ],
 "metadata": {
  "kernelspec": {
   "display_name": "Python 3",
   "language": "python",
   "name": "python3"
  },
  "language_info": {
   "codemirror_mode": {
    "name": "ipython",
    "version": 3
   },
   "file_extension": ".py",
   "mimetype": "text/x-python",
   "name": "python",
   "nbconvert_exporter": "python",
   "pygments_lexer": "ipython3",
   "version": "3.7.3"
  }
 },
 "nbformat": 4,
 "nbformat_minor": 4
}
