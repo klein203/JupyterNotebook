{
 "cells": [
  {
   "cell_type": "markdown",
   "metadata": {},
   "source": [
    "- id: patient_no 病人编号\n",
    "- gender: 性别，0: F, 1: M\n",
    "- educationyear: year of education 教育年限，如小学五年级-5\n",
    "- aao: age of onset 起病年龄\n",
    "- group: 0: 'GU-EOPD (SD)' 早发型PD, 1: 'PD-Parkin (SD)' 携带Parkin基因的PD，携带Parkin的都是早发型PD\n",
    "- visit_time: 第几次随访 （[0-4] int）\n",
    "- age: 评估年龄\n",
    "- ddy: disease duration year 病程，评估年龄=起病年龄+病程 （age=aao+ddy）\n",
    "- hy: Hoehn&Yahr 帕金森严重度评级 （[0-5] int） * data leakage\n",
    "- ledd: 多巴胺等效剂量总和（用药）mg （[0-n] float）\n",
    "\n",
    "- updrs: target （[0-108] int）\n",
    "\n",
    "\n",
    "\n",
    "以下为认知评估，待研究\n",
    "'mmse', 'reytimev', 'reyscorev', 'analogyv', 'strooptimev', 'stroopcorrectv', 'bostonv', 'reyrecallv', 'sdmt1v', 'sdmt4v', 'avltsumv', 'avltshortv', 'avltlongv', 'avltcuev', 'avltrecognitionv', 'tmt2numberv', 'tmt2timev', 'vft1v', 'vft2v', 'vft3v', 'cdtv', "
   ]
  },
  {
   "cell_type": "code",
   "execution_count": 15,
   "metadata": {},
   "outputs": [],
   "source": [
    "import pandas as pd\n",
    "import matplotlib.pyplot as plt\n",
    "import seaborn as sns\n",
    "\n",
    "from sklearn.model_selection import train_test_split\n",
    "from sklearn.ensemble import RandomForestRegressor\n",
    "from sklearn.linear_model import LinearRegression\n",
    "\n",
    "from sklearn.compose import ColumnTransformer\n",
    "from sklearn.pipeline import Pipeline\n",
    "from sklearn.impute import SimpleImputer\n",
    "from sklearn.preprocessing import OneHotEncoder\n",
    "\n",
    "from sklearn.metrics import mean_squared_error, r2_score\n",
    "from sklearn.model_selection import GridSearchCV, cross_val_score"
   ]
  },
  {
   "cell_type": "code",
   "execution_count": 16,
   "metadata": {},
   "outputs": [],
   "source": [
    "data_path = './data/data_1.csv'\n",
    "df = pd.read_csv(data_path)"
   ]
  },
  {
   "cell_type": "code",
   "execution_count": 17,
   "metadata": {},
   "outputs": [],
   "source": [
    "# import pandas_profiling as profiling\n",
    "# profile = profiling.ProfileReport(df)\n",
    "# profile.to_file(\"./temp/profile.html\")"
   ]
  },
  {
   "cell_type": "markdown",
   "metadata": {},
   "source": [
    "- updrs related dataset\n",
    "     - drop NaN, random forest regressor model"
   ]
  },
  {
   "cell_type": "code",
   "execution_count": 18,
   "metadata": {},
   "outputs": [],
   "source": [
    "base_feature_names = ['gender', 'educationyear', 'aao', 'group', 'visit_time', 'age', 'ddy', 'hy', 'ledd', 'updrs']\n",
    "target_name = 'updrs'\n",
    "\n",
    "X = df[base_feature_names].copy()\n",
    "\n",
    "X.columns = ['gender', 'year_of_education', 'age_of_onset', 'group', 'visit_time', 'age_of_evaluation', 'disease_duration_year', 'Hoehn_and_Yahr', 'ledd', 'updrs']\n",
    "\n",
    "numerical_cols = ['year_of_education', 'age_of_onset', 'visit_time', 'age_of_evaluation', 'disease_duration_year', 'Hoehn_and_Yahr', 'ledd']\n",
    "categorical_cols = ['gender', 'group']\n",
    "\n",
    "# X['gender'][X['gender'] == 0] = 'Female'\n",
    "# X['gender'][X['gender'] == 1] = 'Male'\n",
    "\n",
    "# X['group'][X['group'] == 0] = 'GU-EOPD (SD)'\n",
    "# X['group'][X['group'] == 1] = 'PD-Parkin (SD)'\n",
    "\n",
    "# drop all rows with NaN target\n",
    "X.dropna(axis=0, subset=[target_name], inplace=True)\n",
    "\n",
    "# drop all rows with NaN value\n",
    "missing_feature_names = [name for name in X.columns if X[name].isnull().any()]\n",
    "X.dropna(axis=0, subset=missing_feature_names, inplace=True)\n",
    "\n",
    "# corr\n",
    "corr = X.corr()\n",
    "\n",
    "# X, y\n",
    "y = X[target_name]\n",
    "X.drop([target_name], axis=1, inplace=True)"
   ]
  },
  {
   "cell_type": "code",
   "execution_count": 19,
   "metadata": {},
   "outputs": [
    {
     "name": "stdout",
     "output_type": "stream",
     "text": [
      "{'max_depth': 5, 'n_estimators': 10}\n"
     ]
    },
    {
     "name": "stderr",
     "output_type": "stream",
     "text": [
      "D:\\Miniconda3\\lib\\site-packages\\sklearn\\model_selection\\_search.py:813: DeprecationWarning: The default of the `iid` parameter will change from True to False in version 0.22 and will be removed in 0.24. This will change numeric results when test-set sizes are unequal.\n",
      "  DeprecationWarning)\n"
     ]
    }
   ],
   "source": [
    "model = RandomForestRegressor(random_state=5)\n",
    "\n",
    "# params search\n",
    "param_grid = [{\n",
    "    'n_estimators': [10, 20, 30, 40, 50, 100],\n",
    "    'max_depth': [5, 10]\n",
    "}]\n",
    "grid_search = GridSearchCV(model, param_grid, cv=5, scoring='neg_mean_squared_error')\n",
    "# grid_search = GridSearchCV(model, param_grid, cv=5, scoring='r2')\n",
    "\n",
    "grid_search.fit(X, y)\n",
    "\n",
    "print(grid_search.best_params_)\n",
    "best_model = grid_search.best_estimator_"
   ]
  },
  {
   "cell_type": "code",
   "execution_count": 20,
   "metadata": {},
   "outputs": [
    {
     "name": "stdout",
     "output_type": "stream",
     "text": [
      "r2 scores:\n",
      " [ 0.06128398  0.1418113  -0.00091996  0.40660762  0.31460219] 0.1846770283614181\n",
      "mse scores:\n",
      " [119.43063711 152.7376405  148.10048071  94.9535078   38.92712598] 110.82987842046676\n"
     ]
    }
   ],
   "source": [
    "# cross validation\n",
    "r2_scores = cross_val_score(best_model, X, y, cv=5, scoring='r2')\n",
    "print(\"r2 scores:\\n\", r2_scores, r2_scores.mean())\n",
    "\n",
    "mse_scores = -1 * cross_val_score(best_model, X, y, cv=5, scoring='neg_mean_squared_error')\n",
    "print(\"mse scores:\\n\", mse_scores, mse_scores.mean())"
   ]
  },
  {
   "cell_type": "markdown",
   "metadata": {},
   "source": [
    "- updrs related dataset\n",
    "     - impute (mean), random forest regressor model"
   ]
  },
  {
   "cell_type": "code",
   "execution_count": 21,
   "metadata": {},
   "outputs": [
    {
     "name": "stderr",
     "output_type": "stream",
     "text": [
      "D:\\Miniconda3\\lib\\site-packages\\ipykernel_launcher.py:14: SettingWithCopyWarning: \n",
      "A value is trying to be set on a copy of a slice from a DataFrame\n",
      "\n",
      "See the caveats in the documentation: https://pandas.pydata.org/pandas-docs/stable/user_guide/indexing.html#returning-a-view-versus-a-copy\n",
      "  \n"
     ]
    }
   ],
   "source": [
    "base_feature_names = ['gender', 'educationyear', 'aao', 'group', 'visit_time', 'age', 'ddy', 'hy', 'ledd', 'updrs']\n",
    "target_name = 'updrs'\n",
    "\n",
    "X = df[base_feature_names].copy()\n",
    "\n",
    "X.columns = ['gender', 'year_of_education', 'age_of_onset', 'group', 'visit_time', 'age_of_evaluation', 'disease_duration_year', 'Hoehn_and_Yahr', 'ledd', 'updrs']\n",
    "\n",
    "numerical_cols = ['year_of_education', 'age_of_onset', 'visit_time', 'age_of_evaluation', 'disease_duration_year', 'Hoehn_and_Yahr', 'ledd']\n",
    "categorical_cols = ['gender', 'group']\n",
    "\n",
    "X['gender'][X['gender'] == 0] = 'Female'\n",
    "X['gender'][X['gender'] == 1] = 'Male'\n",
    "\n",
    "X['group'][X['group'] == 0] = 'GU-EOPD (SD)'\n",
    "X['group'][X['group'] == 1] = 'PD-Parkin (SD)'\n",
    "\n",
    "# drop all rows with NaN target\n",
    "X.dropna(axis=0, subset=[target_name], inplace=True)\n",
    "\n",
    "# X, y\n",
    "y = X[target_name]\n",
    "X.drop([target_name], axis=1, inplace=True)"
   ]
  },
  {
   "cell_type": "code",
   "execution_count": 22,
   "metadata": {},
   "outputs": [
    {
     "name": "stdout",
     "output_type": "stream",
     "text": [
      "{'model__max_depth': 5, 'model__n_estimators': 100}\n"
     ]
    },
    {
     "name": "stderr",
     "output_type": "stream",
     "text": [
      "D:\\Miniconda3\\lib\\site-packages\\sklearn\\model_selection\\_search.py:813: DeprecationWarning: The default of the `iid` parameter will change from True to False in version 0.22 and will be removed in 0.24. This will change numeric results when test-set sizes are unequal.\n",
      "  DeprecationWarning)\n"
     ]
    }
   ],
   "source": [
    "numerical_transformer = SimpleImputer(strategy='mean')\n",
    "categorical_transformer = Pipeline(steps=[\n",
    "    ('imputer', SimpleImputer(strategy='most_frequent')),\n",
    "    ('onehot', OneHotEncoder(handle_unknown='ignore'))\n",
    "])\n",
    "\n",
    "preprocessor = ColumnTransformer(transformers=[\n",
    "    ('num', numerical_transformer, numerical_cols),\n",
    "    ('cat', categorical_transformer, categorical_cols)\n",
    "])\n",
    "\n",
    "model = RandomForestRegressor(random_state=5)\n",
    "\n",
    "pipeline = Pipeline(steps=[\n",
    "    ('preprocessor', preprocessor),\n",
    "    ('model', model)\n",
    "])\n",
    "\n",
    "# params search\n",
    "param_grid = [{\n",
    "    'model__n_estimators': [10, 20, 30, 40, 50, 100],\n",
    "    'model__max_depth': [5, 10]\n",
    "}]\n",
    "grid_search = GridSearchCV(pipeline, param_grid, cv=5, scoring='neg_mean_squared_error')\n",
    "# grid_search = GridSearchCV(pipeline, param_grid, cv=5, scoring='r2')\n",
    "\n",
    "grid_search.fit(X, y)\n",
    "\n",
    "print(grid_search.best_params_)\n",
    "best_model = grid_search.best_estimator_"
   ]
  },
  {
   "cell_type": "code",
   "execution_count": 23,
   "metadata": {},
   "outputs": [],
   "source": [
    "# model = RandomForestRegressor(max_depth=5, n_estimators=100, random_state=5)\n",
    "\n",
    "# pipeline = Pipeline(steps=[\n",
    "#     ('preprocessor', preprocessor),\n",
    "#     ('model', best_model)\n",
    "# ])"
   ]
  },
  {
   "cell_type": "code",
   "execution_count": 24,
   "metadata": {},
   "outputs": [
    {
     "name": "stdout",
     "output_type": "stream",
     "text": [
      "r2 scores:\n",
      " [ 0.13421417  0.24186247  0.14055899  0.4296354  -0.01950792] 0.18535262224079022\n",
      "mse scores:\n",
      " [115.89147512 162.54806662 162.40031679  99.58596631  55.81561187] 119.24828734084068\n"
     ]
    }
   ],
   "source": [
    "# cross validation\n",
    "r2_scores = cross_val_score(best_model, X, y, cv=5, scoring='r2')\n",
    "print(\"r2 scores:\\n\", r2_scores, r2_scores.mean())\n",
    "\n",
    "mse_scores = -1 * cross_val_score(best_model, X, y, cv=5, scoring='neg_mean_squared_error')\n",
    "print(\"mse scores:\\n\", mse_scores, mse_scores.mean())"
   ]
  },
  {
   "cell_type": "markdown",
   "metadata": {},
   "source": [
    "- updrs related dataset\n",
    "     - drop NaN, linear regressor model"
   ]
  },
  {
   "cell_type": "code",
   "execution_count": 25,
   "metadata": {},
   "outputs": [],
   "source": [
    "base_feature_names = ['gender', 'educationyear', 'aao', 'group', 'visit_time', 'age', 'ddy', 'hy', 'ledd', 'updrs']\n",
    "target_name = 'updrs'\n",
    "\n",
    "X = df[base_feature_names].copy()\n",
    "\n",
    "X.columns = ['gender', 'year_of_education', 'age_of_onset', 'group', 'visit_time', 'age_of_evaluation', 'disease_duration_year', 'Hoehn_and_Yahr', 'ledd', 'updrs']\n",
    "\n",
    "numerical_cols = ['gender', 'year_of_education', 'age_of_onset', 'group', 'visit_time', 'age_of_evaluation', 'disease_duration_year', 'Hoehn_and_Yahr', 'ledd']\n",
    "\n",
    "# drop all rows with NaN target\n",
    "X.dropna(axis=0, subset=[target_name], inplace=True)\n",
    "\n",
    "# drop all rows with NaN value\n",
    "missing_feature_names = [name for name in X.columns if X[name].isnull().any()]\n",
    "X.dropna(axis=0, subset=missing_feature_names, inplace=True)\n",
    "\n",
    "# corr\n",
    "corr = X.corr()\n",
    "\n",
    "# X, y\n",
    "y = X[target_name]\n",
    "X.drop([target_name], axis=1, inplace=True)"
   ]
  },
  {
   "cell_type": "code",
   "execution_count": 26,
   "metadata": {},
   "outputs": [
    {
     "name": "stdout",
     "output_type": "stream",
     "text": [
      "{'normalize': True}\n"
     ]
    },
    {
     "name": "stderr",
     "output_type": "stream",
     "text": [
      "D:\\Miniconda3\\lib\\site-packages\\sklearn\\model_selection\\_search.py:813: DeprecationWarning: The default of the `iid` parameter will change from True to False in version 0.22 and will be removed in 0.24. This will change numeric results when test-set sizes are unequal.\n",
      "  DeprecationWarning)\n"
     ]
    }
   ],
   "source": [
    "model = LinearRegression()\n",
    "\n",
    "# params search\n",
    "param_grid = [{\n",
    "    'normalize': [True, False]\n",
    "}]\n",
    "grid_search = GridSearchCV(model, param_grid, cv=5, scoring='neg_mean_squared_error')\n",
    "# grid_search = GridSearchCV(model, param_grid, cv=5, scoring='r2')\n",
    "\n",
    "grid_search.fit(X, y)\n",
    "\n",
    "print(grid_search.best_params_)\n",
    "best_model = grid_search.best_estimator_"
   ]
  },
  {
   "cell_type": "code",
   "execution_count": 27,
   "metadata": {},
   "outputs": [
    {
     "name": "stdout",
     "output_type": "stream",
     "text": [
      "r2 scores:\n",
      " [ 0.22288179  0.07994164  0.24190748  0.46915213 -0.02236687] 0.1983032329535399\n",
      "mse scores:\n",
      " [ 98.87092724 163.74900168 112.17067466  84.94525623  58.06526321] 103.56022460439252\n"
     ]
    }
   ],
   "source": [
    "# cross validation\n",
    "r2_scores = cross_val_score(best_model, X, y, cv=5, scoring='r2')\n",
    "print(\"r2 scores:\\n\", r2_scores, r2_scores.mean())\n",
    "\n",
    "mse_scores = -1 * cross_val_score(best_model, X, y, cv=5, scoring='neg_mean_squared_error')\n",
    "print(\"mse scores:\\n\", mse_scores, mse_scores.mean())"
   ]
  },
  {
   "cell_type": "markdown",
   "metadata": {},
   "source": [
    "- updrs related dataset\n",
    "     - impute (mean), linear regressor model"
   ]
  },
  {
   "cell_type": "code",
   "execution_count": 28,
   "metadata": {},
   "outputs": [],
   "source": [
    "base_feature_names = ['gender', 'educationyear', 'aao', 'group', 'visit_time', 'age', 'ddy', 'hy', 'ledd', 'updrs']\n",
    "target_name = 'updrs'\n",
    "\n",
    "X = df[base_feature_names].copy()\n",
    "\n",
    "X.columns = ['gender', 'year_of_education', 'age_of_onset', 'group', 'visit_time', 'age_of_evaluation', 'disease_duration_year', 'Hoehn_and_Yahr', 'ledd', 'updrs']\n",
    "\n",
    "numerical_cols = ['gender', 'year_of_education', 'age_of_onset', 'group', 'visit_time', 'age_of_evaluation', 'disease_duration_year', 'Hoehn_and_Yahr', 'ledd']\n",
    "\n",
    "# drop all rows with NaN target\n",
    "X.dropna(axis=0, subset=[target_name], inplace=True)\n",
    "\n",
    "# corr\n",
    "corr = X.corr()\n",
    "\n",
    "# X, y\n",
    "y = X[target_name]\n",
    "X.drop([target_name], axis=1, inplace=True)"
   ]
  },
  {
   "cell_type": "code",
   "execution_count": 29,
   "metadata": {},
   "outputs": [
    {
     "name": "stdout",
     "output_type": "stream",
     "text": [
      "{'model__normalize': False}\n"
     ]
    },
    {
     "name": "stderr",
     "output_type": "stream",
     "text": [
      "D:\\Miniconda3\\lib\\site-packages\\sklearn\\model_selection\\_search.py:813: DeprecationWarning: The default of the `iid` parameter will change from True to False in version 0.22 and will be removed in 0.24. This will change numeric results when test-set sizes are unequal.\n",
      "  DeprecationWarning)\n"
     ]
    }
   ],
   "source": [
    "numerical_transformer = SimpleImputer(strategy='mean')\n",
    "\n",
    "preprocessor = ColumnTransformer(transformers=[\n",
    "    ('num', numerical_transformer, numerical_cols),\n",
    "])\n",
    "\n",
    "model = LinearRegression()\n",
    "\n",
    "pipeline = Pipeline(steps=[\n",
    "    ('preprocessor', preprocessor),\n",
    "    ('model', model)\n",
    "])\n",
    "\n",
    "# params search\n",
    "param_grid = [{\n",
    "    'model__normalize': [True, False]\n",
    "}]\n",
    "grid_search = GridSearchCV(pipeline, param_grid, cv=5, scoring='neg_mean_squared_error')\n",
    "# grid_search = GridSearchCV(pipeline, param_grid, cv=5, scoring='r2')\n",
    "\n",
    "grid_search.fit(X, y)\n",
    "\n",
    "print(grid_search.best_params_)\n",
    "best_model = grid_search.best_estimator_"
   ]
  },
  {
   "cell_type": "code",
   "execution_count": 30,
   "metadata": {},
   "outputs": [
    {
     "name": "stdout",
     "output_type": "stream",
     "text": [
      "r2 scores:\n",
      " [0.18182867 0.15458514 0.46911359 0.41302154 0.00999256] 0.24570829865964666\n",
      "mse scores:\n",
      " [109.51794201 181.26071745 100.31650842 102.48675481  54.20053137] 109.55649081344487\n"
     ]
    }
   ],
   "source": [
    "# cross validation\n",
    "r2_scores = cross_val_score(best_model, X, y, cv=5, scoring='r2')\n",
    "print(\"r2 scores:\\n\", r2_scores, r2_scores.mean())\n",
    "\n",
    "mse_scores = -1 * cross_val_score(best_model, X, y, cv=5, scoring='neg_mean_squared_error')\n",
    "print(\"mse scores:\\n\", mse_scores, mse_scores.mean())"
   ]
  }
 ],
 "metadata": {
  "kernelspec": {
   "display_name": "Python 3",
   "language": "python",
   "name": "python3"
  },
  "language_info": {
   "codemirror_mode": {
    "name": "ipython",
    "version": 3
   },
   "file_extension": ".py",
   "mimetype": "text/x-python",
   "name": "python",
   "nbconvert_exporter": "python",
   "pygments_lexer": "ipython3",
   "version": "3.7.3"
  }
 },
 "nbformat": 4,
 "nbformat_minor": 4
}
