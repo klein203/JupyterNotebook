{
 "cells": [
  {
   "cell_type": "code",
   "execution_count": null,
   "metadata": {},
   "outputs": [],
   "source": [
    "import pandas as pd\n",
    "import pandas_profiling as profiling\n",
    "import matplotlib.pyplot as plt\n",
    "import seaborn as sns\n",
    "\n",
    "from sklearn.model_selection import train_test_split\n",
    "from sklearn.ensemble import RandomForestRegressor\n",
    "\n",
    "from sklearn.metrics import mean_squared_error, r2_score\n",
    "from sklearn.model_selection import cross_val_score"
   ]
  },
  {
   "cell_type": "code",
   "execution_count": null,
   "metadata": {},
   "outputs": [],
   "source": [
    "data_path = './data/data_1.csv'\n",
    "df = pd.read_csv(data_path)"
   ]
  },
  {
   "cell_type": "code",
   "execution_count": null,
   "metadata": {},
   "outputs": [],
   "source": [
    "profile = profiling.ProfileReport(df)\n",
    "# profile.to_file(\"./temp/profile.html\")"
   ]
  },
  {
   "cell_type": "markdown",
   "metadata": {},
   "source": [
    "- id: patient_no 病人编号\n",
    "- gender: 性别，0: F, 1: M\n",
    "- educationyear: year of education 教育年限，如小学五年级-5\n",
    "- aao: age of onset 起病年龄\n",
    "- group: 0: 'GU-EOPD (SD)' 早发型PD, 1: 'PD-Parkin (SD)' 携带Parkin基因的PD，携带Parkin的都是早发型PD\n",
    "- visit_time: 第几次随访 （[0-4] int）\n",
    "- age: 评估年龄\n",
    "- ddy: disease duration year 病程，评估年龄=起病年龄+病程 （age=aao+ddy）\n",
    "- hy: Hoehn&Yahr 帕金森严重度评级 （[0-5] int） * data leakage\n",
    "- ledd: 多巴胺等效剂量总和（用药）mg （[0-n] float）\n",
    "\n",
    "- updrs: target （[0-108] int）\n",
    "\n",
    "\n",
    "\n",
    "以下为认知评估，待研究\n",
    "'mmse', 'reytimev', 'reyscorev', 'analogyv', 'strooptimev', 'stroopcorrectv', 'bostonv', 'reyrecallv', 'sdmt1v', 'sdmt4v', 'avltsumv', 'avltshortv', 'avltlongv', 'avltcuev', 'avltrecognitionv', 'tmt2numberv', 'tmt2timev', 'vft1v', 'vft2v', 'vft3v', 'cdtv', "
   ]
  },
  {
   "cell_type": "code",
   "execution_count": null,
   "metadata": {},
   "outputs": [],
   "source": [
    "base_feature_names = ['gender', 'educationyear', 'aao', 'group', 'visit_time', 'age', 'ddy', 'hy', 'ledd', 'updrs']\n",
    "target_name = 'updrs'"
   ]
  },
  {
   "cell_type": "code",
   "execution_count": null,
   "metadata": {},
   "outputs": [],
   "source": [
    "# df.drop(['patient_no'], axis=1, inplace=True)"
   ]
  },
  {
   "cell_type": "code",
   "execution_count": null,
   "metadata": {},
   "outputs": [],
   "source": [
    "X_full = df[base_feature_names].copy()\n",
    "\n",
    "X_full.columns = ['gender', 'year_of_education', 'age_of_onset', 'group', 'visit_time', 'age_of_evaluation', 'disease_duration_year', 'Hoehn_and_Yahr', 'ledd', 'updrs']\n",
    "\n",
    "# X_full['gender'][X_full['gender'] == 0] = 'Female'\n",
    "# X_full['gender'][X_full['gender'] == 1] = 'Male'\n",
    "\n",
    "# X_full['group'][X_full['group'] == 0] = 'GU-EOPD (SD)'\n",
    "# X_full['group'][X_full['group'] == 1] = 'PD-Parkin (SD)'\n",
    "\n",
    "# drop all rows with NaN target\n",
    "X_full.dropna(axis=0, subset=[target_name], inplace=True)\n",
    "\n",
    "# drop all rows with NaN value\n",
    "missing_feature_names = [name for name in X_full.columns if X_full[name].isnull().any()]\n",
    "X_full.dropna(axis=0, subset=missing_feature_names, inplace=True)\n",
    "\n",
    "corr = X_full.corr()\n",
    "\n",
    "# X_full, y_full\n",
    "y_full = X_full[target_name]\n",
    "X_full.drop([target_name], axis=1, inplace=True)"
   ]
  },
  {
   "cell_type": "code",
   "execution_count": null,
   "metadata": {},
   "outputs": [],
   "source": [
    "# cross validation\n",
    "model = RandomForestRegressor(max_depth=5, n_estimators=100, random_state=5)\n",
    "r2_scores = cross_val_score(model, X_full, y_full, cv=4, scoring='r2')\n",
    "print(\"r2 scores:\\n\", r2_scores)\n",
    "\n",
    "mse_scores = -1 * cross_val_score(model, X_full, y_full, cv=4, scoring='neg_mean_squared_error')\n",
    "print(\"mse scores:\\n\", mse_scores)"
   ]
  },
  {
   "cell_type": "code",
   "execution_count": null,
   "metadata": {},
   "outputs": [],
   "source": [
    "X_train, X_valid, y_train, y_valid = train_test_split(X_full, y_full, test_size=0.25, random_state=5)\n",
    "\n",
    "model = RandomForestRegressor(max_depth=5, n_estimators=100, random_state=5)\n",
    "model.fit(X_train, y_train)\n",
    "y_pred = model.predict(X_valid)\n",
    "\n",
    "r2 = r2_score(y_valid, y_pred)\n",
    "print(\"r2 scores:\\n\", r2)\n",
    "\n",
    "mse = mean_squared_error(y_valid, y_pred)\n",
    "print(\"mse scores:\\n\", mse)\n",
    "\n",
    "import shap\n",
    "shap.initjs()\n",
    "\n",
    "explainer = shap.TreeExplainer(model)\n",
    "shap_values = explainer.shap_values(X_valid)"
   ]
  }
 ],
 "metadata": {
  "kernelspec": {
   "display_name": "Python 3",
   "language": "python",
   "name": "python3"
  },
  "language_info": {
   "codemirror_mode": {
    "name": "ipython",
    "version": 3
   },
   "file_extension": ".py",
   "mimetype": "text/x-python",
   "name": "python",
   "nbconvert_exporter": "python",
   "pygments_lexer": "ipython3",
   "version": "3.7.3"
  }
 },
 "nbformat": 4,
 "nbformat_minor": 4
}
