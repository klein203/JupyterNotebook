{
 "metadata": {
  "language_info": {
   "codemirror_mode": {
    "name": "ipython",
    "version": 3
   },
   "file_extension": ".py",
   "mimetype": "text/x-python",
   "name": "python",
   "nbconvert_exporter": "python",
   "pygments_lexer": "ipython3",
   "version": "3.7.3-final"
  },
  "orig_nbformat": 2,
  "kernelspec": {
   "name": "python_defaultSpec_1602306376428",
   "display_name": "Python 3.7.3 64-bit ('Miniconda3': conda)"
  }
 },
 "nbformat": 4,
 "nbformat_minor": 2,
 "cells": [
  {
   "cell_type": "markdown",
   "metadata": {},
   "source": [
    "# CXJ Summary\n",
    "## Preprocess Procedure\n",
    "### Read data from raw file"
   ]
  },
  {
   "cell_type": "code",
   "execution_count": null,
   "metadata": {
    "tags": []
   },
   "outputs": [],
   "source": [
    "import pandas as pd\n",
    "\n",
    "raw_files = [\n",
    "    # './data/CXJ_20200101.csv',\n",
    "\n",
    "    # './data/CXJ_202001_03.csv',\n",
    "    './data/CXJ_202004_05.csv',\n",
    "    # './data/CXJ_202006_07.csv',\n",
    "    # './data/CXJ_202008_09.csv',\n",
    "]\n",
    "\n",
    "df = pd.read_csv(raw_files[0], encoding=\"utf-8\")\n",
    "\n",
    "trans = []\n",
    "df.groupby(['日期', '车牌']).apply(lambda x:trans.append(list(set(x['S码']))))\n",
    "len(trans)"
   ]
  },
  {
   "cell_type": "code",
   "execution_count": null,
   "metadata": {},
   "outputs": [],
   "source": [
    "import pickle\n",
    "\n",
    "file = './data/CXJ_202001_03.pickle'\n",
    "\n",
    "with open(file, 'wb') as f:\n",
    "    pickle.dump(trans, f)\n"
   ]
  },
  {
   "cell_type": "code",
   "execution_count": null,
   "metadata": {},
   "outputs": [],
   "source": [
    "import pickle\n",
    "\n",
    "file = './data/CXJ_202001_03.pickle'\n",
    "\n",
    "with open(file, 'rb') as f:\n",
    "    data = pickle.load(f)\n",
    "\n",
    "data"
   ]
  },
  {
   "cell_type": "code",
   "execution_count": null,
   "metadata": {},
   "outputs": [],
   "source": []
  },
  {
   "cell_type": "code",
   "execution_count": null,
   "metadata": {},
   "outputs": [],
   "source": [
    "base_columns = ['姓名', '性别', '年龄', '临床诊断']\n",
    "metrics_columns = list(set(pre_op_df.columns) - set(base_columns))\n",
    "\n",
    "patient_base_df = pre_op_df[base_columns]\n",
    "pre_op_df = pre_op_df[metrics_columns]\n",
    "pst_1m_df = pst_1m_df[metrics_columns]\n",
    "pst_3m_df = pst_3m_df[metrics_columns]\n",
    "pst_6m_df = pst_6m_df[metrics_columns]\n",
    "pst_12m_df = pst_12m_df[metrics_columns]\n",
    "\n",
    "def add_suffix(origin: list, suffix: str) -> list:\n",
    "    return ['_'.join([ele, suffix]) for ele in origin]\n",
    "\n",
    "pre_op_df.columns = add_suffix(pre_op_df.columns.tolist(), 'pre_op')\n",
    "pst_1m_df.columns = add_suffix(pst_1m_df.columns.tolist(), 'pst_1m')\n",
    "pst_3m_df.columns = add_suffix(pst_3m_df.columns.tolist(), 'pst_3m')\n",
    "pst_6m_df.columns = add_suffix(pst_6m_df.columns.tolist(), 'pst_6m')\n",
    "pst_12m_df.columns = add_suffix(pst_12m_df.columns.tolist(), 'pst_12m')\n",
    "\n",
    "data = pd.merge(patient_base_df, pre_op_df, how='left', on=key_col)\n",
    "data = pd.merge(data, pst_1m_df, how='left', on=key_col)\n",
    "data = pd.merge(data, pst_3m_df, how='left', on=key_col)\n",
    "data = pd.merge(data, pst_6m_df, how='left', on=key_col)\n",
    "data = pd.merge(data, pst_12m_df, how='left', on=key_col)"
   ]
  },
  {
   "cell_type": "code",
   "execution_count": null,
   "metadata": {},
   "outputs": [],
   "source": [
    "object_columns = [col for col in data.columns.to_list() if str(data[col].dtype) == 'object']\n",
    "print(object_columns)\n",
    "\n",
    "data.describe()"
   ]
  },
  {
   "cell_type": "markdown",
   "metadata": {},
   "source": [
    "- fix log\n",
    "\n",
    "-- trim column 'P, Q, R, S' in sheet 'Post-Operation 3month', then update the same column titles for all other sheet\n",
    "\n",
    "-- change value '1+' to '1.5' in sheet 'Post-Operation 12month'"
   ]
  },
  {
   "cell_type": "markdown",
   "metadata": {},
   "source": [
    "### fillna\n",
    "- fill na value with mean value of columns"
   ]
  },
  {
   "cell_type": "code",
   "execution_count": null,
   "metadata": {
    "tags": []
   },
   "outputs": [],
   "source": [
    "na_columns = data.columns[data.isna().any()].to_list()\n",
    "na_value = {col: val for col, val in zip(na_columns, data[na_columns].mean())}\n",
    "data = data.fillna(value=na_value)"
   ]
  },
  {
   "cell_type": "code",
   "execution_count": null,
   "metadata": {},
   "outputs": [],
   "source": [
    "data.describe()"
   ]
  },
  {
   "cell_type": "markdown",
   "metadata": {},
   "source": [
    "- export to file"
   ]
  },
  {
   "cell_type": "code",
   "execution_count": null,
   "metadata": {},
   "outputs": [],
   "source": [
    "data.to_excel('./data/merged_data.xlsx')"
   ]
  },
  {
   "cell_type": "markdown",
   "metadata": {},
   "source": [
    "## EDA"
   ]
  },
  {
   "cell_type": "code",
   "execution_count": null,
   "metadata": {},
   "outputs": [],
   "source": [
    "# from matplotlib import pyplot as plt\n",
    "# plt.rcParams['font.sans-serif'] = ['SimHei']\n",
    "# plt.rcParams['axes.unicode_minus'] = False\n",
    "# import pandas_profiling as profiling\n",
    "\n",
    "# df = pd.read_excel('./data/merged_data.xlsx')\n",
    "# profile = profiling.ProfileReport(df)\n",
    "\n",
    "# profile.to_file('./temp/sdr_hsp_profile.html')"
   ]
  },
  {
   "cell_type": "markdown",
   "metadata": {},
   "source": [
    "## Plot\n",
    "### Lineplot: 78 features trends over times"
   ]
  },
  {
   "cell_type": "code",
   "execution_count": null,
   "metadata": {
    "tags": []
   },
   "outputs": [],
   "source": [
    "import math\n",
    "import pandas as pd\n",
    "\n",
    "from matplotlib import pyplot as plt\n",
    "plt.rcParams['font.sans-serif'] = ['SimHei']\n",
    "plt.rcParams['axes.unicode_minus'] = False\n",
    "\n",
    "import seaborn as sns\n",
    "\n",
    "\n",
    "raw_file = './data/SDR_Operation_HSP_20200830.xlsx'\n",
    "key_col = '序号'\n",
    "pre_op_df = pd.read_excel(raw_file, sheet_name='Pre-Operation', index_col=key_col)\n",
    "\n",
    "base_columns = ['姓名', '性别', '年龄', '临床诊断']\n",
    "metrics_columns = list(set(pre_op_df.columns) - set(base_columns))\n",
    "del pre_op_df\n",
    "\n",
    "suffixes = ['pre_op', 'pst_1m', 'pst_3m', 'pst_6m', 'pst_12m']\n",
    "\n",
    "nb_diag = len(metrics_columns)\n",
    "nb_diag_cols = 5\n",
    "nb_diag_rows = math.ceil(nb_diag / nb_diag_cols)\n",
    "\n",
    "fig = plt.figure(figsize=(8 * nb_diag_cols, 8 * nb_diag_rows))\n",
    "fig.tight_layout()\n",
    "\n",
    "df = pd.read_excel('./data/merged_data.xlsx')\n",
    "\n",
    "for idx, metrics_column in enumerate(metrics_columns):\n",
    "    feature_names = ['_'.join([metrics_column, suffix]) for suffix in suffixes]\n",
    "    ax = fig.add_subplot(nb_diag_rows, nb_diag_cols, idx+1)\n",
    "    metrics_df = pd.DataFrame(data=zip(suffixes, df[feature_names].mean()), columns=['Stage', metrics_column])\n",
    "    sns.lineplot(data=metrics_df, x='Stage', y=metrics_column, sort=False, ax=ax)\n",
    "\n",
    "plt.show()"
   ]
  },
  {
   "cell_type": "code",
   "execution_count": null,
   "metadata": {},
   "outputs": [],
   "source": [
    "fig.savefig('./temp/lineplot.png')"
   ]
  },
  {
   "source": [
    "### Voilin Plot: "
   ],
   "cell_type": "markdown",
   "metadata": {}
  },
  {
   "cell_type": "code",
   "execution_count": null,
   "metadata": {},
   "outputs": [],
   "source": [
    "import numpy as np\n",
    "import pandas as pd\n",
    "import seaborn as sns\n",
    "import matplotlib.pyplot as plt\n",
    "plt.rcParams['font.sans-serif'] = ['SimHei']\n",
    "plt.rcParams['axes.unicode_minus'] = False\n",
    "\n",
    "\n",
    "raw_file = './data/SDR_Operation_HSP_20200830.xlsx'\n",
    "key_col = '序号'\n",
    "pre_op_df = pd.read_excel(raw_file, sheet_name='Pre-Operation', index_col=key_col)\n",
    "\n",
    "base_columns = ['姓名', '性别', '年龄', '临床诊断']\n",
    "metrics_columns = list(set(pre_op_df.columns) - set(base_columns))\n",
    "del pre_op_df\n",
    "\n",
    "suffixes = ['pre_op', 'pst_1m', 'pst_3m', 'pst_6m', 'pst_12m']\n",
    "\n",
    "x1 = np.random.normal(loc=0.5, scale=2.0, size=(100, 1))\n",
    "c1 = np.zeros(shape=(100, 1))\n",
    "x2 = np.random.normal(loc=1.0, scale=1.0, size=(100, 1))\n",
    "c2 = np.ones(shape=(100, 1))\n",
    "\n",
    "d1 = np.hstack((c1, x1))\n",
    "d2 = np.hstack((c2, x2))\n",
    "\n",
    "df = pd.DataFrame(data=np.vstack((d1, d2)), columns=[\"c\", \"x\"])\n",
    "\n",
    "df.to_excel('file.xls')\n",
    "\n",
    "# sns.violinplot(x=\"x\", y=\"c\", data=df)\n",
    "# plt.show()"
   ]
  }
 ]
}