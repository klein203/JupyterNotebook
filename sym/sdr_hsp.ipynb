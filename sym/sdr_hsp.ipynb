{
 "metadata": {
  "language_info": {
   "codemirror_mode": {
    "name": "ipython",
    "version": 3
   },
   "file_extension": ".py",
   "mimetype": "text/x-python",
   "name": "python",
   "nbconvert_exporter": "python",
   "pygments_lexer": "ipython3",
   "version": "3.7.3-final"
  },
  "orig_nbformat": 2,
  "kernelspec": {
   "name": "python_defaultSpec_1598952128869",
   "display_name": "Python 3.7.3 64-bit ('Miniconda3': conda)"
  }
 },
 "nbformat": 4,
 "nbformat_minor": 2,
 "cells": [
  {
   "cell_type": "markdown",
   "metadata": {},
   "source": [
    "# SDR operation HSP Summary\n",
    "## Preprocess Procedure\n",
    "### Read data from raw file"
   ]
  },
  {
   "cell_type": "code",
   "execution_count": null,
   "metadata": {},
   "outputs": [],
   "source": [
    "import pandas as pd\n",
    "\n",
    "raw_file = './data/SDR_Operation_HSP_20200830.xlsx'\n",
    "\n",
    "key_col = '序号'\n",
    "\n",
    "pre_op_df = pd.read_excel(raw_file, sheet_name='Pre-Operation', index_col=key_col)\n",
    "pst_1m_df = pd.read_excel(raw_file, sheet_name='Post-Operation 1month', index_col=key_col)\n",
    "pst_3m_df = pd.read_excel(raw_file, sheet_name='Post-Operation 3month', index_col=key_col)\n",
    "pst_6m_df = pd.read_excel(raw_file, sheet_name='Post-Operation 6month', index_col=key_col)\n",
    "pst_12m_df = pd.read_excel(raw_file, sheet_name='Post-Operation 12month', index_col=key_col)"
   ]
  },
  {
   "cell_type": "code",
   "execution_count": null,
   "metadata": {},
   "outputs": [],
   "source": [
    "raw_file = './data/SDR_Operation_HSP_20200830.xlsx'\n",
    "\n",
    "key_col = '序号'\n",
    "\n",
    "pre_op_df = pd.read_excel(raw_file, sheet_name='Pre-Operation', index_col=key_col)\n",
    "pst_1m_df = pd.read_excel(raw_file, sheet_name='Post-Operation 1month', index_col=key_col)\n",
    "pst_3m_df = pd.read_excel(raw_file, sheet_name='Post-Operation 3month', index_col=key_col)\n",
    "pst_6m_df = pd.read_excel(raw_file, sheet_name='Post-Operation 6month', index_col=key_col)\n",
    "pst_12m_df = pd.read_excel(raw_file, sheet_name='Post-Operation 12month', index_col=key_col)"
   ]
  },
  {
   "cell_type": "code",
   "execution_count": null,
   "metadata": {},
   "outputs": [],
   "source": [
    "base_columns = ['姓名', '性别', '年龄', '临床诊断']\n",
    "metrics_columns = list(set(pre_op_df.columns) - set(base_columns))\n",
    "\n",
    "patient_base_df = pre_op_df[base_columns]\n",
    "pre_op_df = pre_op_df[metrics_columns]\n",
    "pst_1m_df = pst_1m_df[metrics_columns]\n",
    "pst_3m_df = pst_3m_df[metrics_columns]\n",
    "pst_6m_df = pst_6m_df[metrics_columns]\n",
    "pst_12m_df = pst_12m_df[metrics_columns]\n",
    "\n",
    "def add_suffix(origin: list, suffix: str) -> list:\n",
    "    return ['_'.join([ele, suffix]) for ele in origin]\n",
    "\n",
    "pre_op_df.columns = add_suffix(pre_op_df.columns.tolist(), 'pre_op')\n",
    "pst_1m_df.columns = add_suffix(pst_1m_df.columns.tolist(), 'pst_1m')\n",
    "pst_3m_df.columns = add_suffix(pst_3m_df.columns.tolist(), 'pst_3m')\n",
    "pst_6m_df.columns = add_suffix(pst_6m_df.columns.tolist(), 'pst_6m')\n",
    "pst_12m_df.columns = add_suffix(pst_12m_df.columns.tolist(), 'pst_12m')\n",
    "\n",
    "data = pd.merge(patient_base_df, pre_op_df, how='left', on=key_col)\n",
    "data = pd.merge(data, pst_1m_df, how='left', on=key_col)\n",
    "data = pd.merge(data, pst_3m_df, how='left', on=key_col)\n",
    "data = pd.merge(data, pst_6m_df, how='left', on=key_col)\n",
    "data = pd.merge(data, pst_12m_df, how='left', on=key_col)"
   ]
  },
  {
   "cell_type": "code",
   "execution_count": null,
   "metadata": {},
   "outputs": [],
   "source": [
    "object_columns = [col for col in data.columns.to_list() if str(data[col].dtype) == 'object']\n",
    "print(object_columns)\n",
    "\n",
    "data.describe()"
   ]
  },
  {
   "cell_type": "markdown",
   "metadata": {},
   "source": [
    "- fix log\n",
    "\n",
    "-- trim column 'P, Q, R, S' in sheet 'Post-Operation 3month', then update the same column titles for all other sheet\n",
    "\n",
    "-- change value '1+' to '1.5' in sheet 'Post-Operation 12month'"
   ]
  },
  {
   "cell_type": "markdown",
   "metadata": {},
   "source": [
    "### fillna\n",
    "- fill na value with mean value of columns"
   ]
  },
  {
   "cell_type": "code",
   "execution_count": null,
   "metadata": {
    "tags": []
   },
   "outputs": [],
   "source": [
    "na_columns = data.columns[data.isna().any()].to_list()\n",
    "na_value = {col: val for col, val in zip(na_columns, data[na_columns].mean())}\n",
    "data = data.fillna(value=na_value)"
   ]
  },
  {
   "cell_type": "code",
   "execution_count": null,
   "metadata": {},
   "outputs": [],
   "source": [
    "data.describe()"
   ]
  },
  {
   "cell_type": "markdown",
   "metadata": {},
   "source": [
    "- export to file"
   ]
  },
  {
   "cell_type": "code",
   "execution_count": null,
   "metadata": {},
   "outputs": [],
   "source": [
    "data.to_excel('./data/merged_data.xlsx')"
   ]
  },
  {
   "cell_type": "markdown",
   "metadata": {},
   "source": [
    "## EDA"
   ]
  },
  {
   "cell_type": "code",
   "execution_count": 1,
   "metadata": {},
   "outputs": [],
   "source": [
    "import pandas as pd\n",
    "import pandas_profiling as profiling\n",
    "from matplotlib import pyplot as plt\n",
    "import seaborn as sns"
   ]
  },
  {
   "cell_type": "code",
   "execution_count": 2,
   "metadata": {},
   "outputs": [],
   "source": [
    "df = pd.read_excel('./data/merged_data.xlsx')"
   ]
  },
  {
   "cell_type": "code",
   "execution_count": 3,
   "metadata": {},
   "outputs": [],
   "source": [
    "profile = profiling.ProfileReport(df)"
   ]
  },
  {
   "cell_type": "code",
   "execution_count": 5,
   "metadata": {
    "tags": []
   },
   "outputs": [
    {
     "output_type": "stream",
     "text": "\u001b[1;31mSignature:\u001b[0m \u001b[0mprofile\u001b[0m\u001b[1;33m.\u001b[0m\u001b[0mto_html\u001b[0m\u001b[1;33m(\u001b[0m\u001b[1;33m)\u001b[0m \u001b[1;33m->\u001b[0m \u001b[0mstr\u001b[0m\u001b[1;33m\u001b[0m\u001b[1;33m\u001b[0m\u001b[0m\n\u001b[1;31mDocstring:\u001b[0m\nGenerate and return complete template as lengthy string\n    for using with frameworks.\n\nReturns:\n    Profiling report html including wrapper.\n\u001b[1;31mFile:\u001b[0m      d:\\miniconda3\\lib\\site-packages\\pandas_profiling\\profile_report.py\n\u001b[1;31mType:\u001b[0m      method\n"
    }
   ],
   "source": [
    "profile.to_file('./temp/sdr_hsp_profile.html')"
   ]
  }
 ]
}