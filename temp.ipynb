{
 "cells": [
  {
   "cell_type": "code",
   "execution_count": 5,
   "metadata": {},
   "outputs": [],
   "source": [
    "import numpy as np\n",
    "import pandas as pd\n",
    "import warnings\n",
    "\n",
    "# from pandas.core.common import SettingWithCopyWarning\n",
    "# warnings.simplefilter(action=\"ignore\", category=SettingWithCopyWarning)\n",
    "\n",
    "province_dict = {\n",
    "    \"11\": \"北京市\",\n",
    "    \"12\": \"天津市\",\n",
    "    \"13\": \"河北省\",\n",
    "    \"14\": \"山西省\",\n",
    "    \"15\": \"内蒙古自治区\",\n",
    "    \"21\": \"辽宁省\",\n",
    "    \"22\": \"吉林省\",\n",
    "    \"23\": \"黑龙江省\",\n",
    "    \"31\": \"上海市\",\n",
    "    \"32\": \"江苏省\",\n",
    "    \"33\": \"浙江省\",\n",
    "    \"34\": \"安徽省\",\n",
    "    \"35\": \"福建省\",\n",
    "    \"36\": \"江西省\",\n",
    "    \"37\": \"山东省\",\n",
    "    \"41\": \"河南省\",\n",
    "    \"42\": \"湖北省\",\n",
    "    \"43\": \"湖南省\",\n",
    "    \"44\": \"广东省\",\n",
    "    \"45\": \"广西壮族自治区\",\n",
    "    \"46\": \"海南省\",\n",
    "    \"50\": \"重庆市\",\n",
    "    \"51\": \"四川省\",\n",
    "    \"52\": \"责州省\",\n",
    "    \"53\": \"云南省\",\n",
    "    \"54\": \"西藏自治区\",\n",
    "    \"61\": \"陕西省\",\n",
    "    \"62\": \"甘肃省\",\n",
    "    \"63\": \"青海省\",\n",
    "    \"64\": \"宁夏回族自治区\",\n",
    "    \"65\": \"新疆维吾尔自治区\",\n",
    "    \"81\": \"香港特别行政区\"\n",
    "}\n",
    "\n",
    "charging_power_type_dict = {\n",
    "    0: \"交流\",\n",
    "    1: \"直流\"\n",
    "}\n",
    "\n",
    "pile_file = 'D:\\charging_evcs_20230110\\operator_charging_pile_202301101756.csv'\n",
    "\n",
    "pile_column_names = [\n",
    "    \"id\",\"station_id\",\"station_name\",\"pile_id\",\"pile_name\",\n",
    "    \"equipment_type\",\"equipment_model\",\"charging_port_num\",\"operator_id\",\"operator_name\",\n",
    "    \"longitude\",\"latitude\",\"dept_code\",\"producer_name\",\"producer_time\",\n",
    "    \"charging_power\",\"charging_model_no\",\"is_deleted\",\"create_time\",\"create_user\",\"create_dept\",\n",
    "    \"update_user\",\"update_time\",\"status\",\"is_charge_timeout\",\"timeout_free_time\",\n",
    "    \"timeout_free_price\",\"upper_limit_amount\",\"timeoutfree_time_desc\",\"equipment_has_lock\"\n",
    "]\n",
    "\n",
    "pile_data_types = dict.fromkeys(pile_column_names, np.string_)\n",
    "pile_data_types['id'] = np.int64\n",
    "pile_data_types['equipment_type'] = np.int32\n",
    "pile_data_types['charging_port_num'] = np.int32\n",
    "pile_data_types['is_deleted'] = np.int32\n",
    "pile_data_types['status'] = np.int32\n",
    "\n",
    "\n",
    "station_file = 'D:\\charging_evcs_20230110\\operator_charging_station_202301101800.csv'\n",
    "\n",
    "station_column_names = [\n",
    "    \"id\",\"station_id\",\"charging_station_name\",\"equipment_owner_id\",\"station_address\",\n",
    "    \"pile_number\",\"platform_station_no\",\"operator_id\",\"operator_name\",\"station_country_code\",\n",
    "    \"province_code\",\"city_code\",\"longitude\",\"latitude\",\"station_type\",\n",
    "    \"station_status\",\"car_number\",\"station_guide\",\"station_tel\",\"service_tel\",\n",
    "    \"service_place\",\"apply_car\",\"station_photo\",\"pay_model\",\"space_description\",\n",
    "    \"service_fee_brief\",\"parking_fee_brief\",\"charging_charge_brief\",\"work_hours_description\",\"support_order\",\n",
    "    \"remark\",\"is_deleted\",\"create_time\",\"create_user\",\"create_dept\",\n",
    "    \"update_user\",\"update_time\",\"status\",\"area_code\",\"park_fee_free\",\n",
    "    \"station_has_lock\"\n",
    "]\n",
    "\n",
    "station_data_types = dict.fromkeys(station_column_names, np.string_)\n",
    "station_data_types['id'] = np.int64\n",
    "station_data_types['car_number'] = np.int32\n",
    "station_data_types['is_deleted'] = np.int32\n",
    "station_data_types['status'] = np.int32"
   ]
  },
  {
   "cell_type": "code",
   "execution_count": 6,
   "metadata": {},
   "outputs": [],
   "source": [
    "df_pile = pd.read_csv(pile_file, encoding=\"utf-8\", names=pile_column_names, skiprows=1, dtype=pile_data_types)\n",
    "df_pile = df_pile[['id', 'station_id', 'charging_power']]\n",
    "\n",
    "df_pile['charging_power'] = df_pile['charging_power'].astype(np.float32)\n",
    "# df_pile.describe()\n",
    "\n",
    "df_station = pd.read_csv(station_file, encoding=\"utf-8\", names=station_column_names, skiprows=1, dtype=station_data_types)\n",
    "df_station = df_station[['station_id', 'province_code', 'city_code', 'station_type']]\n",
    "# df_station.describe()\n",
    "\n",
    "df = df_pile.merge(df_station, on=\"station_id\")\n",
    "# df.describe()"
   ]
  },
  {
   "cell_type": "code",
   "execution_count": 7,
   "metadata": {},
   "outputs": [
    {
     "name": "stderr",
     "output_type": "stream",
     "text": [
      "C:\\Users\\sheng.xu\\AppData\\Local\\Temp\\ipykernel_29412\\2896206882.py:4: SettingWithCopyWarning: \n",
      "A value is trying to be set on a copy of a slice from a DataFrame\n",
      "\n",
      "See the caveats in the documentation: https://pandas.pydata.org/pandas-docs/stable/user_guide/indexing.html#returning-a-view-versus-a-copy\n",
      "  df[\"charging_power_type\"].loc[df[\"charging_power\"] <= 7.0] = charging_power_type_dict[0]\n",
      "C:\\Users\\sheng.xu\\AppData\\Local\\Temp\\ipykernel_29412\\2896206882.py:5: SettingWithCopyWarning: \n",
      "A value is trying to be set on a copy of a slice from a DataFrame\n",
      "\n",
      "See the caveats in the documentation: https://pandas.pydata.org/pandas-docs/stable/user_guide/indexing.html#returning-a-view-versus-a-copy\n",
      "  df[\"charging_power_type\"].loc[df[\"charging_power\"] > 7.0] = charging_power_type_dict[1]\n",
      "C:\\Users\\sheng.xu\\AppData\\Local\\Temp\\ipykernel_29412\\2896206882.py:10: SettingWithCopyWarning: \n",
      "A value is trying to be set on a copy of a slice from a DataFrame\n",
      "\n",
      "See the caveats in the documentation: https://pandas.pydata.org/pandas-docs/stable/user_guide/indexing.html#returning-a-view-versus-a-copy\n",
      "  df[\"province_name\"].loc[df[\"province_code\"] == k] = province_dict[k]\n"
     ]
    }
   ],
   "source": [
    "df.insert(0, 'charging_power_type', value=\"\")\n",
    "\n",
    "# charing_power_type\n",
    "df[\"charging_power_type\"].loc[df[\"charging_power\"] <= 7.0] = charging_power_type_dict[0]\n",
    "df[\"charging_power_type\"].loc[df[\"charging_power\"] > 7.0] = charging_power_type_dict[1]\n",
    "\n",
    "df.insert(0, 'province_name', value=\"\")\n",
    "\n",
    "for k in province_dict:\n",
    "    df[\"province_name\"].loc[df[\"province_code\"] == k] = province_dict[k]"
   ]
  },
  {
   "cell_type": "code",
   "execution_count": 8,
   "metadata": {},
   "outputs": [],
   "source": [
    "grouped = df.groupby(['province_name', 'charging_power_type'])\n",
    "out = pd.DataFrame(grouped.count()[\"id\"])\n",
    "\n",
    "out.to_csv('d:\\桩分布.csv', encoding='utf-8-sig')"
   ]
  }
 ],
 "metadata": {
  "kernelspec": {
   "display_name": "py38_sci",
   "language": "python",
   "name": "python3"
  },
  "language_info": {
   "codemirror_mode": {
    "name": "ipython",
    "version": 3
   },
   "file_extension": ".py",
   "mimetype": "text/x-python",
   "name": "python",
   "nbconvert_exporter": "python",
   "pygments_lexer": "ipython3",
   "version": "3.8.16"
  },
  "orig_nbformat": 4,
  "vscode": {
   "interpreter": {
    "hash": "c077643c67de0822edc426baeaedfd7a7c79a3cdaffc866b810d2124b3ac3ad3"
   }
  }
 },
 "nbformat": 4,
 "nbformat_minor": 2
}
