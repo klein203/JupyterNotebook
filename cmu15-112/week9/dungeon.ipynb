{
 "cells": [
  {
   "cell_type": "code",
   "execution_count": 5,
   "metadata": {},
   "outputs": [
    {
     "name": "stdout",
     "output_type": "stream",
     "text": [
      "*** Closing Game.  Bye! ***\n",
      "\n",
      "[init] Player Hero b09c5f1a-1a62-4927-9f27-921d94092567\n",
      "[init] Dungeon scenario_1 a424d415-e605-4ea7-b2ff-df8b735f3d00\n"
     ]
    }
   ],
   "source": [
    "import math, copy, random, uuid\n",
    "\n",
    "from cmu_112_graphics import *\n",
    "from tkinter import *\n",
    "\n",
    "class GameObject(object):\n",
    "    def __init__(self, name, **kwargs):\n",
    "        self.uuid = uuid.uuid4()\n",
    "        self.name = name\n",
    "        print('[init]', self.__class__.__name__, self.name, self.uuid)\n",
    "    \n",
    "class Dungeon(GameObject):\n",
    "    def __init__(self, name, rows, cols, **kwargs):\n",
    "        super().__init__(name)\n",
    "        self.rows = rows\n",
    "        self.cols = cols\n",
    "\n",
    "class Item(GameObject):\n",
    "    def __init__(self, **kwargs):\n",
    "        super().__init__(name)\n",
    "        self.category = 0\n",
    "\n",
    "class Creature(GameObject):\n",
    "    def __init__(self, name, **kwargs):\n",
    "        super().__init__(name)\n",
    "        \n",
    "        self.type = 0\n",
    "        \n",
    "        self.level = 1\n",
    "        \n",
    "        self.str = 10\n",
    "        self.dex = 10\n",
    "        self.agi = 10\n",
    "        self.int = 10\n",
    "        self.con = 10\n",
    "        self.luk = 10\n",
    "        \n",
    "        self.hp = 0\n",
    "        self.sp = 0\n",
    "        self.attack = 0\n",
    "        self.defense = 0\n",
    "        self.hit = 0\n",
    "        self.avoid = 0\n",
    "        \n",
    "        self.posRow = 0\n",
    "        self.posCol = 0\n",
    "        \n",
    "        self.maxDice = 6\n",
    "    \n",
    "    def dice(self):\n",
    "        return random.randint(1, self.maxDice)\n",
    "    \n",
    "    def move(self, drow, dcol):\n",
    "        self.posRow += drow\n",
    "        self.posCol += dcol\n",
    "\n",
    "class Player(Creature):\n",
    "    def __init__(self, name, **kwargs):\n",
    "        super().__init__(name, **kwargs)\n",
    "\n",
    "class Monster(Creature):\n",
    "    def __init__(self, name, **kwargs):\n",
    "        super().__init__(name, **kwargs)\n",
    "\n",
    "\n",
    "class Game(App):\n",
    "    def __init__(self, name, **kwargs):\n",
    "        super().__init__(width=400, height=400, **kwargs)\n",
    "        self.name = name\n",
    "        self.player = Player('Hero')\n",
    "        self.dungeon = Dungeon('scenario_1', rows=8, cols=8)\n",
    "\n",
    "\n",
    "game = Game('DND')"
   ]
  }
 ],
 "metadata": {
  "kernelspec": {
   "display_name": "Python 3",
   "language": "python",
   "name": "python3"
  },
  "language_info": {
   "codemirror_mode": {
    "name": "ipython",
    "version": 3
   },
   "file_extension": ".py",
   "mimetype": "text/x-python",
   "name": "python",
   "nbconvert_exporter": "python",
   "pygments_lexer": "ipython3",
   "version": "3.7.3"
  }
 },
 "nbformat": 4,
 "nbformat_minor": 4
}
