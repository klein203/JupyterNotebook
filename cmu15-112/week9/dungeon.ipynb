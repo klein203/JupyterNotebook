{
 "cells": [
  {
   "cell_type": "markdown",
   "metadata": {},
   "source": [
    "## main"
   ]
  },
  {
   "cell_type": "code",
   "execution_count": null,
   "metadata": {},
   "outputs": [],
   "source": [
    "import dungeon\n",
    "from imp import reload\n",
    "reload(dungeon)\n",
    "\n",
    "# game = GameDelegator('DND')\n",
    "# game.run()\n",
    "\n",
    "game = GameDelegator('DND', 600, 400, 200, 200)\n",
    "inst = game.getInstance()\n",
    "inst.setSlideWindowBorder(20, 30)\n",
    "map = Map('map', 60, 80, p=0.7)\n",
    "inst.appendMap(map)\n",
    "inst.setActiveMap('map')\n",
    "game.run()"
   ]
  },
  {
   "cell_type": "markdown",
   "metadata": {},
   "source": [
    "# auto-test"
   ]
  },
  {
   "cell_type": "code",
   "execution_count": null,
   "metadata": {},
   "outputs": [],
   "source": [
    "import dungeon_test\n",
    "from imp import reload\n",
    "reload(dungeon_test)\n",
    "\n",
    "from dungeon_test import *\n",
    "\n",
    "testAll()"
   ]
  }
 ],
 "metadata": {
  "kernelspec": {
   "display_name": "Python 3",
   "language": "python",
   "name": "python3"
  },
  "language_info": {
   "codemirror_mode": {
    "name": "ipython",
    "version": 3
   },
   "file_extension": ".py",
   "mimetype": "text/x-python",
   "name": "python",
   "nbconvert_exporter": "python",
   "pygments_lexer": "ipython3",
   "version": "3.7.3"
  }
 },
 "nbformat": 4,
 "nbformat_minor": 4
}
