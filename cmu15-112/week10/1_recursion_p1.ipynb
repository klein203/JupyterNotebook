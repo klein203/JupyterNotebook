{
 "cells": [
  {
   "cell_type": "markdown",
   "metadata": {},
   "source": [
    "1. Predict"
   ]
  },
  {
   "cell_type": "code",
   "execution_count": null,
   "metadata": {},
   "outputs": [],
   "source": [
    "# What will this print?\n",
    "def f(n):\n",
    "    if n == 0:\n",
    "        return \"boo!\"\n",
    "    else:\n",
    "        print(n)\n",
    "        return f(n-1)\n",
    "\n",
    "print(f(5))"
   ]
  },
  {
   "cell_type": "markdown",
   "metadata": {},
   "source": [
    "2. General Recursive Form\n",
    "\n",
    "`def recursiveFunction():\n",
    "    if (this is the base case):\n",
    "        do something non-recursive\n",
    "    else:\n",
    "        do something recursive`"
   ]
  },
  {
   "cell_type": "markdown",
   "metadata": {},
   "source": [
    "3. Basic Examples\n",
    "- listSum"
   ]
  },
  {
   "cell_type": "code",
   "execution_count": null,
   "metadata": {},
   "outputs": [],
   "source": [
    "# Problem: sum all of the numbers in a given list\n",
    "def listSum(L):\n",
    "    # Base Case: the list is empty, so the sum is 0\n",
    "    if (len(L) == 0):\n",
    "        return 0\n",
    "    else:\n",
    "        # Recursive Case: assume we already know the sum of the entire list\n",
    "        # after the first element. Add that sum to the first element.\n",
    "        return L[0] + listSum(L[1:])\n",
    "\n",
    "print(listSum([2,3,5,7,11])) # 28"
   ]
  },
  {
   "cell_type": "markdown",
   "metadata": {},
   "source": [
    "- rangeSum"
   ]
  },
  {
   "cell_type": "code",
   "execution_count": null,
   "metadata": {},
   "outputs": [],
   "source": [
    "# Problem: sum all of the numbers from lo to hi, inclusive\n",
    "def rangeSum(lo, hi):\n",
    "    if (lo > hi):\n",
    "        return 0\n",
    "    else:\n",
    "        return lo + rangeSum(lo+1, hi)\n",
    "\n",
    "print(rangeSum(10,15)) # 75"
   ]
  },
  {
   "cell_type": "markdown",
   "metadata": {},
   "source": [
    "- power"
   ]
  },
  {
   "cell_type": "code",
   "execution_count": null,
   "metadata": {},
   "outputs": [],
   "source": [
    "# Problem: raise the number base to the given exponent\n",
    "def power(base, expt):\n",
    "    # assume expt is non-negative integer\n",
    "    if (expt == 0):\n",
    "        return 1\n",
    "    else:\n",
    "        return base * power(base, expt-1)\n",
    "\n",
    "print(power(2,5)) # 32"
   ]
  },
  {
   "cell_type": "markdown",
   "metadata": {},
   "source": [
    "4. Multiple Base/Recursive Cases\n",
    "- power"
   ]
  },
  {
   "cell_type": "code",
   "execution_count": null,
   "metadata": {},
   "outputs": [],
   "source": [
    "def power(base, expt):\n",
    "    # This version allows for negative exponents\n",
    "    # It still assumes that expt is an integer, however.\n",
    "    if (expt == 0):\n",
    "        return 1\n",
    "    elif (expt < 0): # new recursive case!\n",
    "        return 1.0 / power(base, abs(expt))\n",
    "    else:\n",
    "        return base * power(base, expt-1)\n",
    "\n",
    "print(power(2,5)) # 32\n",
    "print(power(2,-5)) # 1/32 = 0.03125"
   ]
  },
  {
   "cell_type": "markdown",
   "metadata": {},
   "source": [
    "- interleave"
   ]
  },
  {
   "cell_type": "code",
   "execution_count": null,
   "metadata": {},
   "outputs": [],
   "source": [
    "def interleave(list1, list2):\n",
    "    # Allow for different-length lists\n",
    "    if (len(list1) == 0):\n",
    "        return list2\n",
    "    elif (len(list2) == 0): # new base case!\n",
    "        return list1\n",
    "    else:\n",
    "        return [list1[0] , list2[0]] + interleave(list1[1:], list2[1:])\n",
    "\n",
    "print(interleave([1,2],[3,4,5,6])) # [1,3,2,4,5,6]"
   ]
  },
  {
   "cell_type": "markdown",
   "metadata": {},
   "source": [
    "5. Practical Programming with Recursion\n",
    "- Infinite Recursion and Stack Overflow"
   ]
  },
  {
   "cell_type": "code",
   "execution_count": null,
   "metadata": {},
   "outputs": [],
   "source": [
    "def sumToN(n):\n",
    "    if n == 0:\n",
    "        return 0\n",
    "    else:\n",
    "        return n + sumToN(n-1)\n",
    "\n",
    "print(sumToN(3))  # 6 (works!)\n",
    "print(sumToN(-3)) # RecursionError: maximum recursion depth exceeded..."
   ]
  },
  {
   "cell_type": "markdown",
   "metadata": {},
   "source": [
    "- Recursive Debugging"
   ]
  },
  {
   "cell_type": "code",
   "execution_count": null,
   "metadata": {},
   "outputs": [],
   "source": [
    "def rangeSum(lo, hi, depth=0):\n",
    "    print(\"   \" * depth + \"rangeSum(\" + str(lo) + \", \" + str(hi) + \")\")\n",
    "    if depth == 10:\n",
    "        input(\"Pause (press enter to continue)\")\n",
    "    if (lo > hi):\n",
    "        result = 0\n",
    "    else:\n",
    "        result = lo + rangeSum(lo + 1, hi, depth + 1)\n",
    "    print(\"   \" * depth + \"-->\", result)\n",
    "    return result\n",
    "\n",
    "print(rangeSum(10, 30))"
   ]
  },
  {
   "cell_type": "markdown",
   "metadata": {},
   "source": [
    "- Wrapper Functions"
   ]
  },
  {
   "cell_type": "code",
   "execution_count": null,
   "metadata": {},
   "outputs": [],
   "source": [
    "# This time with a wrapper function that tracks the sum so far.\n",
    "def rangeSum(lo, hi):\n",
    "    return rangeSumHelper(lo, hi, 0)\n",
    "\n",
    "def rangeSumHelper(lo, hi, sumSoFar):\n",
    "    if (lo > hi):\n",
    "        return sumSoFar\n",
    "    else:\n",
    "        return rangeSumHelper(lo+1, hi, lo+sumSoFar)\n",
    "\n",
    "print(rangeSum(10,15)) # 75"
   ]
  },
  {
   "cell_type": "markdown",
   "metadata": {},
   "source": [
    "- Default Parameters\n",
    "\n",
    "Using default parameters in recursion"
   ]
  },
  {
   "cell_type": "code",
   "execution_count": null,
   "metadata": {},
   "outputs": [],
   "source": [
    "# Now with a default value instead of a wrapper function\n",
    "def rangeSum(lo, hi, sumSoFar=0):\n",
    "    if (lo > hi):\n",
    "        return sumSoFar\n",
    "    else:\n",
    "        return rangeSum(lo+1, hi, lo+sumSoFar)\n",
    "\n",
    "print(rangeSum(10,15)) # 75"
   ]
  },
  {
   "cell_type": "markdown",
   "metadata": {},
   "source": [
    "Do not use mutable default values (in recursion or elsewhere)"
   ]
  },
  {
   "cell_type": "code",
   "execution_count": null,
   "metadata": {},
   "outputs": [],
   "source": [
    "# This is a typical, clean way without wrapper functions or default values:\n",
    "def reverseList(L):\n",
    "    if (L == [ ]):\n",
    "        return [ ]\n",
    "    else:\n",
    "        return reverseList(L[1:]) + [L[0]]\n",
    "\n",
    "print(reverseList([2,3,4])) # [4, 3, 2] (it works!)\n",
    "print(reverseList([5,6,7])) # [7, 6, 5] (yup!)"
   ]
  },
  {
   "cell_type": "code",
   "execution_count": null,
   "metadata": {},
   "outputs": [],
   "source": [
    "# Warning: This is BROKEN because it uses a mutable default value\n",
    "def reverseList(L, reversedSoFar=[]):\n",
    "    if (L == [ ]):\n",
    "        return reversedSoFar\n",
    "    else:\n",
    "        reversedSoFar.insert(0, L[0])\n",
    "        return reverseList(L[1:], reversedSoFar)\n",
    "\n",
    "print(reverseList([2,3,4])) # [4, 3, 2] (it works the first time!)\n",
    "print(reverseList([5,6,7])) # [7, 6, 5, 4, 3, 2] <-- OH NO!!!"
   ]
  },
  {
   "cell_type": "markdown",
   "metadata": {},
   "source": [
    "Workarounds instead of mutable default values\n",
    "\n",
    "Do not mutate the default value"
   ]
  },
  {
   "cell_type": "code",
   "execution_count": null,
   "metadata": {},
   "outputs": [],
   "source": [
    "# Fix #1: just do not mutate it!\n",
    "def reverseList(L, reversedSoFar=[]):\n",
    "    if (L == [ ]):\n",
    "        return reversedSoFar\n",
    "    else:\n",
    "        # reversedSoFar.insert(0, L[0])\n",
    "        reversedSoFar = [L[0]] + reversedSoFar # this is nondestructive!\n",
    "        return reverseList(L[1:], reversedSoFar)\n",
    "\n",
    "print(reverseList([2,3,4])) # [4, 3, 2] (it works!)\n",
    "print(reverseList([5,6,7])) # [7, 6, 5] (and it works again!)"
   ]
  },
  {
   "cell_type": "markdown",
   "metadata": {},
   "source": [
    "Use `None` as the default value"
   ]
  },
  {
   "cell_type": "code",
   "execution_count": null,
   "metadata": {},
   "outputs": [],
   "source": [
    "# Fix #2: use None instead of [] and create a new list to start\n",
    "def reverseList(L, reversedSoFar=None):\n",
    "    if (reversedSoFar == None):\n",
    "        reversedSoFar = [ ] # this creates a new list each time!\n",
    "    if (L == [ ]):\n",
    "        return reversedSoFar\n",
    "    else:\n",
    "        reversedSoFar.insert(0, L[0])\n",
    "        return reverseList(L[1:], reversedSoFar)\n",
    "\n",
    "print(reverseList([2,3,4])) # [4, 3, 2] (it works!)\n",
    "print(reverseList([5,6,7])) # [7, 6, 5] (and it works again!)"
   ]
  },
  {
   "cell_type": "markdown",
   "metadata": {},
   "source": [
    "Use a wrapper function"
   ]
  },
  {
   "cell_type": "code",
   "execution_count": null,
   "metadata": {},
   "outputs": [],
   "source": [
    "# Fix #3: use a wrapper function instead of a default value\n",
    "def reverseList(L):\n",
    "    return reverseListHelper(L, [ ])\n",
    "\n",
    "def reverseListHelper(L, reversedSoFar):\n",
    "    if (L == [ ]):\n",
    "        return reversedSoFar\n",
    "    else:\n",
    "        reversedSoFar.insert(0, L[0])\n",
    "        return reverseListHelper(L[1:], reversedSoFar)\n",
    "\n",
    "print(reverseList([2,3,4])) # [4, 3, 2] (it works!)\n",
    "print(reverseList([5,6,7])) # [7, 6, 5] (and this also works again!)"
   ]
  },
  {
   "cell_type": "markdown",
   "metadata": {},
   "source": [
    "Use a different approach without default values\n",
    "\n",
    "In each example above, we started with a recursive function that did not use default values. It can be easier and cleaner to write your functions that way, when possible. And when it's not clear how to do that, then use wrapper functions or at least use None as a default value for mutable types."
   ]
  },
  {
   "cell_type": "markdown",
   "metadata": {},
   "source": [
    "6. Multiple Recursive Calls\n",
    "- listSum"
   ]
  },
  {
   "cell_type": "code",
   "execution_count": null,
   "metadata": {},
   "outputs": [],
   "source": [
    "# Technically we don't need multiple recursive calls here, but it's a nice simple example.\n",
    "# Sum the list by splitting it in half, then summing each half.\n",
    "def listSum(L):\n",
    "    if (len(L) == 0):\n",
    "        return 0\n",
    "    elif (len(L) == 1):\n",
    "        return L[0]\n",
    "    else:\n",
    "        mid = len(L)//2\n",
    "        return listSum(L[:mid]) + listSum(L[mid:])\n",
    "\n",
    "print(listSum([2,3,5,7,11])) # 28"
   ]
  },
  {
   "cell_type": "markdown",
   "metadata": {},
   "source": [
    "- fibonacci"
   ]
  },
  {
   "cell_type": "code",
   "execution_count": null,
   "metadata": {},
   "outputs": [],
   "source": [
    "# In the Fibonacci sequence, each element is the sum of the two\n",
    "# elements before it. This translates nicely into recursive code!\n",
    "def fib(n):\n",
    "    if (n < 2):\n",
    "        return 1 # note: fib(0) and fib(1) are both 1\n",
    "    else:\n",
    "        return fib(n-1) + fib(n-2)\n",
    "\n",
    "print([fib(n) for n in range(15)])"
   ]
  },
  {
   "cell_type": "markdown",
   "metadata": {},
   "source": [
    "- towersOfHanoi"
   ]
  },
  {
   "cell_type": "code",
   "execution_count": null,
   "metadata": {},
   "outputs": [],
   "source": [
    "# Tower of Hanoi is a classic logic problem\n",
    "# Read more here: https://en.wikipedia.org/wiki/Tower_of_Hanoi\n",
    "\n",
    "class Peg(object):\n",
    "    def __init__(self, name, discs=0):\n",
    "        self.name = name\n",
    "        self.discs = [ ] if (discs == 0) else list(range(discs, 0, -1))\n",
    "    \n",
    "    def __repr__(self):\n",
    "        return self.name + ':' + str(self.discs)\n",
    "\n",
    "def moveDiscs(discs, startPeg, endPeg, tempPeg):\n",
    "    if discs == 1:\n",
    "        # If you have only one disc, just move it!\n",
    "        disc = startPeg.discs.pop(0)\n",
    "        endPeg.discs.insert(0, disc)\n",
    "        print('Move', disc, 'from', startPeg.name, 'to', endPeg.name)\n",
    "        return 1\n",
    "    else:\n",
    "        numMoves = 0\n",
    "        # First, move the top N-1 discs to the temp peg\n",
    "        numMoves += moveDiscs(discs-1, startPeg, tempPeg, endPeg)\n",
    "\n",
    "        # Then move the bottom disc to the end peg\n",
    "        numMoves += moveDiscs(1, startPeg, endPeg, tempPeg)\n",
    "\n",
    "        # Then move the N-1 discs from the temp peg to the end peg\n",
    "        numMoves += moveDiscs(discs-1, tempPeg, endPeg, startPeg)\n",
    "\n",
    "        return numMoves\n",
    "\n",
    "# A wrapper function that sets up the other parameters based on pegs\n",
    "def towersOfHanoi(discs):\n",
    "    print('Solving Towers of Hanoi with', discs, 'discs!')\n",
    "    leftPeg = Peg('left', discs)\n",
    "    middlePeg = Peg('middle')\n",
    "    rightPeg = Peg('right')\n",
    "\n",
    "    print('Start state:', [leftPeg, middlePeg, rightPeg])\n",
    "    n = moveDiscs(discs, leftPeg, rightPeg, middlePeg)\n",
    "    print('Discs moved:', n)\n",
    "    print('End state:  ', [leftPeg, middlePeg, rightPeg])\n",
    "\n",
    "towersOfHanoi(3)"
   ]
  },
  {
   "cell_type": "markdown",
   "metadata": {},
   "source": [
    "- mergeSort"
   ]
  },
  {
   "cell_type": "code",
   "execution_count": null,
   "metadata": {},
   "outputs": [],
   "source": [
    "def merge(A, B):\n",
    "    # beautiful, but impractical for large N\n",
    "    if ((len(A) == 0) or (len(B) == 0)):\n",
    "        return A+B\n",
    "    else:\n",
    "        if (A[0] < B[0]):\n",
    "            return [A[0]] + merge(A[1:], B)\n",
    "        else:\n",
    "            return [B[0]] + merge(A, B[1:])"
   ]
  },
  {
   "cell_type": "code",
   "execution_count": null,
   "metadata": {},
   "outputs": [],
   "source": [
    "def merge(A, B):\n",
    "    # iterative (ugh) and destructive (double ugh), but practical...\n",
    "    C = [ ]\n",
    "    i = j = 0\n",
    "    while ((i < len(A)) or (j < len(B))):\n",
    "        if ((j == len(B)) or ((i < len(A)) and (A[i] <= B[j]))):\n",
    "            C.append(A[i])\n",
    "            i += 1\n",
    "        else:\n",
    "            C.append(B[j])\n",
    "            j += 1\n",
    "    return C\n",
    "\n",
    "def mergeSort(L):\n",
    "    if (len(L) < 2):\n",
    "        return L\n",
    "    else:\n",
    "        # No need for complicated loops- just merge sort each half, then merge!\n",
    "        mid = len(L)//2\n",
    "        left = mergeSort(L[:mid])\n",
    "        right = mergeSort(L[mid:])\n",
    "        return merge(left, right)\n",
    "\n",
    "print(mergeSort([1,5,3,4,2,0]))"
   ]
  },
  {
   "cell_type": "markdown",
   "metadata": {},
   "source": [
    "- quickSort"
   ]
  },
  {
   "cell_type": "code",
   "execution_count": null,
   "metadata": {},
   "outputs": [],
   "source": [
    "# In Quick Sort, select an element to pivot around, organize all elements to\n",
    "# the left and right of the pivot, then Quick Sort each side.\n",
    "def quickSort(L):\n",
    "    if (len(L) < 2):\n",
    "        return L\n",
    "    else:\n",
    "        first = L[0]  # pivot\n",
    "        rest = L[1:]\n",
    "        lo = [x for x in rest if x < first]\n",
    "        hi = [x for x in rest if x >= first]\n",
    "        return quickSort(lo) + [first] + quickSort(hi)\n",
    "\n",
    "print(quickSort([1,5,3,4,2,0]))"
   ]
  },
  {
   "cell_type": "markdown",
   "metadata": {},
   "source": [
    "7. Combining Iteration and Recursion\n",
    "- powerset"
   ]
  },
  {
   "cell_type": "code",
   "execution_count": null,
   "metadata": {},
   "outputs": [],
   "source": [
    "# Problem: given a list a, return a list with all the possible subsets of a.\n",
    "\n",
    "def powerset(a):\n",
    "    # Base case: the only possible subset of an empty list is the empty list.\n",
    "    if (len(a) == 0):\n",
    "        return [ [] ]\n",
    "    else:\n",
    "        # Recursive Case: remove the first element, then find all subsets of the\n",
    "        # remaining list. Then for each subset, use two versions of that subset:\n",
    "        # one without the first element, and another one with it.\n",
    "\n",
    "        partialSubsets = powerset(a[1:])\n",
    "        allSubsets = [ ]\n",
    "        for subset in partialSubsets:\n",
    "            allSubsets.append(subset)\n",
    "            allSubsets.append([a[0]] + subset)\n",
    "        return allSubsets\n",
    "\n",
    "print(powerset([1,2,3]))"
   ]
  },
  {
   "cell_type": "markdown",
   "metadata": {},
   "source": [
    "- permutations"
   ]
  },
  {
   "cell_type": "code",
   "execution_count": null,
   "metadata": {},
   "outputs": [],
   "source": [
    "# Problem: given a list a, find all possible permutations (orderings) of the\n",
    "# elements of a\n",
    "\n",
    "def permutations(a):\n",
    "    # Base Case: the only permutation of an empty list is the empty list\n",
    "    if (len(a) == 0):\n",
    "        return [ [] ]\n",
    "    else:\n",
    "        # Recursive Case: remove the first element, then find all possible\n",
    "        # permutations of the remaining elements. For each permutation,\n",
    "        # insert a into every possible position in that permutation.\n",
    "\n",
    "        partialPermutations = permutations(a[1:])\n",
    "        allPerms = [ ]\n",
    "        for perm in partialPermutations:\n",
    "            for i in range(len(perm) + 1):\n",
    "                allPerms.append(perm[:i] + [ a[0] ] + perm[i:])\n",
    "        return allPerms\n",
    "\n",
    "print(permutations([1,2,3]))"
   ]
  },
  {
   "cell_type": "code",
   "execution_count": null,
   "metadata": {},
   "outputs": [],
   "source": [
    "# Alternative Approach: choose each element as the starting element of the\n",
    "# permutation, then find all possible permutations of the rest.\n",
    "\n",
    "def permutations(a):\n",
    "    if (len(a) == 0):\n",
    "        return [ [] ]\n",
    "    else:\n",
    "        allPerms = [ ]\n",
    "        for i in range(len(a)):\n",
    "            partialPermutations = permutations(a[:i] + a[i+1:])\n",
    "            for perm in partialPermutations:\n",
    "                allPerms.append([ a[i] ] + perm)\n",
    "        return allPerms\n",
    "\n",
    "print(permutations([1,2,3]))"
   ]
  },
  {
   "cell_type": "markdown",
   "metadata": {},
   "source": [
    "8. Iteration vs. Recursion\n",
    "- factorial"
   ]
  },
  {
   "cell_type": "code",
   "execution_count": null,
   "metadata": {},
   "outputs": [],
   "source": [
    "def factorial(n):\n",
    "    result = 1\n",
    "    for i in range(2, n + 1):\n",
    "        result *= i\n",
    "    return result\n",
    "\n",
    "print(factorial(5))"
   ]
  },
  {
   "cell_type": "code",
   "execution_count": null,
   "metadata": {},
   "outputs": [],
   "source": [
    "def factorial(n):\n",
    "    if (n < 2):\n",
    "        return 1\n",
    "    else:\n",
    "        return n * factorial(n - 1)\n",
    "\n",
    "print(factorial(5))"
   ]
  },
  {
   "cell_type": "markdown",
   "metadata": {},
   "source": [
    "- reverse"
   ]
  },
  {
   "cell_type": "code",
   "execution_count": null,
   "metadata": {},
   "outputs": [],
   "source": [
    "def reverse(s):\n",
    "    reverse = \"\"\n",
    "    for ch in s:\n",
    "        reverse = ch + reverse\n",
    "    return reverse\n",
    "\n",
    "\n",
    "print(reverse(\"abcd\"))"
   ]
  },
  {
   "cell_type": "code",
   "execution_count": null,
   "metadata": {},
   "outputs": [],
   "source": [
    "def reverse(s):\n",
    "    if (len(s) < 2):\n",
    "        return s\n",
    "    else:\n",
    "        mid = len(s)//2\n",
    "        return reverse(s[mid:]) + reverse(s[:mid])\n",
    "\n",
    "print(reverse(\"abcd\"))"
   ]
  },
  {
   "cell_type": "markdown",
   "metadata": {},
   "source": [
    "- digitSum"
   ]
  },
  {
   "cell_type": "code",
   "execution_count": null,
   "metadata": {},
   "outputs": [],
   "source": [
    "def digitSum(n):\n",
    "    if n < 0:\n",
    "        n = abs(n)\n",
    "    result = 0\n",
    "    while n > 0:\n",
    "        result += n % 10\n",
    "        n = n // 10\n",
    "    return result\n",
    "\n",
    "print(digitSum(-12345))"
   ]
  },
  {
   "cell_type": "code",
   "execution_count": null,
   "metadata": {},
   "outputs": [],
   "source": [
    "def digitSum(n):\n",
    "    if (n < 0):\n",
    "        return digitSum(abs(n))\n",
    "    elif (n < 10):\n",
    "        return n\n",
    "    else:\n",
    "        return (n % 10) + digitSum(n // 10)\n",
    "\n",
    "\n",
    "print(digitSum(-12345))"
   ]
  },
  {
   "cell_type": "markdown",
   "metadata": {},
   "source": [
    "- gcd"
   ]
  },
  {
   "cell_type": "code",
   "execution_count": null,
   "metadata": {},
   "outputs": [],
   "source": [
    "def gcd(x, y):\n",
    "    while (y > 0):\n",
    "        (x, y) = (y, x % y)\n",
    "    return x\n",
    "\n",
    "\n",
    "print(gcd(500, 420)) # 20"
   ]
  },
  {
   "cell_type": "code",
   "execution_count": null,
   "metadata": {},
   "outputs": [],
   "source": [
    "def gcd(x, y):\n",
    "    if (y == 0):\n",
    "        return x\n",
    "    else:\n",
    "        return gcd(y, x % y)\n",
    "\n",
    "print(gcd(500, 420)) # 20"
   ]
  },
  {
   "cell_type": "markdown",
   "metadata": {},
   "source": [
    "9. Popular Recursion\n",
    "- \"Recursion\": See \"Recursion\".\n",
    "- Google search: Recursion\n",
    "- Recursion comic: http://xkcd.com/244/\n",
    "- Droste Effect: See the Wikipedia page and this Google image search\n",
    "- Fractals: See the Wikipedia page and this Google image search and this infinitely-zooming video\n",
    "- The Chicken and Egg Problem (mutual recursion)\n",
    "- Sourdough Recipe: First, start with some sourdough, then...\n",
    "- Books: Godel, Escher, Bach; Metamagical Themas;\n",
    "- Wikipedia page on Recursion: See here."
   ]
  }
 ],
 "metadata": {
  "kernelspec": {
   "display_name": "Python 3",
   "language": "python",
   "name": "python3"
  },
  "language_info": {
   "codemirror_mode": {
    "name": "ipython",
    "version": 3
   },
   "file_extension": ".py",
   "mimetype": "text/x-python",
   "name": "python",
   "nbconvert_exporter": "python",
   "pygments_lexer": "ipython3",
   "version": "3.7.3"
  }
 },
 "nbformat": 4,
 "nbformat_minor": 4
}
