{
 "cells": [
  {
   "cell_type": "code",
   "execution_count": null,
   "metadata": {},
   "outputs": [
    {
     "name": "stdin",
     "output_type": "stream",
     "text": [
      "Enter number of players: 2\n",
      "Enter name of player #1: Klein\n",
      "Enter name of player #2: Tom\n"
     ]
    },
    {
     "name": "stdout",
     "output_type": "stream",
     "text": [
      "Game start!\n",
      "Player Klein's turn:\n",
      "Dice! 6\n",
      "Total score: 0, This turn: 6, last dice: 6\n"
     ]
    },
    {
     "name": "stdin",
     "output_type": "stream",
     "text": [
      "press <enter> to go on, press <'hold'> to hold this turn \n"
     ]
    },
    {
     "name": "stdout",
     "output_type": "stream",
     "text": [
      "Dice! 5\n",
      "Total score: 0, This turn: 11, last dice: 5\n"
     ]
    },
    {
     "name": "stdin",
     "output_type": "stream",
     "text": [
      "press <enter> to go on, press <'hold'> to hold this turn \n"
     ]
    },
    {
     "name": "stdout",
     "output_type": "stream",
     "text": [
      "Dice! 3\n",
      "Total score: 0, This turn: 14, last dice: 3\n"
     ]
    },
    {
     "name": "stdin",
     "output_type": "stream",
     "text": [
      "press <enter> to go on, press <'hold'> to hold this turn \n"
     ]
    },
    {
     "name": "stdout",
     "output_type": "stream",
     "text": [
      "Dice! 5\n",
      "Total score: 0, This turn: 19, last dice: 5\n"
     ]
    },
    {
     "name": "stdin",
     "output_type": "stream",
     "text": [
      "press <enter> to go on, press <'hold'> to hold this turn hold\n"
     ]
    },
    {
     "name": "stdout",
     "output_type": "stream",
     "text": [
      "You hold the turn, save all scores this turn, total score: 19\n",
      "Player Tom's turn:\n",
      "Dice! 6\n",
      "Total score: 0, This turn: 6, last dice: 6\n"
     ]
    }
   ],
   "source": [
    "import hw2\n",
    "import cs112_f19_week2_linter\n",
    "from imp import reload\n",
    "reload(hw2)\n",
    "\n",
    "# cs112_f19_week2_linter.lint(filename='hw2.py')\n",
    "# hw2.testAll()\n",
    "hw2.playPig()"
   ]
  },
  {
   "cell_type": "code",
   "execution_count": 9,
   "metadata": {},
   "outputs": [
    {
     "name": "stdout",
     "output_type": "stream",
     "text": [
      "4\n",
      "2\n",
      "6\n",
      "1\n",
      "3\n",
      "5\n",
      "1\n",
      "1\n",
      "6\n",
      "6\n",
      "1\n",
      "5\n",
      "4\n",
      "3\n",
      "3\n",
      "3\n",
      "3\n",
      "6\n",
      "1\n",
      "4\n",
      "4\n",
      "5\n",
      "3\n",
      "4\n",
      "5\n",
      "6\n",
      "4\n",
      "2\n",
      "5\n",
      "6\n",
      "3\n",
      "5\n",
      "6\n",
      "5\n",
      "6\n",
      "1\n",
      "6\n",
      "2\n",
      "6\n",
      "1\n",
      "6\n",
      "2\n",
      "5\n",
      "1\n",
      "4\n",
      "3\n",
      "5\n",
      "4\n",
      "3\n",
      "5\n",
      "1\n",
      "2\n",
      "1\n",
      "3\n",
      "1\n",
      "6\n",
      "6\n",
      "3\n",
      "1\n",
      "1\n",
      "6\n",
      "2\n",
      "2\n",
      "6\n",
      "4\n",
      "5\n",
      "2\n",
      "4\n",
      "6\n",
      "2\n",
      "4\n",
      "3\n",
      "1\n",
      "6\n",
      "2\n",
      "1\n",
      "1\n",
      "3\n",
      "1\n",
      "1\n",
      "3\n",
      "5\n",
      "4\n",
      "3\n",
      "3\n",
      "5\n",
      "3\n",
      "5\n",
      "5\n",
      "2\n",
      "6\n",
      "4\n",
      "4\n",
      "2\n",
      "1\n",
      "3\n",
      "6\n",
      "6\n",
      "6\n",
      "3\n"
     ]
    }
   ],
   "source": [
    "import random\n",
    "for i in range(100):\n",
    "    print(random.randint(1, 6))"
   ]
  }
 ],
 "metadata": {
  "kernelspec": {
   "display_name": "Python 3",
   "language": "python",
   "name": "python3"
  },
  "language_info": {
   "codemirror_mode": {
    "name": "ipython",
    "version": 3
   },
   "file_extension": ".py",
   "mimetype": "text/x-python",
   "name": "python",
   "nbconvert_exporter": "python",
   "pygments_lexer": "ipython3",
   "version": "3.7.3"
  }
 },
 "nbformat": 4,
 "nbformat_minor": 4
}
