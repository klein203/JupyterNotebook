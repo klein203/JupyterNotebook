{
 "cells": [
  {
   "cell_type": "markdown",
   "metadata": {},
   "source": [
    "- The Problem: We Have a Bug!"
   ]
  },
  {
   "cell_type": "code",
   "execution_count": null,
   "metadata": {},
   "outputs": [
    {
     "name": "stdout",
     "output_type": "stream",
     "text": [
      "The next line will hang (run forever):\n"
     ]
    }
   ],
   "source": [
    "# THIS CODE HAS A BUG (ON PURPOSE)!!!!\n",
    "\n",
    "# When you run it, it will hang (run forever)!!!!\n",
    "\n",
    "def isPrime(n):\n",
    "    if (n < 2):\n",
    "        return False\n",
    "    if (n == 2):\n",
    "        return True\n",
    "    if (n % 2 == 0):\n",
    "        return False\n",
    "    maxFactor = round(n**0.5)\n",
    "    for factor in range(3,maxFactor+1,2):\n",
    "        if (n % factor == 0):\n",
    "            return False\n",
    "    return True\n",
    "\n",
    "def nthPrime(n):\n",
    "    found = 0\n",
    "    guess = 0\n",
    "    while (found <= n):\n",
    "        guess += 1\n",
    "        if (isPrime(guess)):\n",
    "            found + 1\n",
    "    return guess\n",
    "\n",
    "print('The next line will hang (run forever):')\n",
    "print(nthPrime(5))"
   ]
  },
  {
   "cell_type": "markdown",
   "metadata": {},
   "source": [
    "- A Helpful Approach: Print Statement Debugging"
   ]
  },
  {
   "cell_type": "code",
   "execution_count": null,
   "metadata": {},
   "outputs": [],
   "source": [
    "# THIS CODE STILL HAS A BUG (ON PURPOSE)!!!!\n",
    "\n",
    "# When you run it, it will hang (run forever)!!!!\n",
    "\n",
    "def isPrime(n):\n",
    "    if (n < 2):\n",
    "        return False\n",
    "    if (n == 2):\n",
    "        return True\n",
    "    if (n % 2 == 0):\n",
    "        return False\n",
    "    maxFactor = round(n**0.5)\n",
    "    for factor in range(3,maxFactor+1,2):\n",
    "        if (n % factor == 0):\n",
    "            return False\n",
    "    return True\n",
    "\n",
    "def nthPrime(n):\n",
    "    found = 0\n",
    "    guess = 0\n",
    "    while (found <= n):\n",
    "        print(guess, found) ### <--- THIS is our well-placed print statement!\n",
    "        guess += 1\n",
    "        if (isPrime(guess)):\n",
    "            found + 1\n",
    "    return guess\n",
    "\n",
    "print('The next line will hang (run forever):')\n",
    "print(nthPrime(5))"
   ]
  },
  {
   "cell_type": "markdown",
   "metadata": {},
   "source": [
    "- Even Better: Print Statement Debugging with locals() + input()"
   ]
  },
  {
   "cell_type": "code",
   "execution_count": null,
   "metadata": {},
   "outputs": [],
   "source": [
    "# THIS CODE STILL HAS A BUG (ON PURPOSE)!!!!\n",
    "\n",
    "# When you run it, it will hang (run forever)!!!!\n",
    "\n",
    "def isPrime(n):\n",
    "    if (n < 2):\n",
    "        return False\n",
    "    if (n == 2):\n",
    "        return True\n",
    "    if (n % 2 == 0):\n",
    "        return False\n",
    "    maxFactor = round(n**0.5)\n",
    "    for factor in range(3,maxFactor+1,2):\n",
    "        if (n % factor == 0):\n",
    "            return False\n",
    "    return True\n",
    "\n",
    "def nthPrime(n):\n",
    "    found = 0\n",
    "    guess = 0\n",
    "    while (found <= n):\n",
    "        print(locals()) ### <--- THIS is our well-placed print statement!\n",
    "        input()         ### <--- THIS pauses until we hit Enter. Sweet!\n",
    "        guess += 1\n",
    "        if (isPrime(guess)):\n",
    "            found + 1\n",
    "    return guess\n",
    "\n",
    "print('The next line will hang (run forever):')\n",
    "print(nthPrime(5))"
   ]
  }
 ],
 "metadata": {
  "kernelspec": {
   "display_name": "Python 3",
   "language": "python",
   "name": "python3"
  },
  "language_info": {
   "codemirror_mode": {
    "name": "ipython",
    "version": 3
   },
   "file_extension": ".py",
   "mimetype": "text/x-python",
   "name": "python",
   "nbconvert_exporter": "python",
   "pygments_lexer": "ipython3",
   "version": "3.7.3"
  }
 },
 "nbformat": 4,
 "nbformat_minor": 4
}
