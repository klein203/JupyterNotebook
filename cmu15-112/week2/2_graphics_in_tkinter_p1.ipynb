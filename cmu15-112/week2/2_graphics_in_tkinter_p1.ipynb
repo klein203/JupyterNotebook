{
 "cells": [
  {
   "cell_type": "markdown",
   "metadata": {},
   "source": [
    "# Part 1\n",
    "1. Create an Empty Canvas"
   ]
  },
  {
   "cell_type": "code",
   "execution_count": 1,
   "metadata": {},
   "outputs": [
    {
     "name": "stdout",
     "output_type": "stream",
     "text": [
      "bye!\n"
     ]
    }
   ],
   "source": [
    "from tkinter import *\n",
    "\n",
    "def draw(canvas, width, height):\n",
    "    pass # replace with your drawing code!\n",
    "\n",
    "def runDrawing(width=300, height=300):\n",
    "    root = Tk()\n",
    "    root.resizable(width=False, height=False) # prevents resizing window\n",
    "    canvas = Canvas(root, width=width, height=height)\n",
    "    canvas.configure(bd=0, highlightthickness=0)\n",
    "    canvas.pack()\n",
    "    draw(canvas, width, height)\n",
    "    root.mainloop()\n",
    "    print(\"bye!\")\n",
    "\n",
    "runDrawing(400, 200)"
   ]
  },
  {
   "cell_type": "markdown",
   "metadata": {},
   "source": [
    "2. Canvas Coordinates\n",
    "\n",
    "We refer to pixels on the canvas in terms of x,y coordinates. However, the graphics canvas has one major difference from math coordinate planes: the y axis grows down instead of up. Thus, (0, 0) is at the top left corner of the canvas."
   ]
  },
  {
   "cell_type": "markdown",
   "metadata": {},
   "source": [
    "3. Draw a Line"
   ]
  },
  {
   "cell_type": "code",
   "execution_count": 2,
   "metadata": {},
   "outputs": [],
   "source": [
    "def draw(canvas, width, height):\n",
    "    # create_line(x1, y1, x2, y2) draws a line from (x1, y1) to (x2, y2)\n",
    "    canvas.create_line(25, 50, width/2, height/2)"
   ]
  }
 ],
 "metadata": {
  "kernelspec": {
   "display_name": "Python 3",
   "language": "python",
   "name": "python3"
  },
  "language_info": {
   "codemirror_mode": {
    "name": "ipython",
    "version": 3
   },
   "file_extension": ".py",
   "mimetype": "text/x-python",
   "name": "python",
   "nbconvert_exporter": "python",
   "pygments_lexer": "ipython3",
   "version": "3.7.3"
  }
 },
 "nbformat": 4,
 "nbformat_minor": 4
}
