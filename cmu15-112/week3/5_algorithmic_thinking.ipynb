{
 "cells": [
  {
   "cell_type": "markdown",
   "metadata": {},
   "source": [
    "1. Lecture Video\n",
    "2. Optional Reading\n",
    "3. Problem Solving with Programming\n",
    "- Understand the Problem (read the prompt!)\n",
    "  - Define the problem precisely.\n",
    "  - Generate test cases based on the prompt, or carefully read through test cases if they're provided.\n",
    "  - Make sure you can restate the problem in your own words, or explain it to someone else.\n",
    "- Devise a Plan (solve the problem without programming!)\n",
    "  - Identify what level of problem-solving will be required for the problem. Is the prompt asking you to...\n",
    "    - Translate a provided algorithm into code? You can skip to the Step 3.\n",
    "    - Apply a known algorithm pattern to the problem? You can skip to Step 2.4.\n",
    "    - Generate an algorithm to solve a problem? Keep reading!\n",
    "  - Use problem-solving strategies to build an algorithmic approach. There are several strategies you can apply while trying to solve a problem. Here are three common programming strategies:\n",
    "    - Induction: Investigate several examples (test cases) to find a pattern that can be generalized into an algorithm.\n",
    "    - Top-Down Design: Break down a complex problem into several simpler problems, then solve each of the simpler problems individually. See more here\n",
    "    - Human Computer: Pretend that you need to carry out the task by hand. Determine the steps you would take in order to complete the task.\n",
    "  - Compare possible alternative algorithms. Algorithms can be ranked based on many features, including:\n",
    "    - Clarity: How clear is the approach to you?\n",
    "    - Simplicity: How straightforward will the approach be to implement?\n",
    "    - Efficiency: How much work will the algorithm need to do?\n",
    "    - Generality: How well will this algorithm adapt to new inputs?\n",
    "    - Future concerns (after more CS courses): usability, accessibility, security, privacy, testability, reliability, scalability, compatibility, extensibility, durability, maintainability, portability, provability, ...\n",
    "  - Choose an algorithm and write your solution so it is amenable to being translated into code. You shouldn't write in code or even pseudocode yet, but you should use explicit, small, and clear steps that do not require human ingenuity, intuition, or memory.\n",
    "    - If you need to remember a thing, give it a name- those names will later become variables.\n",
    "- Carry out the Plan (translate your solution into code)\n",
    "  - Write the test cases that you generated in Step 1.\n",
    "  - Translate your manual solutions from above, step by step, into code. If you already know how to translate a step into code, do so! Otherwise:\n",
    "    - Review the relevant course materials to find a programming tool that approximately meets your need.\n",
    "    - Experiment with that programming tool in the interpreter until you understand how it works.\n",
    "    - Apply the new concept to the step in your algorithm.\n",
    "  - Run your function on a test input to make sure it works. If your code has a syntax or runtime error, use debugging to identify the problem and fix it.\n",
    "- Review your Work (test your code)\n",
    "  - Run your test cases on the code to make sure they all pass. If a test case fails, use debugging to identify the algorithmic problem and fix it.\n",
    "  - Once all test cases pass, read over your code and make sure it makes sense based on common sense.\n",
    "  - (After the deadline) Discuss and compare your solution with others to learn about alternative approaches to solving the problem.\n",
    "4. Programming Patterns\n",
    "- There are many algorithmic patterns that appear in various problems, patterns which can be adapted to suit new circumstances at need. We'll see many of these patterns in class; for now, here are a few common patterns from the first weeks of class.\n",
    "5. Top-Down Design\n",
    "- We often ask you to solve problems that are too complicated to be solved by one function alone. In these cases, you will need to break the problem down into sub-problems that can be mapped directly to helper functions.\n",
    "- To identify a sub-problem, start writing the algorithm out. When you get to a step that seems too complicated, imagine you have a helper function that can solve that step. If you can write the function by including a call to this imaginary function, you've taken a step towards solving the problem! The process can then be repeated on the helper functions until the solution is complete.\n",
    "- When testing multi-function problems, test the simplest functions first. It's important to ensure that your helper functions are working before you move on to test the main function.\n",
    "6. Practice\n",
    "- In the end, the best way to learn problem solving is to practice with feedback. If you're struggling with problem solving, ask a TA or a friend to sit with you while you while you work through designing algorithms for practice problems, or ask them to demonstrate how they approach problem solving themselves. Practice should eventually lead to better understanding of how to approach problem solving in general."
   ]
  }
 ],
 "metadata": {
  "kernelspec": {
   "display_name": "Python 3",
   "language": "python",
   "name": "python3"
  },
  "language_info": {
   "codemirror_mode": {
    "name": "ipython",
    "version": 3
   },
   "file_extension": ".py",
   "mimetype": "text/x-python",
   "name": "python",
   "nbconvert_exporter": "python",
   "pygments_lexer": "ipython3",
   "version": "3.7.3"
  }
 },
 "nbformat": 4,
 "nbformat_minor": 4
}
