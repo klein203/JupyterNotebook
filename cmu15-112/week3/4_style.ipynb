{
 "cells": [
  {
   "cell_type": "markdown",
   "metadata": {},
   "source": [
    "- Good style is...\n",
    "  - Both an art and a science.\n",
    "  - Open to some debate, yet mostly agreed upon.\n",
    "  - The product of years of suffering due to bad style.\n",
    "- Good style reduces time spent debugging, and...\n",
    "  - Around 75% of a developer's time is spent debugging (source)\n",
    "  - Fixing a bug takes 30 times longer than writing a line of code (source)\n",
    "- Good style reduces errors, and...\n",
    "  - Software errors cost the global economy over $300 billion annually in 2013! (source)\n",
    "  - Software errors have resulted in many spectacular failures (source)\n",
    "- Some Style Guides (which are not OUR style guide):\n",
    "  - The Official PEP-8 Python Style Guide\n",
    "  - Google Python Style Guide\n",
    "  - Many, many others...\n"
   ]
  },
  {
   "cell_type": "markdown",
   "metadata": {},
   "source": [
    "# 15-112 Style Rubric\n",
    "1. Clarity Rules\n",
    "- Ownership\n",
    "- Comments\n",
    "- Helper Functions (Top-Down Design)\n",
    "- Variable Names\n",
    "- Unused Code\n",
    "- Formatting\n",
    "2. Robustness Rules\n",
    "- Test Functions\n",
    "- Efficiency\n",
    "- Repetitive Code\n",
    "- Magic Numbers\n",
    "- If/Else Statements\n",
    "- Global Variables"
   ]
  }
 ],
 "metadata": {
  "kernelspec": {
   "display_name": "Python 3",
   "language": "python",
   "name": "python3"
  },
  "language_info": {
   "codemirror_mode": {
    "name": "ipython",
    "version": 3
   },
   "file_extension": ".py",
   "mimetype": "text/x-python",
   "name": "python",
   "nbconvert_exporter": "python",
   "pygments_lexer": "ipython3",
   "version": "3.7.3"
  }
 },
 "nbformat": 4,
 "nbformat_minor": 4
}
