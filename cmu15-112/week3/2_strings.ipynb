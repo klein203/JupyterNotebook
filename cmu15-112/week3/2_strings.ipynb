{
 "cells": [
  {
   "cell_type": "markdown",
   "metadata": {},
   "source": [
    "1. String Literals\n",
    "- Four kinds of quotes"
   ]
  },
  {
   "cell_type": "code",
   "execution_count": null,
   "metadata": {},
   "outputs": [],
   "source": [
    "# Quotes enclose characters to tell Python \"this is a string!\"\n",
    "# single-quoted or double-quoted strings are the most common\n",
    "print('single-quotes')\n",
    "print(\"double-quotes\")\n",
    "\n",
    "# triple-quoted strings are less common (though see next section for a typical use)\n",
    "print('''triple single-quotes''')\n",
    "print(\"\"\"triple double-quotes\"\"\")\n",
    "\n",
    "# The reason we have multiple kinds of quotes is partly so we can have strings like:\n",
    "print('The professor said \"No laptops in class!\" I miss my laptop.')"
   ]
  },
  {
   "cell_type": "code",
   "execution_count": null,
   "metadata": {},
   "outputs": [],
   "source": [
    "# See what happens if we only use one kind of quote.\n",
    "# It causes a syntax error! We don't even know how to color this.\n",
    "print(\"The professor said \"No laptops in class!\" I miss my laptop.\")"
   ]
  },
  {
   "cell_type": "markdown",
   "metadata": {},
   "source": [
    "- Newlines in strings"
   ]
  },
  {
   "cell_type": "code",
   "execution_count": null,
   "metadata": {},
   "outputs": [],
   "source": [
    "# A character preceded by a backslash, like \\n, is an 'escape sequence'.\n",
    "# Even though it looks like two characters, Python treats it as one special character.\n",
    "\n",
    "# Note that these two print statements do the same thing!\n",
    "print(\"abc\\ndef\")  # \\n is a single newline character.\n",
    "print(\"\"\"abc\n",
    "def\"\"\")\n",
    "\n",
    "print(\"\"\"\\\n",
    "You can use a backslash at the end of a line in a string to exclude\n",
    "the newline after it. This should almost never be used, but one good\n",
    "use of it is in this example, at the start of a multi-line string, so\n",
    "the whole string can be entered with the same indentation (none, that is).\n",
    "\"\"\")"
   ]
  },
  {
   "cell_type": "markdown",
   "metadata": {},
   "source": [
    "- More Escape Sequences"
   ]
  },
  {
   "cell_type": "code",
   "execution_count": null,
   "metadata": {},
   "outputs": [],
   "source": [
    "print(\"Double-quote: \\\"\")\n",
    "print(\"Backslash: \\\\\")\n",
    "print(\"Newline (in brackets): [\\n]\")\n",
    "print(\"Tab (in brackets): [\\t]\")\n",
    "\n",
    "print(\"These items are tab-delimited, 3-per-line:\")\n",
    "print(\"abc\\tdef\\tg\\nhi\\tj\\\\\\tk\\n---\")"
   ]
  },
  {
   "cell_type": "code",
   "execution_count": null,
   "metadata": {},
   "outputs": [],
   "source": [
    "s = \"a\\\\b\\\"c\\td\"\n",
    "print(\"s =\", s)\n",
    "print(\"len(s) =\", len(s))"
   ]
  },
  {
   "cell_type": "markdown",
   "metadata": {},
   "source": [
    "- repr() vs. print()"
   ]
  },
  {
   "cell_type": "code",
   "execution_count": null,
   "metadata": {},
   "outputs": [],
   "source": [
    "print(\"These look the same when we print them!\")\n",
    "s1=\"abc\\tdef\"\n",
    "s2=\"abc  def\"\n",
    "\n",
    "print(\"print s1: \",s1)\n",
    "print(\"print s2: \",s2)\n",
    "\n",
    "print(\"\\nThey aren't really though...\")\n",
    "print(\"s1==s2?\", s1==s2)\n",
    "\n",
    "print(\"\\nLet's try repr instead\")\n",
    "print(\"repr s1: \",repr(s1))\n",
    "print(\"repr s2: \",repr(s2))\n",
    "\n",
    "print(\"\\nHere's a sneaky one\")\n",
    "s1=\"abcdef\"\n",
    "s2=\"abcdef             \\t\"\n",
    "\n",
    "print(\"print s1: \",s1)\n",
    "print(\"print s2: \",s2)\n",
    "\n",
    "print(\"s1==s2?\", s1==s2)\n",
    "\n",
    "print(\"repr s1: \",repr(s1))\n",
    "print(\"repr s2: \",repr(s2))\n",
    "print(\"repr() lets you see the spaces^^^\")"
   ]
  },
  {
   "cell_type": "markdown",
   "metadata": {},
   "source": [
    "- String Literals as Multi-line Comments"
   ]
  },
  {
   "cell_type": "code",
   "execution_count": null,
   "metadata": {},
   "outputs": [],
   "source": [
    "\"\"\"\n",
    "Python does not have multiline comments, but you can do something similar\n",
    "by using a top-level multiline string, such as this. Technically, this is\n",
    "not a comment, and Python will evaluate this string, but then ignore it\n",
    "and garbage collect it!\n",
    "\"\"\"\n",
    "print(\"wow!\")"
   ]
  },
  {
   "cell_type": "markdown",
   "metadata": {},
   "source": [
    "2. Some String Constants"
   ]
  },
  {
   "cell_type": "code",
   "execution_count": null,
   "metadata": {},
   "outputs": [],
   "source": [
    "import string\n",
    "print(string.ascii_letters)   # abcdefghijklmnopqrstuvwxyzABCDEFGHIJKLMNOPQRSTUVWXYZ\n",
    "print(string.ascii_lowercase) # abcdefghijklmnopqrstuvwxyz\n",
    "print(\"-----------\")\n",
    "print(string.ascii_uppercase) # ABCDEFGHIJKLMNOPQRSTUVWXYZ\n",
    "print(string.digits)          # 0123456789\n",
    "print(\"-----------\")\n",
    "print(string.punctuation)     # '!\"#$%&\\'()*+,-./:;<=>?@[\\\\]^_`{|}~'\n",
    "print(string.printable)       # digits + letters + punctuation + whitespace\n",
    "print(\"-----------\")\n",
    "print(string.whitespace)      # space + tab + linefeed + return + ..."
   ]
  },
  {
   "cell_type": "markdown",
   "metadata": {},
   "source": [
    "3. Some String Operators\n",
    "- String + and \\*"
   ]
  },
  {
   "cell_type": "code",
   "execution_count": null,
   "metadata": {},
   "outputs": [],
   "source": [
    "print(\"abc\" + \"def\")  # What do you think this should do?\n",
    "print(\"abc\" * 3)  # How many characters do you think this prints?\n",
    "print(\"abc\" + 3)  # ...will this give us an error? (Yes)"
   ]
  },
  {
   "cell_type": "markdown",
   "metadata": {},
   "source": [
    "- The in operator"
   ]
  },
  {
   "cell_type": "code",
   "execution_count": null,
   "metadata": {},
   "outputs": [],
   "source": [
    "# The \"in\" operator is really really useful!\n",
    "print(\"ring\" in \"strings\")\n",
    "print(\"wow\" in \"amazing!\")\n",
    "print(\"Yes\" in \"yes!\")\n",
    "print(\"\" in \"No way!\")"
   ]
  },
  {
   "cell_type": "markdown",
   "metadata": {},
   "source": [
    "3. String indexing and slicing\n",
    "- Indexing a single character"
   ]
  },
  {
   "cell_type": "code",
   "execution_count": null,
   "metadata": {},
   "outputs": [],
   "source": [
    "# Indexing lets us find a character at a specific location (the index)\n",
    "s = \"abcdefgh\"\n",
    "print(s)\n",
    "print(s[0])\n",
    "print(s[1])\n",
    "print(s[2])\n",
    "\n",
    "print(\"-----------\")\n",
    "print(\"Length of \",s,\"is\",len(s))\n",
    "\n",
    "print(\"-----------\")\n",
    "print(s[len(s)-1])\n",
    "print(s[len(s)])  # crashes (string index out of range)"
   ]
  },
  {
   "cell_type": "markdown",
   "metadata": {},
   "source": [
    "- Negative indexes"
   ]
  },
  {
   "cell_type": "code",
   "execution_count": null,
   "metadata": {},
   "outputs": [],
   "source": [
    "s = \"abcdefgh\"\n",
    "print(s)\n",
    "print(s[-1])\n",
    "print(s[-2])"
   ]
  },
  {
   "cell_type": "markdown",
   "metadata": {},
   "source": [
    "- Slicing a range of characters"
   ]
  },
  {
   "cell_type": "code",
   "execution_count": null,
   "metadata": {},
   "outputs": [],
   "source": [
    "# Slicing is like indexing, but it lets us get more than 1 character.\n",
    "# ...how is this like range(a,b)?\n",
    "\n",
    "s = \"abcdefgh\"\n",
    "print(s)\n",
    "print(s[0:3])\n",
    "print(s[1:3])\n",
    "print(\"-----------\")\n",
    "print(s[2:3])\n",
    "print(s[3:3])"
   ]
  },
  {
   "cell_type": "markdown",
   "metadata": {},
   "source": [
    "- Slicing with default parameters"
   ]
  },
  {
   "cell_type": "code",
   "execution_count": null,
   "metadata": {},
   "outputs": [],
   "source": [
    "s = \"abcdefgh\"\n",
    "print(s)\n",
    "print(s[3:])\n",
    "print(s[:3])\n",
    "print(s[:])"
   ]
  },
  {
   "cell_type": "markdown",
   "metadata": {},
   "source": [
    "- Slicing with a step parameter"
   ]
  },
  {
   "cell_type": "code",
   "execution_count": null,
   "metadata": {},
   "outputs": [],
   "source": [
    "print(\"This is not as common, but perfectly ok.\")\n",
    "s = \"abcdefgh\"\n",
    "print(s)\n",
    "print(s[1:7:2])\n",
    "print(s[1:7:3])"
   ]
  },
  {
   "cell_type": "markdown",
   "metadata": {},
   "source": [
    "- Reversing a string"
   ]
  },
  {
   "cell_type": "code",
   "execution_count": null,
   "metadata": {},
   "outputs": [],
   "source": [
    "s = \"abcdefgh\"\n",
    "\n",
    "print(\"This works, but is confusing:\")\n",
    "print(s[::-1])\n",
    "\n",
    "print(\"This also works, but is still confusing:\")\n",
    "print(\"\".join(reversed(s)))\n",
    "\n",
    "print(\"Best way: write your own reverseString() function:\")\n",
    "\n",
    "def reverseString(s):\n",
    "    return s[::-1]\n",
    "\n",
    "print(reverseString(s)) # crystal clear!"
   ]
  },
  {
   "cell_type": "markdown",
   "metadata": {},
   "source": [
    "4. Looping over Strings\n",
    "- \"for\" loop with indexes"
   ]
  },
  {
   "cell_type": "code",
   "execution_count": null,
   "metadata": {},
   "outputs": [],
   "source": [
    "s = \"abcd\"\n",
    "for i in range(len(s)):\n",
    "    print(i, s[i])"
   ]
  },
  {
   "cell_type": "markdown",
   "metadata": {},
   "source": [
    "- \"for\" loop without indexes"
   ]
  },
  {
   "cell_type": "code",
   "execution_count": null,
   "metadata": {},
   "outputs": [],
   "source": [
    "s = \"abcd\"\n",
    "for c in s:\n",
    "    print(c)"
   ]
  },
  {
   "cell_type": "markdown",
   "metadata": {},
   "source": [
    "- \"for\" loop with split"
   ]
  },
  {
   "cell_type": "code",
   "execution_count": null,
   "metadata": {},
   "outputs": [],
   "source": [
    "# By itself, names.split(\",\") produces something called a list.\n",
    "# Until we learn about lists (soon!), do not store the result of\n",
    "# split() and do not index into that result.  Just loop over the\n",
    "# result, as shown here:\n",
    "\n",
    "names = \"fred,wilma,betty,barney\"\n",
    "for name in names.split(\",\"):\n",
    "    print(name)"
   ]
  },
  {
   "cell_type": "markdown",
   "metadata": {},
   "source": [
    "- \"for\" loop with splitlines"
   ]
  },
  {
   "cell_type": "code",
   "execution_count": null,
   "metadata": {},
   "outputs": [],
   "source": [
    "# splitlines() also makes a list, so only loop over its results,\n",
    "# just like split():\n",
    "\n",
    "# quotes from brainyquote.com\n",
    "quotes = \"\"\"\\\n",
    "Dijkstra: Simplicity is prerequisite for reliability.\n",
    "Knuth: If you optimize everything, you will always be unhappy.\n",
    "Dijkstra: Perfecting oneself is as much unlearning as it is learning.\n",
    "Knuth: Beware of bugs in the above code; I have only proved it correct, not tried it.\n",
    "Dijkstra: Computer science is no more about computers than astronomy is about telescopes.\n",
    "\"\"\"\n",
    "for line in quotes.splitlines():\n",
    "    if (line.startswith(\"Knuth\")):\n",
    "        print(line)"
   ]
  },
  {
   "cell_type": "markdown",
   "metadata": {},
   "source": [
    "5. Example: isPalindrome"
   ]
  },
  {
   "cell_type": "code",
   "execution_count": null,
   "metadata": {},
   "outputs": [],
   "source": [
    "# There are many ways to write isPalindrome(s)\n",
    "# Here are several.  Which way is best?\n",
    "\n",
    "def reverseString(s):\n",
    "    return s[::-1]\n",
    "\n",
    "def isPalindrome1(s):\n",
    "    return (s == reverseString(s))\n",
    "\n",
    "def isPalindrome2(s):\n",
    "    for i in range(len(s)):\n",
    "        if (s[i] != s[len(s)-1-i]):\n",
    "            return False\n",
    "    return True\n",
    "\n",
    "def isPalindrome3(s):\n",
    "    for i in range(len(s)):\n",
    "        if (s[i] != s[-1-i]):\n",
    "            return False\n",
    "    return True\n",
    "\n",
    "def isPalindrome4(s):\n",
    "    while (len(s) > 1):\n",
    "        if (s[0] != s[-1]):\n",
    "            return False\n",
    "        s = s[1:-1]\n",
    "    return True\n",
    "\n",
    "print(isPalindrome1(\"abcba\"), isPalindrome1(\"abca\"))\n",
    "print(isPalindrome2(\"abcba\"), isPalindrome2(\"abca\"))\n",
    "print(isPalindrome3(\"abcba\"), isPalindrome3(\"abca\"))\n",
    "print(isPalindrome4(\"abcba\"), isPalindrome4(\"abca\"))"
   ]
  },
  {
   "cell_type": "markdown",
   "metadata": {},
   "source": [
    "6. Strings are Immutable\n",
    "- You cannot change strings! They are immutable."
   ]
  },
  {
   "cell_type": "code",
   "execution_count": null,
   "metadata": {},
   "outputs": [],
   "source": [
    "s = \"abcde\"\n",
    "s[2] = \"z\"  # Error! Cannot assign into s[i]"
   ]
  },
  {
   "cell_type": "markdown",
   "metadata": {},
   "source": [
    "- Instead, you must create a new string."
   ]
  },
  {
   "cell_type": "code",
   "execution_count": null,
   "metadata": {},
   "outputs": [],
   "source": [
    "s = \"abcde\"\n",
    "s = s[:2] + \"z\" + s[3:]\n",
    "print(s)"
   ]
  },
  {
   "cell_type": "markdown",
   "metadata": {},
   "source": [
    "7. Some String-related Built-In Functions\n",
    "- str() and len()"
   ]
  },
  {
   "cell_type": "code",
   "execution_count": null,
   "metadata": {},
   "outputs": [],
   "source": [
    "name = input(\"Enter your name: \")\n",
    "print(\"Hi, \" + name + \". Your name has \" + str(len(name)) + \" letters!\")"
   ]
  },
  {
   "cell_type": "markdown",
   "metadata": {},
   "source": [
    "- chr() and ord()"
   ]
  },
  {
   "cell_type": "code",
   "execution_count": null,
   "metadata": {},
   "outputs": [],
   "source": [
    "print(ord(\"A\")) # 65\n",
    "print(chr(65))  # \"A\"\n",
    "print(chr(ord(\"A\")+1)) # ?"
   ]
  },
  {
   "cell_type": "markdown",
   "metadata": {},
   "source": [
    "- eval()"
   ]
  },
  {
   "cell_type": "code",
   "execution_count": null,
   "metadata": {},
   "outputs": [],
   "source": [
    "# eval() works but you should not use it!\n",
    "s = \"(3**2 + 4**2)**0.5\"\n",
    "print(eval(s))\n",
    "\n",
    "# why not? Well...\n",
    "s = \"reformatMyHardDrive()\"\n",
    "print(eval(s)) # no such function!  But what if there was?"
   ]
  },
  {
   "cell_type": "markdown",
   "metadata": {},
   "source": [
    "8. Some String Methods\n",
    "- Character types: isalnum(), isalpha(), isdigit(), islower(), isspace(), isupper()"
   ]
  },
  {
   "cell_type": "code",
   "execution_count": null,
   "metadata": {},
   "outputs": [],
   "source": [
    "# Run this code to see a table of isX() behaviors\n",
    "def p(test):\n",
    "    print(\"True     \" if test else \"False    \", end=\"\")\n",
    "def printRow(s):\n",
    "    print(\" \" + s + \"  \", end=\"\")\n",
    "    p(s.isalnum())\n",
    "    p(s.isalpha())\n",
    "    p(s.isdigit())\n",
    "    p(s.islower())\n",
    "    p(s.isspace())\n",
    "    p(s.isupper())\n",
    "    print()\n",
    "def printTable():\n",
    "    print(\"  s   isalnum  isalpha  isdigit  islower  isspace  isupper\")\n",
    "    for s in \"ABCD,ABcd,abcd,ab12,1234,    ,AB?!\".split(\",\"):\n",
    "        printRow(s)\n",
    "printTable()"
   ]
  },
  {
   "cell_type": "markdown",
   "metadata": {},
   "source": [
    "- String edits: lower(), upper(), replace(), strip()"
   ]
  },
  {
   "cell_type": "code",
   "execution_count": null,
   "metadata": {},
   "outputs": [],
   "source": [
    "print(\"This is nice. Yes!\".lower())\n",
    "print(\"So is this? Sure!!\".upper())\n",
    "print(\"   Strip removes leading and trailing whitespace only    \".strip())\n",
    "print(\"This is nice.  Really nice.\".replace(\"nice\", \"sweet\"))\n",
    "print(\"This is nice.  Really nice.\".replace(\"nice\", \"sweet\", 1)) # count = 1\n",
    "\n",
    "print(\"----------------\")\n",
    "s = \"This is so so fun!\"\n",
    "t = s.replace(\"so \", \"\")\n",
    "print(t)\n",
    "print(s) # note that s is unmodified (strings are immutable!)"
   ]
  },
  {
   "cell_type": "markdown",
   "metadata": {},
   "source": [
    "- Substring search: count(), startswith(), endswith(), find(), index() "
   ]
  },
  {
   "cell_type": "code",
   "execution_count": null,
   "metadata": {},
   "outputs": [],
   "source": [
    "print(\"This is a history test\".count(\"is\")) # 3\n",
    "print(\"This IS a history test\".count(\"is\")) # 2\n",
    "print(\"-------\")\n",
    "print(\"Dogs and cats!\".startswith(\"Do\"))    # True\n",
    "print(\"Dogs and cats!\".startswith(\"Don't\")) # False\n",
    "print(\"-------\")\n",
    "print(\"Dogs and cats!\".endswith(\"!\"))       # True\n",
    "print(\"Dogs and cats!\".endswith(\"rats!\"))   # False\n",
    "print(\"-------\")\n",
    "print(\"Dogs and cats!\".find(\"and\"))         # 5\n",
    "print(\"Dogs and cats!\".find(\"or\"))          # -1\n",
    "print(\"-------\")\n",
    "print(\"Dogs and cats!\".index(\"and\"))        # 5\n",
    "print(\"Dogs and cats!\".index(\"or\"))         # crash!"
   ]
  },
  {
   "cell_type": "markdown",
   "metadata": {},
   "source": [
    "9. String Formatting"
   ]
  },
  {
   "cell_type": "code",
   "execution_count": null,
   "metadata": {},
   "outputs": [],
   "source": [
    "breed = \"beagle\"\n",
    "print(\"Did you see a %s?\" % breed)"
   ]
  },
  {
   "cell_type": "code",
   "execution_count": null,
   "metadata": {},
   "outputs": [],
   "source": [
    "dogs = 42\n",
    "print(\"There are %d dogs.\" % dogs)"
   ]
  },
  {
   "cell_type": "code",
   "execution_count": null,
   "metadata": {},
   "outputs": [],
   "source": [
    "grade = 87.385\n",
    "print(\"Your current grade is %f!\" % grade)"
   ]
  },
  {
   "cell_type": "code",
   "execution_count": null,
   "metadata": {},
   "outputs": [],
   "source": [
    "grade = 87.385\n",
    "print(\"Your current grade is %0.1f!\" % grade)\n",
    "print(\"Your current grade is %0.2f!\" % grade)\n",
    "print(\"Your current grade is %0.3f!\" % grade)\n",
    "print(\"Your current grade is %0.4f!\" % grade)"
   ]
  },
  {
   "cell_type": "code",
   "execution_count": null,
   "metadata": {},
   "outputs": [],
   "source": [
    "dogs = 42\n",
    "cats = 18\n",
    "exclamation = \"Wow\"\n",
    "print(\"There are %d dogs and %d cats. %s!!!\" % (dogs, cats, exclamation))"
   ]
  },
  {
   "cell_type": "code",
   "execution_count": null,
   "metadata": {},
   "outputs": [],
   "source": [
    "dogs = 42\n",
    "cats = 3\n",
    "print(\"%10s %10s\" % (\"dogs\", \"cats\"))\n",
    "print(\"%10d %10d\" % (dogs, cats))"
   ]
  },
  {
   "cell_type": "code",
   "execution_count": null,
   "metadata": {},
   "outputs": [],
   "source": [
    "dogs = 42\n",
    "cats = 3\n",
    "print(\"%-10s %-10s\" % (\"dogs\", \"cats\"))\n",
    "print(\"%-10d %-10d\" % (dogs, cats))"
   ]
  },
  {
   "cell_type": "markdown",
   "metadata": {},
   "source": [
    "10. String Formatting with f Strings"
   ]
  },
  {
   "cell_type": "code",
   "execution_count": null,
   "metadata": {},
   "outputs": [],
   "source": [
    "# We saw this example back in week1!\n",
    "# It shows a nice relatively new way to format strings:\n",
    "\n",
    "x = 42\n",
    "y = 99\n",
    "# Place variable names in {squiggly braces} to print their values, like so:\n",
    "print(f'Did you know that {x} + {y} is {x+y}?')"
   ]
  },
  {
   "cell_type": "markdown",
   "metadata": {},
   "source": [
    "11. Basic File IO"
   ]
  },
  {
   "cell_type": "code",
   "execution_count": null,
   "metadata": {},
   "outputs": [],
   "source": [
    "# Note: As this requires read-write access to your hard drive,\n",
    "#       this will not run in the browser in Brython.\n",
    "\n",
    "def readFile(path):\n",
    "    with open(path, \"rt\") as f:\n",
    "        return f.read()\n",
    "\n",
    "def writeFile(path, contents):\n",
    "    with open(path, \"wt\") as f:\n",
    "        f.write(contents)\n",
    "\n",
    "contentsToWrite = \"This is a test!\\nIt is only a test!\"\n",
    "writeFile(\"foo.txt\", contentsToWrite)\n",
    "\n",
    "contentsRead = readFile(\"foo.txt\")\n",
    "assert(contentsRead == contentsToWrite)\n",
    "\n",
    "print(\"Open the file foo.txt and verify its contents.\")"
   ]
  }
 ],
 "metadata": {
  "kernelspec": {
   "display_name": "Python 3",
   "language": "python",
   "name": "python3"
  },
  "language_info": {
   "codemirror_mode": {
    "name": "ipython",
    "version": 3
   },
   "file_extension": ".py",
   "mimetype": "text/x-python",
   "name": "python",
   "nbconvert_exporter": "python",
   "pygments_lexer": "ipython3",
   "version": "3.7.3"
  }
 },
 "nbformat": 4,
 "nbformat_minor": 4
}
