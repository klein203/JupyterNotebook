{
 "cells": [
  {
   "cell_type": "markdown",
   "metadata": {},
   "source": [
    "1. Methods vs Functions"
   ]
  },
  {
   "cell_type": "code",
   "execution_count": 1,
   "metadata": {},
   "outputs": [
    {
     "name": "stdout",
     "output_type": "stream",
     "text": [
      "25\n",
      "THIS COULD BE ANY STRING!\n",
      "This may be any string!\n"
     ]
    }
   ],
   "source": [
    "s = 'This could be any string!'\n",
    "\n",
    "print(len(s))     # len is a function\n",
    "\n",
    "print(s.upper())  # upper is a string method, called using the . notation\n",
    "                  # we say that we \"call the method len on the string s\"\n",
    "\n",
    "print(s.replace('could', 'may')) # some methods take additional arguments"
   ]
  },
  {
   "cell_type": "code",
   "execution_count": 2,
   "metadata": {},
   "outputs": [
    {
     "ename": "TypeError",
     "evalue": "object of type 'int' has no len()",
     "output_type": "error",
     "traceback": [
      "\u001b[1;31m---------------------------------------------------------------------------\u001b[0m",
      "\u001b[1;31mTypeError\u001b[0m                                 Traceback (most recent call last)",
      "\u001b[1;32m<ipython-input-2-571cbb59dcec>\u001b[0m in \u001b[0;36m<module>\u001b[1;34m\u001b[0m\n\u001b[0;32m      1\u001b[0m \u001b[0mn\u001b[0m \u001b[1;33m=\u001b[0m \u001b[1;36m123\u001b[0m\u001b[1;33m\u001b[0m\u001b[1;33m\u001b[0m\u001b[0m\n\u001b[1;32m----> 2\u001b[1;33m \u001b[0mprint\u001b[0m\u001b[1;33m(\u001b[0m\u001b[0mlen\u001b[0m\u001b[1;33m(\u001b[0m\u001b[0mn\u001b[0m\u001b[1;33m)\u001b[0m\u001b[1;33m)\u001b[0m    \u001b[1;31m# TypeError: object of type 'int' has no len()\u001b[0m\u001b[1;33m\u001b[0m\u001b[1;33m\u001b[0m\u001b[0m\n\u001b[0m\u001b[0;32m      3\u001b[0m                  \u001b[1;31m# This means that len() cannot work properly with int's\u001b[0m\u001b[1;33m\u001b[0m\u001b[1;33m\u001b[0m\u001b[1;33m\u001b[0m\u001b[0m\n\u001b[0;32m      4\u001b[0m \u001b[1;33m\u001b[0m\u001b[0m\n\u001b[0;32m      5\u001b[0m \u001b[0mn\u001b[0m \u001b[1;33m=\u001b[0m \u001b[1;36m123\u001b[0m\u001b[1;33m\u001b[0m\u001b[1;33m\u001b[0m\u001b[0m\n",
      "\u001b[1;31mTypeError\u001b[0m: object of type 'int' has no len()"
     ]
    }
   ],
   "source": [
    "n = 123\n",
    "print(len(n))    # TypeError: object of type 'int' has no len()\n",
    "                 # This means that len() cannot work properly with int's\n",
    "\n",
    "n = 123\n",
    "print(n.upper()) # AttributeError: 'int' object has no attribute 'upper'\n",
    "                 # This means that there is no method upper() for int's"
   ]
  },
  {
   "cell_type": "markdown",
   "metadata": {},
   "source": [
    "2. Classes and Instances\n",
    "- Classes are also called \"Types\" in Python.\n",
    "  - For example, these are classes: int, float, str, bool\n",
    "- Instances are values of a given class or type.\n",
    "  - For example: 'abc' is a str instance (also called a string)"
   ]
  },
  {
   "cell_type": "markdown",
   "metadata": {},
   "source": [
    "3. Objects and Object-Oriented Programming (OOP)\n",
    "- Every value in Python is an Object.\n",
    "  - Every instance is an object, and its type is some class.\n",
    "  - Every class is an object, too (its type is type!).\n",
    "- That is why we call this Object-Oriented Programming\n",
    "  - We are using objects only a little bit now.\n",
    "  - Soon we will write our own classes.\n",
    "  - Then we will add some sophistication to how we write and use classes and objects.\n",
    "  - Even so, because we are using objects now, we are already using Object-Oriented Programming (OOP)."
   ]
  }
 ],
 "metadata": {
  "kernelspec": {
   "display_name": "Python 3",
   "language": "python",
   "name": "python3"
  },
  "language_info": {
   "codemirror_mode": {
    "name": "ipython",
    "version": 3
   },
   "file_extension": ".py",
   "mimetype": "text/x-python",
   "name": "python",
   "nbconvert_exporter": "python",
   "pygments_lexer": "ipython3",
   "version": "3.7.3"
  }
 },
 "nbformat": 4,
 "nbformat_minor": 4
}
