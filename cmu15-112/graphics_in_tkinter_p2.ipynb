{
 "cells": [
  {
   "cell_type": "markdown",
   "metadata": {},
   "source": [
    "# Draw a Rectangle with create_rectangle(left, top, right, bottom)"
   ]
  },
  {
   "cell_type": "code",
   "execution_count": 1,
   "metadata": {},
   "outputs": [],
   "source": [
    "def draw(canvas, width, height):\n",
    "    # The first four parameters are the upper-left (x,y)\n",
    "    # and the lower-right (x,y) of the rectangle\n",
    "    canvas.create_rectangle(0,0,150,150)"
   ]
  },
  {
   "cell_type": "markdown",
   "metadata": {},
   "source": [
    "# Graphics Parameters"
   ]
  },
  {
   "cell_type": "code",
   "execution_count": null,
   "metadata": {},
   "outputs": [],
   "source": [
    "def draw(canvas, width, height):\n",
    "    # most graphics functions allow you to use optional parameters\n",
    "    # to change the appearance of the object. These are written with the code\n",
    "    # paramName=paramValue\n",
    "    # after the core parameters in the code\n",
    "\n",
    "    # fill changes the internal color of the shape\n",
    "    canvas.create_rectangle(  0,   0, 150, 150, fill=\"yellow\")\n",
    "    # width changes the size of the border\n",
    "    canvas.create_rectangle(100,  50, 250, 100, fill=\"orange\", width=5)\n",
    "    # outline changes the color of the border\n",
    "    canvas.create_rectangle( 50, 100, 150, 200, fill=\"green\",\n",
    "                                                outline=\"red\", width=3)\n",
    "    # width=0 removes the border entirely\n",
    "    canvas.create_rectangle(125,  25, 175, 190, fill=\"purple\", width=0)"
   ]
  },
  {
   "cell_type": "markdown",
   "metadata": {},
   "source": [
    "# Draw Other Shapes and Text"
   ]
  },
  {
   "cell_type": "code",
   "execution_count": null,
   "metadata": {},
   "outputs": [],
   "source": [
    "def draw(canvas, width, height):\n",
    "    # ovals provide the coordinates of the bounding box\n",
    "    canvas.create_oval(100, 50, 300, 150, fill=\"yellow\")\n",
    "    # polygons and lines provide the (x,y) coordinates of each point\n",
    "    # polygons must have 3+ points; lines must have 2+\n",
    "    canvas.create_polygon(100,30,200,50,300,30,200,10, fill=\"green\")\n",
    "    canvas.create_line(100, 50, 300, 150, fill=\"red\", width=5)\n",
    "    # text provides a single (x,y) point, then anchors the text there\n",
    "    # text also requires the text, and can have a font\n",
    "    canvas.create_text(200, 100, text=\"Amazing!\",\n",
    "                       fill=\"purple\", font=\"Helvetica 26 bold underline\")\n",
    "    canvas.create_text(200, 100, text=\"Carpe Diem!\", anchor=\"sw\",\n",
    "                       fill=\"darkBlue\", font=\"Times 28 bold italic\")"
   ]
  },
  {
   "cell_type": "markdown",
   "metadata": {},
   "source": [
    "# Other shapes can have optional parameters too. You don't need to know these, but they can be fun to use!"
   ]
  },
  {
   "cell_type": "code",
   "execution_count": null,
   "metadata": {},
   "outputs": [],
   "source": [
    "def draw(canvas, width, height):\n",
    "    # smooth lets you make interesting curvy shapes using polygons or lines\n",
    "    canvas.create_polygon(10, 10, 50, 150, 100, 50, smooth=1)\n",
    "    # but if you want to draw an arc, use create_arc\n",
    "    canvas.create_line(10, 10, 50, 150, 100, 50,\n",
    "                        width=5, fill=\"red\", smooth=1)\n",
    "\n",
    "    # lines can also add arrows to the end\n",
    "    canvas.create_line(350, 50, 200, 150, arrow=BOTH, fill=\"blue\")\n",
    "\n",
    "    # by default, text is drawn all on one line\n",
    "    # using width breaks the text into multiple lines at that width\n",
    "    canvas.create_text(200, 100, text=\"Hello World! Isn't it a wonderful day?\", width=50, anchor=\"e\")"
   ]
  },
  {
   "cell_type": "markdown",
   "metadata": {},
   "source": [
    "# Draw Custom Colors"
   ]
  },
  {
   "cell_type": "code",
   "execution_count": null,
   "metadata": {},
   "outputs": [],
   "source": [
    "def rgbString(red, green, blue):\n",
    "    # Don't worry about how this code works yet.\n",
    "    return \"#%02x%02x%02x\" % (red, green, blue)\n",
    "\n",
    "def draw(canvas, width, height):\n",
    "    pistachio = rgbString(147, 197, 114)\n",
    "    maroon = rgbString(176, 48, 96)\n",
    "    canvas.create_rectangle(0, 0, width/2, height/2, fill=pistachio)\n",
    "    canvas.create_rectangle(width/2, height/2, width, height, fill=maroon)"
   ]
  },
  {
   "cell_type": "markdown",
   "metadata": {},
   "source": [
    "# Draw Centered Shapes"
   ]
  },
  {
   "cell_type": "code",
   "execution_count": null,
   "metadata": {},
   "outputs": [],
   "source": [
    "def draw(canvas, width, height):\n",
    "    margin = 10\n",
    "    # Approach #1: Add margin to top/left, subtract margin from bottom/right:\n",
    "    canvas.create_rectangle(margin, margin, width-margin, height-margin,\n",
    "                            fill=\"darkGreen\")\n",
    "    # Approach #2: add/subtract width/height from center (cx, cy)\n",
    "    (cx, cy) = (width/2, height/2)\n",
    "    (rectWidth, rectHeight) = (width/4, height/4)\n",
    "    canvas.create_rectangle(cx - rectWidth/2, cy - rectHeight/2,\n",
    "                            cx + rectWidth/2, cy + rectHeight/2,\n",
    "                            fill=\"orange\")"
   ]
  },
  {
   "cell_type": "markdown",
   "metadata": {},
   "source": [
    "# Graphics Helper Functions"
   ]
  },
  {
   "cell_type": "code",
   "execution_count": null,
   "metadata": {},
   "outputs": [],
   "source": [
    "def drawBelgianFlag(canvas, x0, y0, x1, y1):\n",
    "    # draw a Belgian flag in the area bounded by (x0,y0) in\n",
    "    # the top-left and (x1,y1) in the bottom-right\n",
    "    width = (x1 - x0)\n",
    "    canvas.create_rectangle(x0, y0, x0+width/3, y1, fill=\"black\", width=0)\n",
    "    canvas.create_rectangle(x0+width/3, y0, x0+width*2/3, y1,\n",
    "                            fill=\"yellow\", width=0)\n",
    "    canvas.create_rectangle(x0+width*2/3, y0, x1, y1, fill=\"red\", width=0)\n",
    "\n",
    "def draw(canvas, width, height):\n",
    "    # Draw a large Belgian flag\n",
    "    drawBelgianFlag(canvas, 25, 25, 175, 150)\n",
    "\n",
    "    # And draw a smaller one below it\n",
    "    drawBelgianFlag(canvas, 75, 160, 125, 200)\n",
    "\n",
    "    # Now let's have some fun and draw a whole grid of Belgian flags!\n",
    "    flagWidth = 30\n",
    "    flagHeight = 25\n",
    "    margin = 5\n",
    "    for row in range(4):\n",
    "        for col in range(6):\n",
    "            left = 200 + col * flagWidth + margin\n",
    "            top = 50 + row * flagHeight + margin\n",
    "            right = left + flagWidth - margin\n",
    "            bottom = top + flagHeight - margin\n",
    "            drawBelgianFlag(canvas, left, top, right, bottom)"
   ]
  },
  {
   "cell_type": "markdown",
   "metadata": {},
   "source": [
    "# Dynamically sizing text"
   ]
  },
  {
   "cell_type": "code",
   "execution_count": null,
   "metadata": {},
   "outputs": [],
   "source": [
    "def draw(canvas, width, height):\n",
    "    # Dynamically sizing text is harder, but possible!\n",
    "    # Just compute the font size based on the width or height\n",
    "    # Some guesswork helps to get the ratio right\n",
    "    textSize = width // 10\n",
    "    canvas.create_text(width/2, height/2, text=\"Hello, World!\",\n",
    "                        font=f'Arial {textSize} bold')"
   ]
  },
  {
   "cell_type": "markdown",
   "metadata": {},
   "source": [
    "# Drawing Circular Patterns with Trigonometry"
   ]
  },
  {
   "cell_type": "code",
   "execution_count": null,
   "metadata": {},
   "outputs": [],
   "source": [
    "import math\n",
    "\n",
    "def draw(canvas, width, height):\n",
    "    (cx, cy, r) = (width/2, height/2, min(width, height)/3)\n",
    "    canvas.create_oval(cx-r, cy-r, cx+r, cy+r, fill=\"yellow\")\n",
    "    r *= 0.85 # make smaller so time labels lie inside clock face\n",
    "    for hour in range(12):\n",
    "        hourAngle = math.pi/2 - (2*math.pi)*(hour/12)\n",
    "        hourX = cx + r * math.cos(hourAngle)\n",
    "        hourY = cy - r * math.sin(hourAngle)\n",
    "        label = str(hour if (hour > 0) else 12)\n",
    "        canvas.create_text(hourX, hourY, text=label, font=\"Arial 16 bold\")"
   ]
  },
  {
   "cell_type": "markdown",
   "metadata": {},
   "source": [
    "# Example: Clocks!"
   ]
  },
  {
   "cell_type": "code",
   "execution_count": null,
   "metadata": {},
   "outputs": [],
   "source": [
    "import math\n",
    "\n",
    "def drawClock(canvas, x0, y0, x1, y1, hour, minute):\n",
    "    # draw a clock in the area bounded by (x0,y0) in\n",
    "    # the top-left and (x1,y1) in the bottom-right\n",
    "    # with the given time\n",
    "    # draw an outline rectangle\n",
    "    canvas.create_rectangle(x0, y0, x1, y1, outline=\"black\", width=1)\n",
    "\n",
    "    # find relevant values for positioning clock\n",
    "    width = (x1 - x0)\n",
    "    height = (y1 - y0)\n",
    "    r = min(width, height)/2\n",
    "    cx = (x0 + x1)/2\n",
    "    cy = (y0 + y1)/2\n",
    "\n",
    "    # draw the clock face\n",
    "    canvas.create_oval(cx-r, cy-r, cx+r, cy+r, outline=\"black\", width=2)\n",
    "\n",
    "    # adjust the hour to take the minutes into account\n",
    "    hour += minute/60.0\n",
    "\n",
    "    # find the hourAngle and draw the hour hand\n",
    "    # but we must adjust because 0 is vertical and\n",
    "    # it proceeds clockwise, not counter-clockwise!\n",
    "    hourAngle = math.pi/2 - 2*math.pi*hour/12\n",
    "    hourRadius = r*1/2\n",
    "    hourX = cx + hourRadius * math.cos(hourAngle)\n",
    "    hourY = cy - hourRadius * math.sin(hourAngle)\n",
    "    canvas.create_line(cx, cy, hourX, hourY, fill=\"black\", width=1)\n",
    "\n",
    "    # repeat with the minuteAngle for the minuteHand\n",
    "    minuteAngle = math.pi/2 - 2*math.pi*minute/60\n",
    "    minuteRadius = r*9/10\n",
    "    minuteX = cx + minuteRadius * math.cos(minuteAngle)\n",
    "    minuteY = cy - minuteRadius * math.sin(minuteAngle)\n",
    "    canvas.create_line(cx, cy, minuteX, minuteY, fill=\"black\", width=1)\n",
    "\n",
    "def draw(canvas, width, height):\n",
    "    # Draw a large clock showing 2:30\n",
    "    drawClock(canvas, 25, 25, 175, 150, 2, 30)\n",
    "\n",
    "    # And draw a smaller one below it showing 7:45\n",
    "    drawClock(canvas, 75, 160, 125, 200, 7, 45)\n",
    "\n",
    "    # Now let's have some fun and draw a whole grid of clocks!\n",
    "    width = 40\n",
    "    height = 40\n",
    "    margin = 5\n",
    "    hour = 0\n",
    "    for row in range(3):\n",
    "        for col in range(4):\n",
    "            left = 200 + col * width + margin\n",
    "            top = 50 + row * height + margin\n",
    "            right = left + width - margin\n",
    "            bottom = top + height - margin\n",
    "            hour += 1\n",
    "            drawClock(canvas, left, top, right, bottom, hour, 0)"
   ]
  }
 ],
 "metadata": {
  "kernelspec": {
   "display_name": "Python 3",
   "language": "python",
   "name": "python3"
  },
  "language_info": {
   "codemirror_mode": {
    "name": "ipython",
    "version": 3
   },
   "file_extension": ".py",
   "mimetype": "text/x-python",
   "name": "python",
   "nbconvert_exporter": "python",
   "pygments_lexer": "ipython3",
   "version": "3.7.3"
  }
 },
 "nbformat": 4,
 "nbformat_minor": 4
}
