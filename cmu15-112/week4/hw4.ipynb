{
 "cells": [
  {
   "cell_type": "code",
   "execution_count": null,
   "metadata": {},
   "outputs": [],
   "source": [
    "import hw4\n",
    "import cs112_f19_week4_linter\n",
    "from imp import reload\n",
    "reload(hw4)\n",
    "\n",
    "# cs112_f19_week4_linter.lint(filename='hw4.py')\n",
    "# hw4.testAll()\n",
    "hw4.testBestScrabbleScore()"
   ]
  }
 ],
 "metadata": {
  "kernelspec": {
   "display_name": "Python 3",
   "language": "python",
   "name": "python3"
  },
  "language_info": {
   "codemirror_mode": {
    "name": "ipython",
    "version": 3
   },
   "file_extension": ".py",
   "mimetype": "text/x-python",
   "name": "python",
   "nbconvert_exporter": "python",
   "pygments_lexer": "ipython3",
   "version": "3.7.3"
  }
 },
 "nbformat": 4,
 "nbformat_minor": 4
}
