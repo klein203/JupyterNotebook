{
 "cells": [
  {
   "cell_type": "markdown",
   "metadata": {},
   "source": [
    "# The Basics\n",
    "1. Creating Lists\n",
    "- Empty List"
   ]
  },
  {
   "cell_type": "code",
   "execution_count": 1,
   "metadata": {},
   "outputs": [
    {
     "name": "stdout",
     "output_type": "stream",
     "text": [
      "Two standard ways to create an empty list:\n",
      "<class 'list'> 0 []\n",
      "<class 'list'> 0 []\n",
      "True\n"
     ]
    }
   ],
   "source": [
    "print(\"Two standard ways to create an empty list:\")\n",
    "a = [ ]\n",
    "b = list()\n",
    "\n",
    "print(type(a), len(a), a)\n",
    "print(type(b), len(b), b)\n",
    "print(a == b)"
   ]
  },
  {
   "cell_type": "markdown",
   "metadata": {},
   "source": [
    "- List with One Element (Singleton)"
   ]
  },
  {
   "cell_type": "code",
   "execution_count": 2,
   "metadata": {},
   "outputs": [
    {
     "name": "stdout",
     "output_type": "stream",
     "text": [
      "<class 'list'> 1 ['hello']\n",
      "<class 'list'> 1 [42]\n",
      "False\n"
     ]
    }
   ],
   "source": [
    "a = [ \"hello\" ]\n",
    "b = [ 42 ]\n",
    "\n",
    "print(type(a), len(a), a)\n",
    "print(type(b), len(b), b)\n",
    "print(a == b)"
   ]
  },
  {
   "cell_type": "markdown",
   "metadata": {},
   "source": [
    "- List with Multiple Elements"
   ]
  },
  {
   "cell_type": "code",
   "execution_count": 3,
   "metadata": {},
   "outputs": [
    {
     "name": "stdout",
     "output_type": "stream",
     "text": [
      "<class 'list'> 4 [2, 3, 5, 7]\n",
      "<class 'list'> 5 [0, 1, 2, 3, 4]\n",
      "<class 'list'> 3 ['mixed types', True, 42]\n"
     ]
    }
   ],
   "source": [
    "a = [2, 3, 5, 7]\n",
    "b = list(range(5))\n",
    "c = [\"mixed types\", True, 42]\n",
    "\n",
    "print(type(a), len(a), a)\n",
    "print(type(b), len(b), b)\n",
    "print(type(c), len(c), c)"
   ]
  },
  {
   "cell_type": "markdown",
   "metadata": {},
   "source": [
    "- Variable-Length List"
   ]
  },
  {
   "cell_type": "code",
   "execution_count": 4,
   "metadata": {},
   "outputs": [
    {
     "name": "stdout",
     "output_type": "stream",
     "text": [
      "<class 'list'> 10 [0, 0, 0, 0, 0, 0, 0, 0, 0, 0]\n",
      "<class 'list'> 10 [0, 1, 2, 3, 4, 5, 6, 7, 8, 9]\n"
     ]
    }
   ],
   "source": [
    "n = 10\n",
    "a = [0] * n # creates a list with n 0s\n",
    "b = list(range(n))\n",
    "\n",
    "print(type(a), len(a), a)\n",
    "print(type(b), len(b), b)"
   ]
  },
  {
   "cell_type": "markdown",
   "metadata": {},
   "source": [
    "2. List Functions and Operations"
   ]
  },
  {
   "cell_type": "code",
   "execution_count": 5,
   "metadata": {},
   "outputs": [
    {
     "name": "stdout",
     "output_type": "stream",
     "text": [
      "a =  [2, 3, 5, 2]\n",
      "len = 4\n",
      "min = 2\n",
      "max = 5\n",
      "sum = 12\n",
      "a = [2, 3, 5, 3, 7]\n",
      "b = [2, 3, 5, 3, 7]\n",
      "c = [2, 3, 5, 3, 8]\n",
      "d = [2, 3, 5]\n",
      "------------------\n",
      "a == b True\n",
      "a == c False\n",
      "a != b False\n",
      "a != c True\n",
      "------------------\n",
      "a < c True\n",
      "a < d False\n"
     ]
    }
   ],
   "source": [
    "a = [ 2, 3, 5, 2 ]\n",
    "print(\"a = \", a)\n",
    "print(\"len =\", len(a))\n",
    "print(\"min =\", min(a))\n",
    "print(\"max =\", max(a))\n",
    "print(\"sum =\", sum(a))\n",
    "\n",
    "# Create some lists\n",
    "a = [ 2, 3, 5, 3, 7 ]\n",
    "b = [ 2, 3, 5, 3, 7 ]   # same as a\n",
    "c = [ 2, 3, 5, 3, 8 ]   # differs in last element\n",
    "d = [ 2, 3, 5 ]         # prefix of a\n",
    "\n",
    "print(\"a =\", a)\n",
    "print(\"b =\", b)\n",
    "print(\"c =\", c)\n",
    "print(\"d =\", d)\n",
    "\n",
    "print(\"------------------\")\n",
    "print(\"a == b\", (a == b))\n",
    "print(\"a == c\", (a == c))\n",
    "print(\"a != b\", (a != b))\n",
    "print(\"a != c\", (a != c))\n",
    "\n",
    "print(\"------------------\")\n",
    "print(\"a < c\", (a < c))\n",
    "print(\"a < d\", (a < d))"
   ]
  },
  {
   "cell_type": "markdown",
   "metadata": {},
   "source": [
    "3. Accessing Elements (Indexing and Slicing)"
   ]
  },
  {
   "cell_type": "code",
   "execution_count": 6,
   "metadata": {},
   "outputs": [
    {
     "name": "stdout",
     "output_type": "stream",
     "text": [
      "a        = [2, 3, 5, 7, 11, 13]\n",
      "a[0]     = 2\n",
      "a[2]     = 5\n",
      "a[-1]    = 13\n",
      "a[-3]    = 7\n",
      "a[0:2]   = [2, 3]\n",
      "a[1:4]   = [3, 5, 7]\n",
      "a[1:6:2] = [3, 7, 13]\n"
     ]
    }
   ],
   "source": [
    "# Indexing and slicing for lists works the same way as it did for strings!\n",
    "\n",
    "a = [2, 3, 5, 7, 11, 13]\n",
    "print(\"a        =\", a)\n",
    "\n",
    "# Access non-negative indexes\n",
    "print(\"a[0]     =\", a[0])\n",
    "print(\"a[2]     =\", a[2])\n",
    "\n",
    "# Access negative indexes\n",
    "print(\"a[-1]    =\", a[-1])\n",
    "print(\"a[-3]    =\", a[-3])\n",
    "\n",
    "# Access slices a[start:end:step]\n",
    "print(\"a[0:2]   =\", a[0:2])\n",
    "print(\"a[1:4]   =\", a[1:4])\n",
    "print(\"a[1:6:2] =\", a[1:6:2])"
   ]
  },
  {
   "cell_type": "markdown",
   "metadata": {},
   "source": [
    "# Lists are Mutable\n",
    "4. List Mutability and Aliasing\n",
    "- Example:"
   ]
  },
  {
   "cell_type": "code",
   "execution_count": 7,
   "metadata": {},
   "outputs": [
    {
     "name": "stdout",
     "output_type": "stream",
     "text": [
      "[42, 99, 5, 7]\n",
      "[42, 99, 5, 7]\n"
     ]
    }
   ],
   "source": [
    "# Create a list\n",
    "a = [ 2, 3, 5, 7 ]\n",
    "\n",
    "# Create an alias to the list\n",
    "b = a\n",
    "\n",
    "# We now have two references (aliases) to the SAME list\n",
    "a[0] = 42\n",
    "b[1] = 99\n",
    "print(a)\n",
    "print(b)"
   ]
  },
  {
   "cell_type": "markdown",
   "metadata": {},
   "source": [
    "- Function Parameters are Aliases:"
   ]
  },
  {
   "cell_type": "code",
   "execution_count": 8,
   "metadata": {},
   "outputs": [
    {
     "name": "stdout",
     "output_type": "stream",
     "text": [
      "[42, 3, 5, 7]\n",
      "[1, 2, 1]\n"
     ]
    }
   ],
   "source": [
    "def f(a):\n",
    "    a[0] = 42\n",
    "a = [2, 3, 5, 7]\n",
    "f(a)\n",
    "print(a)\n",
    "\n",
    "# Note that the parameter alias can still be broken by re-assigning the variable\n",
    "\n",
    "a = [3, 2, 1]\n",
    "\n",
    "def foo(a):\n",
    "     a[0] = 1\n",
    "     a = [5, 2, 0] # we break the alias here!\n",
    "     a[0] = 4\n",
    "\n",
    "foo(a)\n",
    "print(a)"
   ]
  },
  {
   "cell_type": "markdown",
   "metadata": {},
   "source": [
    "- Another Example:"
   ]
  },
  {
   "cell_type": "code",
   "execution_count": 9,
   "metadata": {},
   "outputs": [
    {
     "name": "stdout",
     "output_type": "stream",
     "text": [
      "initially:\n",
      "  a==b  : True\n",
      "  a==c  : True\n",
      "  a is b: True\n",
      "  a is c: False\n",
      "After changing a[0] to 42\n",
      "  a= [42, 3, 5, 7]\n",
      "  b= [42, 3, 5, 7]\n",
      "  c= [2, 3, 5, 7]\n",
      "  a==b  : True\n",
      "  a==c  : False\n",
      "  a is b: True\n",
      "  a is c: False\n"
     ]
    }
   ],
   "source": [
    "# Create a list\n",
    "a = [ 2, 3, 5, 7 ]\n",
    "\n",
    "# Create an alias to the list\n",
    "b = a\n",
    "\n",
    "# Create a different list with the same elements\n",
    "c = [ 2, 3, 5, 7 ]\n",
    "\n",
    "# a and b are references (aliases) to the SAME list\n",
    "# c is a reference to a different but EQUAL list\n",
    "\n",
    "print(\"initially:\")\n",
    "print(\"  a==b  :\", a==b)\n",
    "print(\"  a==c  :\", a==c)\n",
    "print(\"  a is b:\", a is b) # the is operation tells if two values are aliases, or basic datatypes\n",
    "print(\"  a is c:\", a is c)\n",
    "\n",
    "# Now changes to a also change b (the SAME list) but not c (a different list)\n",
    "a[0] = 42\n",
    "print(\"After changing a[0] to 42\")\n",
    "print(\"  a=\", a)\n",
    "print(\"  b=\", b)\n",
    "print(\"  c=\", c)\n",
    "print(\"  a==b  :\", a==b)\n",
    "print(\"  a==c  :\", a==c)\n",
    "print(\"  a is b:\", a is b)\n",
    "print(\"  a is c:\", a is c)"
   ]
  },
  {
   "cell_type": "markdown",
   "metadata": {},
   "source": [
    "5. Copying Lists\n",
    "- Copy vs Alias"
   ]
  },
  {
   "cell_type": "code",
   "execution_count": 10,
   "metadata": {},
   "outputs": [
    {
     "name": "stdout",
     "output_type": "stream",
     "text": [
      "At first...\n",
      "   a = [2, 3]\n",
      "   b = [2, 3]\n",
      "   c = [2, 3]\n",
      "But after a[0] = 42\n",
      "   a = [42, 3]\n",
      "   b = [42, 3]\n",
      "   c = [2, 3]\n"
     ]
    }
   ],
   "source": [
    "# Because of aliasing, we have to be careful if we share a reference\n",
    "# to a list in the same way we might for number or a string,\n",
    "# by simply setting b = a, like so:\n",
    "\n",
    "import copy\n",
    "\n",
    "# Create a list\n",
    "a = [ 2, 3 ]\n",
    "\n",
    "# Try to copy it\n",
    "b = a             # Error!  Not a copy, but an alias\n",
    "c = copy.copy(a)  # Ok\n",
    "\n",
    "# At first, things seem ok\n",
    "print(\"At first...\")\n",
    "print(\"   a =\", a)\n",
    "print(\"   b =\", b)\n",
    "print(\"   c =\", c)\n",
    "\n",
    "# Now modify a[0]\n",
    "a[0] = 42\n",
    "print(\"But after a[0] = 42\")\n",
    "print(\"   a =\", a)\n",
    "print(\"   b =\", b)\n",
    "print(\"   c =\", c)"
   ]
  },
  {
   "cell_type": "markdown",
   "metadata": {},
   "source": [
    "- Other ways to copy"
   ]
  },
  {
   "cell_type": "code",
   "execution_count": 11,
   "metadata": {},
   "outputs": [
    {
     "name": "stdout",
     "output_type": "stream",
     "text": [
      "[42, 3] [2, 3] [2, 3] [2, 3] [2, 3]\n"
     ]
    }
   ],
   "source": [
    "import copy\n",
    "\n",
    "a = [2, 3]\n",
    "\n",
    "b = copy.copy(a)\n",
    "c = a[:]\n",
    "d = a + [ ]\n",
    "e = list(a)\n",
    "\n",
    "a[0] = 42\n",
    "print(a, b, c, d, e)"
   ]
  },
  {
   "cell_type": "markdown",
   "metadata": {},
   "source": [
    "6. Destructive and Non-destructive Functions\n",
    "- Destructive functions"
   ]
  },
  {
   "cell_type": "code",
   "execution_count": 12,
   "metadata": {},
   "outputs": [
    {
     "name": "stdout",
     "output_type": "stream",
     "text": [
      "At first, a = [1, 2, 3, 4, 5]\n",
      "After fill(a, 42), a = [42, 42, 42, 42, 42]\n"
     ]
    }
   ],
   "source": [
    "# A destructive function is written to directly change the provided list\n",
    "# It does not need to return anything, as the caller can access the original list\n",
    "def fill(a, value):\n",
    "    for i in range(len(a)):\n",
    "        a[i] = value\n",
    "\n",
    "a = [1, 2, 3, 4, 5]\n",
    "print(\"At first, a =\", a)\n",
    "fill(a, 42)\n",
    "print(\"After fill(a, 42), a =\", a)"
   ]
  },
  {
   "cell_type": "markdown",
   "metadata": {},
   "source": [
    "- Non-destructive function"
   ]
  },
  {
   "cell_type": "code",
   "execution_count": 13,
   "metadata": {},
   "outputs": [
    {
     "name": "stdout",
     "output_type": "stream",
     "text": [
      "[1, 3, 4]\n",
      "[1, 3, 4, 70]\n",
      "At first\n",
      "   a = [1, 2, 3, 4, 3, 2, 1]\n",
      "After destructiveRemoveAll(a, 2)\n",
      "   a = [1, 3, 4, 3, 1]\n",
      "After b = nonDestructiveRemoveAll(a, 3)\n",
      "   a = [1, 3, 4, 3, 1]\n",
      "   b = [1, 4, 1]\n",
      "After c = alternateNonDestructiveRemoveAll(a, 1)\n",
      "   a = [1, 3, 4, 3, 1]\n",
      "   c = [3, 4, 3]\n"
     ]
    }
   ],
   "source": [
    "import copy\n",
    "\n",
    "## First, a quick primer on modifying lists ##\n",
    "## We'll talk about these more in a bit ##\n",
    "\n",
    "a = [1, 2, 3, 4]\n",
    "\n",
    "# .remove() DESTRUCTIVELY removes the given value from the list\n",
    "a.remove(2)\n",
    "print(a) # [1, 3, 4]\n",
    "\n",
    "# .append() DESTRUCTIVELY adds the given value to the end of the list\n",
    "a.append(70)\n",
    "print(a) # [1, 3, 4, 70]\n",
    "\n",
    "## Now, on to NON-DESTRUCTIVE functions! ##\n",
    "\n",
    "def destructiveRemoveAll(a, value):\n",
    "    while (value in a):\n",
    "        a.remove(value)\n",
    "\n",
    "def nonDestructiveRemoveAll(a, value):\n",
    "    # Typically, we write non-destructive functions by building a new list\n",
    "    # instead of changing the original\n",
    "    result = []\n",
    "    for element in a:\n",
    "        if (element != value):\n",
    "            result.append(element)\n",
    "    return result # non-destructive functions still need to return!\n",
    "\n",
    "def alternateNonDestructiveRemoveAll(a, value):\n",
    "    # We can write the same function by breaking the alias,\n",
    "    # then using the destructive approach\n",
    "    a = copy.copy(a)\n",
    "    destructiveRemoveAll(a, value)\n",
    "    return a\n",
    "\n",
    "a = [ 1, 2, 3, 4, 3, 2, 1 ]\n",
    "print(\"At first\")\n",
    "print(\"   a =\", a)\n",
    "\n",
    "destructiveRemoveAll(a, 2)\n",
    "print(\"After destructiveRemoveAll(a, 2)\")\n",
    "print(\"   a =\", a)\n",
    "\n",
    "b = nonDestructiveRemoveAll(a, 3)\n",
    "print(\"After b = nonDestructiveRemoveAll(a, 3)\")\n",
    "print(\"   a =\", a)\n",
    "print(\"   b =\", b)\n",
    "\n",
    "c = alternateNonDestructiveRemoveAll(a, 1)\n",
    "print(\"After c = alternateNonDestructiveRemoveAll(a, 1)\")\n",
    "print(\"   a =\", a)\n",
    "print(\"   c =\", c)"
   ]
  },
  {
   "cell_type": "markdown",
   "metadata": {},
   "source": [
    "# Coding with Lists\n",
    "7. Finding Elements\n",
    "- Check for list membership: in"
   ]
  },
  {
   "cell_type": "code",
   "execution_count": 14,
   "metadata": {},
   "outputs": [
    {
     "name": "stdout",
     "output_type": "stream",
     "text": [
      "a      = [2, 3, 5, 2, 6, 2, 2, 7]\n",
      "2 in a = True\n",
      "4 in a = False\n"
     ]
    }
   ],
   "source": [
    "a = [ 2, 3, 5, 2, 6, 2, 2, 7 ]\n",
    "print(\"a      =\", a)\n",
    "print(\"2 in a =\", (2 in a))\n",
    "print(\"4 in a =\", (4 in a))"
   ]
  },
  {
   "cell_type": "markdown",
   "metadata": {},
   "source": [
    "- Check for list non-membership: not in"
   ]
  },
  {
   "cell_type": "code",
   "execution_count": 15,
   "metadata": {},
   "outputs": [
    {
     "name": "stdout",
     "output_type": "stream",
     "text": [
      "a          = [2, 3, 5, 2, 6, 2, 2, 7]\n",
      "2 not in a = False\n",
      "4 not in a = True\n"
     ]
    }
   ],
   "source": [
    "a = [ 2, 3, 5, 2, 6, 2, 2, 7 ]\n",
    "print(\"a          =\", a)\n",
    "print(\"2 not in a =\", (2 not in a))\n",
    "print(\"4 not in a =\", (4 not in a))"
   ]
  },
  {
   "cell_type": "markdown",
   "metadata": {},
   "source": [
    "- Count occurrences in list: list.count(item)"
   ]
  },
  {
   "cell_type": "code",
   "execution_count": 16,
   "metadata": {},
   "outputs": [
    {
     "name": "stdout",
     "output_type": "stream",
     "text": [
      "a          = [2, 3, 5, 2, 6, 2, 2, 7]\n",
      "a.count(1) = 0\n",
      "a.count(2) = 4\n",
      "a.count(3) = 1\n"
     ]
    }
   ],
   "source": [
    "a = [ 2, 3, 5, 2, 6, 2, 2, 7 ]\n",
    "print(\"a          =\", a)\n",
    "print(\"a.count(1) =\", a.count(1))\n",
    "print(\"a.count(2) =\", a.count(2))\n",
    "print(\"a.count(3) =\", a.count(3))"
   ]
  },
  {
   "cell_type": "markdown",
   "metadata": {},
   "source": [
    "- Find index of item: list.index(item) and list.index(item, start)"
   ]
  },
  {
   "cell_type": "code",
   "execution_count": 17,
   "metadata": {},
   "outputs": [
    {
     "name": "stdout",
     "output_type": "stream",
     "text": [
      "a            = [2, 3, 5, 2, 6, 2, 2, 7]\n",
      "a.index(6)   = 4\n",
      "a.index(2)   = 0\n",
      "a.index(2,1) = 3\n",
      "a.index(2,4) = 5\n"
     ]
    }
   ],
   "source": [
    "a = [ 2, 3, 5, 2, 6, 2, 2, 7 ]\n",
    "print(\"a            =\", a)\n",
    "print(\"a.index(6)   =\", a.index(6))\n",
    "print(\"a.index(2)   =\", a.index(2))\n",
    "print(\"a.index(2,1) =\", a.index(2,1))\n",
    "print(\"a.index(2,4) =\", a.index(2,4))"
   ]
  },
  {
   "cell_type": "code",
   "execution_count": null,
   "metadata": {},
   "outputs": [],
   "source": [
    "a = [ 2, 3, 5, 2 ]\n",
    "print(\"a          =\", a)\n",
    "print(\"a.index(9) =\", a.index(9)) # crashes!\n",
    "print(\"This line will not run!\")"
   ]
  },
  {
   "cell_type": "code",
   "execution_count": 18,
   "metadata": {},
   "outputs": [
    {
     "name": "stdout",
     "output_type": "stream",
     "text": [
      "a = [2, 3, 5, 2]\n",
      "9 not in [2, 3, 5, 2]\n",
      "This line will run now!\n"
     ]
    }
   ],
   "source": [
    "a = [ 2, 3, 5, 2 ]\n",
    "print(\"a =\", a)\n",
    "if (9 in a):\n",
    "    print(\"a.index(9) =\", a.index(9))\n",
    "else:\n",
    "    print(\"9 not in\", a)\n",
    "print(\"This line will run now!\")"
   ]
  },
  {
   "cell_type": "markdown",
   "metadata": {},
   "source": [
    "8. Adding Elements\n",
    "- Destructively (Modifying Lists)"
   ]
  },
  {
   "cell_type": "code",
   "execution_count": 19,
   "metadata": {},
   "outputs": [
    {
     "name": "stdout",
     "output_type": "stream",
     "text": [
      "[2, 3, 7]\n"
     ]
    }
   ],
   "source": [
    "a = [ 2, 3 ]\n",
    "a.append(7)\n",
    "print(a)"
   ]
  },
  {
   "cell_type": "code",
   "execution_count": 21,
   "metadata": {},
   "outputs": [
    {
     "name": "stdout",
     "output_type": "stream",
     "text": [
      "[2, 3, 11, 13]\n",
      "[2, 3, 11, 13, 17, 19]\n"
     ]
    }
   ],
   "source": [
    "a = [ 2, 3 ]\n",
    "a += [ 11, 13 ]\n",
    "print(a)\n",
    "a.extend([ 17, 19 ])\n",
    "print(a)"
   ]
  },
  {
   "cell_type": "code",
   "execution_count": 22,
   "metadata": {},
   "outputs": [
    {
     "name": "stdout",
     "output_type": "stream",
     "text": [
      "[2, 3, 42, 5, 7, 11]\n"
     ]
    }
   ],
   "source": [
    "a = [ 2, 3, 5, 7, 11 ]\n",
    "a.insert(2, 42)  # at index 2, insert 42\n",
    "print(a)"
   ]
  },
  {
   "cell_type": "markdown",
   "metadata": {},
   "source": [
    "- Non-Destructively (Creating New Lists)"
   ]
  },
  {
   "cell_type": "code",
   "execution_count": 23,
   "metadata": {},
   "outputs": [
    {
     "name": "stdout",
     "output_type": "stream",
     "text": [
      "[2, 3]\n",
      "[2, 3, 13, 17]\n"
     ]
    }
   ],
   "source": [
    "a = [ 2, 3 ]\n",
    "b = a + [ 13, 17 ]\n",
    "print(a)\n",
    "print(b)"
   ]
  },
  {
   "cell_type": "code",
   "execution_count": 24,
   "metadata": {},
   "outputs": [
    {
     "name": "stdout",
     "output_type": "stream",
     "text": [
      "[2, 3]\n",
      "[2, 3, 5]\n"
     ]
    }
   ],
   "source": [
    "a = [ 2, 3 ]\n",
    "b = a[:2] + [5] + a[2:]\n",
    "print(a)\n",
    "print(b)"
   ]
  },
  {
   "cell_type": "markdown",
   "metadata": {},
   "source": [
    "- Destructive vs Non-Destructive Example"
   ]
  },
  {
   "cell_type": "code",
   "execution_count": 25,
   "metadata": {},
   "outputs": [
    {
     "name": "stdout",
     "output_type": "stream",
     "text": [
      "Destructive:\n",
      "[2, 3, 4]\n",
      "[2, 3, 4]\n",
      "Non-Destructive:\n",
      "[2, 3, 4]\n",
      "[2, 3]\n"
     ]
    }
   ],
   "source": [
    "print(\"Destructive:\")\n",
    "a = [ 2, 3 ]\n",
    "b = a\n",
    "a += [ 4 ]\n",
    "print(a)\n",
    "print(b)\n",
    "\n",
    "print(\"Non-Destructive:\")\n",
    "a = [ 2, 3 ]\n",
    "b = a\n",
    "a = a + [ 4 ] # this overwrites a, but not the alias of b\n",
    "print(a)\n",
    "print(b)"
   ]
  },
  {
   "cell_type": "markdown",
   "metadata": {},
   "source": [
    "9. Removing Elements\n",
    "- Destructively (Modifying Lists)"
   ]
  },
  {
   "cell_type": "code",
   "execution_count": 26,
   "metadata": {},
   "outputs": [
    {
     "name": "stdout",
     "output_type": "stream",
     "text": [
      "a = [2, 3, 5, 3, 7, 6, 5, 11, 13]\n",
      "After a.remove(5), a= [2, 3, 3, 7, 6, 5, 11, 13]\n",
      "After another a.remove(5), a= [2, 3, 3, 7, 6, 11, 13]\n"
     ]
    }
   ],
   "source": [
    "a = [ 2, 3, 5, 3, 7, 6, 5, 11, 13 ]\n",
    "print(\"a =\", a)\n",
    "\n",
    "a.remove(5)\n",
    "print(\"After a.remove(5), a=\", a)\n",
    "\n",
    "a.remove(5)\n",
    "print(\"After another a.remove(5), a=\", a)"
   ]
  },
  {
   "cell_type": "code",
   "execution_count": 27,
   "metadata": {},
   "outputs": [
    {
     "name": "stdout",
     "output_type": "stream",
     "text": [
      "a = [2, 3, 4, 5, 6, 7, 8]\n",
      "After item = a.pop(3)\n",
      "   item = 5\n",
      "   a = [2, 3, 4, 6, 7, 8]\n",
      "After another item = a.pop(3)\n",
      "   item = 6\n",
      "   a = [2, 3, 4, 7, 8]\n",
      "After item = a.pop()\n",
      "   item = 8\n",
      "   a = [2, 3, 4, 7]\n"
     ]
    }
   ],
   "source": [
    "a = [ 2, 3, 4, 5, 6, 7, 8 ]\n",
    "print(\"a =\", a)\n",
    "\n",
    "item = a.pop(3)\n",
    "print(\"After item = a.pop(3)\")\n",
    "print(\"   item =\", item)\n",
    "print(\"   a =\", a)\n",
    "\n",
    "item = a.pop(3)\n",
    "print(\"After another item = a.pop(3)\")\n",
    "print(\"   item =\", item)\n",
    "print(\"   a =\", a)\n",
    "\n",
    "# Remove last item with list.pop()\n",
    "item = a.pop()\n",
    "print(\"After item = a.pop()\")\n",
    "print(\"   item =\", item)\n",
    "print(\"   a =\", a)"
   ]
  },
  {
   "cell_type": "markdown",
   "metadata": {},
   "source": [
    "- Non-Destructively (Creating New Lists)"
   ]
  },
  {
   "cell_type": "code",
   "execution_count": 28,
   "metadata": {},
   "outputs": [
    {
     "name": "stdout",
     "output_type": "stream",
     "text": [
      "a = [2, 3, 5, 3, 7, 5, 11, 13]\n",
      "After b = a[:2] + a[3:]\n",
      "   a = [2, 3, 5, 3, 7, 5, 11, 13]\n",
      "   b = [2, 3, 3, 7, 5, 11, 13]\n"
     ]
    }
   ],
   "source": [
    "a = [ 2, 3, 5, 3, 7, 5, 11, 13 ]\n",
    "print(\"a =\", a)\n",
    "\n",
    "b = a[:2] + a[3:]\n",
    "print(\"After b = a[:2] + a[3:]\")\n",
    "print(\"   a =\", a)\n",
    "print(\"   b =\", b)"
   ]
  },
  {
   "cell_type": "markdown",
   "metadata": {},
   "source": [
    "10. Looping Over Lists\n",
    "- Looping with a normal for loop:"
   ]
  },
  {
   "cell_type": "code",
   "execution_count": 29,
   "metadata": {},
   "outputs": [
    {
     "name": "stdout",
     "output_type": "stream",
     "text": [
      "Here are the items in a with their indexes:\n",
      "a[ 0 ] = 2\n",
      "a[ 1 ] = 3\n",
      "a[ 2 ] = 5\n",
      "a[ 3 ] = 7\n"
     ]
    }
   ],
   "source": [
    "a = [ 2, 3, 5, 7 ]\n",
    "print(\"Here are the items in a with their indexes:\")\n",
    "for index in range(len(a)):\n",
    "    print(\"a[\", index, \"] =\", a[index])"
   ]
  },
  {
   "cell_type": "markdown",
   "metadata": {},
   "source": [
    "- Looping with a for each loop"
   ]
  },
  {
   "cell_type": "code",
   "execution_count": 30,
   "metadata": {},
   "outputs": [
    {
     "name": "stdout",
     "output_type": "stream",
     "text": [
      "Here are the items in a:\n",
      "2\n",
      "3\n",
      "5\n",
      "7\n"
     ]
    }
   ],
   "source": [
    "# Lists and strings are both iterable types.\n",
    "# This means that we can iterate (loop) over them directly!\n",
    "a = [ 2, 3, 5, 7 ]\n",
    "print(\"Here are the items in a:\")\n",
    "for item in a:\n",
    "    print(item)"
   ]
  },
  {
   "cell_type": "markdown",
   "metadata": {},
   "source": [
    "- Hazard: modifying inside a for loop"
   ]
  },
  {
   "cell_type": "code",
   "execution_count": 31,
   "metadata": {},
   "outputs": [
    {
     "name": "stdout",
     "output_type": "stream",
     "text": [
      "a = [2, 3, 5, 3, 7]\n"
     ]
    },
    {
     "ename": "IndexError",
     "evalue": "list index out of range",
     "output_type": "error",
     "traceback": [
      "\u001b[1;31m---------------------------------------------------------------------------\u001b[0m",
      "\u001b[1;31mIndexError\u001b[0m                                Traceback (most recent call last)",
      "\u001b[1;32m<ipython-input-31-1be254f268a7>\u001b[0m in \u001b[0;36m<module>\u001b[1;34m\u001b[0m\n\u001b[0;32m      6\u001b[0m \u001b[1;31m# Failed attempt to remove all the 3's\u001b[0m\u001b[1;33m\u001b[0m\u001b[1;33m\u001b[0m\u001b[1;33m\u001b[0m\u001b[0m\n\u001b[0;32m      7\u001b[0m \u001b[1;32mfor\u001b[0m \u001b[0mindex\u001b[0m \u001b[1;32min\u001b[0m \u001b[0mrange\u001b[0m\u001b[1;33m(\u001b[0m\u001b[0mlen\u001b[0m\u001b[1;33m(\u001b[0m\u001b[0ma\u001b[0m\u001b[1;33m)\u001b[0m\u001b[1;33m)\u001b[0m\u001b[1;33m:\u001b[0m\u001b[1;33m\u001b[0m\u001b[1;33m\u001b[0m\u001b[0m\n\u001b[1;32m----> 8\u001b[1;33m     \u001b[1;32mif\u001b[0m \u001b[1;33m(\u001b[0m\u001b[0ma\u001b[0m\u001b[1;33m[\u001b[0m\u001b[0mindex\u001b[0m\u001b[1;33m]\u001b[0m \u001b[1;33m==\u001b[0m \u001b[1;36m3\u001b[0m\u001b[1;33m)\u001b[0m\u001b[1;33m:\u001b[0m  \u001b[1;31m# this eventually crashes!\u001b[0m\u001b[1;33m\u001b[0m\u001b[1;33m\u001b[0m\u001b[0m\n\u001b[0m\u001b[0;32m      9\u001b[0m         \u001b[0ma\u001b[0m\u001b[1;33m.\u001b[0m\u001b[0mpop\u001b[0m\u001b[1;33m(\u001b[0m\u001b[0mindex\u001b[0m\u001b[1;33m)\u001b[0m\u001b[1;33m\u001b[0m\u001b[1;33m\u001b[0m\u001b[0m\n\u001b[0;32m     10\u001b[0m \u001b[1;33m\u001b[0m\u001b[0m\n",
      "\u001b[1;31mIndexError\u001b[0m: list index out of range"
     ]
    }
   ],
   "source": [
    "# IMPORTANT: don't change a list inside a for loop! The indexes will behave unpredictably.\n",
    "# This isn't a problem for strings because they aren't mutable.\n",
    "a = [ 2, 3, 5, 3, 7 ]\n",
    "print(\"a =\", a)\n",
    "\n",
    "# Failed attempt to remove all the 3's\n",
    "for index in range(len(a)):\n",
    "    if (a[index] == 3):  # this eventually crashes!\n",
    "        a.pop(index)\n",
    "\n",
    "print(\"This line will not run!\")"
   ]
  },
  {
   "cell_type": "markdown",
   "metadata": {},
   "source": [
    "- Also Hazard: modifying inside a for-each loop"
   ]
  },
  {
   "cell_type": "code",
   "execution_count": 32,
   "metadata": {},
   "outputs": [
    {
     "name": "stdout",
     "output_type": "stream",
     "text": [
      "[2, 3, 4]\n"
     ]
    }
   ],
   "source": [
    "# If we remove items in a for-each loop, the loop won't crash,\n",
    "# but it won't behave as we would expect either!\n",
    "\n",
    "a = [3, 3, 2, 3, 4]\n",
    "for item in a:       # this won't reach every item in the list!\n",
    "    if (item == 3):\n",
    "      a.remove(item)\n",
    "print(a) # should be [2, 4], but there's still a 3 in there!"
   ]
  },
  {
   "cell_type": "markdown",
   "metadata": {},
   "source": [
    "- Better: modifying inside a while loop"
   ]
  },
  {
   "cell_type": "code",
   "execution_count": 33,
   "metadata": {},
   "outputs": [
    {
     "name": "stdout",
     "output_type": "stream",
     "text": [
      "a = [2, 3, 5, 3, 7]\n",
      "This line will run!\n",
      "And now a = [2, 5, 7]\n"
     ]
    }
   ],
   "source": [
    "# Modify the list in a while loop instead of a for loop,\n",
    "# to control how indexes \n",
    "\n",
    "a = [ 2, 3, 5, 3, 7 ]\n",
    "print(\"a =\", a)\n",
    "\n",
    "# Successful attempt to remove all the 3's\n",
    "index = 0\n",
    "while (index < len(a)):\n",
    "    if (a[index] == 3):\n",
    "        a.pop(index)\n",
    "    else:\n",
    "        index += 1\n",
    "\n",
    "print(\"This line will run!\")\n",
    "print(\"And now a =\", a)"
   ]
  },
  {
   "cell_type": "markdown",
   "metadata": {},
   "source": [
    "11. List Methods: Sorting and Reversing\n",
    "- Destructively with list.sort() or list.reverse()"
   ]
  },
  {
   "cell_type": "code",
   "execution_count": 34,
   "metadata": {},
   "outputs": [
    {
     "name": "stdout",
     "output_type": "stream",
     "text": [
      "At first, a = [7, 2, 5, 3, 5, 11, 7]\n",
      "After a.sort(), a = [2, 3, 5, 5, 7, 7, 11]\n",
      "Here are the items in reverse:\n",
      "7\n",
      "5\n",
      "3\n",
      "2\n",
      "[7, 5, 3, 2]\n"
     ]
    }
   ],
   "source": [
    "a = [ 7, 2, 5, 3, 5, 11, 7 ]\n",
    "print(\"At first, a =\", a)\n",
    "a.sort()\n",
    "print(\"After a.sort(), a =\",a)\n",
    "\n",
    "a = [ 2, 3, 5, 7 ]\n",
    "print(\"Here are the items in reverse:\")\n",
    "a.reverse()\n",
    "for item in a:\n",
    "    print(item)\n",
    "print(a)"
   ]
  },
  {
   "cell_type": "markdown",
   "metadata": {},
   "source": [
    "- Non-Destructively with sorted(list) and reversed(list)"
   ]
  },
  {
   "cell_type": "code",
   "execution_count": 35,
   "metadata": {},
   "outputs": [
    {
     "name": "stdout",
     "output_type": "stream",
     "text": [
      "At first\n",
      "   a = [7, 2, 5, 3, 5, 11, 7]\n",
      "After b = sorted(a)\n",
      "   a = [7, 2, 5, 3, 5, 11, 7]\n",
      "   b = [2, 3, 5, 5, 7, 7, 11]\n",
      "Here are the items in reverse:\n",
      "7\n",
      "5\n",
      "3\n",
      "2\n",
      "[2, 3, 5, 7]\n"
     ]
    }
   ],
   "source": [
    "a = [ 7, 2, 5, 3, 5, 11, 7 ]\n",
    "print(\"At first\")\n",
    "print(\"   a =\", a)\n",
    "b = sorted(a)\n",
    "print(\"After b = sorted(a)\")\n",
    "print(\"   a =\", a)\n",
    "print(\"   b =\", b)\n",
    "\n",
    "a = [ 2, 3, 5, 7 ]\n",
    "print(\"Here are the items in reverse:\")\n",
    "for item in reversed(a):\n",
    "    print(item)\n",
    "print(a)"
   ]
  },
  {
   "cell_type": "markdown",
   "metadata": {},
   "source": [
    "- More list methods\n",
    "\n",
    "See docs"
   ]
  },
  {
   "cell_type": "markdown",
   "metadata": {},
   "source": [
    "# Additional Information\n",
    "12. Tuples (Immutable Lists)\n",
    "- Tuple syntax"
   ]
  },
  {
   "cell_type": "code",
   "execution_count": 36,
   "metadata": {},
   "outputs": [
    {
     "name": "stdout",
     "output_type": "stream",
     "text": [
      "<class 'tuple'> 3 (1, 2, 3)\n",
      "<class 'tuple'> 3 (1, 2, 3)\n"
     ]
    }
   ],
   "source": [
    "t = (1, 2, 3)\n",
    "print(type(t), len(t), t)\n",
    "\n",
    "a = [1, 2, 3]\n",
    "t = tuple(a)\n",
    "print(type(t), len(t), t)"
   ]
  },
  {
   "cell_type": "markdown",
   "metadata": {},
   "source": [
    "- Tuples are immutable"
   ]
  },
  {
   "cell_type": "code",
   "execution_count": 37,
   "metadata": {},
   "outputs": [
    {
     "name": "stdout",
     "output_type": "stream",
     "text": [
      "1\n"
     ]
    },
    {
     "ename": "TypeError",
     "evalue": "'tuple' object does not support item assignment",
     "output_type": "error",
     "traceback": [
      "\u001b[1;31m---------------------------------------------------------------------------\u001b[0m",
      "\u001b[1;31mTypeError\u001b[0m                                 Traceback (most recent call last)",
      "\u001b[1;32m<ipython-input-37-de9feda473c7>\u001b[0m in \u001b[0;36m<module>\u001b[1;34m\u001b[0m\n\u001b[0;32m      2\u001b[0m \u001b[0mprint\u001b[0m\u001b[1;33m(\u001b[0m\u001b[0mt\u001b[0m\u001b[1;33m[\u001b[0m\u001b[1;36m0\u001b[0m\u001b[1;33m]\u001b[0m\u001b[1;33m)\u001b[0m\u001b[1;33m\u001b[0m\u001b[1;33m\u001b[0m\u001b[0m\n\u001b[0;32m      3\u001b[0m \u001b[1;33m\u001b[0m\u001b[0m\n\u001b[1;32m----> 4\u001b[1;33m \u001b[0mt\u001b[0m\u001b[1;33m[\u001b[0m\u001b[1;36m0\u001b[0m\u001b[1;33m]\u001b[0m \u001b[1;33m=\u001b[0m \u001b[1;36m42\u001b[0m    \u001b[1;31m# crash!\u001b[0m\u001b[1;33m\u001b[0m\u001b[1;33m\u001b[0m\u001b[0m\n\u001b[0m\u001b[0;32m      5\u001b[0m \u001b[0mprint\u001b[0m\u001b[1;33m(\u001b[0m\u001b[0mt\u001b[0m\u001b[1;33m[\u001b[0m\u001b[1;36m0\u001b[0m\u001b[1;33m]\u001b[0m\u001b[1;33m)\u001b[0m\u001b[1;33m\u001b[0m\u001b[1;33m\u001b[0m\u001b[0m\n",
      "\u001b[1;31mTypeError\u001b[0m: 'tuple' object does not support item assignment"
     ]
    }
   ],
   "source": [
    "t = (1, 2, 3)\n",
    "print(t[0])\n",
    "\n",
    "t[0] = 42    # crash!\n",
    "print(t[0])"
   ]
  },
  {
   "cell_type": "markdown",
   "metadata": {},
   "source": [
    "- Parallel (tuple) assignment"
   ]
  },
  {
   "cell_type": "code",
   "execution_count": 38,
   "metadata": {},
   "outputs": [
    {
     "name": "stdout",
     "output_type": "stream",
     "text": [
      "1\n",
      "2\n",
      "2\n",
      "1\n"
     ]
    }
   ],
   "source": [
    "(x, y) = (1, 2)\n",
    "print(x)\n",
    "print(y)\n",
    "\n",
    "# tuples are useful for swapping!\n",
    "(x, y) = (y, x)\n",
    "print(x)\n",
    "print(y)"
   ]
  },
  {
   "cell_type": "markdown",
   "metadata": {},
   "source": [
    "- Singleton tuple syntax"
   ]
  },
  {
   "cell_type": "code",
   "execution_count": 39,
   "metadata": {},
   "outputs": [
    {
     "name": "stdout",
     "output_type": "stream",
     "text": [
      "<class 'int'> 210\n",
      "<class 'tuple'> (42, 42, 42, 42, 42)\n"
     ]
    }
   ],
   "source": [
    "t = (42)\n",
    "print(type(t), t*5)\n",
    "\n",
    "t = (42,) # use a comma to force the type\n",
    "print(type(t), t*5)"
   ]
  },
  {
   "cell_type": "markdown",
   "metadata": {},
   "source": [
    "13. List Comprehensions"
   ]
  },
  {
   "cell_type": "code",
   "execution_count": 40,
   "metadata": {},
   "outputs": [
    {
     "name": "stdout",
     "output_type": "stream",
     "text": [
      "[0, 1, 2, 3, 4, 5, 6, 7, 8, 9]\n",
      "[0, 1, 2, 3, 4, 5, 6, 7, 8, 9]\n",
      "[0, 500, 1000, 1500]\n"
     ]
    }
   ],
   "source": [
    "# Long way\n",
    "a = []\n",
    "for i in range(10):\n",
    "    a.append(i)\n",
    "print(a)\n",
    "\n",
    "# Short way\n",
    "a = [i for i in range(10)]\n",
    "print(a)\n",
    "\n",
    "# We can also add conditionals at the end (but keep it simple!)\n",
    "a = [(i*100) for i in range(20) if i%5 == 0]\n",
    "print(a)"
   ]
  },
  {
   "cell_type": "markdown",
   "metadata": {},
   "source": [
    "14. Converting Between Lists and Strings"
   ]
  },
  {
   "cell_type": "code",
   "execution_count": 41,
   "metadata": {},
   "outputs": [
    {
     "name": "stdout",
     "output_type": "stream",
     "text": [
      "['w', 'a', 'h', 'o', 'o', '!']\n",
      "['How', 'are', 'you', 'doing', 'today?']\n",
      "Howareyoudoingtoday?\n",
      "parsleyisgharsley\n",
      "parsley is gharsley\n"
     ]
    }
   ],
   "source": [
    "# use list(s) to convert a string to a list of characters\n",
    "a = list(\"wahoo!\")\n",
    "print(a)  # prints: ['w', 'a', 'h', 'o', 'o', '!']\n",
    "\n",
    "# use s1.split(s2) to convert a string to a list of strings delimited by s2\n",
    "a = \"How are you doing today?\".split(\" \")\n",
    "print(a) # prints ['How', 'are', 'you', 'doing', 'today?']\n",
    "\n",
    "# use \"\".join(a) to convert a list of characters to a single string\n",
    "print(\"\".join(a))  # prints: Howareyoudoingtoday?\n",
    "\n",
    "# \"\".join(a) also works on a list of strings (not just single characters)\n",
    "a = [\"parsley\", \"is\", \"gharsley\"] # by Ogden Nash!\n",
    "print(\"\".join(a))  # prints: parsleyisgharsley\n",
    "print(\" \".join(a)) # prints: parsley is gharsley"
   ]
  },
  {
   "cell_type": "markdown",
   "metadata": {},
   "source": [
    "15. Worked Examples Using Lists\n",
    "\n",
    "If you want to review more examples of problem-solving with lists, you can find several worked examples here. We'll go over some of these in class as well."
   ]
  }
 ],
 "metadata": {
  "kernelspec": {
   "display_name": "Python 3",
   "language": "python",
   "name": "python3"
  },
  "language_info": {
   "codemirror_mode": {
    "name": "ipython",
    "version": 3
   },
   "file_extension": ".py",
   "mimetype": "text/x-python",
   "name": "python",
   "nbconvert_exporter": "python",
   "pygments_lexer": "ipython3",
   "version": "3.7.3"
  }
 },
 "nbformat": 4,
 "nbformat_minor": 4
}
