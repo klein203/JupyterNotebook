{
 "cells": [
  {
   "cell_type": "markdown",
   "metadata": {},
   "source": [
    "1. Writing Classes"
   ]
  },
  {
   "cell_type": "code",
   "execution_count": null,
   "metadata": {},
   "outputs": [],
   "source": [
    "# Create our own class:\n",
    "class Dog(object):\n",
    "    # a class must have a body, even if it does nothing, so we will\n",
    "    # use 'pass' for now...\n",
    "    pass\n",
    "\n",
    "# Create instances of our class:\n",
    "d1 = Dog()\n",
    "d2 = Dog()\n",
    "\n",
    "# Verify the type of these instances:\n",
    "print(type(d1))             # Dog (actually, class '__main__.Dog')\n",
    "print(isinstance(d2, Dog))  # True\n",
    "\n",
    "# Set and get properties (aka 'fields' or 'attributes') of these instances:\n",
    "d1.name = 'Dot'\n",
    "d1.age = 4\n",
    "d2.name = 'Elf'\n",
    "d2.age = 3\n",
    "print(d1.name, d1.age) # Dot 4\n",
    "print(d2.name, d2.age) # Elf 3"
   ]
  },
  {
   "cell_type": "markdown",
   "metadata": {},
   "source": [
    "2. Writing Constructors"
   ]
  },
  {
   "cell_type": "code",
   "execution_count": null,
   "metadata": {},
   "outputs": [],
   "source": [
    "class Dog(object):\n",
    "    def __init__(self, name, age):\n",
    "        # pre-load the dog instance with the given name and age:\n",
    "        self.name = name\n",
    "        self.age = age\n",
    " \n",
    "# Create instances of our class, using our new constructor\n",
    "d1 = Dog('Dot', 4)\n",
    "d2 = Dog('Elf', 3)\n",
    "\n",
    "print(d1.name, d1.age) # Dot 4\n",
    "print(d2.name, d2.age) # Elf 3"
   ]
  },
  {
   "cell_type": "markdown",
   "metadata": {},
   "source": [
    "3. Writing Methods\n",
    "- Start with a function:"
   ]
  },
  {
   "cell_type": "code",
   "execution_count": null,
   "metadata": {},
   "outputs": [],
   "source": [
    "class Dog(object):\n",
    "    def __init__(self, name, age):\n",
    "        self.name = name\n",
    "        self.age = age\n",
    "\n",
    "# Here is a function we will turn into a method:\n",
    "def sayHi(dog):\n",
    "    print(f'Hi, my name is {dog.name} and I am {dog.age} years old!')\n",
    "\n",
    "d1 = Dog('Dot', 4)\n",
    "d2 = Dog('Elf', 3)\n",
    "\n",
    "sayHi(d1) # Hi, my name is Dot and I am 4 years old!\n",
    "sayHi(d2) # Hi, my name is Elf and I am 3 years old!"
   ]
  },
  {
   "cell_type": "markdown",
   "metadata": {},
   "source": [
    "- Turn the function into a method, and the function call into a method call, like this:"
   ]
  },
  {
   "cell_type": "code",
   "execution_count": null,
   "metadata": {},
   "outputs": [],
   "source": [
    "class Dog(object):\n",
    "    def __init__(self, name, age):\n",
    "        self.name = name\n",
    "        self.age = age\n",
    "\n",
    "    # Now it is a method (simply by indenting it inside the class!)\n",
    "    def sayHi(dog):\n",
    "        print(f'Hi, my name is {dog.name} and I am {dog.age} years old!')\n",
    "\n",
    "d1 = Dog('Dot', 4)\n",
    "d2 = Dog('Elf', 3)\n",
    "\n",
    "# Notice how we change the function calls into method calls:\n",
    "\n",
    "d1.sayHi() # Hi, my name is Dot and I am 4 years old!\n",
    "d2.sayHi() # Hi, my name is Elf and I am 3 years old!"
   ]
  },
  {
   "cell_type": "markdown",
   "metadata": {},
   "source": [
    "- Finally, use self, as convention requires:"
   ]
  },
  {
   "cell_type": "code",
   "execution_count": null,
   "metadata": {},
   "outputs": [],
   "source": [
    "class Dog(object):\n",
    "    def __init__(self, name, age):\n",
    "        self.name = name\n",
    "        self.age = age\n",
    "\n",
    "    # Now we are using self, as convention requires:\n",
    "    def sayHi(self):\n",
    "        print(f'Hi, my name is {self.name} and I am {self.age} years old!')\n",
    "\n",
    "d1 = Dog('Dot', 4)\n",
    "d2 = Dog('Elf', 3)\n",
    "\n",
    "# Notice how we change the function calls into method calls:\n",
    "\n",
    "d1.sayHi() # Hi, my name is Dot and I am 4 years old!\n",
    "d2.sayHi() # Hi, my name is Elf and I am 3 years old!"
   ]
  },
  {
   "cell_type": "markdown",
   "metadata": {},
   "source": [
    "- Methods can take additional parameters, like so:"
   ]
  },
  {
   "cell_type": "code",
   "execution_count": null,
   "metadata": {},
   "outputs": [],
   "source": [
    "class Dog(object):\n",
    "    def __init__(self, name, age):\n",
    "        self.name = name\n",
    "        self.age = age\n",
    "\n",
    "    # This method takes a second parameter -- times\n",
    "    def bark(self, times):\n",
    "        print(f'{self.name} says: {\"woof!\" * times}')\n",
    "\n",
    "d = Dog('Dot', 4)\n",
    "\n",
    "d.bark(1) # Dot says: woof!\n",
    "d.bark(4) # Dot says: woof!woof!woof!woof!"
   ]
  },
  {
   "cell_type": "markdown",
   "metadata": {},
   "source": [
    "- Methods can also set properties, like so:"
   ]
  },
  {
   "cell_type": "code",
   "execution_count": null,
   "metadata": {},
   "outputs": [],
   "source": [
    "class Dog(object):\n",
    "    def __init__(self, name, age):\n",
    "        self.name = name\n",
    "        self.age = age\n",
    "        self.woofCount = 0   # we initialize the property in the constructor!\n",
    "\n",
    "    def bark(self, times):\n",
    "        # Then we can set and get the property in this method\n",
    "        self.woofCount += times\n",
    "        print(f'{self.name} says: {\"woof!\" * times} ({self.woofCount} woofs!)')\n",
    "\n",
    "d = Dog('Dot', 4)\n",
    "\n",
    "d.bark(1) # Dot says: woof!\n",
    "d.bark(4) # Dot says: woof!woof!woof!woof!"
   ]
  },
  {
   "cell_type": "markdown",
   "metadata": {},
   "source": [
    "4. Advantages of Classes and Methods\n",
    "- Encapsulation\n",
    "  - Organizes code\n",
    "\n",
    "    A class includes the data and methods for that class.\n",
    "  - Promotes intuitive design\n",
    "\n",
    "    Well-designed classes should be intuitive, so the data and methods in the class match commonsense expectations.\n",
    "  - Restricts access\n",
    "    - len is a function, so we can call len(True) (which crashes)\n",
    "    - upper is a method on strings but not booleans, so we cannot even call True.upper()\n",
    "- Polymorphism"
   ]
  },
  {
   "cell_type": "code",
   "execution_count": null,
   "metadata": {},
   "outputs": [],
   "source": [
    "class Dog(object):\n",
    "    def speak(self):\n",
    "        print('woof!')\n",
    "\n",
    "class Cat(object):\n",
    "    def speak(self):\n",
    "        print('meow!')\n",
    "\n",
    "for animal in [ Dog(), Cat() ]:\n",
    "    animal.speak() # same method name, but one woofs and one meows!"
   ]
  }
 ],
 "metadata": {
  "kernelspec": {
   "display_name": "Python 3",
   "language": "python",
   "name": "python3"
  },
  "language_info": {
   "codemirror_mode": {
    "name": "ipython",
    "version": 3
   },
   "file_extension": ".py",
   "mimetype": "text/x-python",
   "name": "python",
   "nbconvert_exporter": "python",
   "pygments_lexer": "ipython3",
   "version": "3.7.3"
  }
 },
 "nbformat": 4,
 "nbformat_minor": 4
}
