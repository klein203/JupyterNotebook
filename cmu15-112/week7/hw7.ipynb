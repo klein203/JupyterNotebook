{
 "cells": [
  {
   "cell_type": "code",
   "execution_count": 2,
   "metadata": {},
   "outputs": [
    {
     "name": "stdout",
     "output_type": "stream",
     "text": [
      "Quitting previous version of  TopLevelApp.\n",
      "Traceback (most recent call last):\n",
      "  File \"D:\\JupyterNotebook\\cmu15-112\\week7\\hw7.py\", line 153, in timerFired\n",
      "    removeFullRows(app)\n",
      "  File \"D:\\JupyterNotebook\\cmu15-112\\week7\\hw7.py\", line 267, in removeFullRows\n",
      "    updateDroppingSpeed(app)\n",
      "  File \"D:\\JupyterNotebook\\cmu15-112\\week7\\hw7.py\", line 296, in updateDroppingSpeed\n",
      "    level = (app.removedLines - 1) // app.SETTING[\"LINES_PER_LEVEL_UP\"] + 1\n",
      "Exception: 'TopLevelApp' object has no attribute 'removedLines'\n",
      "*** Closing TopLevelApp.  Bye! ***\n",
      "\n"
     ]
    }
   ],
   "source": [
    "import hw7\n",
    "import cs112_f19_week7_linter\n",
    "\n",
    "from imp import reload\n",
    "reload(hw7)\n",
    "\n",
    "# cs112_f19_week7_linter.lint(filename='hw7.py')\n",
    "hw7.playTetris()"
   ]
  }
 ],
 "metadata": {
  "kernelspec": {
   "display_name": "Python 3",
   "language": "python",
   "name": "python3"
  },
  "language_info": {
   "codemirror_mode": {
    "name": "ipython",
    "version": 3
   },
   "file_extension": ".py",
   "mimetype": "text/x-python",
   "name": "python",
   "nbconvert_exporter": "python",
   "pygments_lexer": "ipython3",
   "version": "3.7.3"
  }
 },
 "nbformat": 4,
 "nbformat_minor": 4
}
