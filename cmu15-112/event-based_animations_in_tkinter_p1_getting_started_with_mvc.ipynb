{
 "cells": [
  {
   "cell_type": "markdown",
   "metadata": {},
   "source": [
    "# Our First Example: A KeyPress Counter"
   ]
  },
  {
   "cell_type": "code",
   "execution_count": 10,
   "metadata": {
    "collapsed": true,
    "jupyter": {
     "outputs_hidden": true
    }
   },
   "outputs": [
    {
     "name": "stdout",
     "output_type": "stream",
     "text": [
      "Quitting previous version of  TopLevelApp.\n",
      "2\n",
      "3\n",
      "4\n",
      "3\n",
      "4\n",
      "5\n",
      "f\n",
      "d\n",
      "s\n",
      "g\n",
      "f\n",
      "d\n",
      "f\n",
      "*** Closing TopLevelApp.  Bye! ***\n",
      "\n"
     ]
    },
    {
     "data": {
      "text/plain": [
       "<cmu_112_graphics.TopLevelApp at 0x6587b70>"
      ]
     },
     "execution_count": 10,
     "metadata": {},
     "output_type": "execute_result"
    }
   ],
   "source": [
    "from cmu_112_graphics import *\n",
    "from tkinter import *\n",
    "\n",
    "def appStarted(app):\n",
    "    app.counter = 0\n",
    "\n",
    "def keyPressed(app, event):\n",
    "    print(event.key)\n",
    "    app.counter += 1\n",
    "\n",
    "def redrawAll(app, canvas):\n",
    "    canvas.create_text(app.width/2, app.height/2, text=f'{app.counter} keypresses', font='Arial 30 bold')\n",
    "\n",
    "runApp(width=400, height=400)"
   ]
  },
  {
   "cell_type": "markdown",
   "metadata": {},
   "source": [
    "# Model-View-Controller (MVC)\n",
    "Note:\n",
    "- We will write animations using the Model-View-Controller (MVC) paradigm.\n",
    "- The **model** contains all the data we need for the animation. We can store the model in the app object's attributes.\n",
    "\n",
    "  In the example above, app.counter is our model.\n",
    "- The **view** draws the app using the values in the model.\n",
    "\n",
    "  In the example above, redrawAll is our view.\n",
    "- The **controller** responds to keyboard, mouse, timer and other events and updates the model.\n",
    "  \n",
    "  In the example above, keyPressed is our controller.\n",
    "\n",
    "And...\n",
    "- You never call the view or the controllers. The animation framework calls these for you.\n",
    "\n",
    "  In the example above, we never call redrawAll or keyPressed. They are called for us.\n",
    "- Controllers can only update the model, they cannot update the view.\n",
    "\n",
    "  In the example above, keyPressed cannot call redrawAll.\n",
    "- The view can never update the model.\n",
    "\n",
    "  In the example above, redrawAll cannot change app.counter or any other values in the model.\n",
    "- If you violate these rules, it is called an **MVC Violation**. If that happens, your code will stop running and will display the runtime error for you."
   ]
  },
  {
   "cell_type": "markdown",
   "metadata": {},
   "source": [
    "# Legal event.key values"
   ]
  },
  {
   "cell_type": "code",
   "execution_count": 11,
   "metadata": {},
   "outputs": [
    {
     "name": "stdout",
     "output_type": "stream",
     "text": [
      "Quitting previous version of  TopLevelApp.\n",
      "*** Closing TopLevelApp.  Bye! ***\n",
      "\n"
     ]
    },
    {
     "data": {
      "text/plain": [
       "<cmu_112_graphics.TopLevelApp at 0x4ee8f98>"
      ]
     },
     "execution_count": 11,
     "metadata": {},
     "output_type": "execute_result"
    }
   ],
   "source": [
    "# Note: Tkinter uses event.keysym for some keys, and event.char\n",
    "# for others, and it can be confusing how to use these properly.\n",
    "# Instead, cmu_112_graphics replaces both of these with event.key,\n",
    "# which simply works as expected in all cases.\n",
    "\n",
    "from cmu_112_graphics import *\n",
    "from tkinter import *\n",
    "\n",
    "def appStarted(app):\n",
    "    app.message = 'Press any key'\n",
    "\n",
    "def keyPressed(app, event):\n",
    "    app.message = f\"event.key == '{event.key}'\"\n",
    "\n",
    "def redrawAll(app, canvas):\n",
    "    canvas.create_text(app.width/2, 40, text=app.message, font='Arial 30 bold')\n",
    "    \n",
    "    keyNamesText = '''Here are the legal event.key names:\n",
    "                      * Keyboard key labels (letters, digits, punctuation)\n",
    "                      * Arrow directions ('Up', 'Down', 'Left', 'Right')\n",
    "                      * Whitespace ('Space', 'Enter', 'Tab', 'Backspace')\n",
    "                      * Other commands ('Delete', 'Escape')'''\n",
    "\n",
    "    y = 80\n",
    "    for line in keyNamesText.splitlines():\n",
    "        canvas.create_text(app.width/2, y, text=line.strip(), font='Arial 20')\n",
    "        y += 30\n",
    "\n",
    "runApp(width=600, height=400)"
   ]
  },
  {
   "cell_type": "markdown",
   "metadata": {},
   "source": [
    "# Moving a Dot with Key Presses\n",
    "## Moving a Dot with Arrows"
   ]
  },
  {
   "cell_type": "code",
   "execution_count": 15,
   "metadata": {},
   "outputs": [
    {
     "name": "stdout",
     "output_type": "stream",
     "text": [
      "Quitting previous version of  TopLevelApp.\n",
      "*** Closing TopLevelApp.  Bye! ***\n",
      "\n"
     ]
    },
    {
     "data": {
      "text/plain": [
       "<cmu_112_graphics.TopLevelApp at 0x52b1cf8>"
      ]
     },
     "execution_count": 15,
     "metadata": {},
     "output_type": "execute_result"
    }
   ],
   "source": [
    "from cmu_112_graphics import *\n",
    "from tkinter import *\n",
    "\n",
    "def appStarted(app):\n",
    "    app.cx = app.width/2\n",
    "    app.cy = app.height/2\n",
    "    app.r = 40\n",
    "\n",
    "def keyPressed(app, event):\n",
    "    if (event.key == 'Left'):\n",
    "        app.cx -= 10\n",
    "    elif (event.key == 'Right'):\n",
    "        app.cx += 10\n",
    "\n",
    "def redrawAll(app, canvas):\n",
    "    canvas.create_text(app.width/2, 20,\n",
    "                       text='Move dot with left and right arrows')\n",
    "    canvas.create_oval(app.cx-app.r, app.cy-app.r,\n",
    "                       app.cx+app.r, app.cy+app.r,\n",
    "                       fill='darkGreen')\n",
    "\n",
    "runApp(width=400, height=400)"
   ]
  },
  {
   "cell_type": "markdown",
   "metadata": {},
   "source": [
    "## Moving a Dot with Arrows and Bounds"
   ]
  },
  {
   "cell_type": "code",
   "execution_count": 14,
   "metadata": {},
   "outputs": [
    {
     "name": "stdout",
     "output_type": "stream",
     "text": [
      "Quitting previous version of  TopLevelApp.\n",
      "*** Closing TopLevelApp.  Bye! ***\n",
      "\n"
     ]
    },
    {
     "data": {
      "text/plain": [
       "<cmu_112_graphics.TopLevelApp at 0x52b17b8>"
      ]
     },
     "execution_count": 14,
     "metadata": {},
     "output_type": "execute_result"
    }
   ],
   "source": [
    "# This version bounds the dot to remain entirely on the canvas\n",
    "\n",
    "from cmu_112_graphics import *\n",
    "from tkinter import *\n",
    "\n",
    "def appStarted(app):\n",
    "    app.cx = app.width/2\n",
    "    app.cy = app.height/2\n",
    "    app.r = 40\n",
    "\n",
    "def keyPressed(app, event):\n",
    "    if (event.key == 'Left'):\n",
    "        app.cx -= 10\n",
    "        if (app.cx - app.r < 0):\n",
    "          app.cx = app.r\n",
    "    elif (event.key == 'Right'):\n",
    "        app.cx += 10\n",
    "        if (app.cx + app.r > app.width):\n",
    "          app.cx = app.width - app.r\n",
    "\n",
    "def redrawAll(app, canvas):\n",
    "    canvas.create_text(app.width/2, 20,\n",
    "                       text='Move dot with left and right arrows')\n",
    "    canvas.create_text(app.width/2, 40,\n",
    "                       text='See how it is bounded by the canvas edges')\n",
    "    canvas.create_oval(app.cx-app.r, app.cy-app.r,\n",
    "                       app.cx+app.r, app.cy+app.r,\n",
    "                       fill='darkGreen')\n",
    "\n",
    "runApp(width=400, height=400)"
   ]
  },
  {
   "cell_type": "markdown",
   "metadata": {},
   "source": [
    "## Moving a Dot with Arrows and Wraparound"
   ]
  },
  {
   "cell_type": "code",
   "execution_count": 16,
   "metadata": {},
   "outputs": [
    {
     "name": "stdout",
     "output_type": "stream",
     "text": [
      "Quitting previous version of  TopLevelApp.\n",
      "*** Closing TopLevelApp.  Bye! ***\n",
      "\n"
     ]
    },
    {
     "data": {
      "text/plain": [
       "<cmu_112_graphics.TopLevelApp at 0x4c8dba8>"
      ]
     },
     "execution_count": 16,
     "metadata": {},
     "output_type": "execute_result"
    }
   ],
   "source": [
    "# This version wraps around, so leaving one side enters the opposite side\n",
    "\n",
    "from cmu_112_graphics import *\n",
    "from tkinter import *\n",
    "\n",
    "def appStarted(app):\n",
    "    app.cx = app.width/2\n",
    "    app.cy = app.height/2\n",
    "    app.r = 40\n",
    "\n",
    "def keyPressed(app, event):\n",
    "    if (event.key == 'Left'):\n",
    "        app.cx -= 10\n",
    "        if (app.cx + app.r <= 0):\n",
    "          app.cx = app.width + app.r\n",
    "    elif (event.key == 'Right'):\n",
    "        app.cx += 10\n",
    "        if (app.cx - app.r >= app.width):\n",
    "          app.cx = 0 - app.r\n",
    "\n",
    "def redrawAll(app, canvas):\n",
    "    canvas.create_text(app.width/2, 20,\n",
    "                       text='Move dot with left and right arrows')\n",
    "    canvas.create_text(app.width/2, 40,\n",
    "                       text='See how it uses wraparound on the edges')\n",
    "    canvas.create_oval(app.cx-app.r, app.cy-app.r,\n",
    "                       app.cx+app.r, app.cy+app.r,\n",
    "                       fill='darkGreen')\n",
    "\n",
    "runApp(width=400, height=400)"
   ]
  },
  {
   "cell_type": "markdown",
   "metadata": {},
   "source": [
    "## Moving a Dot in Two Dimensions"
   ]
  },
  {
   "cell_type": "code",
   "execution_count": 17,
   "metadata": {},
   "outputs": [
    {
     "name": "stdout",
     "output_type": "stream",
     "text": [
      "Quitting previous version of  TopLevelApp.\n",
      "*** Closing TopLevelApp.  Bye! ***\n",
      "\n"
     ]
    },
    {
     "data": {
      "text/plain": [
       "<cmu_112_graphics.TopLevelApp at 0x52b1828>"
      ]
     },
     "execution_count": 17,
     "metadata": {},
     "output_type": "execute_result"
    }
   ],
   "source": [
    "# This version moves in both x and y dimensions.\n",
    "\n",
    "from cmu_112_graphics import *\n",
    "from tkinter import *\n",
    "\n",
    "def appStarted(app):\n",
    "    app.cx = app.width/2\n",
    "    app.cy = app.height/2\n",
    "    app.r = 40\n",
    "\n",
    "def keyPressed(app, event):\n",
    "    if (event.key == 'Left'):    app.cx -= 10\n",
    "    elif (event.key == 'Right'): app.cx += 10\n",
    "    elif (event.key == 'Up'):    app.cy -= 10\n",
    "    elif (event.key == 'Down'):  app.cy += 10\n",
    "\n",
    "def redrawAll(app, canvas):\n",
    "    canvas.create_text(app.width/2, 20,\n",
    "                       text='Move dot with up, down, left, and right arrows')\n",
    "    canvas.create_oval(app.cx-app.r, app.cy-app.r,\n",
    "                       app.cx+app.r, app.cy+app.r,\n",
    "                       fill='darkGreen')\n",
    "\n",
    "runApp(width=400, height=400)"
   ]
  },
  {
   "cell_type": "markdown",
   "metadata": {},
   "source": [
    "## Moving a Dot with Mouse Presses"
   ]
  },
  {
   "cell_type": "code",
   "execution_count": 18,
   "metadata": {},
   "outputs": [
    {
     "name": "stdout",
     "output_type": "stream",
     "text": [
      "Quitting previous version of  TopLevelApp.\n",
      "*** Closing TopLevelApp.  Bye! ***\n",
      "\n"
     ]
    },
    {
     "data": {
      "text/plain": [
       "<cmu_112_graphics.TopLevelApp at 0x52b1710>"
      ]
     },
     "execution_count": 18,
     "metadata": {},
     "output_type": "execute_result"
    }
   ],
   "source": [
    "from cmu_112_graphics import *\n",
    "from tkinter import *\n",
    "\n",
    "def appStarted(app):\n",
    "    app.cx = app.width/2\n",
    "    app.cy = app.height/2\n",
    "    app.r = 40\n",
    "\n",
    "def mousePressed(app, event):\n",
    "    app.cx = event.x\n",
    "    app.cy = event.y\n",
    "\n",
    "def redrawAll(app, canvas):\n",
    "    canvas.create_text(app.width/2, 20,\n",
    "                       text='Move dot with mouse presses')\n",
    "    canvas.create_oval(app.cx-app.r, app.cy-app.r,\n",
    "                       app.cx+app.r, app.cy+app.r,\n",
    "                       fill='darkGreen')\n",
    "\n",
    "runApp(width=400, height=400)"
   ]
  },
  {
   "cell_type": "markdown",
   "metadata": {},
   "source": [
    "## Moving a Dot with a Timer"
   ]
  },
  {
   "cell_type": "code",
   "execution_count": 19,
   "metadata": {},
   "outputs": [
    {
     "name": "stdout",
     "output_type": "stream",
     "text": [
      "Quitting previous version of  TopLevelApp.\n",
      "*** Closing TopLevelApp.  Bye! ***\n",
      "\n"
     ]
    },
    {
     "data": {
      "text/plain": [
       "<cmu_112_graphics.TopLevelApp at 0x52b1400>"
      ]
     },
     "execution_count": 19,
     "metadata": {},
     "output_type": "execute_result"
    }
   ],
   "source": [
    "from cmu_112_graphics import *\n",
    "from tkinter import *\n",
    "\n",
    "def appStarted(app):\n",
    "    app.cx = app.width/2\n",
    "    app.cy = app.height/2\n",
    "    app.r = 40\n",
    "\n",
    "def timerFired(app):\n",
    "    app.cx -= 10\n",
    "    if (app.cx + app.r <= 0):\n",
    "        app.cx = app.width + app.r\n",
    "\n",
    "def redrawAll(app, canvas):\n",
    "    canvas.create_text(app.width/2, 20,\n",
    "                       text='Watch the dot move!')\n",
    "    canvas.create_oval(app.cx-app.r, app.cy-app.r,\n",
    "                       app.cx+app.r, app.cy+app.r,\n",
    "                       fill='darkGreen')\n",
    "\n",
    "runApp(width=400, height=400)"
   ]
  },
  {
   "cell_type": "markdown",
   "metadata": {},
   "source": [
    "# MVC Violations\n",
    "## Cannot change the model while drawing the view"
   ]
  },
  {
   "cell_type": "code",
   "execution_count": 20,
   "metadata": {},
   "outputs": [
    {
     "name": "stdout",
     "output_type": "stream",
     "text": [
      "Quitting previous version of  TopLevelApp.\n",
      "Traceback (most recent call last):\n",
      "  File \"<ipython-input-20-635f51fa725e>\", line 11, in redrawAll\n",
      "    app.x = 10 # This is an MVC Violation!\n",
      "Exception: MVC Violation: you may not change app.x in the model while in redrawAll (the view)\n",
      "*** Closing TopLevelApp.  Bye! ***\n",
      "\n"
     ]
    },
    {
     "data": {
      "text/plain": [
       "<cmu_112_graphics.TopLevelApp at 0x4cbfe48>"
      ]
     },
     "execution_count": 20,
     "metadata": {},
     "output_type": "execute_result"
    }
   ],
   "source": [
    "from cmu_112_graphics import *\n",
    "from tkinter import *\n",
    "\n",
    "def appStarted(app):\n",
    "    app.x = 0\n",
    "\n",
    "def redrawAll(app, canvas):\n",
    "    canvas.create_text(app.width/2, 20,\n",
    "                       text='This has an MVC Violation!')\n",
    "\n",
    "    app.x = 10 # This is an MVC Violation!\n",
    "               # We cannot change the model from the view (redrawAll)\n",
    "\n",
    "runApp(width=400, height=400)"
   ]
  },
  {
   "cell_type": "markdown",
   "metadata": {},
   "source": [
    "## Once again, but with a mutable value (such as a list)"
   ]
  },
  {
   "cell_type": "code",
   "execution_count": 2,
   "metadata": {},
   "outputs": [
    {
     "name": "stdout",
     "output_type": "stream",
     "text": [
      "Quitting previous version of  TopLevelApp.\n",
      "Traceback (most recent call last):\n",
      "    No traceback available. Error occurred in redrawAll.\n",
      "Exception: MVC Violation: you may not change the app state (the model) in redrawAll (the view)\n",
      "*** Closing TopLevelApp.  Bye! ***\n",
      "\n"
     ]
    },
    {
     "data": {
      "text/plain": [
       "<cmu_112_graphics.TopLevelApp at 0x4eb1208>"
      ]
     },
     "execution_count": 2,
     "metadata": {},
     "output_type": "execute_result"
    }
   ],
   "source": [
    "# Since this version modifies a mutable value in the model,\n",
    "# the exception does not occur immediately on the line of the change,\n",
    "# but only after redrawAll has entirely finished.\n",
    "\n",
    "from cmu_112_graphics import *\n",
    "from tkinter import *\n",
    "\n",
    "def appStarted(app):\n",
    "    app.L = [ ]\n",
    "\n",
    "def redrawAll(app, canvas):\n",
    "    canvas.create_text(app.width/2, 20,\n",
    "                       text='This also has an MVC Violation!')\n",
    "\n",
    "    app.L.append(42) # This is an MVC Violation!\n",
    "                     # We cannot change the model from the view (redrawAll)\n",
    "\n",
    "runApp(width=400, height=400)"
   ]
  },
  {
   "cell_type": "markdown",
   "metadata": {},
   "source": [
    "# Example: Adding and Deleting Shapes\n",
    "## With non-OOPy Circles"
   ]
  },
  {
   "cell_type": "code",
   "execution_count": 1,
   "metadata": {},
   "outputs": [
    {
     "name": "stdout",
     "output_type": "stream",
     "text": [
      "No more circles to delete!\n",
      "No more circles to delete!\n",
      "No more circles to delete!\n",
      "No more circles to delete!\n",
      "No more circles to delete!\n",
      "No more circles to delete!\n",
      "*** Closing TopLevelApp.  Bye! ***\n",
      "\n"
     ]
    },
    {
     "data": {
      "text/plain": [
       "<cmu_112_graphics.TopLevelApp at 0x4e8d630>"
      ]
     },
     "execution_count": 1,
     "metadata": {},
     "output_type": "execute_result"
    }
   ],
   "source": [
    "from cmu_112_graphics import *\n",
    "from tkinter import *\n",
    "\n",
    "def appStarted(app):\n",
    "    app.circleCenters = [ ]\n",
    "\n",
    "def mousePressed(app, event):\n",
    "    newCircleCenter = (event.x, event.y)\n",
    "    app.circleCenters.append(newCircleCenter)\n",
    "\n",
    "def keyPressed(app, event):\n",
    "    if (event.key == 'd'):\n",
    "        if (len(app.circleCenters) > 0):\n",
    "            app.circleCenters.pop(0)\n",
    "        else:\n",
    "            print('No more circles to delete!')\n",
    "\n",
    "def redrawAll(app, canvas):\n",
    "    # draw the circles\n",
    "    for circleCenter in app.circleCenters:\n",
    "        (cx, cy) = circleCenter\n",
    "        r = 20\n",
    "        canvas.create_oval(cx-r, cy-r, cx+r, cy+r, fill='cyan')\n",
    "    # draw the text\n",
    "    canvas.create_text(app.width/2, 20,\n",
    "                       text='Example: Adding and Deleting Shapes')\n",
    "    canvas.create_text(app.width/2, 40,\n",
    "                       text='Mouse clicks create circles')\n",
    "    canvas.create_text(app.width/2, 60,\n",
    "                       text='Pressing \"d\" deletes circles')\n",
    "\n",
    "runApp(width=400, height=400)"
   ]
  },
  {
   "cell_type": "markdown",
   "metadata": {},
   "source": [
    "## With OOPy Circles (Dots)"
   ]
  },
  {
   "cell_type": "code",
   "execution_count": 1,
   "metadata": {},
   "outputs": [
    {
     "name": "stdout",
     "output_type": "stream",
     "text": [
      "No more circles to delete!\n",
      "No more circles to delete!\n",
      "No more circles to delete!\n",
      "No more circles to delete!\n",
      "No more circles to delete!\n",
      "No more circles to delete!\n",
      "*** Closing TopLevelApp.  Bye! ***\n",
      "\n"
     ]
    },
    {
     "data": {
      "text/plain": [
       "<cmu_112_graphics.TopLevelApp at 0x4eaefd0>"
      ]
     },
     "execution_count": 1,
     "metadata": {},
     "output_type": "execute_result"
    }
   ],
   "source": [
    "from cmu_112_graphics import *\n",
    "from tkinter import *\n",
    "import random\n",
    "\n",
    "class Dot(object):\n",
    "    def __init__(self, cx, cy):\n",
    "        self.cx = cx\n",
    "        self.cy = cy\n",
    "        # let's add random sizes and colors, too\n",
    "        # (since it's so easy to store these with each Dot instance)\n",
    "        colors = ['red', 'orange', 'yellow', 'green', 'blue']\n",
    "        self.fill = random.choice(colors)\n",
    "        self.r = random.randint(5, 40)\n",
    "\n",
    "def appStarted(app):\n",
    "    app.dots = [ ]\n",
    "\n",
    "def mousePressed(app, event):\n",
    "    newDot = Dot(event.x, event.y)\n",
    "    app.dots.append(newDot)\n",
    "\n",
    "def keyPressed(app, event):\n",
    "    if (event.key == 'd'):\n",
    "        if (len(app.dots) > 0):\n",
    "            app.dots.pop(0)\n",
    "        else:\n",
    "            print('No more circles to delete!')\n",
    "\n",
    "def redrawAll(app, canvas):\n",
    "    # draw the circles\n",
    "    for dot in app.dots:\n",
    "        canvas.create_oval(dot.cx-dot.r, dot.cy-dot.r,\n",
    "                           dot.cx+dot.r, dot.cy+dot.r,\n",
    "                           fill=dot.fill)\n",
    "    # draw the text\n",
    "    canvas.create_text(app.width/2, 20,\n",
    "                       text='Example: Adding and Deleting Shapes')\n",
    "    canvas.create_text(app.width/2, 40,\n",
    "                       text='Mouse clicks create circles')\n",
    "    canvas.create_text(app.width/2, 60,\n",
    "                       text='Pressing \"d\" deletes circles')\n",
    "\n",
    "runApp(width=400, height=400)"
   ]
  },
  {
   "cell_type": "markdown",
   "metadata": {},
   "source": [
    "# Example: Grids (with modelToView and viewToModel)"
   ]
  },
  {
   "cell_type": "code",
   "execution_count": 2,
   "metadata": {},
   "outputs": [
    {
     "name": "stdout",
     "output_type": "stream",
     "text": [
      "Quitting previous version of  TopLevelApp.\n",
      "*** Closing TopLevelApp.  Bye! ***\n",
      "\n"
     ]
    },
    {
     "data": {
      "text/plain": [
       "<cmu_112_graphics.TopLevelApp at 0x4e85ba8>"
      ]
     },
     "execution_count": 2,
     "metadata": {},
     "output_type": "execute_result"
    }
   ],
   "source": [
    "from cmu_112_graphics import *\n",
    "from tkinter import *\n",
    "\n",
    "def appStarted(app):\n",
    "    app.rows = 4\n",
    "    app.cols = 8\n",
    "    app.margin = 5 # margin around grid\n",
    "    app.selection = (-1, -1) # (row, col) of selection, (-1,-1) for none\n",
    "\n",
    "def pointInGrid(app, x, y):\n",
    "    # return True if (x, y) is inside the grid defined by app.\n",
    "    return ((app.margin <= x <= app.width-app.margin) and\n",
    "            (app.margin <= y <= app.height-app.margin))\n",
    "\n",
    "def getCell(app, x, y):\n",
    "    # aka \"viewToModel\"\n",
    "    # return (row, col) in which (x, y) occurred or (-1, -1) if outside grid.\n",
    "    if (not pointInGrid(app, x, y)):\n",
    "        return (-1, -1)\n",
    "    gridWidth  = app.width - 2*app.margin\n",
    "    gridHeight = app.height - 2*app.margin\n",
    "    cellWidth  = gridWidth / app.cols\n",
    "    cellHeight = gridHeight / app.rows\n",
    "\n",
    "    # Note: we have to use int() here and not just // because\n",
    "    # row and col cannot be floats and if any of x, y, app.margin,\n",
    "    # cellWidth or cellHeight are floats, // would still produce floats.\n",
    "    row = int((y - app.margin) / cellHeight)\n",
    "    col = int((x - app.margin) / cellWidth)\n",
    "\n",
    "    return (row, col)\n",
    "\n",
    "def getCellBounds(app, row, col):\n",
    "    # aka \"modelToView\"\n",
    "    # returns (x0, y0, x1, y1) corners/bounding box of given cell in grid\n",
    "    gridWidth  = app.width - 2*app.margin\n",
    "    gridHeight = app.height - 2*app.margin\n",
    "    columnWidth = gridWidth / app.cols\n",
    "    rowHeight = gridHeight / app.rows\n",
    "    x0 = app.margin + col * columnWidth\n",
    "    x1 = app.margin + (col+1) * columnWidth\n",
    "    y0 = app.margin + row * rowHeight\n",
    "    y1 = app.margin + (row+1) * rowHeight\n",
    "    return (x0, y0, x1, y1)\n",
    "\n",
    "def mousePressed(app, event):\n",
    "    (row, col) = getCell(app, event.x, event.y)\n",
    "    # select this (row, col) unless it is selected\n",
    "    if (app.selection == (row, col)):\n",
    "        app.selection = (-1, -1)\n",
    "    else:\n",
    "        app.selection = (row, col)\n",
    "\n",
    "def redrawAll(app, canvas):\n",
    "    # draw grid of cells\n",
    "    for row in range(app.rows):\n",
    "        for col in range(app.cols):\n",
    "            (x0, y0, x1, y1) = getCellBounds(app, row, col)\n",
    "            fill = \"orange\" if (app.selection == (row, col)) else \"cyan\"\n",
    "            canvas.create_rectangle(x0, y0, x1, y1, fill=fill)\n",
    "    canvas.create_text(app.width/2, app.height/2 - 15, text=\"Click in cells!\",\n",
    "                       font=\"Arial 26 bold\", fill=\"darkBlue\")\n",
    "\n",
    "runApp(width=400, height=400)"
   ]
  },
  {
   "cell_type": "markdown",
   "metadata": {},
   "source": [
    "# Example: Bouncing Square"
   ]
  },
  {
   "cell_type": "code",
   "execution_count": 3,
   "metadata": {},
   "outputs": [
    {
     "name": "stdout",
     "output_type": "stream",
     "text": [
      "Quitting previous version of  TopLevelApp.\n",
      "*** Closing TopLevelApp.  Bye! ***\n",
      "\n"
     ]
    },
    {
     "data": {
      "text/plain": [
       "<cmu_112_graphics.TopLevelApp at 0x6352ba8>"
      ]
     },
     "execution_count": 3,
     "metadata": {},
     "output_type": "execute_result"
    }
   ],
   "source": [
    "from cmu_112_graphics import *\n",
    "from tkinter import *\n",
    "\n",
    "def appStarted(app):\n",
    "    app.squareLeft = app.width//2\n",
    "    app.squareTop = app.height//2\n",
    "    app.squareSize = 25\n",
    "    app.dx = 10\n",
    "    app.dy = 15\n",
    "    app.isPaused = False\n",
    "    app.timerDelay = 50 # milliseconds\n",
    "\n",
    "def keyPressed(app, event):\n",
    "    if (event.key == \"p\"):\n",
    "        app.isPaused = not app.isPaused\n",
    "    elif (event.key == \"s\"):\n",
    "        doStep(app)\n",
    "\n",
    "def timerFired(app):\n",
    "    if (not app.isPaused):\n",
    "        doStep(app)\n",
    "\n",
    "def doStep(app):\n",
    "    # Move horizontally\n",
    "    app.squareLeft += app.dx\n",
    "\n",
    "    # Check if the square has gone out of bounds, and if so, reverse\n",
    "    # direction, but also move the square right to the edge (instead of\n",
    "    # past it). Note: there are other, more sophisticated ways to\n",
    "    # handle the case where the square extends beyond the edges...\n",
    "    if app.squareLeft < 0:\n",
    "        # if so, reverse!\n",
    "        app.squareLeft = 0\n",
    "        app.dx = -app.dx\n",
    "    elif app.squareLeft > app.width - app.squareSize:\n",
    "        app.squareLeft = app.width - app.squareSize\n",
    "        app.dx = -app.dx\n",
    "    \n",
    "    # Move vertically the same way\n",
    "    app.squareTop += app.dy\n",
    "    if app.squareTop < 0:\n",
    "        # if so, reverse!\n",
    "        app.squareTop = 0\n",
    "        app.dy = -app.dy\n",
    "    elif app.squareTop > app.height - app.squareSize:\n",
    "        app.squareTop = app.height - app.squareSize\n",
    "        app.dy = -app.dy\n",
    "\n",
    "def redrawAll(app, canvas):\n",
    "    # draw the square\n",
    "    canvas.create_rectangle(app.squareLeft,\n",
    "                            app.squareTop,\n",
    "                            app.squareLeft + app.squareSize,\n",
    "                            app.squareTop + app.squareSize,\n",
    "                            fill=\"yellow\")\n",
    "    # draw the text\n",
    "    canvas.create_text(app.width/2, 20,\n",
    "                       text=\"Pressing 'p' pauses/unpauses timer\")\n",
    "    canvas.create_text(app.width/2, 40,\n",
    "                       text=\"Pressing 's' steps the timer once\")\n",
    "\n",
    "runApp(width=400, height=150)"
   ]
  },
  {
   "cell_type": "markdown",
   "metadata": {},
   "source": [
    "# Example: Snake"
   ]
  },
  {
   "cell_type": "code",
   "execution_count": 1,
   "metadata": {},
   "outputs": [
    {
     "name": "stdout",
     "output_type": "stream",
     "text": [
      "*** Closing TopLevelApp.  Bye! ***\n",
      "\n"
     ]
    },
    {
     "data": {
      "text/plain": [
       "<cmu_112_graphics.TopLevelApp at 0x4eeb320>"
      ]
     },
     "execution_count": 1,
     "metadata": {},
     "output_type": "execute_result"
    }
   ],
   "source": [
    "from cmu_112_graphics import *\n",
    "from tkinter import *\n",
    "import random\n",
    "\n",
    "def appStarted(app):\n",
    "    app.rows = 10\n",
    "    app.cols = 10\n",
    "    app.margin = 5 # margin around grid\n",
    "    app.timerDelay = 250\n",
    "    initSnakeAndFood(app)\n",
    "    app.waitingForFirstKeyPress = True\n",
    "\n",
    "def initSnakeAndFood(app):\n",
    "    app.snake = [(0,0)]\n",
    "    app.direction = (0, +1) # (drow, dcol)\n",
    "    placeFood(app)\n",
    "    app.gameOver = False\n",
    "\n",
    "# getCellBounds from grid-demo.py\n",
    "def getCellBounds(app, row, col):\n",
    "    # aka 'modelToView'\n",
    "    # returns (x0, y0, x1, y1) corners/bounding box of given cell in grid\n",
    "    gridWidth  = app.width - 2*app.margin\n",
    "    gridHeight = app.height - 2*app.margin\n",
    "    x0 = app.margin + gridWidth * col / app.cols\n",
    "    x1 = app.margin + gridWidth * (col+1) / app.cols\n",
    "    y0 = app.margin + gridHeight * row / app.rows\n",
    "    y1 = app.margin + gridHeight * (row+1) / app.rows\n",
    "    return (x0, y0, x1, y1)\n",
    "\n",
    "def keyPressed(app, event):\n",
    "    if (app.waitingForFirstKeyPress):\n",
    "        app.waitingForFirstKeyPress = False\n",
    "    elif (event.key == 'r'):\n",
    "        initSnakeAndFood(app)\n",
    "    elif app.gameOver:\n",
    "        return\n",
    "    elif (event.key == 'Up'):      app.direction = (-1, 0)\n",
    "    elif (event.key == 'Down'):  app.direction = (+1, 0)\n",
    "    elif (event.key == 'Left'):  app.direction = (0, -1)\n",
    "    elif (event.key == 'Right'): app.direction = (0, +1)\n",
    "    # elif (event.key == 's'):\n",
    "        # this was only here for debugging, before we turned on the timer\n",
    "        # takeStep(app)\n",
    "\n",
    "def timerFired(app):\n",
    "    if app.gameOver or app.waitingForFirstKeyPress: return\n",
    "    takeStep(app)\n",
    "\n",
    "def takeStep(app):\n",
    "    (drow, dcol) = app.direction\n",
    "    (headRow, headCol) = app.snake[0]\n",
    "    (newRow, newCol) = (headRow+drow, headCol+dcol)\n",
    "    if ((newRow < 0) or (newRow >= app.rows) or\n",
    "        (newCol < 0) or (newCol >= app.cols) or\n",
    "        ((newRow, newCol) in app.snake)):\n",
    "        app.gameOver = True\n",
    "    else:\n",
    "        app.snake.insert(0, (newRow, newCol))\n",
    "        if (app.foodPosition == (newRow, newCol)):\n",
    "            placeFood(app)\n",
    "        else:\n",
    "            # didn't eat, so remove old tail (slither forward)\n",
    "            app.snake.pop()\n",
    "\n",
    "def placeFood(app):\n",
    "    # Keep trying random positions until we find one that is not in\n",
    "    # the snake. Note: there are more sophisticated ways to do this.\n",
    "    while True:\n",
    "        row = random.randint(0, app.rows-1)\n",
    "        col = random.randint(0, app.cols-1)\n",
    "        if (row,col) not in app.snake:\n",
    "            app.foodPosition = (row, col)\n",
    "            return\n",
    "\n",
    "def drawBoard(app, canvas):\n",
    "    for row in range(app.rows):\n",
    "        for col in range(app.cols):\n",
    "            (x0, y0, x1, y1) = getCellBounds(app, row, col)\n",
    "            canvas.create_rectangle(x0, y0, x1, y1, fill='white')\n",
    "\n",
    "def drawSnake(app, canvas):\n",
    "    for (row, col) in app.snake:\n",
    "        (x0, y0, x1, y1) = getCellBounds(app, row, col)\n",
    "        canvas.create_oval(x0, y0, x1, y1, fill='blue')\n",
    "\n",
    "def drawFood(app, canvas):\n",
    "    if (app.foodPosition != None):\n",
    "        (row, col) = app.foodPosition\n",
    "        (x0, y0, x1, y1) = getCellBounds(app, row, col)\n",
    "        canvas.create_oval(x0, y0, x1, y1, fill='green')\n",
    "\n",
    "def drawGameOver(app, canvas):\n",
    "    if (app.gameOver):\n",
    "        canvas.create_text(app.width/2, app.height/2, text='Game over!',\n",
    "                           font='Arial 26 bold')\n",
    "        canvas.create_text(app.width/2, app.height/2+40,\n",
    "                           text='Press r to restart!',\n",
    "                           font='Arial 26 bold')\n",
    "\n",
    "def redrawAll(app, canvas):\n",
    "    if (app.waitingForFirstKeyPress):\n",
    "        canvas.create_text(app.width/2, app.height/2,\n",
    "                           text='Press any key to start!',\n",
    "                           font='Arial 26 bold')\n",
    "    else:\n",
    "        drawBoard(app, canvas)\n",
    "        drawSnake(app, canvas)\n",
    "        drawFood(app, canvas)\n",
    "        drawGameOver(app, canvas)\n",
    "\n",
    "runApp(width=400, height=400)"
   ]
  },
  {
   "cell_type": "markdown",
   "metadata": {},
   "source": [
    "# Snake and MVC\n",
    "Model | View | Controller |\n",
    ":- | :- | :-\n",
    "app.rows | redrawAll() | keyPressed()\n",
    "app.cols | drawGameOver() | timerFired()\n",
    "app.margin | drawFood() | takeStep()\n",
    "app.waitingForFirstKeyPress | drawSnake() | placeFood()\n",
    "app.snake | drawBoard() | \n",
    "app.direction |  | \n",
    "app.foodPosition |  | \n",
    "\\+ all game state | + all drawing functions | + all event-triggered actions"
   ]
  }
 ],
 "metadata": {
  "kernelspec": {
   "display_name": "Python 3",
   "language": "python",
   "name": "python3"
  },
  "language_info": {
   "codemirror_mode": {
    "name": "ipython",
    "version": 3
   },
   "file_extension": ".py",
   "mimetype": "text/x-python",
   "name": "python",
   "nbconvert_exporter": "python",
   "pygments_lexer": "ipython3",
   "version": "3.7.3"
  }
 },
 "nbformat": 4,
 "nbformat_minor": 4
}
