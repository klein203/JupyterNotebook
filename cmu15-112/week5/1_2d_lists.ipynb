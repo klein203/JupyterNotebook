{
 "cells": [
  {
   "cell_type": "markdown",
   "metadata": {},
   "source": [
    "1. Creating 2d Lists\n",
    "- Static Allocation"
   ]
  },
  {
   "cell_type": "code",
   "execution_count": null,
   "metadata": {},
   "outputs": [],
   "source": [
    "# create a 2d list with fixed values (static allocation)\n",
    "a = [ [ 2, 3, 4 ] , [ 5, 6, 7 ] ]\n",
    "print(a)"
   ]
  },
  {
   "cell_type": "markdown",
   "metadata": {},
   "source": [
    "- Dynamic (Variable-Length) Allocation"
   ]
  },
  {
   "cell_type": "code",
   "execution_count": null,
   "metadata": {},
   "outputs": [],
   "source": [
    "# Try, and FAIL, to create a variable-sized 2d list\n",
    "rows = 3\n",
    "cols = 2\n",
    "\n",
    "a = [ [0] * cols ] * rows # Error: creates shallow copy\n",
    "                          # Creates one unique row, the rest are aliases!\n",
    "\n",
    "print(\"This SEEMS ok.  At first:\")\n",
    "print(\"   a =\", a)\n",
    "\n",
    "a[0][0] = 42\n",
    "print(\"But see what happens after a[0][0]=42\")\n",
    "print(\"   a =\", a)"
   ]
  },
  {
   "cell_type": "code",
   "execution_count": null,
   "metadata": {},
   "outputs": [],
   "source": [
    "# Create a variable-sized 2d list\n",
    "rows = 3\n",
    "cols = 2\n",
    "\n",
    "a = []\n",
    "for row in range(rows):\n",
    "    a += [[0]*cols]\n",
    "\n",
    "print(\"This IS ok.  First:\")\n",
    "print(\"   a =\", a)\n",
    "\n",
    "a[0][0] = 42\n",
    "print(\"And now see what happens after a[0][0]=42\")\n",
    "print(\"   a =\", a)"
   ]
  },
  {
   "cell_type": "code",
   "execution_count": null,
   "metadata": {},
   "outputs": [],
   "source": [
    "rows = 3\n",
    "cols = 2\n",
    "\n",
    "#This is what's called a \"list comprehension\"\n",
    "a = [ ([0] * cols) for row in range(rows) ]\n",
    "\n",
    "print(\"This IS ok.  First:\")\n",
    "print(\"   a =\", a)\n",
    "\n",
    "a[0][0] = 42\n",
    "print(\"And now see what happens after a[0][0]=42\")\n",
    "print(\"   a =\", a)"
   ]
  },
  {
   "cell_type": "code",
   "execution_count": null,
   "metadata": {},
   "outputs": [],
   "source": [
    "def make2dList(rows, cols):\n",
    "    return [ ([0] * cols) for row in range(rows) ]\n",
    "\n",
    "rows = 3\n",
    "cols = 2\n",
    "\n",
    "a = make2dList(rows, cols)\n",
    "\n",
    "print(\"This IS ok.  At first:\")\n",
    "print(\"   a =\", a)\n",
    "\n",
    "a[0][0] = 42\n",
    "print(\"And now see what happens after a[0][0]=42\")\n",
    "print(\"   a =\", a)"
   ]
  },
  {
   "cell_type": "markdown",
   "metadata": {},
   "source": [
    "2. Getting 2d List Dimensions"
   ]
  },
  {
   "cell_type": "code",
   "execution_count": null,
   "metadata": {},
   "outputs": [],
   "source": [
    "# Create an \"arbitrary\" 2d List\n",
    "a = [ [ 2, 3, 5] , [ 1, 4, 7 ] ]\n",
    "print(\"a = \", a)\n",
    "\n",
    "# Now find its dimensions\n",
    "rows = len(a)\n",
    "cols = len(a[0])\n",
    "print(\"rows =\", rows)\n",
    "print(\"cols =\", cols)"
   ]
  },
  {
   "cell_type": "markdown",
   "metadata": {},
   "source": [
    "3. Copying and Aliasing 2d Lists\n",
    "- Wrong: Cannot use copy.copy (shallow copy)"
   ]
  },
  {
   "cell_type": "code",
   "execution_count": null,
   "metadata": {},
   "outputs": [],
   "source": [
    "import copy\n",
    "\n",
    "# Create a 2d list\n",
    "a = [ [ 1, 2, 3 ] , [ 4, 5, 6 ] ]\n",
    "\n",
    "# Try to copy it\n",
    "b = copy.copy(a) # Error:  creates shallow copy\n",
    "\n",
    "# At first, things seem ok\n",
    "print(\"At first...\")\n",
    "print(\"   a =\", a)\n",
    "print(\"   b =\", b)\n",
    "\n",
    "# Now modify a[0][0]\n",
    "a[0][0] = 9\n",
    "print(\"But after a[0][0] = 9\")\n",
    "print(\"   a =\", a)\n",
    "print(\"   b =\", b)"
   ]
  },
  {
   "cell_type": "markdown",
   "metadata": {},
   "source": [
    "- Right: use copy.deepcopy"
   ]
  },
  {
   "cell_type": "code",
   "execution_count": null,
   "metadata": {},
   "outputs": [],
   "source": [
    "import copy\n",
    "\n",
    "# Create a 2d list\n",
    "a = [ [ 1, 2, 3 ] , [ 4, 5, 6 ] ]\n",
    "\n",
    "# Try to copy it\n",
    "b = copy.deepcopy(a) # Correct!\n",
    "\n",
    "# At first, things seem ok\n",
    "print(\"At first...\")\n",
    "print(\"   a =\", a)\n",
    "print(\"   b =\", b)\n",
    "\n",
    "# Now modify a[0][0]\n",
    "a[0][0] = 9\n",
    "print(\"And after a[0][0] = 9\")\n",
    "print(\"   a =\", a)\n",
    "print(\"   b =\", b)"
   ]
  },
  {
   "cell_type": "markdown",
   "metadata": {},
   "source": [
    "- Limitations of copy.deepcopy"
   ]
  },
  {
   "cell_type": "code",
   "execution_count": null,
   "metadata": {},
   "outputs": [],
   "source": [
    "a = [[0]*2]*3 # makes 3 shallow copies of (aliases of) the same row\n",
    "a[0][0] = 42  # appears to modify all 3 rows\n",
    "print(a)      # prints [[42, 0], [42, 0], [42, 0]]\n",
    "\n",
    "# now do it again with a deepcopy\n",
    "\n",
    "import copy\n",
    "a = [[0]*2]*3        # makes 3 shallow copies of the same row\n",
    "a = copy.deepcopy(a) # meant to make each row distinct\n",
    "a[0][0] = 42         # so we hope this only modifies first row\n",
    "print(a)             # STILL prints [[42, 0], [42, 0], [42, 0]]\n",
    "\n",
    "# deepcopy preserves any already-existing aliases perfectly!\n",
    "# best answer: don't create aliases in the first place, unless you want them."
   ]
  },
  {
   "cell_type": "markdown",
   "metadata": {},
   "source": [
    "- Advanced: alias-breaking deepcopy"
   ]
  },
  {
   "cell_type": "code",
   "execution_count": null,
   "metadata": {},
   "outputs": [],
   "source": [
    "# Advanced: now one more time with a simple deepcopy alternative that does\n",
    "# what we thought deepcopy did...\n",
    "# NOTE: this uses recursion. We'll go over how that works in the future.\n",
    "\n",
    "import copy\n",
    "\n",
    "def myDeepCopy(a):\n",
    "    if (isinstance(a, list) or isinstance(a, tuple)):\n",
    "        return [myDeepCopy(element) for element in a]\n",
    "    else:\n",
    "        return copy.copy(a)\n",
    "\n",
    "a = [[0]*2]*3     # makes 3 shallow copies of the same row\n",
    "a = myDeepCopy(a) # once again, meant to make each row distinct\n",
    "a[0][0] = 42      # so we hope this only modifies first row\n",
    "print(a)          # finally, prints [[42, 0], [0, 0], [0, 0]]\n",
    "\n",
    "# now all the aliases are gone!"
   ]
  },
  {
   "cell_type": "markdown",
   "metadata": {},
   "source": [
    "4. Printing 2d Lists"
   ]
  },
  {
   "cell_type": "code",
   "execution_count": null,
   "metadata": {},
   "outputs": [],
   "source": [
    "# Helper function for print2dList.\n",
    "# This finds the maximum length of the string\n",
    "# representation of any item in the 2d list\n",
    "def maxItemLength(a):\n",
    "    maxLen = 0\n",
    "    rows = len(a)\n",
    "    cols = len(a[0])\n",
    "    for row in range(rows):\n",
    "        for col in range(cols):\n",
    "            maxLen = max(maxLen, len(str(a[row][col])))\n",
    "    return maxLen\n",
    "\n",
    "# Because Python prints 2d lists on one row,\n",
    "# we might want to write our own function\n",
    "# that prints 2d lists a bit nicer.\n",
    "def print2dList(a):\n",
    "    if (a == []):\n",
    "        # So we don't crash accessing a[0]\n",
    "        print([])\n",
    "        return\n",
    "    rows = len(a)\n",
    "    cols = len(a[0])\n",
    "    fieldWidth = maxItemLength(a)\n",
    "    print(\"[ \", end=\"\")\n",
    "    for row in range(rows):\n",
    "        if (row > 0): print(\"\\n  \", end=\"\")\n",
    "        print(\"[ \", end=\"\")\n",
    "        for col in range(cols):\n",
    "            if (col > 0): print(\", \", end=\"\")\n",
    "            # The next 2 lines print a[row][col] with the given fieldWidth\n",
    "            formatSpec = \"%\" + str(fieldWidth) + \"s\"\n",
    "            print(formatSpec % str(a[row][col]), end=\"\")\n",
    "        print(\" ]\", end=\"\")\n",
    "    print(\"]\")\n",
    "\n",
    "# Let's give the new function a try!\n",
    "a = [ [ 1, 2, 3 ] , [ 4, 5, 67 ] ]\n",
    "print2dList(a)"
   ]
  },
  {
   "cell_type": "markdown",
   "metadata": {},
   "source": [
    "5. Nested Looping over 2d Lists"
   ]
  },
  {
   "cell_type": "code",
   "execution_count": null,
   "metadata": {},
   "outputs": [],
   "source": [
    "# Create an \"arbitrary\" 2d List\n",
    "a = [ [ 2, 3, 5] , [ 1, 4, 7 ] ]\n",
    "print(\"Before: a =\", a)\n",
    "\n",
    "# Now find its dimensions\n",
    "rows = len(a)\n",
    "cols = len(a[0])\n",
    "\n",
    "# And now loop over every element\n",
    "# Here, we'll add one to each element,\n",
    "# just to make a change we can easily see\n",
    "for row in range(rows):\n",
    "    for col in range(cols):\n",
    "        # This code will be run rows*cols times, once for each\n",
    "        # element in the 2d list\n",
    "        a[row][col] += 1\n",
    "\n",
    "# Finally, print the results\n",
    "print(\"After:  a =\", a)"
   ]
  },
  {
   "cell_type": "markdown",
   "metadata": {},
   "source": [
    "6. Accessing 2d Lists by Row or Column\n",
    "- Accessing a whole row"
   ]
  },
  {
   "cell_type": "code",
   "execution_count": null,
   "metadata": {},
   "outputs": [],
   "source": [
    "# alias (not a copy! no new list created)\n",
    "a = [ [ 1, 2, 3 ] , [ 4, 5, 6 ] ]\n",
    "row = 1\n",
    "rowList = a[row]\n",
    "print(rowList)"
   ]
  },
  {
   "cell_type": "markdown",
   "metadata": {},
   "source": [
    "- Accessing a whole column"
   ]
  },
  {
   "cell_type": "code",
   "execution_count": null,
   "metadata": {},
   "outputs": [],
   "source": [
    "# copy (not an alias! new list created)\n",
    "a = [ [ 1, 2, 3 ] , [ 4, 5, 6 ] ]\n",
    "col = 1\n",
    "colList = [ ]\n",
    "for i in range(len(a)):\n",
    "    colList += [ a[i][col] ]\n",
    "print(colList)"
   ]
  },
  {
   "cell_type": "markdown",
   "metadata": {},
   "source": [
    "- Accessing a whole column with a list comprehension"
   ]
  },
  {
   "cell_type": "code",
   "execution_count": null,
   "metadata": {},
   "outputs": [],
   "source": [
    "# still a copy, but cleaner with a list comprehension!\n",
    "a = [ [ 1, 2, 3 ] , [ 4, 5, 6 ] ]\n",
    "col = 1\n",
    "colList = [ a[i][col] for i in range(len(a)) ]\n",
    "print(colList)"
   ]
  },
  {
   "cell_type": "markdown",
   "metadata": {},
   "source": [
    "7. Non-Rectangular (\"Ragged\") 2d Lists"
   ]
  },
  {
   "cell_type": "code",
   "execution_count": null,
   "metadata": {},
   "outputs": [],
   "source": [
    "# 2d lists do not have to be rectangular\n",
    "a = [ [ 1, 2, 3 ] ,\n",
    "      [ 4, 5 ],\n",
    "      [ 6 ],\n",
    "      [ 7, 8, 9, 10 ] ]\n",
    "\n",
    "rows = len(a)\n",
    "for row in range(rows):\n",
    "    cols = len(a[row]) # now cols depends on each row\n",
    "    print(\"Row\", row, \"has\", cols, \"columns: \", end=\"\")\n",
    "    for col in range(cols):\n",
    "        print(a[row][col], \" \", end=\"\")\n",
    "    print()"
   ]
  },
  {
   "cell_type": "markdown",
   "metadata": {},
   "source": [
    "8. 3d Lists"
   ]
  },
  {
   "cell_type": "code",
   "execution_count": null,
   "metadata": {},
   "outputs": [],
   "source": [
    "# 2d lists do not really exist in Python.\n",
    "# They are just lists that happen to contain other lists as elements.\n",
    "# And so this can be done for \"3d lists\", or even \"4d\" or higher-dimensional lists.\n",
    "# And these can also be non-rectangular, of course!\n",
    "\n",
    "a = [ [ [ 1, 2 ],\n",
    "        [ 3, 4 ] ],\n",
    "      [ [ 5, 6, 7 ],\n",
    "        [ 8, 9 ] ],\n",
    "      [ [ 10 ] ] ]\n",
    "\n",
    "for i in range(len(a)):\n",
    "    for j in range(len(a[i])):\n",
    "        for k in range(len(a[i][j])):\n",
    "            print(\"a[%d][%d][%d] = %d\" % (i, j, k, a[i][j][k]))"
   ]
  }
 ],
 "metadata": {
  "kernelspec": {
   "display_name": "Python 3",
   "language": "python",
   "name": "python3"
  },
  "language_info": {
   "codemirror_mode": {
    "name": "ipython",
    "version": 3
   },
   "file_extension": ".py",
   "mimetype": "text/x-python",
   "name": "python",
   "nbconvert_exporter": "python",
   "pygments_lexer": "ipython3",
   "version": "3.7.3"
  }
 },
 "nbformat": 4,
 "nbformat_minor": 4
}
