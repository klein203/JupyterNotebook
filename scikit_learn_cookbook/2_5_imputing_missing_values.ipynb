{
 "cells": [
  {
   "cell_type": "markdown",
   "metadata": {},
   "source": [
    "# key words\n",
    "- impute: SimpleImputer"
   ]
  },
  {
   "cell_type": "code",
   "execution_count": 1,
   "metadata": {},
   "outputs": [
    {
     "name": "stdout",
     "output_type": "stream",
     "text": [
      "[[False False False False]\n",
      " [False False False False]\n",
      " [False False False  True]\n",
      " [False  True False  True]\n",
      " [False False  True False]]\n",
      "[[5.1 3.5 1.4 0.2]\n",
      " [4.9 3.  1.4 0.2]\n",
      " [4.7 3.2 1.3 nan]\n",
      " [4.6 nan 1.5 nan]\n",
      " [5.  3.6 nan 0.2]]\n",
      "strategy = [mean]\n",
      "[[5.1        3.5        1.4        0.2       ]\n",
      " [4.9        3.         1.4        0.2       ]\n",
      " [4.7        3.2        1.3        1.24485981]\n",
      " [4.6        3.07586207 1.5        1.24485981]\n",
      " [5.         3.6        3.72016807 0.2       ]]\n",
      "strategy = [median]\n",
      "[[5.1 3.5 1.4 0.2]\n",
      " [4.9 3.  1.4 0.2]\n",
      " [4.7 3.2 1.3 1.3]\n",
      " [4.6 3.  1.5 1.3]\n",
      " [5.  3.6 4.2 0.2]]\n"
     ]
    }
   ],
   "source": [
    "import numpy as np\n",
    "\n",
    "from sklearn import datasets\n",
    "from sklearn import impute\n",
    "\n",
    "iris = datasets.load_iris()\n",
    "iris_X = iris.data\n",
    "\n",
    "# init mask array randomly\n",
    "masking_array = np.random.binomial(1, .25, iris_X.shape).astype(bool)\n",
    "print(masking_array[:5])\n",
    "\n",
    "iris_X[masking_array] = np.nan\n",
    "print(iris_X[:5])\n",
    "\n",
    "# impute missing values through various strategies\n",
    "for strategy in ['mean', 'median']:\n",
    "    imputer = impute.SimpleImputer(missing_values=np.nan, strategy=strategy)\n",
    "    iris_X_prime = imputer.fit_transform(iris_X)\n",
    "    print(\"strategy = [%s]\\n%s\" % (strategy, iris_X_prime[:5]))"
   ]
  }
 ],
 "metadata": {
  "kernelspec": {
   "display_name": "Python 3",
   "language": "python",
   "name": "python3"
  },
  "language_info": {
   "codemirror_mode": {
    "name": "ipython",
    "version": 3
   },
   "file_extension": ".py",
   "mimetype": "text/x-python",
   "name": "python",
   "nbconvert_exporter": "python",
   "pygments_lexer": "ipython3",
   "version": "3.7.3"
  }
 },
 "nbformat": 4,
 "nbformat_minor": 4
}
