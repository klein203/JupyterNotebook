{
 "cells": [
  {
   "cell_type": "markdown",
   "metadata": {},
   "source": [
    "# key words\n",
    "- regressor: Lasso, LassoCV"
   ]
  },
  {
   "cell_type": "code",
   "execution_count": 1,
   "metadata": {},
   "outputs": [
    {
     "name": "stdout",
     "output_type": "stream",
     "text": [
      "X.shape (200, 500)\n",
      "lasso, masked X.shape (200, 9)\n",
      "lasso_cv, masked X.shape (200, 40)\n"
     ]
    }
   ],
   "source": [
    "import numpy as np\n",
    "import matplotlib.pyplot as plt\n",
    "%matplotlib inline\n",
    "\n",
    "from sklearn import datasets\n",
    "\n",
    "from sklearn.linear_model import Lasso, LassoCV, RidgeCV\n",
    "\n",
    "# sparse matrix: n_feature=500\n",
    "X_reg, y_reg = datasets.make_regression(n_samples=200, n_features=500, n_informative=5, noise=5)\n",
    "print(\"X.shape\", X_reg.shape)\n",
    "\n",
    "lasso = Lasso()\n",
    "lasso.fit(X_reg, y_reg)\n",
    "mask = (lasso.coef_ != 0)\n",
    "print(\"lasso, masked X.shape\", X_reg[:, mask].shape)\n",
    "\n",
    "lasso_cv = LassoCV(cv=4)\n",
    "lasso_cv.fit(X_reg, y_reg)\n",
    "# Lasso for feature selection\n",
    "mask_cv = (lasso_cv.coef_ != 0)\n",
    "print(\"lasso_cv, masked X.shape\", X_reg[:, mask_cv].shape)"
   ]
  }
 ],
 "metadata": {
  "kernelspec": {
   "display_name": "Python 3",
   "language": "python",
   "name": "python3"
  },
  "language_info": {
   "codemirror_mode": {
    "name": "ipython",
    "version": 3
   },
   "file_extension": ".py",
   "mimetype": "text/x-python",
   "name": "python",
   "nbconvert_exporter": "python",
   "pygments_lexer": "ipython3",
   "version": "3.7.3"
  }
 },
 "nbformat": 4,
 "nbformat_minor": 4
}
