{
 "cells": [
  {
   "cell_type": "markdown",
   "metadata": {},
   "source": [
    "# key words\n",
    "- datasets: UCI pima-indians-diabetes\n",
    "- preprocessing: binarize\n",
    "- model selection: train_test_split\n",
    "- regressor: LogisticRegression\n",
    "- metrics: accuracy_score, confusion_matrix, roc_curve"
   ]
  },
  {
   "cell_type": "code",
   "execution_count": 1,
   "metadata": {},
   "outputs": [
    {
     "data": {
      "text/html": [
       "<div>\n",
       "<style scoped>\n",
       "    .dataframe tbody tr th:only-of-type {\n",
       "        vertical-align: middle;\n",
       "    }\n",
       "\n",
       "    .dataframe tbody tr th {\n",
       "        vertical-align: top;\n",
       "    }\n",
       "\n",
       "    .dataframe thead th {\n",
       "        text-align: right;\n",
       "    }\n",
       "</style>\n",
       "<table border=\"1\" class=\"dataframe\">\n",
       "  <thead>\n",
       "    <tr style=\"text-align: right;\">\n",
       "      <th></th>\n",
       "      <th>pregnancy_x</th>\n",
       "      <th>plasma_con</th>\n",
       "      <th>blood_pressure</th>\n",
       "      <th>skin_mm</th>\n",
       "      <th>insulin</th>\n",
       "      <th>bmi</th>\n",
       "      <th>pedigree_func</th>\n",
       "      <th>age</th>\n",
       "      <th>target</th>\n",
       "    </tr>\n",
       "  </thead>\n",
       "  <tbody>\n",
       "    <tr>\n",
       "      <th>0</th>\n",
       "      <td>6</td>\n",
       "      <td>148</td>\n",
       "      <td>72</td>\n",
       "      <td>35</td>\n",
       "      <td>0</td>\n",
       "      <td>33.6</td>\n",
       "      <td>0.627</td>\n",
       "      <td>50</td>\n",
       "      <td>1</td>\n",
       "    </tr>\n",
       "    <tr>\n",
       "      <th>1</th>\n",
       "      <td>1</td>\n",
       "      <td>85</td>\n",
       "      <td>66</td>\n",
       "      <td>29</td>\n",
       "      <td>0</td>\n",
       "      <td>26.6</td>\n",
       "      <td>0.351</td>\n",
       "      <td>31</td>\n",
       "      <td>0</td>\n",
       "    </tr>\n",
       "    <tr>\n",
       "      <th>2</th>\n",
       "      <td>8</td>\n",
       "      <td>183</td>\n",
       "      <td>64</td>\n",
       "      <td>0</td>\n",
       "      <td>0</td>\n",
       "      <td>23.3</td>\n",
       "      <td>0.672</td>\n",
       "      <td>32</td>\n",
       "      <td>1</td>\n",
       "    </tr>\n",
       "    <tr>\n",
       "      <th>3</th>\n",
       "      <td>1</td>\n",
       "      <td>89</td>\n",
       "      <td>66</td>\n",
       "      <td>23</td>\n",
       "      <td>94</td>\n",
       "      <td>28.1</td>\n",
       "      <td>0.167</td>\n",
       "      <td>21</td>\n",
       "      <td>0</td>\n",
       "    </tr>\n",
       "    <tr>\n",
       "      <th>4</th>\n",
       "      <td>0</td>\n",
       "      <td>137</td>\n",
       "      <td>40</td>\n",
       "      <td>35</td>\n",
       "      <td>168</td>\n",
       "      <td>43.1</td>\n",
       "      <td>2.288</td>\n",
       "      <td>33</td>\n",
       "      <td>1</td>\n",
       "    </tr>\n",
       "  </tbody>\n",
       "</table>\n",
       "</div>"
      ],
      "text/plain": [
       "   pregnancy_x  plasma_con  blood_pressure  skin_mm  insulin   bmi  \\\n",
       "0            6         148              72       35        0  33.6   \n",
       "1            1          85              66       29        0  26.6   \n",
       "2            8         183              64        0        0  23.3   \n",
       "3            1          89              66       23       94  28.1   \n",
       "4            0         137              40       35      168  43.1   \n",
       "\n",
       "   pedigree_func  age  target  \n",
       "0          0.627   50       1  \n",
       "1          0.351   31       0  \n",
       "2          0.672   32       1  \n",
       "3          0.167   21       0  \n",
       "4          2.288   33       1  "
      ]
     },
     "execution_count": 1,
     "metadata": {},
     "output_type": "execute_result"
    }
   ],
   "source": [
    "import os\n",
    "import numpy as np\n",
    "import pandas as pd\n",
    "import matplotlib.pyplot as plt\n",
    "%matplotlib inline\n",
    "\n",
    "from sklearn.preprocessing import binarize\n",
    "\n",
    "from sklearn.model_selection import train_test_split\n",
    "\n",
    "from sklearn.linear_model import LogisticRegression\n",
    "\n",
    "from sklearn.metrics import accuracy_score, confusion_matrix, roc_curve\n",
    "\n",
    "data_address = os.path.join(os.getcwd(), \"pima-indians-diabetes.csv\")\n",
    "column_names = ['pregnancy_x', # number of times pregnant\n",
    "                'plasma_con', # plasma glucose concentration a 2 hours in an oral glucose tolerance test\n",
    "                'blood_pressure', # diastolic blood pressure (mm Hg)\n",
    "                'skin_mm', # triceps skin fold thickness (mm)\n",
    "                'insulin', # 2-hour serum insulin (mu U/ml)\n",
    "                'bmi', # body mass index (weight in kg/(height in m)^2)\n",
    "                'pedigree_func', # diabetes pedigree function\n",
    "                'age', # age (years)\n",
    "                'target'] # class varible (0 or 1)\n",
    "feature_names = column_names[:-1]\n",
    "target_name = column_names[-1]\n",
    "\n",
    "# load sample data\n",
    "data = pd.read_csv(data_address , names=column_names, skiprows=1)\n",
    "\n",
    "# list first 5 rows of the data\n",
    "data.head()"
   ]
  },
  {
   "cell_type": "code",
   "execution_count": 2,
   "metadata": {},
   "outputs": [
    {
     "data": {
      "text/html": [
       "<div>\n",
       "<style scoped>\n",
       "    .dataframe tbody tr th:only-of-type {\n",
       "        vertical-align: middle;\n",
       "    }\n",
       "\n",
       "    .dataframe tbody tr th {\n",
       "        vertical-align: top;\n",
       "    }\n",
       "\n",
       "    .dataframe thead th {\n",
       "        text-align: right;\n",
       "    }\n",
       "</style>\n",
       "<table border=\"1\" class=\"dataframe\">\n",
       "  <thead>\n",
       "    <tr style=\"text-align: right;\">\n",
       "      <th></th>\n",
       "      <th>pregnancy_x</th>\n",
       "      <th>plasma_con</th>\n",
       "      <th>blood_pressure</th>\n",
       "      <th>skin_mm</th>\n",
       "      <th>insulin</th>\n",
       "      <th>bmi</th>\n",
       "      <th>pedigree_func</th>\n",
       "      <th>age</th>\n",
       "      <th>target</th>\n",
       "    </tr>\n",
       "  </thead>\n",
       "  <tbody>\n",
       "    <tr>\n",
       "      <th>count</th>\n",
       "      <td>768.000000</td>\n",
       "      <td>768.000000</td>\n",
       "      <td>768.000000</td>\n",
       "      <td>768.000000</td>\n",
       "      <td>768.000000</td>\n",
       "      <td>768.000000</td>\n",
       "      <td>768.000000</td>\n",
       "      <td>768.000000</td>\n",
       "      <td>768.000000</td>\n",
       "    </tr>\n",
       "    <tr>\n",
       "      <th>mean</th>\n",
       "      <td>3.845052</td>\n",
       "      <td>120.894531</td>\n",
       "      <td>69.105469</td>\n",
       "      <td>20.536458</td>\n",
       "      <td>79.799479</td>\n",
       "      <td>31.992578</td>\n",
       "      <td>0.471876</td>\n",
       "      <td>33.240885</td>\n",
       "      <td>0.348958</td>\n",
       "    </tr>\n",
       "    <tr>\n",
       "      <th>std</th>\n",
       "      <td>3.369578</td>\n",
       "      <td>31.972618</td>\n",
       "      <td>19.355807</td>\n",
       "      <td>15.952218</td>\n",
       "      <td>115.244002</td>\n",
       "      <td>7.884160</td>\n",
       "      <td>0.331329</td>\n",
       "      <td>11.760232</td>\n",
       "      <td>0.476951</td>\n",
       "    </tr>\n",
       "    <tr>\n",
       "      <th>min</th>\n",
       "      <td>0.000000</td>\n",
       "      <td>0.000000</td>\n",
       "      <td>0.000000</td>\n",
       "      <td>0.000000</td>\n",
       "      <td>0.000000</td>\n",
       "      <td>0.000000</td>\n",
       "      <td>0.078000</td>\n",
       "      <td>21.000000</td>\n",
       "      <td>0.000000</td>\n",
       "    </tr>\n",
       "    <tr>\n",
       "      <th>25%</th>\n",
       "      <td>1.000000</td>\n",
       "      <td>99.000000</td>\n",
       "      <td>62.000000</td>\n",
       "      <td>0.000000</td>\n",
       "      <td>0.000000</td>\n",
       "      <td>27.300000</td>\n",
       "      <td>0.243750</td>\n",
       "      <td>24.000000</td>\n",
       "      <td>0.000000</td>\n",
       "    </tr>\n",
       "    <tr>\n",
       "      <th>50%</th>\n",
       "      <td>3.000000</td>\n",
       "      <td>117.000000</td>\n",
       "      <td>72.000000</td>\n",
       "      <td>23.000000</td>\n",
       "      <td>30.500000</td>\n",
       "      <td>32.000000</td>\n",
       "      <td>0.372500</td>\n",
       "      <td>29.000000</td>\n",
       "      <td>0.000000</td>\n",
       "    </tr>\n",
       "    <tr>\n",
       "      <th>75%</th>\n",
       "      <td>6.000000</td>\n",
       "      <td>140.250000</td>\n",
       "      <td>80.000000</td>\n",
       "      <td>32.000000</td>\n",
       "      <td>127.250000</td>\n",
       "      <td>36.600000</td>\n",
       "      <td>0.626250</td>\n",
       "      <td>41.000000</td>\n",
       "      <td>1.000000</td>\n",
       "    </tr>\n",
       "    <tr>\n",
       "      <th>max</th>\n",
       "      <td>17.000000</td>\n",
       "      <td>199.000000</td>\n",
       "      <td>122.000000</td>\n",
       "      <td>99.000000</td>\n",
       "      <td>846.000000</td>\n",
       "      <td>67.100000</td>\n",
       "      <td>2.420000</td>\n",
       "      <td>81.000000</td>\n",
       "      <td>1.000000</td>\n",
       "    </tr>\n",
       "  </tbody>\n",
       "</table>\n",
       "</div>"
      ],
      "text/plain": [
       "       pregnancy_x  plasma_con  blood_pressure     skin_mm     insulin  \\\n",
       "count   768.000000  768.000000      768.000000  768.000000  768.000000   \n",
       "mean      3.845052  120.894531       69.105469   20.536458   79.799479   \n",
       "std       3.369578   31.972618       19.355807   15.952218  115.244002   \n",
       "min       0.000000    0.000000        0.000000    0.000000    0.000000   \n",
       "25%       1.000000   99.000000       62.000000    0.000000    0.000000   \n",
       "50%       3.000000  117.000000       72.000000   23.000000   30.500000   \n",
       "75%       6.000000  140.250000       80.000000   32.000000  127.250000   \n",
       "max      17.000000  199.000000      122.000000   99.000000  846.000000   \n",
       "\n",
       "              bmi  pedigree_func         age      target  \n",
       "count  768.000000     768.000000  768.000000  768.000000  \n",
       "mean    31.992578       0.471876   33.240885    0.348958  \n",
       "std      7.884160       0.331329   11.760232    0.476951  \n",
       "min      0.000000       0.078000   21.000000    0.000000  \n",
       "25%     27.300000       0.243750   24.000000    0.000000  \n",
       "50%     32.000000       0.372500   29.000000    0.000000  \n",
       "75%     36.600000       0.626250   41.000000    1.000000  \n",
       "max     67.100000       2.420000   81.000000    1.000000  "
      ]
     },
     "execution_count": 2,
     "metadata": {},
     "output_type": "execute_result"
    }
   ],
   "source": [
    "# overview distribution of the data\n",
    "data.describe()"
   ]
  },
  {
   "cell_type": "code",
   "execution_count": 3,
   "metadata": {},
   "outputs": [
    {
     "data": {
      "text/plain": [
       "array([[<matplotlib.axes._subplots.AxesSubplot object at 0x000000000AB2E438>,\n",
       "        <matplotlib.axes._subplots.AxesSubplot object at 0x000000000B2115F8>,\n",
       "        <matplotlib.axes._subplots.AxesSubplot object at 0x000000000B243748>],\n",
       "       [<matplotlib.axes._subplots.AxesSubplot object at 0x000000000B274898>,\n",
       "        <matplotlib.axes._subplots.AxesSubplot object at 0x000000000B2AB9E8>,\n",
       "        <matplotlib.axes._subplots.AxesSubplot object at 0x000000000B2DFBE0>],\n",
       "       [<matplotlib.axes._subplots.AxesSubplot object at 0x000000000B31D1D0>,\n",
       "        <matplotlib.axes._subplots.AxesSubplot object at 0x000000000B34D7B8>,\n",
       "        <matplotlib.axes._subplots.AxesSubplot object at 0x000000000B34D7F0>]],\n",
       "      dtype=object)"
      ]
     },
     "execution_count": 3,
     "metadata": {},
     "output_type": "execute_result"
    },
    {
     "data": {
      "image/png": "[encoded data removed]",
      "text/plain": [
       "<Figure size 1080x648 with 9 Axes>"
      ]
     },
     "metadata": {
      "needs_background": "light"
     },
     "output_type": "display_data"
    }
   ],
   "source": [
    "# data distribution of all features\n",
    "data.hist(figsize=(15, 9), bins=50)\n",
    "# data[data.columns[:-1]].hist(figsize=(15, 9), bins=50)\n",
    "\n",
    "# data distribution of certain feature\n",
    "# data.pregnancy_x.hist(bins=50)"
   ]
  },
  {
   "cell_type": "code",
   "execution_count": 4,
   "metadata": {},
   "outputs": [
    {
     "data": {
      "text/plain": [
       "0    500\n",
       "1    268\n",
       "Name: target, dtype: int64"
      ]
     },
     "execution_count": 4,
     "metadata": {},
     "output_type": "execute_result"
    }
   ],
   "source": [
    "# y_label distribution\n",
    "data.target.value_counts()"
   ]
  },
  {
   "cell_type": "code",
   "execution_count": 5,
   "metadata": {},
   "outputs": [
    {
     "name": "stderr",
     "output_type": "stream",
     "text": [
      "d:\\Miniconda3\\lib\\site-packages\\sklearn\\linear_model\\logistic.py:947: ConvergenceWarning: lbfgs failed to converge. Increase the number of iterations.\n",
      "  \"of iterations.\", ConvergenceWarning)\n"
     ]
    },
    {
     "data": {
      "text/plain": [
       "0.7857142857142857"
      ]
     },
     "execution_count": 5,
     "metadata": {},
     "output_type": "execute_result"
    }
   ],
   "source": [
    "# logistic regression\n",
    "X = data[feature_names]\n",
    "y = data[target_name]\n",
    "\n",
    "# stratify=y makes the distribution of splitted dataset the same as y\n",
    "X_train, X_test, y_train, y_test = train_test_split(X, y, test_size=0.2, random_state=7, stratify=y)\n",
    "\n",
    "log_reg = LogisticRegression(solver='lbfgs')\n",
    "log_reg.fit(X_train, y_train)\n",
    "\n",
    "y_pred = log_reg.predict(X_test)\n",
    "\n",
    "# accuracy\n",
    "accuracy_score(y_test, y_pred)"
   ]
  },
  {
   "cell_type": "code",
   "execution_count": 6,
   "metadata": {},
   "outputs": [
    {
     "data": {
      "text/plain": [
       "array([[33, 21],\n",
       "       [12, 88]], dtype=int64)"
      ]
     },
     "execution_count": 6,
     "metadata": {},
     "output_type": "execute_result"
    }
   ],
   "source": [
    "# confusion matrix\n",
    "#                   |   Prediction (P/N)\n",
    "#                   | Predict: 1 | Predict: 0\n",
    "# --------------------------------------------\n",
    "# Truth | Actual: 1 |     TP  33 |     FN  21\n",
    "# (T/F) | Actual: 0 |     FP  12 |     TN  88\n",
    "confusion_matrix(y_test, y_pred, labels=[1, 0])"
   ]
  },
  {
   "cell_type": "code",
   "execution_count": 7,
   "metadata": {},
   "outputs": [
    {
     "data": {
      "text/plain": [
       "<matplotlib.axes._subplots.AxesSubplot at 0x4f8fef0>"
      ]
     },
     "execution_count": 7,
     "metadata": {},
     "output_type": "execute_result"
    },
    {
     "data": {
      "image/png": "[encoded data removed]",
      "text/plain": [
       "<Figure size 432x288 with 1 Axes>"
      ]
     },
     "metadata": {
      "needs_background": "light"
     },
     "output_type": "display_data"
    }
   ],
   "source": [
    "# probabilities of prediction\n",
    "y_pred_proba = log_reg.predict_proba(X_test)\n",
    "pd.Series(y_pred_proba[:, 1]).hist(bins=20)"
   ]
  },
  {
   "cell_type": "code",
   "execution_count": 8,
   "metadata": {},
   "outputs": [
    {
     "data": {
      "text/plain": [
       "array([[33, 21],\n",
       "       [12, 88]], dtype=int64)"
      ]
     },
     "execution_count": 8,
     "metadata": {},
     "output_type": "execute_result"
    }
   ],
   "source": [
    "# binarize probabilies with threshold 0.5\n",
    "y_pred_default = binarize(y_pred_proba, threshold=0.5)\n",
    "confusion_matrix(y_test, y_pred_default[:, 1], labels=[1, 0])"
   ]
  },
  {
   "cell_type": "code",
   "execution_count": 9,
   "metadata": {},
   "outputs": [
    {
     "data": {
      "text/plain": [
       "array([[47,  7],\n",
       "       [42, 58]], dtype=int64)"
      ]
     },
     "execution_count": 9,
     "metadata": {},
     "output_type": "execute_result"
    }
   ],
   "source": [
    "# binarize probabilies with low threshold 0.2\n",
    "y_pred_low = binarize(y_pred_proba, threshold=0.2)\n",
    "confusion_matrix(y_test, y_pred_low[:, 1], labels=[1, 0])"
   ]
  },
  {
   "cell_type": "code",
   "execution_count": 10,
   "metadata": {},
   "outputs": [
    {
     "name": "stderr",
     "output_type": "stream",
     "text": [
      "d:\\Miniconda3\\lib\\site-packages\\ipykernel_launcher.py:7: RuntimeWarning: invalid value encountered in longlong_scalars\n",
      "  import sys\n"
     ]
    },
    {
     "data": {
      "text/plain": [
       "<matplotlib.collections.PathCollection at 0xb905b38>"
      ]
     },
     "execution_count": 10,
     "metadata": {},
     "output_type": "execute_result"
    },
    {
     "data": {
      "image/png": "[encoded data removed]",
      "text/plain": [
       "<Figure size 432x288 with 1 Axes>"
      ]
     },
     "metadata": {
      "needs_background": "light"
     },
     "output_type": "display_data"
    }
   ],
   "source": [
    "# NPV (negative predictive value) = FN / Negatives = FN / (TN + FN)\n",
    "def npv_func(y, y_pred_proba, threshold, y_label=[1, 0]):\n",
    "    y_pred_threhold = binarize(y_pred_proba, threshold=threshold)\n",
    "    matrix = confusion_matrix(y, y_pred_threhold[:, 1], labels=y_label)\n",
    "    FN = matrix[1][1]\n",
    "    TN = matrix[0][1]\n",
    "    npv = FN / (FN + TN)\n",
    "    return npv\n",
    "\n",
    "# plot NPV with various probabilies\n",
    "thresholds = np.arange(0., 1., 0.05)\n",
    "npvs = []\n",
    "for threshold in thresholds:\n",
    "    npvs.append(npv_func(y_test, y_pred_proba, threshold))\n",
    "plt.plot(thresholds, npvs)\n",
    "th = 0.5\n",
    "plt.scatter([th], [npvs[np.where(thresholds==th)[0][0]]], marker='+')"
   ]
  },
  {
   "cell_type": "code",
   "execution_count": 16,
   "metadata": {},
   "outputs": [
    {
     "data": {
      "text/plain": [
       "<matplotlib.legend.Legend at 0x53a4c18>"
      ]
     },
     "execution_count": 16,
     "metadata": {},
     "output_type": "execute_result"
    },
    {
     "data": {
      "image/png": "[encoded data removed]",
      "text/plain": [
       "<Figure size 432x288 with 1 Axes>"
      ]
     },
     "metadata": {
      "needs_background": "light"
     },
     "output_type": "display_data"
    }
   ],
   "source": [
    "# ROC analysis\n",
    "#                   |   Prediction (P/N)\n",
    "#                   | Predict: 1 | Predict: 0\n",
    "# --------------------------------------------\n",
    "# Truth | Actual: 1 |         TP |         FN\n",
    "# (T/F) | Actual: 0 |         FP |         TN\n",
    "\n",
    "# sensitivity = TPR (true positive rate) = TP / Ground Truth = TP / (TP + FN)\n",
    "# FPR (false positive rate) = FP / Ground Truth = FP / (FP + TN)\n",
    "\n",
    "# precision = TP / (TP + FP)\n",
    "# recall = TPR = TP / (TP + FN)\n",
    "fpr, tpr, ths = roc_curve(y_test, y_pred_proba[:, 1])\n",
    "ths[0] -= np.max(y_test)\n",
    "plt.plot(ths, tpr, label=\"TPR\")\n",
    "plt.legend()"
   ]
  }
 ],
 "metadata": {
  "kernelspec": {
   "display_name": "Python 3",
   "language": "python",
   "name": "python3"
  },
  "language_info": {
   "codemirror_mode": {
    "name": "ipython",
    "version": 3
   },
   "file_extension": ".py",
   "mimetype": "text/x-python",
   "name": "python",
   "nbconvert_exporter": "python",
   "pygments_lexer": "ipython3",
   "version": "3.7.3"
  }
 },
 "nbformat": 4,
 "nbformat_minor": 4
}
