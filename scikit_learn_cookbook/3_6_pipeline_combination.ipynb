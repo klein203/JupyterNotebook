{
 "cells": [
  {
   "cell_type": "markdown",
   "metadata": {},
   "source": [
    "# key words\n",
    "- decomposition: PCA, NMF, TruncatedSVD, ISO\n",
    "- model selection: GridSearchCV\n",
    "- classifier: SVC, LinearSVC"
   ]
  },
  {
   "cell_type": "code",
   "execution_count": 1,
   "metadata": {},
   "outputs": [
    {
     "name": "stdout",
     "output_type": "stream",
     "text": [
      "best params:\n",
      " {'classify': SVC(C=10, cache_size=200, class_weight=None, coef0=0.0,\n",
      "    decision_function_shape='ovr', degree=3, gamma='auto', kernel='rbf',\n",
      "    max_iter=-1, probability=False, random_state=None, shrinking=True,\n",
      "    tol=0.001, verbose=False), 'classify__C': 10, 'reduce_dim': PCA(copy=True, iterated_power='auto', n_components=3, random_state=None,\n",
      "    svd_solver='auto', tol=0.0, whiten=False), 'reduce_dim__n_components': 3}\n",
      "best score:\n",
      " 0.9803921568627452\n"
     ]
    }
   ],
   "source": [
    "import os\n",
    "import numpy as np\n",
    "import pandas as pd\n",
    "import matplotlib.pyplot as plt\n",
    "%matplotlib inline\n",
    "\n",
    "from sklearn import datasets\n",
    "\n",
    "from sklearn.decomposition import PCA, NMF, TruncatedSVD\n",
    "from sklearn.manifold import Isomap\n",
    "from sklearn.model_selection import GridSearchCV\n",
    "from sklearn.svm import SVC, LinearSVC\n",
    "\n",
    "from sklearn.pipeline import Pipeline\n",
    "\n",
    "iris = datasets.load_iris()\n",
    "X = iris.data\n",
    "y = iris.target\n",
    "\n",
    "pipe = Pipeline([('reduce_dim', PCA()),\n",
    "                 ('classify', SVC())])\n",
    "\n",
    "param_grid = [{'reduce_dim': [PCA(), NMF(), Isomap(), TruncatedSVD()],\n",
    "               'reduce_dim__n_components': [2, 3],\n",
    "               'classify': [SVC(gamma='auto'), LinearSVC()],\n",
    "               'classify__C': [1, 10, 100, 1000]},]\n",
    "\n",
    "grid = GridSearchCV(pipe, cv=3, n_jobs=-1, param_grid=param_grid, iid=False)\n",
    "grid.fit(X, y)\n",
    "print(\"best params:\\n\", grid.best_params_)\n",
    "print(\"best score:\\n\", grid.best_score_)\n",
    "\n",
    "# detailed results\n",
    "results_df = pd.DataFrame(grid.cv_results_)\n",
    "results_df.to_excel(os.path.join(os.getcwd(), \"3_6_results.xls\"), encoding='utf-8', index=False)\n",
    "# print(results_df)"
   ]
  }
 ],
 "metadata": {
  "kernelspec": {
   "display_name": "Python 3",
   "language": "python",
   "name": "python3"
  },
  "language_info": {
   "codemirror_mode": {
    "name": "ipython",
    "version": 3
   },
   "file_extension": ".py",
   "mimetype": "text/x-python",
   "name": "python",
   "nbconvert_exporter": "python",
   "pygments_lexer": "ipython3",
   "version": "3.7.3"
  }
 },
 "nbformat": 4,
 "nbformat_minor": 4
}
