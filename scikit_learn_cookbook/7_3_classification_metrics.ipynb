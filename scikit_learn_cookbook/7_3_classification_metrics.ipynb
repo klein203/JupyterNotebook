{
 "cells": [
  {
   "cell_type": "markdown",
   "metadata": {},
   "source": [
    "# key words\n",
    "- model selection: train_test_split, cross_val_score, GridSearchCV, RandomizedSearchCV\n",
    "- classification: KNeighborsClassifier\n",
    "- metrics: confusion_matrix, recall_score, make_scorer, roc_auc_score"
   ]
  },
  {
   "cell_type": "code",
   "execution_count": 1,
   "metadata": {},
   "outputs": [
    {
     "name": "stdout",
     "output_type": "stream",
     "text": [
      "1.32 s ± 67.4 ms per loop (mean ± std. dev. of 7 runs, 1 loop each)\n",
      "RandomizedSearchCV best_params: {'n_neighbors': 15}, best_score: 0.7099\n",
      "confusion_matrix:\n",
      "[[84 16]\n",
      " [27 27]]\n",
      "recall_score: 0.5\n",
      "roc_auc_score: 0.67\n"
     ]
    }
   ],
   "source": [
    "import os\n",
    "import numpy as np\n",
    "import pandas as pd\n",
    "import matplotlib.pyplot as plt\n",
    "%matplotlib inline\n",
    "\n",
    "from sklearn import datasets\n",
    "from sklearn.model_selection import train_test_split, cross_val_score, GridSearchCV, RandomizedSearchCV\n",
    "from sklearn.neighbors import KNeighborsClassifier\n",
    "from sklearn.metrics import confusion_matrix, recall_score, make_scorer, roc_auc_score\n",
    "\n",
    "\n",
    "data_address = os.path.join(os.getcwd(), \"pima-indians-diabetes.csv\")\n",
    "column_names = ['pregnancy_x', # number of times pregnant\n",
    "                'plasma_con', # plasma glucose concentration a 2 hours in an oral glucose tolerance test\n",
    "                'blood_pressure', # diastolic blood pressure (mm Hg)\n",
    "                'skin_mm', # triceps skin fold thickness (mm)\n",
    "                'insulin', # 2-hour serum insulin (mu U/ml)\n",
    "                'bmi', # body mass index (weight in kg/(height in m)^2)\n",
    "                'pedigree_func', # diabetes pedigree function\n",
    "                'age', # age (years)\n",
    "                'target'] # class varible (0 or 1)\n",
    "feature_names = column_names[:-1]\n",
    "target_name = column_names[-1]\n",
    "\n",
    "data = pd.read_csv(data_address, names=column_names, skiprows=1)\n",
    "\n",
    "X, y = data[feature_names], data[target_name]\n",
    "X_train, X_test, y_train, y_test = train_test_split(X, y, test_size=0.2, stratify=y, random_state=7)\n",
    "\n",
    "recall_scorer = make_scorer(recall_score, greater_is_better=True)\n",
    "roc_auc_scorer = make_scorer(roc_auc_score, greater_is_better=True)\n",
    "\n",
    "knn_clf = KNeighborsClassifier()\n",
    "\n",
    "# RandomizedSearchCV\n",
    "param_dist = {'n_neighbors': list(range(3, 20, 1))}\n",
    "# rs = RandomizedSearchCV(knn_clf, param_dist, cv=10, n_iter=17, iid=False, scoring=recall_scorer)\n",
    "rs = RandomizedSearchCV(knn_clf, param_dist, cv=10, n_iter=17, iid=False, scoring=roc_auc_scorer)\n",
    "%timeit rs.fit(X_train, y_train)\n",
    "print(\"RandomizedSearchCV best_params: %s, best_score: %.4f\" % (rs.best_params_, rs.best_score_))\n",
    "\n",
    "y_pred = rs.predict(X_test)\n",
    "print(\"confusion_matrix:\\n%s\" % confusion_matrix(y_test, y_pred))\n",
    "\n",
    "print(\"recall_score:\", recall_score(y_test, y_pred))\n",
    "print(\"roc_auc_score:\", roc_auc_score(y_test, y_pred))"
   ]
  }
 ],
 "metadata": {
  "kernelspec": {
   "display_name": "Python 3",
   "language": "python",
   "name": "python3"
  },
  "language_info": {
   "codemirror_mode": {
    "name": "ipython",
    "version": 3
   },
   "file_extension": ".py",
   "mimetype": "text/x-python",
   "name": "python",
   "nbconvert_exporter": "python",
   "pygments_lexer": "ipython3",
   "version": "3.7.3"
  }
 },
 "nbformat": 4,
 "nbformat_minor": 4
}
