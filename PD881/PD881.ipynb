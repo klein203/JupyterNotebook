{
 "cells": [
  {
   "source": [
    "# PD881\n",
    "## settings\n",
    "## raw data"
   ],
   "cell_type": "markdown",
   "metadata": {}
  },
  {
   "cell_type": "code",
   "execution_count": null,
   "metadata": {},
   "outputs": [],
   "source": [
    "import pandas as pd\n",
    "\n",
    "# 文件位置定义\n",
    "file_col_def = './data/PD881_Column_Definition_20201014.xlsx'\n",
    "# file_raw_data = './data/PD881_raw.xlsx'\n",
    "# file_data = './data/PD881_data.xlsx'\n",
    "file_raw_data = './data/PD876_raw.xlsx'\n",
    "file_data = './data/PD876_data.xlsx'\n",
    "\n",
    "COL_IDX = \"NIDonly\""
   ]
  },
  {
   "cell_type": "code",
   "execution_count": null,
   "metadata": {},
   "outputs": [],
   "source": [
    "# 列名信息\n",
    "df_col_def = pd.read_excel(file_col_def)\n",
    "# col_def = df_col_def[df_col_def['SPSS数据保留']==1]['英文描述'].to_list()\n",
    "col_def = df_col_def[df_col_def['数据分析保留']==1]['英文描述'].to_list()\n",
    "# col_def"
   ]
  },
  {
   "cell_type": "code",
   "execution_count": null,
   "metadata": {},
   "outputs": [],
   "source": [
    "# 原数据初过滤列，生成初始数据\n",
    "df_raw_data = pd.read_excel(file_raw_data, index_col=COL_IDX)\n",
    "df = df_raw_data[col_def]\n",
    "df.to_excel(file_data)\n",
    "del df_raw_data"
   ]
  },
  {
   "source": [
    "## preprocessing\n",
    "### load file"
   ],
   "cell_type": "markdown",
   "metadata": {}
  },
  {
   "cell_type": "code",
   "execution_count": 1,
   "metadata": {},
   "outputs": [
    {
     "output_type": "stream",
     "name": "stdout",
     "text": [
      "0. Load file ./data/PD876_data.xlsx\n"
     ]
    }
   ],
   "source": [
    "import numpy as np\n",
    "import pandas as pd\n",
    "from sklearn.preprocessing import OrdinalEncoder, OneHotEncoder\n",
    "from sklearn.impute import SimpleImputer\n",
    "from sklearn.preprocessing import MinMaxScaler\n",
    "\n",
    "\n",
    "file_col_def = './data/PD881_Column_Definition_20201014.xlsx'\n",
    "# file_data = './data/PD881_data.xlsx'\n",
    "file_data = './data/PD876_data.xlsx'\n",
    "COL_IDX = \"NIDonly\"\n",
    "\n",
    "# load init data\n",
    "print(\"0. Load file\", file_data)\n",
    "df = pd.read_excel(file_data, index_col=COL_IDX)"
   ]
  },
  {
   "source": [
    "### EDA"
   ],
   "cell_type": "markdown",
   "metadata": {}
  },
  {
   "cell_type": "code",
   "execution_count": null,
   "metadata": {},
   "outputs": [],
   "source": [
    "# 探索性分析\n",
    "df.describe(include=\"all\").to_excel('./temp/df_describe_876.xlsx')"
   ]
  },
  {
   "source": [
    "### rename columns"
   ],
   "cell_type": "markdown",
   "metadata": {}
  },
  {
   "cell_type": "code",
   "execution_count": null,
   "metadata": {},
   "outputs": [],
   "source": [
    "# df = df.rename(columns={\n",
    "#     'ori_col_name': 'new_col_name',\n",
    "# })"
   ]
  },
  {
   "source": [
    "### special rules"
   ],
   "cell_type": "markdown",
   "metadata": {}
  },
  {
   "cell_type": "code",
   "execution_count": 2,
   "metadata": {},
   "outputs": [],
   "source": [
    "# column familyhis\n",
    "def familyhis_replace_rule(x):\n",
    "    if x.values[0] == \",\":\n",
    "        return np.nan\n",
    "    elif x.values[0] == \",无,\":\n",
    "        return \"无\"\n",
    "    else:\n",
    "        return \"是\"\n",
    "\n",
    "df[[\"familyhis\"]] = df[[\"familyhis\"]].apply(familyhis_replace_rule, axis=1)\n",
    "\n",
    "# df.loc[:, \"familyhis\"] = df[[\"familyhis\"]].apply(familyhis_replace_rule, axis=1)[0]"
   ]
  },
  {
   "cell_type": "code",
   "execution_count": null,
   "metadata": {},
   "outputs": [],
   "source": [
    "# column V0_DIAG_HY\n",
    "# 五分类 -> 十分类, 不需要了\n",
    "# df[[\"V0_DIAG_HY\"]] = df[[\"V0_DIAG_HY\"]].apply(lambda x: 2 * x)"
   ]
  },
  {
   "source": [
    "### drop rows"
   ],
   "cell_type": "markdown",
   "metadata": {}
  },
  {
   "cell_type": "code",
   "execution_count": 3,
   "metadata": {},
   "outputs": [
    {
     "output_type": "stream",
     "name": "stdout",
     "text": [
      "1. Drop values\n1-1. Drop 317 rows, export to ./temp/rows_dropped_876.xlsx\n"
     ]
    }
   ],
   "source": [
    "# 删除以下数据样本，其中单个样本超过40%的列为空值\n",
    "len_cols = len(df.columns)\n",
    "null_value_threshold = int(len_cols * 0.4)\n",
    "\n",
    "drop_row_list = df[df.isnull().sum(axis=1) >= null_value_threshold].index.to_list()\n",
    "\n",
    "print(\"1. Drop values\")\n",
    "print(\"1-1. Drop\", len(drop_row_list), \"rows, export to ./temp/rows_dropped_876.xlsx\")\n",
    "pd.DataFrame(data=drop_row_list, columns=[COL_IDX]).to_excel(\"./temp/rows_dropped_876.xlsx\")\n",
    "df.drop(drop_row_list, axis=0, inplace=True)"
   ]
  },
  {
   "source": [
    "### drop columns"
   ],
   "cell_type": "markdown",
   "metadata": {}
  },
  {
   "cell_type": "code",
   "execution_count": 4,
   "metadata": {},
   "outputs": [
    {
     "output_type": "stream",
     "name": "stdout",
     "text": [
      "1-2. Drop 4 cols, export to ./temp/cols_dropped_876.xlsx\n"
     ]
    }
   ],
   "source": [
    "# 删除以下数据特征，其中所有样本该数据特征超过40%为空值\n",
    "len_rows = len(df)\n",
    "null_col_threshold = int(len_rows * 0.4)\n",
    "# drop_col_list = df.columns[df.describe(include=\"all\").loc[\"count\", :] <= null_col_threshold].to_list()\n",
    "\n",
    "drop_col_list = df.columns[df.isnull().sum(axis=0) >= null_col_threshold].to_list()\n",
    "\n",
    "print(\"1-2. Drop\", len(drop_col_list), \"cols, export to ./temp/cols_dropped_876.xlsx\")\n",
    "pd.DataFrame(data=drop_col_list, columns=[\"DROPPED_COLUMNS\"]).to_excel(\"./temp/cols_dropped_876.xlsx\")\n",
    "df.drop(drop_col_list, axis=1, inplace=True)"
   ]
  },
  {
   "cell_type": "code",
   "execution_count": 5,
   "metadata": {},
   "outputs": [
    {
     "output_type": "execute_result",
     "data": {
      "text/plain": [
       "        INPUT_AGE    ageonset      HEIGHT  FIRST_DIAG_AGE  PMH_ANESTHETIC  \\\n",
       "count  559.000000  559.000000  555.000000      559.000000      531.000000   \n",
       "mean    49.531306   44.468694  166.410811       45.974955        0.433145   \n",
       "std     12.784203   13.415152    7.541502       13.695462        0.907388   \n",
       "min     14.000000    0.000000  145.000000        0.000000        0.000000   \n",
       "25%     40.500000   36.000000  160.000000       38.000000        0.000000   \n",
       "50%     49.000000   44.000000  167.000000       46.000000        0.000000   \n",
       "75%     61.000000   54.000000  172.000000       55.000000        1.000000   \n",
       "max     84.000000   77.000000  190.000000       83.000000        8.000000   \n",
       "\n",
       "           V0_AGE  V0_COURSE_MONTH  V0_DIAG_HY  V0_PD_WEIGHT  V0_BP_SIT_SYS  \\\n",
       "count  559.000000       555.000000  556.000000    530.000000     373.000000   \n",
       "mean    49.781753        62.854054    2.133993     63.610755     135.024129   \n",
       "std     12.743216        61.803888    0.868122     11.824312      97.109056   \n",
       "min     16.000000         0.000000    1.000000     35.500000       0.000000   \n",
       "25%     41.000000        20.000000    2.000000     55.000000     116.000000   \n",
       "50%     49.000000        40.000000    2.000000     63.000000     126.000000   \n",
       "75%     61.000000        81.500000    3.000000     70.000000     137.000000   \n",
       "max     84.000000       355.000000    5.000000    105.000000    1400.000000   \n",
       "\n",
       "       ...  V0_NMSStotal  V0_ESStotal  V0_GDStotal  V0_RBDtotal  \\\n",
       "count  ...    553.000000   547.000000   541.000000   535.000000   \n",
       "mean   ...     10.735986     6.067642    11.408503     3.835514   \n",
       "std    ...      6.637543     4.306162     7.399790     2.792957   \n",
       "min    ...      0.000000     0.000000     0.000000     0.000000   \n",
       "25%    ...      6.000000     3.000000     5.000000     2.000000   \n",
       "50%    ...     10.000000     5.000000    11.000000     3.000000   \n",
       "75%    ...     15.000000     8.000000    17.000000     5.000000   \n",
       "max    ...     30.000000    23.000000    29.000000    13.000000   \n",
       "\n",
       "       V0_snifftotal  V0_lsnifftotal  V0_rsmelltotal  V0_UPDRSIII_OFFtotal  \\\n",
       "count     519.000000    5.060000e+02    5.020000e+02            521.000000   \n",
       "mean        5.764933   -4.238528e+03   -4.272341e+03             29.866355   \n",
       "std         2.489097    9.546751e+04    9.584710e+04             15.310701   \n",
       "min         0.000000   -2.147483e+06   -2.147483e+06              0.000000   \n",
       "25%         4.000000    4.000000e+00    4.000000e+00             18.916667   \n",
       "50%         6.000000    5.000000e+00    5.000000e+00             28.000000   \n",
       "75%         7.000000    7.000000e+00    7.000000e+00             39.000000   \n",
       "max        12.000000    1.100000e+01    1.200000e+01            100.454545   \n",
       "\n",
       "       V0_PDQ39total  V0_PDQ39Q30  \n",
       "count     552.000000   550.000000  \n",
       "mean       33.996377     0.620000  \n",
       "std        24.520520     0.928775  \n",
       "min         0.000000     0.000000  \n",
       "25%        15.000000     0.000000  \n",
       "50%        28.000000     0.000000  \n",
       "75%        48.250000     1.000000  \n",
       "max       127.000000     4.000000  \n",
       "\n",
       "[8 rows x 63 columns]"
      ],
      "text/html": "<div>\n<style scoped>\n    .dataframe tbody tr th:only-of-type {\n        vertical-align: middle;\n    }\n\n    .dataframe tbody tr th {\n        vertical-align: top;\n    }\n\n    .dataframe thead th {\n        text-align: right;\n    }\n</style>\n<table border=\"1\" class=\"dataframe\">\n  <thead>\n    <tr style=\"text-align: right;\">\n      <th></th>\n      <th>INPUT_AGE</th>\n      <th>ageonset</th>\n      <th>HEIGHT</th>\n      <th>FIRST_DIAG_AGE</th>\n      <th>PMH_ANESTHETIC</th>\n      <th>V0_AGE</th>\n      <th>V0_COURSE_MONTH</th>\n      <th>V0_DIAG_HY</th>\n      <th>V0_PD_WEIGHT</th>\n      <th>V0_BP_SIT_SYS</th>\n      <th>...</th>\n      <th>V0_NMSStotal</th>\n      <th>V0_ESStotal</th>\n      <th>V0_GDStotal</th>\n      <th>V0_RBDtotal</th>\n      <th>V0_snifftotal</th>\n      <th>V0_lsnifftotal</th>\n      <th>V0_rsmelltotal</th>\n      <th>V0_UPDRSIII_OFFtotal</th>\n      <th>V0_PDQ39total</th>\n      <th>V0_PDQ39Q30</th>\n    </tr>\n  </thead>\n  <tbody>\n    <tr>\n      <th>count</th>\n      <td>559.000000</td>\n      <td>559.000000</td>\n      <td>555.000000</td>\n      <td>559.000000</td>\n      <td>531.000000</td>\n      <td>559.000000</td>\n      <td>555.000000</td>\n      <td>556.000000</td>\n      <td>530.000000</td>\n      <td>373.000000</td>\n      <td>...</td>\n      <td>553.000000</td>\n      <td>547.000000</td>\n      <td>541.000000</td>\n      <td>535.000000</td>\n      <td>519.000000</td>\n      <td>5.060000e+02</td>\n      <td>5.020000e+02</td>\n      <td>521.000000</td>\n      <td>552.000000</td>\n      <td>550.000000</td>\n    </tr>\n    <tr>\n      <th>mean</th>\n      <td>49.531306</td>\n      <td>44.468694</td>\n      <td>166.410811</td>\n      <td>45.974955</td>\n      <td>0.433145</td>\n      <td>49.781753</td>\n      <td>62.854054</td>\n      <td>2.133993</td>\n      <td>63.610755</td>\n      <td>135.024129</td>\n      <td>...</td>\n      <td>10.735986</td>\n      <td>6.067642</td>\n      <td>11.408503</td>\n      <td>3.835514</td>\n      <td>5.764933</td>\n      <td>-4.238528e+03</td>\n      <td>-4.272341e+03</td>\n      <td>29.866355</td>\n      <td>33.996377</td>\n      <td>0.620000</td>\n    </tr>\n    <tr>\n      <th>std</th>\n      <td>12.784203</td>\n      <td>13.415152</td>\n      <td>7.541502</td>\n      <td>13.695462</td>\n      <td>0.907388</td>\n      <td>12.743216</td>\n      <td>61.803888</td>\n      <td>0.868122</td>\n      <td>11.824312</td>\n      <td>97.109056</td>\n      <td>...</td>\n      <td>6.637543</td>\n      <td>4.306162</td>\n      <td>7.399790</td>\n      <td>2.792957</td>\n      <td>2.489097</td>\n      <td>9.546751e+04</td>\n      <td>9.584710e+04</td>\n      <td>15.310701</td>\n      <td>24.520520</td>\n      <td>0.928775</td>\n    </tr>\n    <tr>\n      <th>min</th>\n      <td>14.000000</td>\n      <td>0.000000</td>\n      <td>145.000000</td>\n      <td>0.000000</td>\n      <td>0.000000</td>\n      <td>16.000000</td>\n      <td>0.000000</td>\n      <td>1.000000</td>\n      <td>35.500000</td>\n      <td>0.000000</td>\n      <td>...</td>\n      <td>0.000000</td>\n      <td>0.000000</td>\n      <td>0.000000</td>\n      <td>0.000000</td>\n      <td>0.000000</td>\n      <td>-2.147483e+06</td>\n      <td>-2.147483e+06</td>\n      <td>0.000000</td>\n      <td>0.000000</td>\n      <td>0.000000</td>\n    </tr>\n    <tr>\n      <th>25%</th>\n      <td>40.500000</td>\n      <td>36.000000</td>\n      <td>160.000000</td>\n      <td>38.000000</td>\n      <td>0.000000</td>\n      <td>41.000000</td>\n      <td>20.000000</td>\n      <td>2.000000</td>\n      <td>55.000000</td>\n      <td>116.000000</td>\n      <td>...</td>\n      <td>6.000000</td>\n      <td>3.000000</td>\n      <td>5.000000</td>\n      <td>2.000000</td>\n      <td>4.000000</td>\n      <td>4.000000e+00</td>\n      <td>4.000000e+00</td>\n      <td>18.916667</td>\n      <td>15.000000</td>\n      <td>0.000000</td>\n    </tr>\n    <tr>\n      <th>50%</th>\n      <td>49.000000</td>\n      <td>44.000000</td>\n      <td>167.000000</td>\n      <td>46.000000</td>\n      <td>0.000000</td>\n      <td>49.000000</td>\n      <td>40.000000</td>\n      <td>2.000000</td>\n      <td>63.000000</td>\n      <td>126.000000</td>\n      <td>...</td>\n      <td>10.000000</td>\n      <td>5.000000</td>\n      <td>11.000000</td>\n      <td>3.000000</td>\n      <td>6.000000</td>\n      <td>5.000000e+00</td>\n      <td>5.000000e+00</td>\n      <td>28.000000</td>\n      <td>28.000000</td>\n      <td>0.000000</td>\n    </tr>\n    <tr>\n      <th>75%</th>\n      <td>61.000000</td>\n      <td>54.000000</td>\n      <td>172.000000</td>\n      <td>55.000000</td>\n      <td>1.000000</td>\n      <td>61.000000</td>\n      <td>81.500000</td>\n      <td>3.000000</td>\n      <td>70.000000</td>\n      <td>137.000000</td>\n      <td>...</td>\n      <td>15.000000</td>\n      <td>8.000000</td>\n      <td>17.000000</td>\n      <td>5.000000</td>\n      <td>7.000000</td>\n      <td>7.000000e+00</td>\n      <td>7.000000e+00</td>\n      <td>39.000000</td>\n      <td>48.250000</td>\n      <td>1.000000</td>\n    </tr>\n    <tr>\n      <th>max</th>\n      <td>84.000000</td>\n      <td>77.000000</td>\n      <td>190.000000</td>\n      <td>83.000000</td>\n      <td>8.000000</td>\n      <td>84.000000</td>\n      <td>355.000000</td>\n      <td>5.000000</td>\n      <td>105.000000</td>\n      <td>1400.000000</td>\n      <td>...</td>\n      <td>30.000000</td>\n      <td>23.000000</td>\n      <td>29.000000</td>\n      <td>13.000000</td>\n      <td>12.000000</td>\n      <td>1.100000e+01</td>\n      <td>1.200000e+01</td>\n      <td>100.454545</td>\n      <td>127.000000</td>\n      <td>4.000000</td>\n    </tr>\n  </tbody>\n</table>\n<p>8 rows × 63 columns</p>\n</div>"
     },
     "metadata": {},
     "execution_count": 5
    }
   ],
   "source": [
    "df.describe()"
   ]
  },
  {
   "source": [
    "### encoding"
   ],
   "cell_type": "markdown",
   "metadata": {}
  },
  {
   "cell_type": "code",
   "execution_count": 5,
   "metadata": {},
   "outputs": [],
   "source": [
    "# 定类列名信息（离散）\n",
    "df_col_def = pd.read_excel(file_col_def)\n",
    "col_discrete_def = \\\n",
    "    df_col_def[(df_col_def[\"数据分析保留\"]==1)&(df_col_def[\"数据类型\"]==\"定类\")][\"英文描述\"].to_list()\n",
    "# col_discrete_def\n",
    "\n",
    "# pandas onehot编码\n",
    "df = pd.get_dummies(df, columns=col_discrete_def)"
   ]
  },
  {
   "cell_type": "code",
   "execution_count": null,
   "metadata": {},
   "outputs": [],
   "source": [
    "# 离散数据序数编码器（如使用onehot，不要执行ordinal编码）\n",
    "ordinal_enc_dict = {}\n",
    "for col_name in col_discrete_def:\n",
    "    # Create Ordinal encoder for col\n",
    "    ordinal_enc_dict[col_name] = OrdinalEncoder(dtype=\"int64\")\n",
    "    col = df[col_name]\n",
    "    \n",
    "    # Select non-null values of col\n",
    "    col_not_null = col[col.notnull()]\n",
    "    reshaped_vals = col_not_null.values.reshape(-1, 1)\n",
    "    encoded_vals = ordinal_enc_dict[col_name].fit_transform(reshaped_vals)\n",
    "    \n",
    "    # Store the values to non-null values of the column in users\n",
    "    df.loc[col.notnull(), col_name] = np.squeeze(encoded_vals)\n",
    "\n",
    "# 离散数据编码映射\n",
    "{key: val.categories_[0].tolist() for key, val in ordinal_enc_dict.items()}\n",
    "\n",
    "# for val in ordinal_enc_dict.values():\n",
    "#     print(val.categories_)"
   ]
  },
  {
   "source": [
    "### imputer"
   ],
   "cell_type": "markdown",
   "metadata": {}
  },
  {
   "cell_type": "code",
   "execution_count": 6,
   "metadata": {},
   "outputs": [],
   "source": [
    "# 均值补差\n",
    "imputer = SimpleImputer(strategy='mean')\n",
    "df[:] = imputer.fit_transform(df)"
   ]
  },
  {
   "cell_type": "code",
   "execution_count": 8,
   "metadata": {},
   "outputs": [],
   "source": [
    "scaler = MinMaxScaler(feature_range=(0, 1), copy=True)\n",
    "df[:] = scaler.fit_transform(df)"
   ]
  },
  {
   "source": [
    "### check missing values"
   ],
   "cell_type": "markdown",
   "metadata": {}
  },
  {
   "cell_type": "code",
   "execution_count": 10,
   "metadata": {},
   "outputs": [
    {
     "output_type": "stream",
     "name": "stdout",
     "text": [
      "2. Check missing values\n2-1. Index - Missing values detected: False\n2-2. Columns - Missing values detected: False\n[]\n"
     ]
    }
   ],
   "source": [
    "# check missing values\n",
    "print(\"2. Check missing values\")\n",
    "print(\"2-1. Index - Missing values detected:\", df.index.isna().any())\n",
    "\n",
    "col_missing_values = df.columns[df.isna().any().values==True].tolist()\n",
    "print(\"2-2. Columns - Missing values detected:\", len(col_missing_values)>0)\n",
    "print(col_missing_values)"
   ]
  },
  {
   "source": [
    "### export final data"
   ],
   "cell_type": "markdown",
   "metadata": {}
  },
  {
   "cell_type": "code",
   "execution_count": 11,
   "metadata": {},
   "outputs": [],
   "source": [
    "# debug\n",
    "df.to_excel('./temp/df_final_876.xlsx')"
   ]
  }
 ],
 "metadata": {
  "kernelspec": {
   "display_name": "Python 3",
   "language": "python",
   "name": "python3"
  },
  "language_info": {
   "codemirror_mode": {
    "name": "ipython",
    "version": 3
   },
   "file_extension": ".py",
   "mimetype": "text/x-python",
   "name": "python",
   "nbconvert_exporter": "python",
   "pygments_lexer": "ipython3",
   "version": "3.7.3-final"
  }
 },
 "nbformat": 4,
 "nbformat_minor": 4
}