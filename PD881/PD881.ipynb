{
 "cells": [
  {
   "source": [
    "# PD881\n",
    "## settings\n",
    "## raw data"
   ],
   "cell_type": "markdown",
   "metadata": {}
  },
  {
   "cell_type": "code",
   "execution_count": 1,
   "metadata": {},
   "outputs": [],
   "source": [
    "import pandas as pd\n",
    "\n",
    "# 文件位置定义\n",
    "file_col_def = './data/PD881_Column_Definition_20201014.xlsx'\n",
    "# file_raw_data = './data/PD881_raw.xlsx'\n",
    "# file_data = './data/PD881_data.xlsx'\n",
    "file_raw_data = './data/PD876_raw.xlsx'\n",
    "file_data = './data/PD876_data.xlsx'\n",
    "file_final_data = './data/PD876_final.xlsx'\n",
    "\n",
    "COL_IDX = \"NIDonly\"\n",
    "LABEL_IDX = \"CATEGORY\""
   ]
  },
  {
   "cell_type": "code",
   "execution_count": 8,
   "metadata": {},
   "outputs": [],
   "source": [
    "# 列名信息\n",
    "df_col_def = pd.read_excel(file_col_def)\n",
    "# col_def = df_col_def[df_col_def['SPSS数据保留']==1]['英文描述'].to_list()\n",
    "col_def = df_col_def[df_col_def['数据分析保留']==1]['英文描述'].to_list()\n",
    "# col_def"
   ]
  },
  {
   "cell_type": "code",
   "execution_count": 9,
   "metadata": {},
   "outputs": [],
   "source": [
    "# 原数据初过滤列，生成初始数据\n",
    "df_raw_data = pd.read_excel(file_raw_data, index_col=COL_IDX)\n",
    "df = df_raw_data[col_def]\n",
    "df.to_excel(file_data)\n",
    "del df_raw_data"
   ]
  },
  {
   "source": [
    "## preprocessing\n",
    "### load file"
   ],
   "cell_type": "markdown",
   "metadata": {}
  },
  {
   "cell_type": "code",
   "execution_count": 1,
   "metadata": {},
   "outputs": [
    {
     "output_type": "stream",
     "name": "stdout",
     "text": [
      "0. Load file ./data/PD876_data.xlsx\n"
     ]
    }
   ],
   "source": [
    "import numpy as np\n",
    "import pandas as pd\n",
    "from sklearn.preprocessing import OrdinalEncoder, OneHotEncoder\n",
    "from sklearn.impute import SimpleImputer\n",
    "from sklearn.preprocessing import MinMaxScaler, StandardScaler\n",
    "\n",
    "\n",
    "file_col_def = './data/PD881_Column_Definition_20201014.xlsx'\n",
    "# file_data = './data/PD881_data.xlsx'\n",
    "file_data = './data/PD876_data.xlsx'\n",
    "file_final_data = './data/PD876_final.xlsx'\n",
    "COL_IDX = \"NIDonly\"\n",
    "LABEL_IDX = \"CATEGORY\"\n",
    "\n",
    "# load init data\n",
    "print(\"0. Load file\", file_data)\n",
    "df = pd.read_excel(file_data, index_col=COL_IDX)"
   ]
  },
  {
   "source": [
    "### EDA"
   ],
   "cell_type": "markdown",
   "metadata": {}
  },
  {
   "cell_type": "code",
   "execution_count": null,
   "metadata": {},
   "outputs": [],
   "source": [
    "# 探索性分析\n",
    "# df.describe(include=\"all\").to_excel('./temp/df_describe_876.xlsx')"
   ]
  },
  {
   "cell_type": "code",
   "execution_count": 12,
   "metadata": {},
   "outputs": [
    {
     "output_type": "execute_result",
     "data": {
      "text/plain": [
       "array(['阴性', 'LRRK2 2385', 'PLA2G6+LRRK2 2385', 'PARK2',\n",
       "       'PARK2复合杂合？（de novo无法判定)', 'GBA', '阴性（归入晚发散发）', 'DJ-1',\n",
       "       'PARK2+PINK1 双基因，复合杂合', 'PARK2未验证', 'PLA2G6', 'LRRK2 2385（归入晚发散发）',\n",
       "       'SNCA', 'LRRK2', '阴性（近亲结婚，父亲母亲去世，有3位患者去世一位）', '阴性（CHCHD2 VUS）',\n",
       "       'DJ-1+LRRK2 2385', 'GBA+LRRK2 2385', 'GBA(de novo)', 0, 'PARK2单杂合',\n",
       "       'LRRK2 2385纯和', 'GBA需要验证排除复合杂合，排除嵌合体', '阴性（康旭做的，有机会可以重做）',\n",
       "       'PARK2+LRRK2 2385', 'PARK2 未验证', '阴性（大家系）', 'PARK2单杂合+LRRK2 2385',\n",
       "       'CHCHD2', nan, 'PINK1', 'PINK1未验证', 'GBA（归入晚发散发）', 'PARK2未验证（双生子）',\n",
       "       'VPS35', 'CHCHD2+LRRK2 2385', 'GBA（N227R，有2个碱基突变）',\n",
       "       'PARK2+PSEN2(验证非常重要，详细问家族史)'], dtype=object)"
      ]
     },
     "metadata": {},
     "execution_count": 12
    }
   ],
   "source": [
    "# df[\"CATEGORY\"].unique()"
   ]
  },
  {
   "source": [
    "### rename columns"
   ],
   "cell_type": "markdown",
   "metadata": {}
  },
  {
   "cell_type": "code",
   "execution_count": null,
   "metadata": {},
   "outputs": [],
   "source": [
    "# df = df.rename(columns={\n",
    "#     'ori_col_name': 'new_col_name',\n",
    "# })"
   ]
  },
  {
   "source": [
    "### special rules"
   ],
   "cell_type": "markdown",
   "metadata": {}
  },
  {
   "cell_type": "code",
   "execution_count": 2,
   "metadata": {},
   "outputs": [],
   "source": [
    "# column familyhis\n",
    "def familyhis_replace_rule(x):\n",
    "    if x.values[0] == \",\":\n",
    "        return np.nan\n",
    "    elif x.values[0] == \",无,\":\n",
    "        return \"无\"\n",
    "    else:\n",
    "        return \"是\"\n",
    "\n",
    "df[[\"familyhis\"]] = df[[\"familyhis\"]].apply(familyhis_replace_rule, axis=1)\n",
    "\n",
    "# df.loc[:, \"familyhis\"] = df[[\"familyhis\"]].apply(familyhis_replace_rule, axis=1)[0]"
   ]
  },
  {
   "cell_type": "code",
   "execution_count": null,
   "metadata": {},
   "outputs": [],
   "source": [
    "# column V0_DIAG_HY\n",
    "# 五分类 -> 十分类, 不需要了\n",
    "# df[[\"V0_DIAG_HY\"]] = df[[\"V0_DIAG_HY\"]].apply(lambda x: 2 * x)"
   ]
  },
  {
   "source": [
    "### drop rows"
   ],
   "cell_type": "markdown",
   "metadata": {}
  },
  {
   "cell_type": "code",
   "execution_count": 3,
   "metadata": {},
   "outputs": [
    {
     "output_type": "stream",
     "name": "stdout",
     "text": [
      "1. Drop values\n1-1. Drop 317 rows, export to ./temp/rows_dropped_876.xlsx\n"
     ]
    }
   ],
   "source": [
    "# 删除以下数据样本，其中单个样本超过40%的列为空值\n",
    "len_cols = len(df.columns)\n",
    "null_value_threshold = int(len_cols * 0.4)\n",
    "\n",
    "drop_row_list = df[df.isnull().sum(axis=1) >= null_value_threshold].index.to_list()\n",
    "\n",
    "print(\"1. Drop values\")\n",
    "print(\"1-1. Drop\", len(drop_row_list), \"rows, export to ./temp/rows_dropped_876.xlsx\")\n",
    "pd.DataFrame(data=drop_row_list, columns=[COL_IDX]).to_excel(\"./temp/rows_dropped_876.xlsx\")\n",
    "df.drop(drop_row_list, axis=0, inplace=True)"
   ]
  },
  {
   "source": [
    "### drop columns"
   ],
   "cell_type": "markdown",
   "metadata": {}
  },
  {
   "cell_type": "code",
   "execution_count": 4,
   "metadata": {},
   "outputs": [
    {
     "output_type": "stream",
     "name": "stdout",
     "text": [
      "1-2. Drop 4 cols, export to ./temp/cols_dropped_876.xlsx\n"
     ]
    }
   ],
   "source": [
    "# 删除以下数据特征，其中所有样本该数据特征超过40%为空值\n",
    "len_rows = len(df)\n",
    "null_col_threshold = int(len_rows * 0.4)\n",
    "# drop_col_list = df.columns[df.describe(include=\"all\").loc[\"count\", :] <= null_col_threshold].to_list()\n",
    "\n",
    "drop_col_list = df.columns[df.isnull().sum(axis=0) >= null_col_threshold].to_list()\n",
    "\n",
    "print(\"1-2. Drop\", len(drop_col_list), \"cols, export to ./temp/cols_dropped_876.xlsx\")\n",
    "pd.DataFrame(data=drop_col_list, columns=[\"DROPPED_COLUMNS\"]).to_excel(\"./temp/cols_dropped_876.xlsx\")\n",
    "df.drop(drop_col_list, axis=1, inplace=True)"
   ]
  },
  {
   "cell_type": "code",
   "execution_count": null,
   "metadata": {},
   "outputs": [],
   "source": [
    "df.describe()"
   ]
  },
  {
   "source": [
    "### encoding"
   ],
   "cell_type": "markdown",
   "metadata": {}
  },
  {
   "cell_type": "code",
   "execution_count": 32,
   "metadata": {},
   "outputs": [],
   "source": [
    "# 定类列名信息（离散）\n",
    "df_col_def = pd.read_excel(file_col_def)\n",
    "col_discrete_def = \\\n",
    "    df_col_def[(df_col_def[\"数据分析保留\"]==1)&(df_col_def[\"数据类型\"]==\"定类\")][\"英文描述\"].to_list()\n",
    "# col_discrete_def\n",
    "\n",
    "# pandas onehot编码\n",
    "df = pd.get_dummies(df, columns=col_discrete_def)"
   ]
  },
  {
   "cell_type": "code",
   "execution_count": null,
   "metadata": {},
   "outputs": [],
   "source": [
    "# 离散数据序数编码器（如使用onehot，不要执行ordinal编码）\n",
    "ordinal_enc_dict = {}\n",
    "for col_name in col_discrete_def:\n",
    "    # Create Ordinal encoder for col\n",
    "    ordinal_enc_dict[col_name] = OrdinalEncoder(dtype=\"int64\")\n",
    "    col = df[col_name]\n",
    "    \n",
    "    # Select non-null values of col\n",
    "    col_not_null = col[col.notnull()]\n",
    "    reshaped_vals = col_not_null.values.reshape(-1, 1)\n",
    "    encoded_vals = ordinal_enc_dict[col_name].fit_transform(reshaped_vals)\n",
    "    \n",
    "    # Store the values to non-null values of the column in users\n",
    "    df.loc[col.notnull(), col_name] = np.squeeze(encoded_vals)\n",
    "\n",
    "# 离散数据编码映射\n",
    "{key: val.categories_[0].tolist() for key, val in ordinal_enc_dict.items()}\n",
    "\n",
    "# for val in ordinal_enc_dict.values():\n",
    "#     print(val.categories_)"
   ]
  },
  {
   "source": [
    "### imputing"
   ],
   "cell_type": "markdown",
   "metadata": {}
  },
  {
   "cell_type": "code",
   "execution_count": 33,
   "metadata": {},
   "outputs": [],
   "source": [
    "# 均值补差\n",
    "imputer = SimpleImputer(strategy='mean')\n",
    "df[:] = imputer.fit_transform(df)"
   ]
  },
  {
   "source": [
    "### scaling"
   ],
   "cell_type": "markdown",
   "metadata": {}
  },
  {
   "cell_type": "code",
   "execution_count": null,
   "metadata": {},
   "outputs": [],
   "source": [
    "# min-max normalization\n",
    "min_max_scaler = MinMaxScaler(feature_range=(0, 1), copy=True)\n",
    "df[:] = min_max_scaler.fit_transform(df)"
   ]
  },
  {
   "cell_type": "code",
   "execution_count": 34,
   "metadata": {},
   "outputs": [],
   "source": [
    "# z-score normalization\n",
    "standard_scaler = StandardScaler(copy=True)\n",
    "df[:] = standard_scaler.fit_transform(df)"
   ]
  },
  {
   "source": [
    "### check missing values"
   ],
   "cell_type": "markdown",
   "metadata": {}
  },
  {
   "cell_type": "code",
   "execution_count": 35,
   "metadata": {},
   "outputs": [
    {
     "output_type": "stream",
     "name": "stdout",
     "text": [
      "2. Check missing values\n2-1. Index - Missing values detected: False\n2-2. Columns - Missing values detected: False\n"
     ]
    }
   ],
   "source": [
    "# check missing values\n",
    "print(\"2. Check missing values\")\n",
    "print(\"2-1. Index - Missing values detected:\", df.index.isna().any())\n",
    "\n",
    "col_missing_values = df.columns[df.isna().any().values==True].tolist()\n",
    "print(\"2-2. Columns - Missing values detected:\", len(col_missing_values)>0)\n",
    "# print(col_missing_values)"
   ]
  },
  {
   "source": [
    "### export final data"
   ],
   "cell_type": "markdown",
   "metadata": {}
  },
  {
   "cell_type": "code",
   "execution_count": 36,
   "metadata": {},
   "outputs": [],
   "source": [
    "file_final_data = './data/PD876_final.xlsx'\n",
    "df.to_excel(file_final_data)"
   ]
  },
  {
   "source": [
    "## Data Process"
   ],
   "cell_type": "markdown",
   "metadata": {}
  },
  {
   "cell_type": "code",
   "execution_count": 2,
   "metadata": {},
   "outputs": [],
   "source": [
    "import numpy as np\n",
    "import pandas as pd\n",
    "\n",
    "\n",
    "file_col_def = './data/PD881_Column_Definition_20201014.xlsx'\n",
    "file_final_data = './data/PD876_final.xlsx'\n",
    "COL_IDX = \"NIDonly\"\n",
    "\n",
    "df = pd.read_excel(file_final_data, index_col=COL_IDX)"
   ]
  },
  {
   "cell_type": "code",
   "execution_count": 21,
   "metadata": {},
   "outputs": [
    {
     "output_type": "execute_result",
     "data": {
      "text/plain": [
       "array([[ 0.59342621,  0.59277928,  0.33134117, ..., -0.04203872,\n",
       "         1.02423405, -0.02447817],\n",
       "       [ 0.35632879,  0.40952064,  0.58979016, ..., -0.01351738,\n",
       "         1.06074802, -0.004593  ],\n",
       "       [ 0.61885123,  0.70958841,  0.57502815, ..., -0.02384252,\n",
       "         0.78810213,  0.06287219],\n",
       "       ...,\n",
       "       [ 0.6389589 ,  0.68574599,  0.65821021, ..., -0.0318617 ,\n",
       "         1.35482777, -0.18844095],\n",
       "       [ 0.64290454,  0.74865348,  0.63652534, ...,  0.05657575,\n",
       "         0.94022751,  0.06584416],\n",
       "       [ 0.42649832,  0.57282219,  0.66945106, ..., -0.08976786,\n",
       "         1.10140162, -0.19153202]])"
      ]
     },
     "metadata": {},
     "execution_count": 21
    }
   ],
   "source": [
    "from sklearn.decomposition import PCA\n",
    "\n",
    "pca = PCA(n_components=0.9)\n",
    "# pca2 = PCA(n_components=0.3)\n",
    "# pca3 = PCA(n_components=\"mle\")\n",
    "matrix_pca = pca.fit_transform(df)\n",
    "matrix_pca\n",
    "# pca.explained_variance_ratio_\n",
    "m = pca.inverse_transform(matrix_pca)\n",
    "# variance_pca = pca.explained_variance_ratio_.sum()\n",
    "# variance_pca\n",
    "m"
   ]
  },
  {
   "cell_type": "code",
   "execution_count": 24,
   "metadata": {},
   "outputs": [
    {
     "output_type": "execute_result",
     "data": {
      "text/plain": [
       "        INPUT_AGE    ageonset      HEIGHT  FIRST_DIAG_AGE  PMH_ANESTHETIC  \\\n",
       "count  559.000000  559.000000  559.000000      559.000000      559.000000   \n",
       "mean     0.507590    0.577516    0.475796        0.553915        0.054143   \n",
       "std      0.182631    0.174223    0.166987        0.165006        0.110541   \n",
       "min      0.000000    0.000000    0.000000        0.000000        0.000000   \n",
       "25%      0.378571    0.467532    0.333333        0.457831        0.000000   \n",
       "50%      0.500000    0.571429    0.488889        0.554217        0.000000   \n",
       "75%      0.671429    0.701299    0.600000        0.662651        0.125000   \n",
       "max      1.000000    1.000000    1.000000        1.000000        1.000000   \n",
       "\n",
       "           V0_AGE  V0_COURSE_MONTH  V0_DIAG_HY  V0_PD_WEIGHT  V0_BP_SIT_SYS  \\\n",
       "count  559.000000       559.000000  559.000000    559.000000     559.000000   \n",
       "mean     0.496790         0.177054    0.283498      0.404471       0.096446   \n",
       "std      0.187400         0.173470    0.216446      0.165654       0.056635   \n",
       "min      0.000000         0.000000    0.000000      0.000000       0.000000   \n",
       "25%      0.367647         0.057746    0.250000      0.280576       0.086429   \n",
       "50%      0.485294         0.115493    0.250000      0.404471       0.096446   \n",
       "75%      0.661765         0.228169    0.500000      0.496403       0.096446   \n",
       "max      1.000000         1.000000    1.000000      1.000000       1.000000   \n",
       "\n",
       "       ...  V0_SLEEP_REMIT_无  V0_SLEEP_REMIT_是  V0_dementia_无  V0_dementia_是  \\\n",
       "count  ...        559.000000        559.000000     559.000000     559.000000   \n",
       "mean   ...          0.416816          0.568873       0.794275       0.119857   \n",
       "std    ...          0.493473          0.495677       0.404592       0.325085   \n",
       "min    ...          0.000000          0.000000       0.000000       0.000000   \n",
       "25%    ...          0.000000          0.000000       1.000000       0.000000   \n",
       "50%    ...          0.000000          1.000000       1.000000       0.000000   \n",
       "75%    ...          1.000000          1.000000       1.000000       0.000000   \n",
       "max    ...          1.000000          1.000000       1.000000       1.000000   \n",
       "\n",
       "       V0_dyskinesia_无  V0_dyskinesia_是  V0_ILLUSION_无  V0_ILLUSION_是  \\\n",
       "count       559.000000       559.000000     559.000000     559.000000   \n",
       "mean          0.840787         0.153846       0.908766       0.082290   \n",
       "std           0.366202         0.361124       0.288200       0.275052   \n",
       "min           0.000000         0.000000       0.000000       0.000000   \n",
       "25%           1.000000         0.000000       1.000000       0.000000   \n",
       "50%           1.000000         0.000000       1.000000       0.000000   \n",
       "75%           1.000000         0.000000       1.000000       0.000000   \n",
       "max           1.000000         1.000000       1.000000       1.000000   \n",
       "\n",
       "       V0_PKSMEDICINE_无  V0_PKSMEDICINE_是  \n",
       "count        559.000000        559.000000  \n",
       "mean           0.921288          0.035778  \n",
       "std            0.269530          0.185903  \n",
       "min            0.000000          0.000000  \n",
       "25%            1.000000          0.000000  \n",
       "50%            1.000000          0.000000  \n",
       "75%            1.000000          0.000000  \n",
       "max            1.000000          1.000000  \n",
       "\n",
       "[8 rows x 133 columns]"
      ],
      "text/html": "<div>\n<style scoped>\n    .dataframe tbody tr th:only-of-type {\n        vertical-align: middle;\n    }\n\n    .dataframe tbody tr th {\n        vertical-align: top;\n    }\n\n    .dataframe thead th {\n        text-align: right;\n    }\n</style>\n<table border=\"1\" class=\"dataframe\">\n  <thead>\n    <tr style=\"text-align: right;\">\n      <th></th>\n      <th>INPUT_AGE</th>\n      <th>ageonset</th>\n      <th>HEIGHT</th>\n      <th>FIRST_DIAG_AGE</th>\n      <th>PMH_ANESTHETIC</th>\n      <th>V0_AGE</th>\n      <th>V0_COURSE_MONTH</th>\n      <th>V0_DIAG_HY</th>\n      <th>V0_PD_WEIGHT</th>\n      <th>V0_BP_SIT_SYS</th>\n      <th>...</th>\n      <th>V0_SLEEP_REMIT_无</th>\n      <th>V0_SLEEP_REMIT_是</th>\n      <th>V0_dementia_无</th>\n      <th>V0_dementia_是</th>\n      <th>V0_dyskinesia_无</th>\n      <th>V0_dyskinesia_是</th>\n      <th>V0_ILLUSION_无</th>\n      <th>V0_ILLUSION_是</th>\n      <th>V0_PKSMEDICINE_无</th>\n      <th>V0_PKSMEDICINE_是</th>\n    </tr>\n  </thead>\n  <tbody>\n    <tr>\n      <th>count</th>\n      <td>559.000000</td>\n      <td>559.000000</td>\n      <td>559.000000</td>\n      <td>559.000000</td>\n      <td>559.000000</td>\n      <td>559.000000</td>\n      <td>559.000000</td>\n      <td>559.000000</td>\n      <td>559.000000</td>\n      <td>559.000000</td>\n      <td>...</td>\n      <td>559.000000</td>\n      <td>559.000000</td>\n      <td>559.000000</td>\n      <td>559.000000</td>\n      <td>559.000000</td>\n      <td>559.000000</td>\n      <td>559.000000</td>\n      <td>559.000000</td>\n      <td>559.000000</td>\n      <td>559.000000</td>\n    </tr>\n    <tr>\n      <th>mean</th>\n      <td>0.507590</td>\n      <td>0.577516</td>\n      <td>0.475796</td>\n      <td>0.553915</td>\n      <td>0.054143</td>\n      <td>0.496790</td>\n      <td>0.177054</td>\n      <td>0.283498</td>\n      <td>0.404471</td>\n      <td>0.096446</td>\n      <td>...</td>\n      <td>0.416816</td>\n      <td>0.568873</td>\n      <td>0.794275</td>\n      <td>0.119857</td>\n      <td>0.840787</td>\n      <td>0.153846</td>\n      <td>0.908766</td>\n      <td>0.082290</td>\n      <td>0.921288</td>\n      <td>0.035778</td>\n    </tr>\n    <tr>\n      <th>std</th>\n      <td>0.182631</td>\n      <td>0.174223</td>\n      <td>0.166987</td>\n      <td>0.165006</td>\n      <td>0.110541</td>\n      <td>0.187400</td>\n      <td>0.173470</td>\n      <td>0.216446</td>\n      <td>0.165654</td>\n      <td>0.056635</td>\n      <td>...</td>\n      <td>0.493473</td>\n      <td>0.495677</td>\n      <td>0.404592</td>\n      <td>0.325085</td>\n      <td>0.366202</td>\n      <td>0.361124</td>\n      <td>0.288200</td>\n      <td>0.275052</td>\n      <td>0.269530</td>\n      <td>0.185903</td>\n    </tr>\n    <tr>\n      <th>min</th>\n      <td>0.000000</td>\n      <td>0.000000</td>\n      <td>0.000000</td>\n      <td>0.000000</td>\n      <td>0.000000</td>\n      <td>0.000000</td>\n      <td>0.000000</td>\n      <td>0.000000</td>\n      <td>0.000000</td>\n      <td>0.000000</td>\n      <td>...</td>\n      <td>0.000000</td>\n      <td>0.000000</td>\n      <td>0.000000</td>\n      <td>0.000000</td>\n      <td>0.000000</td>\n      <td>0.000000</td>\n      <td>0.000000</td>\n      <td>0.000000</td>\n      <td>0.000000</td>\n      <td>0.000000</td>\n    </tr>\n    <tr>\n      <th>25%</th>\n      <td>0.378571</td>\n      <td>0.467532</td>\n      <td>0.333333</td>\n      <td>0.457831</td>\n      <td>0.000000</td>\n      <td>0.367647</td>\n      <td>0.057746</td>\n      <td>0.250000</td>\n      <td>0.280576</td>\n      <td>0.086429</td>\n      <td>...</td>\n      <td>0.000000</td>\n      <td>0.000000</td>\n      <td>1.000000</td>\n      <td>0.000000</td>\n      <td>1.000000</td>\n      <td>0.000000</td>\n      <td>1.000000</td>\n      <td>0.000000</td>\n      <td>1.000000</td>\n      <td>0.000000</td>\n    </tr>\n    <tr>\n      <th>50%</th>\n      <td>0.500000</td>\n      <td>0.571429</td>\n      <td>0.488889</td>\n      <td>0.554217</td>\n      <td>0.000000</td>\n      <td>0.485294</td>\n      <td>0.115493</td>\n      <td>0.250000</td>\n      <td>0.404471</td>\n      <td>0.096446</td>\n      <td>...</td>\n      <td>0.000000</td>\n      <td>1.000000</td>\n      <td>1.000000</td>\n      <td>0.000000</td>\n      <td>1.000000</td>\n      <td>0.000000</td>\n      <td>1.000000</td>\n      <td>0.000000</td>\n      <td>1.000000</td>\n      <td>0.000000</td>\n    </tr>\n    <tr>\n      <th>75%</th>\n      <td>0.671429</td>\n      <td>0.701299</td>\n      <td>0.600000</td>\n      <td>0.662651</td>\n      <td>0.125000</td>\n      <td>0.661765</td>\n      <td>0.228169</td>\n      <td>0.500000</td>\n      <td>0.496403</td>\n      <td>0.096446</td>\n      <td>...</td>\n      <td>1.000000</td>\n      <td>1.000000</td>\n      <td>1.000000</td>\n      <td>0.000000</td>\n      <td>1.000000</td>\n      <td>0.000000</td>\n      <td>1.000000</td>\n      <td>0.000000</td>\n      <td>1.000000</td>\n      <td>0.000000</td>\n    </tr>\n    <tr>\n      <th>max</th>\n      <td>1.000000</td>\n      <td>1.000000</td>\n      <td>1.000000</td>\n      <td>1.000000</td>\n      <td>1.000000</td>\n      <td>1.000000</td>\n      <td>1.000000</td>\n      <td>1.000000</td>\n      <td>1.000000</td>\n      <td>1.000000</td>\n      <td>...</td>\n      <td>1.000000</td>\n      <td>1.000000</td>\n      <td>1.000000</td>\n      <td>1.000000</td>\n      <td>1.000000</td>\n      <td>1.000000</td>\n      <td>1.000000</td>\n      <td>1.000000</td>\n      <td>1.000000</td>\n      <td>1.000000</td>\n    </tr>\n  </tbody>\n</table>\n<p>8 rows × 133 columns</p>\n</div>"
     },
     "metadata": {},
     "execution_count": 24
    }
   ],
   "source": [
    "df.describe(include='all')"
   ]
  }
 ],
 "metadata": {
  "kernelspec": {
   "display_name": "Python 3",
   "language": "python",
   "name": "python3"
  },
  "language_info": {
   "codemirror_mode": {
    "name": "ipython",
    "version": 3
   },
   "file_extension": ".py",
   "mimetype": "text/x-python",
   "name": "python",
   "nbconvert_exporter": "python",
   "pygments_lexer": "ipython3",
   "version": "3.7.3-final"
  }
 },
 "nbformat": 4,
 "nbformat_minor": 4
}