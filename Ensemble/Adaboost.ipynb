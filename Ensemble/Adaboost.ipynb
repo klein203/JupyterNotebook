{
 "cells": [
  {
   "cell_type": "code",
   "execution_count": null,
   "metadata": {},
   "outputs": [],
   "source": [
    "import numpy as np"
   ]
  },
  {
   "cell_type": "code",
   "execution_count": null,
   "metadata": {},
   "outputs": [],
   "source": [
    "def g(X, val):\n",
    "    return np.sign(val - X)\n",
    "\n",
    "m = 10\n",
    "n = 1\n",
    "\n",
    "X = np.arange(m).reshape((m, n))\n",
    "y = np.array([1, 1, 1, -1, -1, -1, 1, 1, 1, -1])\n",
    "w = np.ones(m) / m\n",
    "er = 1.\n",
    "epsilon = 1e-10\n",
    "idx = 0\n",
    "sp = 0\n",
    "\n",
    "spilts = (X[:-1, 0] + X[1:, 0]) / 2\n",
    "for i, s in enumerate(spilts):\n",
    "    er_tmp = np.sum(w * (g(X[:, 0], s) != y))\n",
    "    if er_tmp < er:\n",
    "        er = er_tmp\n",
    "        idx = i\n",
    "        sp = s\n",
    "a = 1 / 2 * np.log((1 - er + epsilon) / (er + epsilon))\n",
    "print('a', a)\n",
    "z = np.sum(w * np.exp(- a * y * g(X[:, 0].ravel(), sp)))\n",
    "print('z', z)\n",
    "w = w / z * np.exp(- a * y * g(X[:, 0].ravel(), sp))\n",
    "print('w', w)"
   ]
  }
 ],
 "metadata": {
  "kernelspec": {
   "display_name": "Python 3",
   "language": "python",
   "name": "python3"
  },
  "language_info": {
   "codemirror_mode": {
    "name": "ipython",
    "version": 3
   },
   "file_extension": ".py",
   "mimetype": "text/x-python",
   "name": "python",
   "nbconvert_exporter": "python",
   "pygments_lexer": "ipython3",
   "version": "3.7.3"
  }
 },
 "nbformat": 4,
 "nbformat_minor": 4
}
