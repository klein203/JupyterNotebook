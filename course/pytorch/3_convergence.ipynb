{
 "cells": [
  {
   "cell_type": "code",
   "execution_count": null,
   "metadata": {},
   "outputs": [],
   "source": [
    "# 2021/12/28\n",
    "# keyword: meshgrid, matplotlib 3D\n",
    "\n",
    "import os\n",
    "os.environ[\"KMP_DUPLICATE_LIB_OK\"] = \"True\"\n",
    "\n",
    "import numpy as np\n",
    "import torch\n",
    "from torch.optim import SGD, Adam\n",
    "from matplotlib import pyplot as plt\n",
    "from mpl_toolkits.mplot3d import Axes3D\n",
    "%matplotlib inline\n",
    "from IPython import display\n",
    "\n",
    "\n",
    "def f(x):\n",
    "    return (x[0] ** 2 + x[1] - 11) ** 2 + (x[0] + x[1] ** 2 - 7) ** 2\n",
    "\n",
    "\n",
    "if __name__ == '__main__':\n",
    "    # begin from (-6., 6., f((-6., 6.)))\n",
    "    x_ori = -6.\n",
    "    y_ori = 6.\n",
    "    z_ori = f((x_ori, y_ori))    \n",
    "    point_hist = [[x_ori], [y_ori], [z_ori]]    # init ori point\n",
    "\n",
    "    point = torch.tensor([x_ori, y_ori], requires_grad=True)\n",
    "\n",
    "    lr = 1e-4\n",
    "    momentum = 0.9\n",
    "    optim = SGD([point], lr=lr, momentum=momentum)\n",
    "    # optim = Adam([point], lr=lr)\n",
    "    \n",
    "    n_epoch = 100\n",
    "    for i_epoch in range(n_epoch):\n",
    "        logits = f(point)\n",
    "        optim.zero_grad()\n",
    "        logits.backward()\n",
    "        optim.step()\n",
    "\n",
    "        point_hist[0].append(point.tolist()[0])\n",
    "        point_hist[1].append(point.tolist()[1])\n",
    "        point_hist[2].append(f(point.tolist()))\n",
    "\n",
    "    # visualization\n",
    "    fig = plt.figure(\"Convergence (SGD)\", figsize=(10, 10))\n",
    "    ax = fig.add_subplot(111, projection='3d')\n",
    "    ax.set_xlabel('x')\n",
    "    ax.set_ylabel('y')\n",
    "    ax.set_title(\"epoch %d, lr %.5f\" % (n_epoch, lr), size=10)\n",
    "    \n",
    "    # plot surface for f((x, y))\n",
    "    x, y = np.meshgrid(np.arange(-6.5, 6.5, 0.1), np.arange(-6.5, 6.5, 0.1))\n",
    "    ax.plot_surface(x, y, f((x, y)), alpha=0.7)\n",
    "    ax.view_init(60, -30)\n",
    "\n",
    "    # plt convergence track\n",
    "    ax.plot(point_hist[0], point_hist[1], point_hist[2], label='(%.1f, %.1f)' % (x_ori, y_ori), ls='-', lw=2.)\n",
    "    ax.legend()\n",
    "    fig.tight_layout(pad=1.0, w_pad=1.0, h_pad=1.0)\n",
    "    \n",
    "    plt.show()"
   ]
  }
 ],
 "metadata": {
  "interpreter": {
   "hash": "d929303d4680d925cabe03ec42160f6384df453aa381528223735ccd71a7f366"
  },
  "kernelspec": {
   "display_name": "Python 3.8.10 64-bit ('py38_sci': conda)",
   "language": "python",
   "name": "python3"
  },
  "language_info": {
   "codemirror_mode": {
    "name": "ipython",
    "version": 3
   },
   "file_extension": ".py",
   "mimetype": "text/x-python",
   "name": "python",
   "nbconvert_exporter": "python",
   "pygments_lexer": "ipython3",
   "version": "3.8.10"
  },
  "orig_nbformat": 4
 },
 "nbformat": 4,
 "nbformat_minor": 2
}
