{
 "cells": [
  {
   "cell_type": "code",
   "execution_count": null,
   "metadata": {},
   "outputs": [],
   "source": [
    "# keyword: cuda, device\n",
    "# cpu 与 gpu 之间的比较，cuda的加载方式\n",
    "import torch\n",
    "import time\n",
    "\n",
    "a = torch.randn((10000, 1000))\n",
    "b = torch.randn((1000, 2000))\n",
    "\n",
    "# cpu\n",
    "start = time.time()\n",
    "c = torch.matmul(a, b)\n",
    "end = time.time()\n",
    "cpu = end - start\n",
    "print(a.device, cpu)\n",
    "\n",
    "# cuda\n",
    "device = torch.device('cuda')\n",
    "a = a.to(device)\n",
    "b = b.to(device)\n",
    "start = time.time()\n",
    "c = torch.matmul(a, b)\n",
    "end = time.time()\n",
    "gpu = end - start\n",
    "print(a.device, gpu, cpu / gpu)"
   ]
  },
  {
   "cell_type": "code",
   "execution_count": 5,
   "metadata": {},
   "outputs": [
    {
     "name": "stdout",
     "output_type": "stream",
     "text": [
      "None None None\n",
      "tensor(4.) tensor(2.) tensor(1.)\n"
     ]
    }
   ],
   "source": [
    "# keyword: autograd\n",
    "# 偏导\n",
    "import torch\n",
    "\n",
    "x = torch.tensor(2.)\n",
    "a = torch.tensor(1., requires_grad=True)\n",
    "b = torch.tensor(1., requires_grad=True)\n",
    "c = torch.tensor(1., requires_grad=True)\n",
    "\n",
    "y = a * x ** 2 + b * x + c\n",
    "\n",
    "print(a.grad, b.grad, c.grad)\n",
    "[a_grad, b_grad, c_grad] = torch.autograd.grad(y, [a, b, c])\n",
    "print(a_grad, b_grad, c_grad)"
   ]
  }
 ],
 "metadata": {
  "interpreter": {
   "hash": "d929303d4680d925cabe03ec42160f6384df453aa381528223735ccd71a7f366"
  },
  "kernelspec": {
   "display_name": "Python 3.8.10 64-bit ('py38_sci': conda)",
   "language": "python",
   "name": "python3"
  },
  "language_info": {
   "codemirror_mode": {
    "name": "ipython",
    "version": 3
   },
   "file_extension": ".py",
   "mimetype": "text/x-python",
   "name": "python",
   "nbconvert_exporter": "python",
   "pygments_lexer": "ipython3",
   "version": "3.8.10"
  },
  "orig_nbformat": 4
 },
 "nbformat": 4,
 "nbformat_minor": 2
}
