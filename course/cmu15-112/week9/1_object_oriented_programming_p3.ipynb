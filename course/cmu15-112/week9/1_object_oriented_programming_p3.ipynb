{
 "cells": [
  {
   "cell_type": "markdown",
   "metadata": {},
   "source": [
    "1. Type Testing (type, isinstance)"
   ]
  },
  {
   "cell_type": "code",
   "execution_count": 1,
   "metadata": {},
   "outputs": [
    {
     "name": "stdout",
     "output_type": "stream",
     "text": [
      "<class '__main__.A'>\n",
      "True\n",
      "True\n"
     ]
    }
   ],
   "source": [
    "class A(object): pass\n",
    "a = A()\n",
    "print(type(a))           # A (technically, < class '__main__.A' >)\n",
    "print(type(a) == A)      # True\n",
    "print(isinstance(a, A))  # True"
   ]
  },
  {
   "cell_type": "markdown",
   "metadata": {},
   "source": [
    "2. Special Methods\n",
    "- Equality Testing (\\_\\_eq\\_\\_)"
   ]
  },
  {
   "cell_type": "code",
   "execution_count": 2,
   "metadata": {},
   "outputs": [
    {
     "name": "stdout",
     "output_type": "stream",
     "text": [
      "False\n"
     ]
    }
   ],
   "source": [
    "class A(object):\n",
    "    def __init__(self, x):\n",
    "        self.x = x\n",
    "a1 = A(5)\n",
    "a2 = A(5)\n",
    "print(a1 == a2)  # False!"
   ]
  },
  {
   "cell_type": "code",
   "execution_count": 3,
   "metadata": {},
   "outputs": [
    {
     "name": "stdout",
     "output_type": "stream",
     "text": [
      "True\n"
     ]
    },
    {
     "ename": "AttributeError",
     "evalue": "'int' object has no attribute 'x'",
     "output_type": "error",
     "traceback": [
      "\u001b[1;31m---------------------------------------------------------------------------\u001b[0m",
      "\u001b[1;31mAttributeError\u001b[0m                            Traceback (most recent call last)",
      "\u001b[1;32m<ipython-input-3-733bec062916>\u001b[0m in \u001b[0;36m<module>\u001b[1;34m\u001b[0m\n\u001b[0;32m      7\u001b[0m \u001b[0ma2\u001b[0m \u001b[1;33m=\u001b[0m \u001b[0mA\u001b[0m\u001b[1;33m(\u001b[0m\u001b[1;36m5\u001b[0m\u001b[1;33m)\u001b[0m\u001b[1;33m\u001b[0m\u001b[1;33m\u001b[0m\u001b[0m\n\u001b[0;32m      8\u001b[0m \u001b[0mprint\u001b[0m\u001b[1;33m(\u001b[0m\u001b[0ma1\u001b[0m \u001b[1;33m==\u001b[0m \u001b[0ma2\u001b[0m\u001b[1;33m)\u001b[0m  \u001b[1;31m# True\u001b[0m\u001b[1;33m\u001b[0m\u001b[1;33m\u001b[0m\u001b[0m\n\u001b[1;32m----> 9\u001b[1;33m \u001b[0mprint\u001b[0m\u001b[1;33m(\u001b[0m\u001b[0ma1\u001b[0m \u001b[1;33m==\u001b[0m \u001b[1;36m99\u001b[0m\u001b[1;33m)\u001b[0m  \u001b[1;31m# crash (darn!)\u001b[0m\u001b[1;33m\u001b[0m\u001b[1;33m\u001b[0m\u001b[0m\n\u001b[0m",
      "\u001b[1;32m<ipython-input-3-733bec062916>\u001b[0m in \u001b[0;36m__eq__\u001b[1;34m(self, other)\u001b[0m\n\u001b[0;32m      3\u001b[0m         \u001b[0mself\u001b[0m\u001b[1;33m.\u001b[0m\u001b[0mx\u001b[0m \u001b[1;33m=\u001b[0m \u001b[0mx\u001b[0m\u001b[1;33m\u001b[0m\u001b[1;33m\u001b[0m\u001b[0m\n\u001b[0;32m      4\u001b[0m     \u001b[1;32mdef\u001b[0m \u001b[0m__eq__\u001b[0m\u001b[1;33m(\u001b[0m\u001b[0mself\u001b[0m\u001b[1;33m,\u001b[0m \u001b[0mother\u001b[0m\u001b[1;33m)\u001b[0m\u001b[1;33m:\u001b[0m\u001b[1;33m\u001b[0m\u001b[1;33m\u001b[0m\u001b[0m\n\u001b[1;32m----> 5\u001b[1;33m         \u001b[1;32mreturn\u001b[0m \u001b[1;33m(\u001b[0m\u001b[0mself\u001b[0m\u001b[1;33m.\u001b[0m\u001b[0mx\u001b[0m \u001b[1;33m==\u001b[0m \u001b[0mother\u001b[0m\u001b[1;33m.\u001b[0m\u001b[0mx\u001b[0m\u001b[1;33m)\u001b[0m\u001b[1;33m\u001b[0m\u001b[1;33m\u001b[0m\u001b[0m\n\u001b[0m\u001b[0;32m      6\u001b[0m \u001b[0ma1\u001b[0m \u001b[1;33m=\u001b[0m \u001b[0mA\u001b[0m\u001b[1;33m(\u001b[0m\u001b[1;36m5\u001b[0m\u001b[1;33m)\u001b[0m\u001b[1;33m\u001b[0m\u001b[1;33m\u001b[0m\u001b[0m\n\u001b[0;32m      7\u001b[0m \u001b[0ma2\u001b[0m \u001b[1;33m=\u001b[0m \u001b[0mA\u001b[0m\u001b[1;33m(\u001b[0m\u001b[1;36m5\u001b[0m\u001b[1;33m)\u001b[0m\u001b[1;33m\u001b[0m\u001b[1;33m\u001b[0m\u001b[0m\n",
      "\u001b[1;31mAttributeError\u001b[0m: 'int' object has no attribute 'x'"
     ]
    }
   ],
   "source": [
    "class A(object):\n",
    "    def __init__(self, x):\n",
    "        self.x = x\n",
    "    def __eq__(self, other):\n",
    "        return (self.x == other.x)\n",
    "a1 = A(5)\n",
    "a2 = A(5)\n",
    "print(a1 == a2)  # True\n",
    "print(a1 == 99)  # crash (darn!)"
   ]
  },
  {
   "cell_type": "code",
   "execution_count": 5,
   "metadata": {},
   "outputs": [
    {
     "name": "stdout",
     "output_type": "stream",
     "text": [
      "True\n",
      "False\n"
     ]
    }
   ],
   "source": [
    "class A(object):\n",
    "    def __init__(self, x):\n",
    "        self.x = x\n",
    "    def __eq__(self, other):\n",
    "        return (isinstance(other, A) and (self.x == other.x))\n",
    "a1 = A(5)\n",
    "a2 = A(5)\n",
    "print(a1 == a2)  # True\n",
    "print(a1 == 99)  # False (huzzah!)"
   ]
  },
  {
   "cell_type": "markdown",
   "metadata": {},
   "source": [
    "- Converting to Strings (\\_\\_str\\_\\_ and \\_\\_repr\\_\\_)"
   ]
  },
  {
   "cell_type": "code",
   "execution_count": 6,
   "metadata": {},
   "outputs": [
    {
     "name": "stdout",
     "output_type": "stream",
     "text": [
      "<__main__.A object at 0x0000000004F49E48>\n"
     ]
    }
   ],
   "source": [
    "class A(object):\n",
    "    def __init__(self, x):\n",
    "        self.x = x\n",
    "a = A(5)\n",
    "print(a) # prints <__main__.A object at 0x102916128> (yuck!)"
   ]
  },
  {
   "cell_type": "code",
   "execution_count": 7,
   "metadata": {},
   "outputs": [
    {
     "name": "stdout",
     "output_type": "stream",
     "text": [
      "A(x=5)\n",
      "[<__main__.A object at 0x0000000004FC9550>]\n"
     ]
    }
   ],
   "source": [
    "class A(object):\n",
    "    def __init__(self, x):\n",
    "        self.x = x\n",
    "    def __str__(self):\n",
    "        return \"A(x=%d)\" % self.x\n",
    "a = A(5)\n",
    "print(a) # prints A(x=5) (better)\n",
    "print([a]) # prints [<__main__.A object at 0x102136278>] (yuck!)"
   ]
  },
  {
   "cell_type": "code",
   "execution_count": 8,
   "metadata": {},
   "outputs": [
    {
     "name": "stdout",
     "output_type": "stream",
     "text": [
      "A(x=5)\n",
      "[A(x=5)]\n"
     ]
    }
   ],
   "source": [
    "# Note: repr should be a computer-readable form so that\n",
    "# (eval(repr(obj)) == obj), but we are not using it that way.\n",
    "# So this is a simplified use of repr.\n",
    "\n",
    "class A(object):\n",
    "    def __init__(self, x):\n",
    "        self.x = x\n",
    "    def __repr__(self):\n",
    "        return \"A(x=%d)\" % self.x\n",
    "a = A(5)\n",
    "print(a) # prints A(x=5) (better)\n",
    "print([a]) # [A(x=5)]"
   ]
  },
  {
   "cell_type": "markdown",
   "metadata": {},
   "source": [
    "- Using in Sets and Dictionaries (\\_\\_hash\\_\\_ and \\_\\_eq\\_\\_)"
   ]
  },
  {
   "cell_type": "code",
   "execution_count": 9,
   "metadata": {},
   "outputs": [
    {
     "name": "stdout",
     "output_type": "stream",
     "text": [
      "False\n"
     ]
    }
   ],
   "source": [
    "class A(object):\n",
    "    def __init__(self, x):\n",
    "        self.x = x\n",
    "\n",
    "a = A(5)\n",
    "b = A(5)\n",
    "\n",
    "print(hash(a) == hash(b))       # False (this is surprising)"
   ]
  },
  {
   "cell_type": "code",
   "execution_count": 10,
   "metadata": {},
   "outputs": [
    {
     "name": "stdout",
     "output_type": "stream",
     "text": [
      "False\n"
     ]
    },
    {
     "ename": "KeyError",
     "evalue": "<__main__.A object at 0x0000000004FD1470>",
     "output_type": "error",
     "traceback": [
      "\u001b[1;31m---------------------------------------------------------------------------\u001b[0m",
      "\u001b[1;31mKeyError\u001b[0m                                  Traceback (most recent call last)",
      "\u001b[1;32m<ipython-input-10-e8d2a2141126>\u001b[0m in \u001b[0;36m<module>\u001b[1;34m\u001b[0m\n\u001b[0;32m      9\u001b[0m \u001b[0md\u001b[0m \u001b[1;33m=\u001b[0m \u001b[0mdict\u001b[0m\u001b[1;33m(\u001b[0m\u001b[1;33m)\u001b[0m\u001b[1;33m\u001b[0m\u001b[1;33m\u001b[0m\u001b[0m\n\u001b[0;32m     10\u001b[0m \u001b[0md\u001b[0m\u001b[1;33m[\u001b[0m\u001b[0mA\u001b[0m\u001b[1;33m(\u001b[0m\u001b[1;36m5\u001b[0m\u001b[1;33m)\u001b[0m\u001b[1;33m]\u001b[0m \u001b[1;33m=\u001b[0m \u001b[1;36m42\u001b[0m\u001b[1;33m\u001b[0m\u001b[1;33m\u001b[0m\u001b[0m\n\u001b[1;32m---> 11\u001b[1;33m \u001b[0mprint\u001b[0m\u001b[1;33m(\u001b[0m\u001b[0md\u001b[0m\u001b[1;33m[\u001b[0m\u001b[0mA\u001b[0m\u001b[1;33m(\u001b[0m\u001b[1;36m5\u001b[0m\u001b[1;33m)\u001b[0m\u001b[1;33m]\u001b[0m\u001b[1;33m)\u001b[0m \u001b[1;31m# crashes\u001b[0m\u001b[1;33m\u001b[0m\u001b[1;33m\u001b[0m\u001b[0m\n\u001b[0m",
      "\u001b[1;31mKeyError\u001b[0m: <__main__.A object at 0x0000000004FD1470>"
     ]
    }
   ],
   "source": [
    "class A(object):\n",
    "    def __init__(self, x):\n",
    "        self.x = x\n",
    "\n",
    "s = set()\n",
    "s.add(A(5))\n",
    "print(A(5) in s) # False\n",
    "\n",
    "d = dict()\n",
    "d[A(5)] = 42\n",
    "print(d[A(5)]) # crashes"
   ]
  },
  {
   "cell_type": "code",
   "execution_count": 12,
   "metadata": {},
   "outputs": [
    {
     "name": "stdout",
     "output_type": "stream",
     "text": [
      "True\n",
      "42\n"
     ]
    }
   ],
   "source": [
    "class A(object):\n",
    "    def __init__(self, x):\n",
    "        self.x = x\n",
    "    def __hash__(self):\n",
    "        return hash(self.x)\n",
    "    def __eq__(self, other):\n",
    "        return (isinstance(other, A) and (self.x == other.x))\n",
    "\n",
    "s = set()\n",
    "s.add(A(5))\n",
    "print(A(5) in s) # True (whew!)\n",
    "\n",
    "d = dict()\n",
    "d[A(5)] = 42\n",
    "print(d[A(5)]) # works!"
   ]
  },
  {
   "cell_type": "code",
   "execution_count": 13,
   "metadata": {},
   "outputs": [
    {
     "name": "stdout",
     "output_type": "stream",
     "text": [
      "True\n",
      "42\n"
     ]
    }
   ],
   "source": [
    "# Your getHashables method should return the values upon which\n",
    "# your hash method depends, that is, the values that your __eq__\n",
    "# method requires to test for equality.\n",
    "# CAVEAT: a proper hash function should only test values that will not change!\n",
    "\n",
    "class A(object):\n",
    "    def __init__(self, x):\n",
    "        self.x = x\n",
    "    def getHashables(self):\n",
    "        return (self.x, ) # return a tuple of hashables\n",
    "    def __hash__(self):\n",
    "        return hash(self.getHashables())\n",
    "    def __eq__(self, other):\n",
    "        return (isinstance(other, A) and (self.x == other.x))\n",
    "\n",
    "s = set()\n",
    "s.add(A(5))\n",
    "print(A(5) in s) # True (still works!)\n",
    "\n",
    "d = dict()\n",
    "d[A(5)] = 42\n",
    "print(d[A(5)]) # works!"
   ]
  },
  {
   "cell_type": "markdown",
   "metadata": {},
   "source": [
    "- Fraction Example"
   ]
  },
  {
   "cell_type": "code",
   "execution_count": 27,
   "metadata": {},
   "outputs": [
    {
     "name": "stdout",
     "output_type": "stream",
     "text": [
      "Testing Fraction class...Passed.\n"
     ]
    }
   ],
   "source": [
    "# Very simple, partly-implemented Fraction class\n",
    "# to demonstrate the OOP ideas from above.\n",
    "# Note that Python actually has a full Fraction class that\n",
    "# you would use instead (from fractions import Fraction),\n",
    "# so this is purely for demonstrational purposes.\n",
    "\n",
    "def gcd(x, y):\n",
    "    if (y == 0): return x\n",
    "    else: return gcd(y, x%y)\n",
    "\n",
    "class Fraction(object):\n",
    "    def __init__(self, num, den):\n",
    "        # Partial implementation -- does not deal with 0 or negatives, etc\n",
    "        g = gcd(num, den)\n",
    "        self.num = num // g\n",
    "        self.den = den // g\n",
    "\n",
    "    def __repr__(self):\n",
    "        return '%d/%d' % (self.num, self.den)\n",
    "\n",
    "    def __eq__(self, other):\n",
    "        return (isinstance(other, Fraction) and\n",
    "                ((self.num == other.num) and (self.den == other.den)))\n",
    "\n",
    "    def times(self, other):\n",
    "        if (isinstance(other, int)):\n",
    "            return Fraction(self.num * other, self.den)\n",
    "        else:\n",
    "            return Fraction(self.num * other.num, self.den * other.den)\n",
    "\n",
    "    def __hash__(self):\n",
    "        return hash((self.num, self.den))\n",
    "\n",
    "def testFractionClass():\n",
    "    print('Testing Fraction class...', end='')\n",
    "    assert(str(Fraction(2, 3)) == '2/3')\n",
    "    assert(str([Fraction(2, 3)]) == '[2/3]')\n",
    "    assert(Fraction(2,3) == Fraction(2,3))\n",
    "    assert(Fraction(2,3) != Fraction(2,5))\n",
    "    assert(Fraction(2,3) != \"Don't crash here!\")\n",
    "    assert(Fraction(2,3).times(Fraction(3,4)) == Fraction(1,2))\n",
    "    assert(Fraction(2,3).times(5) == Fraction(10,3))\n",
    "    s = set()\n",
    "    assert(Fraction(1, 2) not in s)\n",
    "    s.add(Fraction(1, 2))\n",
    "    assert(Fraction(1, 2) in s)\n",
    "    s.remove(Fraction(1, 2))\n",
    "    assert(Fraction(1, 2) not in s)\n",
    "    print('Passed.')\n",
    "\n",
    "if (__name__ == '__main__'):\n",
    "    testFractionClass()"
   ]
  },
  {
   "cell_type": "markdown",
   "metadata": {},
   "source": [
    "3. Class-Level Features\n",
    "- Class Attributes"
   ]
  },
  {
   "cell_type": "code",
   "execution_count": 28,
   "metadata": {},
   "outputs": [
    {
     "name": "stdout",
     "output_type": "stream",
     "text": [
      "['up', 'down', 'left', 'right']\n",
      "['up', 'down', 'left', 'right']\n",
      "['up', 'down', 'left']\n"
     ]
    }
   ],
   "source": [
    "class A(object):\n",
    "    dirs = [\"up\", \"down\", \"left\", \"right\"]\n",
    "\n",
    "# typically access class attributes directly via the class (no instance!)\n",
    "print(A.dirs) # ['up', 'down', 'left', 'right']\n",
    "\n",
    "# can also access via an instance:\n",
    "a = A()\n",
    "print(a.dirs)\n",
    "\n",
    "# but there is only one shared value across all instances:\n",
    "a1 = A()\n",
    "a1.dirs.pop() # not a good idea\n",
    "a2 = A()\n",
    "print(a2.dirs) # ['up', 'down', 'left'] ('right' is gone from A.dirs)"
   ]
  },
  {
   "cell_type": "markdown",
   "metadata": {},
   "source": [
    "- Static Methods"
   ]
  },
  {
   "cell_type": "code",
   "execution_count": 29,
   "metadata": {},
   "outputs": [
    {
     "name": "stdout",
     "output_type": "stream",
     "text": [
      "420\n"
     ]
    }
   ],
   "source": [
    "class A(object):\n",
    "    @staticmethod\n",
    "    def f(x):\n",
    "        return 10*x\n",
    "\n",
    "print(A.f(42)) # 420 (called A.f without creating an instance of A)"
   ]
  },
  {
   "cell_type": "markdown",
   "metadata": {},
   "source": [
    "- Playing Card Demo"
   ]
  },
  {
   "cell_type": "code",
   "execution_count": 35,
   "metadata": {},
   "outputs": [
    {
     "name": "stdout",
     "output_type": "stream",
     "text": [
      "Demo of PlayingCard will keep creating new decks, and\n",
      "drawing the first card, until we see the same card twice.\n",
      "\n",
      "  drawnCard: <3 of Spades>\n",
      "  drawnCard: <9 of Clubs>\n",
      "  drawnCard: <5 of Clubs>\n",
      "  drawnCard: <10 of Spades>\n",
      "  drawnCard: <8 of Spades>\n",
      "  drawnCard: <9 of Spades>\n",
      "  drawnCard: <3 of Clubs>\n",
      "  drawnCard: <5 of Hearts>\n",
      "  drawnCard: <6 of Clubs>\n",
      "  drawnCard: <8 of Clubs>\n",
      "  drawnCard: <8 of Clubs>\n",
      "Total cards drawn: 11\n",
      "Total diamonds drawn: 0\n"
     ]
    }
   ],
   "source": [
    "# oopy-playing-cards-demo.py\n",
    "# Demos class attributes, static methods, repr, eq, hash\n",
    "\n",
    "import random\n",
    "\n",
    "class PlayingCard(object):\n",
    "    numberNames = [None, \"Ace\", \"2\", \"3\", \"4\", \"5\", \"6\", \"7\",\n",
    "                   \"8\", \"9\", \"10\", \"Jack\", \"Queen\", \"King\"]\n",
    "    suitNames = [\"Clubs\", \"Diamonds\", \"Hearts\", \"Spades\"]\n",
    "    CLUBS = 0\n",
    "    DIAMONDS = 1\n",
    "    HEARTS = 2\n",
    "    SPADES = 3\n",
    "\n",
    "    @staticmethod\n",
    "    def getDeck(shuffled=True):\n",
    "        deck = [ ]\n",
    "        for number in range(1, 14):\n",
    "            for suit in range(4):\n",
    "                deck.append(PlayingCard(number, suit))\n",
    "        if (shuffled):\n",
    "            random.shuffle(deck)\n",
    "        return deck\n",
    "\n",
    "    def __init__(self, number, suit):\n",
    "        # number is 1 for Ace, 2...10,\n",
    "        #           11 for Jack, 12 for Queen, 13 for King\n",
    "        # suit is 0 for Clubs, 1 for Diamonds,\n",
    "        #         2 for Hearts, 3 for Spades\n",
    "        self.number = number\n",
    "        self.suit = suit\n",
    "\n",
    "    def __repr__(self):\n",
    "        return (\"<%s of %s>\" %\n",
    "                (PlayingCard.numberNames[self.number],\n",
    "                 PlayingCard.suitNames[self.suit]))\n",
    "\n",
    "    def getHashables(self):\n",
    "        return (self.number, self.suit) # return a tuple of hashables\n",
    "\n",
    "    def __hash__(self):\n",
    "        return hash(self.getHashables())\n",
    "\n",
    "    def __eq__(self, other):\n",
    "        return (isinstance(other, PlayingCard) and\n",
    "                (self.number == other.number) and\n",
    "                (self.suit == other.suit))\n",
    "\n",
    "# Show this code in action\n",
    "print(\"Demo of PlayingCard will keep creating new decks, and\")\n",
    "print(\"drawing the first card, until we see the same card twice.\")\n",
    "print()\n",
    "cardsSeen = set()\n",
    "diamondsCount = 0\n",
    "\n",
    "# Now keep drawing cards until we get a duplicate\n",
    "while True:\n",
    "    deck = PlayingCard.getDeck()\n",
    "    drawnCard = deck[0]\n",
    "    if (drawnCard.suit == PlayingCard.DIAMONDS):\n",
    "        diamondsCount += 1\n",
    "    print(\"  drawnCard:\", drawnCard)\n",
    "    if (drawnCard in cardsSeen): break\n",
    "    cardsSeen.add(drawnCard)\n",
    "\n",
    "# And then report how many cards we drew\n",
    "print(\"Total cards drawn:\", 1+len(cardsSeen))\n",
    "print(\"Total diamonds drawn:\", diamondsCount)"
   ]
  },
  {
   "cell_type": "markdown",
   "metadata": {},
   "source": [
    "4. Inheritance\n",
    "- Specifying a Superclass"
   ]
  },
  {
   "cell_type": "code",
   "execution_count": null,
   "metadata": {},
   "outputs": [],
   "source": [
    "class A(object):\n",
    "    def __init__(self, x):\n",
    "        self.x = x\n",
    "    def f(self):\n",
    "        return 10*self.x\n",
    "\n",
    "class B(A):\n",
    "    def g(self):\n",
    "        return 1000*self.x\n",
    "\n",
    "print(A(5).f()) # 50\n",
    "print(B(7).g()) # 7000\n",
    "print(B(7).f()) # 70 (class B inherits the method f from class A)\n",
    "print(A(5).g()) # crashes (class A does not have a method g)"
   ]
  },
  {
   "cell_type": "markdown",
   "metadata": {},
   "source": [
    "- Overriding methods"
   ]
  },
  {
   "cell_type": "code",
   "execution_count": 36,
   "metadata": {},
   "outputs": [
    {
     "name": "stdout",
     "output_type": "stream",
     "text": [
      "50\n",
      "500\n",
      "7000\n",
      "(700, 99)\n"
     ]
    }
   ],
   "source": [
    "class A(object):\n",
    "    def __init__(self, x):\n",
    "        self.x = x\n",
    "    def f(self):\n",
    "        return 10*self.x\n",
    "    def g(self):\n",
    "        return 100*self.x\n",
    "\n",
    "class B(A):\n",
    "    def __init__(self, x=42, y=99):\n",
    "        super().__init__(x) # call overridden init!\n",
    "        self.y = y\n",
    "    def f(self):\n",
    "        return 1000*self.x\n",
    "    def g(self):\n",
    "        return (super().g(), self.y)\n",
    "\n",
    "a = A(5)\n",
    "b = B(7)\n",
    "print(a.f()) # 50\n",
    "print(a.g()) # 500\n",
    "print(b.f()) # 7000\n",
    "print(b.g()) # (700, 99)"
   ]
  },
  {
   "cell_type": "markdown",
   "metadata": {},
   "source": [
    "- isinstance vs type in inherited classes"
   ]
  },
  {
   "cell_type": "code",
   "execution_count": 37,
   "metadata": {},
   "outputs": [
    {
     "name": "stdout",
     "output_type": "stream",
     "text": [
      "True\n",
      "False\n",
      "False\n",
      "True\n",
      "\n",
      "True\n",
      "True\n",
      "False\n",
      "True\n"
     ]
    }
   ],
   "source": [
    "class A(object): pass\n",
    "class B(A): pass\n",
    "a = A()\n",
    "b = B()\n",
    "print(type(a) == A) # True\n",
    "print(type(b) == A) # False\n",
    "print(type(a) == B) # False\n",
    "print(type(b) == B) # True\n",
    "print()\n",
    "print(isinstance(a, A)) # True\n",
    "print(isinstance(b, A)) # True (surprised?)\n",
    "print(isinstance(a, B)) # False\n",
    "print(isinstance(b, B)) # True"
   ]
  },
  {
   "cell_type": "markdown",
   "metadata": {},
   "source": [
    "- Monster Demo"
   ]
  },
  {
   "cell_type": "code",
   "execution_count": 39,
   "metadata": {},
   "outputs": [],
   "source": [
    "# This is our base class\n",
    "class Monster(object):\n",
    "    def __init__(self, strength, defense):\n",
    "        self.strength = strength\n",
    "        self.defense = defense\n",
    "        self.health = 10\n",
    "\n",
    "    def attack(self): # returns damage to be dealt\n",
    "        if self.health > 0:\n",
    "            return self.strength\n",
    "\n",
    "    def defend(self, damage): # does damage to self\n",
    "        self.health -= damage\n",
    "\n",
    "class MagicMonster(Monster):\n",
    "    def __init__(self, strength, defense):\n",
    "        super().__init__(strength, defense) # most properties are the same\n",
    "        self.health = 5 # but they start out weaker\n",
    "\n",
    "    def heal(self): # only magic monsters can heal themselves!\n",
    "        if 0 < self.health < 5:\n",
    "            self.health += 1\n",
    "\n",
    "class NecroMonster(Monster):\n",
    "    def attack(self): # NecroMonsters can attack even when 'killed'\n",
    "        return self.strength"
   ]
  },
  {
   "cell_type": "markdown",
   "metadata": {},
   "source": [
    "5. Additional Reading\n",
    "\n",
    "  For more on these topics, and many additional OOP-related topics, check the following links:\n",
    "\n",
    "  https://docs.python.org/3/tutorial/classes.html\n",
    "\n",
    "  https://docs.python.org/3/reference/datamodel.html"
   ]
  }
 ],
 "metadata": {
  "kernelspec": {
   "display_name": "Python 3",
   "language": "python",
   "name": "python3"
  },
  "language_info": {
   "codemirror_mode": {
    "name": "ipython",
    "version": 3
   },
   "file_extension": ".py",
   "mimetype": "text/x-python",
   "name": "python",
   "nbconvert_exporter": "python",
   "pygments_lexer": "ipython3",
   "version": "3.7.3"
  }
 },
 "nbformat": 4,
 "nbformat_minor": 4
}
