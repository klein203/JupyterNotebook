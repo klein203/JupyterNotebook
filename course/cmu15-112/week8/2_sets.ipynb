{
 "cells": [
  {
   "cell_type": "markdown",
   "metadata": {},
   "source": [
    "1. Quick Example"
   ]
  },
  {
   "cell_type": "code",
   "execution_count": null,
   "metadata": {},
   "outputs": [],
   "source": [
    "# A set is a data structure that can hold multiple elements in no particular order\n",
    "# We cannot index into it, but we can iterate over it.\n",
    "s = set([2,3,5])\n",
    "print(3 in s)          # prints True\n",
    "print(4 in s)          # prints False\n",
    "for x in range(7):\n",
    "    if (x not in s):\n",
    "        print(x)       # prints 0 1 4 6"
   ]
  },
  {
   "cell_type": "markdown",
   "metadata": {},
   "source": [
    "2. Creating Sets"
   ]
  },
  {
   "cell_type": "code",
   "execution_count": null,
   "metadata": {},
   "outputs": [],
   "source": [
    "s = set()\n",
    "print(s)     # prints set(), the empty set"
   ]
  },
  {
   "cell_type": "code",
   "execution_count": null,
   "metadata": {},
   "outputs": [],
   "source": [
    "s = set([\"cat\", \"cow\", \"dog\"])\n",
    "print(s)     # prints {'cow', 'dog', 'cat'}"
   ]
  },
  {
   "cell_type": "code",
   "execution_count": null,
   "metadata": {},
   "outputs": [],
   "source": [
    "s = { 2, 3, 5 }\n",
    "print(s)    # prints { 2, 3, 5 }"
   ]
  },
  {
   "cell_type": "code",
   "execution_count": null,
   "metadata": {},
   "outputs": [],
   "source": [
    "s = { }\n",
    "print(type(s) == set)  # False!\n",
    "print(type(s))         # This is a dict (we'll learn about those soon)"
   ]
  },
  {
   "cell_type": "markdown",
   "metadata": {},
   "source": [
    "3. Using Sets"
   ]
  },
  {
   "cell_type": "code",
   "execution_count": null,
   "metadata": {},
   "outputs": [],
   "source": [
    "# Sets can do many of the same things as lists and tuples...\n",
    "s = set([1, 2, 3])\n",
    "\n",
    "print(len(s)) # prints 3\n",
    "\n",
    "print(2 in s) # prints True\n",
    "print(4 in s) # prints False\n",
    "print(4 not in s) # prints True\n",
    "print(2 not in s) # prints False\n",
    "\n",
    "s.add(7)      # use add instead of append to add an element to a set\n",
    "s.remove(3)   # removes 3 from the set; raises an error if 3 is not in s\n",
    "\n",
    "for item in s:\n",
    "    print(item) # we can loop over the items in s"
   ]
  },
  {
   "cell_type": "markdown",
   "metadata": {},
   "source": [
    "4. Properties of Sets\n",
    "- Sets are Unordered"
   ]
  },
  {
   "cell_type": "code",
   "execution_count": null,
   "metadata": {},
   "outputs": [],
   "source": [
    "# Elements may be arranged in a different order than they are provided,\n",
    "# and we cannot index into the set.\n",
    "s = set([2,4,8])\n",
    "print(s)          # prints {8, 2, 4} in standard Python (though not in brython)\n",
    "for element in s: # prints 8, 2, 4\n",
    "    print(element)"
   ]
  },
  {
   "cell_type": "markdown",
   "metadata": {},
   "source": [
    "- Elements are Unique"
   ]
  },
  {
   "cell_type": "code",
   "execution_count": null,
   "metadata": {},
   "outputs": [],
   "source": [
    "# Sets can also only hold one of each unique element. Duplicates are removed.\n",
    "s = set([2,2,2])\n",
    "print(s)          # prints {2}\n",
    "print(len(s))     # prints 1"
   ]
  },
  {
   "cell_type": "markdown",
   "metadata": {},
   "source": [
    "- Elements Must Be Immutable"
   ]
  },
  {
   "cell_type": "code",
   "execution_count": null,
   "metadata": {},
   "outputs": [],
   "source": [
    "# Sets can only hold elements that are immutable (cannot be changed),\n",
    "# such as numbers, booleans, strings, and tuples\n",
    "a = [\"lists\", \"are\", \"mutable\"]\n",
    "s = set([a])       # TypeError: unhashable type: 'list'\n",
    "print(s)"
   ]
  },
  {
   "cell_type": "code",
   "execution_count": null,
   "metadata": {},
   "outputs": [],
   "source": [
    "s1 = set([\"sets\", \"are\", \"mutable\", \"too\"])\n",
    "s2 = set([s1])     # TypeError: unhashable type: 'set'\n",
    "print(s)"
   ]
  },
  {
   "cell_type": "markdown",
   "metadata": {},
   "source": [
    "- Sets are Very Efficient\n",
    "\n",
    "The whole point of having sets is because they are very efficient, in fact O(1), for most common operations including adding elements, removing elements, and checking for membership."
   ]
  },
  {
   "cell_type": "markdown",
   "metadata": {},
   "source": [
    "5. How Sets Work: Hashing"
   ]
  },
  {
   "cell_type": "code",
   "execution_count": null,
   "metadata": {},
   "outputs": [],
   "source": [
    "# 0. Preliminaries\n",
    "import time\n",
    "n = 1000\n",
    "\n",
    "# 1. Create a list [2,4,6,...,n] then check for membership\n",
    "# among [1,2,3,...,n] in that list.\n",
    "\n",
    "# don't count the list creation in the timing\n",
    "a = list(range(2,n+1,2))\n",
    "\n",
    "print(\"Using a list... \", end=\"\")\n",
    "start = time.time()\n",
    "count = 0\n",
    "for x in range(n+1):\n",
    "    if x in a:\n",
    "        count += 1\n",
    "end = time.time()\n",
    "elapsed1 = end - start\n",
    "print(\"count=\", count,\" and time = %0.4f seconds\" % elapsed1)\n",
    "\n",
    "# 2. Repeat, using a set\n",
    "print(\"Using a set.... \", end=\"\")\n",
    "start = time.time()\n",
    "s = set(a)\n",
    "count = 0\n",
    "for x in range(n+1):\n",
    "    if x in s:\n",
    "        count += 1\n",
    "end = time.time()\n",
    "elapsed2 = end - start\n",
    "print(\"count=\", count,\" and time = %0.4f seconds\" % elapsed2)\n",
    "print(\"With n=%d, sets ran about %0.1f times faster than lists!\" %\n",
    "      (n, elapsed1/elapsed2))\n",
    "print(\"Try a larger n to see an even greater savings!\")"
   ]
  },
  {
   "cell_type": "markdown",
   "metadata": {},
   "source": [
    "6. Some Worked Examples Using Sets\n",
    "- isPermutation(L)"
   ]
  },
  {
   "cell_type": "code",
   "execution_count": null,
   "metadata": {},
   "outputs": [],
   "source": [
    "def isPermutation(L):\n",
    "    # return True if L is a permutation of [0,...,n-1]\n",
    "    # and False otherwise\n",
    "    return (set(L) == set(range(len(L))))\n",
    "\n",
    "def testIsPermutation():\n",
    "    print(\"Testing isPermutation()...\", end=\"\")\n",
    "    assert(isPermutation([0,2,1,4,3]) == True)\n",
    "    assert(isPermutation([1,3,0,4,2]) == True)\n",
    "    assert(isPermutation([1,3,5,4,2]) == False)\n",
    "    assert(isPermutation([1,4,0,4,2]) == False)\n",
    "    print(\"Passed!\")\n",
    "\n",
    "testIsPermutation()"
   ]
  },
  {
   "cell_type": "markdown",
   "metadata": {},
   "source": [
    "- repeats(L)"
   ]
  },
  {
   "cell_type": "code",
   "execution_count": null,
   "metadata": {},
   "outputs": [],
   "source": [
    "def repeats(L):\n",
    "    # return a sorted list of the repeat elements in the list L\n",
    "    seen = set()\n",
    "    seenAgain = set()\n",
    "    for element in L:\n",
    "        if (element in seen):\n",
    "            seenAgain.add(element)\n",
    "        seen.add(element)\n",
    "    return sorted(seenAgain)\n",
    "\n",
    "def testRepeats():\n",
    "    print(\"Testing repeats()...\", end=\"\")\n",
    "    assert(repeats([1,2,3,2,1]) == [1,2])\n",
    "    assert(repeats([1,2,3,2,2,4]) == [2])\n",
    "    assert(repeats(list(range(100))) == [ ])\n",
    "    assert(repeats(list(range(100))*5) == list(range(100)))\n",
    "    print(\"Passed!\")\n",
    "\n",
    "testRepeats()"
   ]
  }
 ],
 "metadata": {
  "kernelspec": {
   "display_name": "Python 3",
   "language": "python",
   "name": "python3"
  },
  "language_info": {
   "codemirror_mode": {
    "name": "ipython",
    "version": 3
   },
   "file_extension": ".py",
   "mimetype": "text/x-python",
   "name": "python",
   "nbconvert_exporter": "python",
   "pygments_lexer": "ipython3",
   "version": "3.7.3"
  }
 },
 "nbformat": 4,
 "nbformat_minor": 4
}
