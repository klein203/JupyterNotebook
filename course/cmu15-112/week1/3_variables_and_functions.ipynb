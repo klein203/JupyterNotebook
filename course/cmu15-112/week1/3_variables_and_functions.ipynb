{
 "cells": [
  {
   "cell_type": "markdown",
   "metadata": {},
   "source": [
    "# Part 1\n",
    "1. Variables\n",
    "- A variable is a named value that references or stores a piece of data."
   ]
  },
  {
   "cell_type": "code",
   "execution_count": 1,
   "metadata": {},
   "outputs": [
    {
     "name": "stdout",
     "output_type": "stream",
     "text": [
      "5\n",
      "10\n"
     ]
    }
   ],
   "source": [
    "# we put a value in a variable using an = sign\n",
    "x = 5\n",
    "print(x) # x evaluates to 5\n",
    "print(x*2) # evaluates to 10"
   ]
  },
  {
   "cell_type": "markdown",
   "metadata": {},
   "source": [
    "- Unlike in math, variables can have new values assigned to them, even values of different types."
   ]
  },
  {
   "cell_type": "code",
   "execution_count": 2,
   "metadata": {},
   "outputs": [
    {
     "name": "stdout",
     "output_type": "stream",
     "text": [
      "8\n",
      "True\n"
     ]
    }
   ],
   "source": [
    "y = 10\n",
    "print(y - 2)\n",
    "\n",
    "y = True\n",
    "print(y)"
   ]
  },
  {
   "cell_type": "markdown",
   "metadata": {},
   "source": [
    "- Variables can be given any name, as long as it starts with a letter and contains no special characters."
   ]
  },
  {
   "cell_type": "code",
   "execution_count": 3,
   "metadata": {},
   "outputs": [
    {
     "ename": "SyntaxError",
     "evalue": "invalid syntax (<ipython-input-3-149f767bbd86>, line 3)",
     "output_type": "error",
     "traceback": [
      "\u001b[1;36m  File \u001b[1;32m\"<ipython-input-3-149f767bbd86>\"\u001b[1;36m, line \u001b[1;32m3\u001b[0m\n\u001b[1;33m    99problems = 0 # will crash because it starts with a number\u001b[0m\n\u001b[1;37m             ^\u001b[0m\n\u001b[1;31mSyntaxError\u001b[0m\u001b[1;31m:\u001b[0m invalid syntax\n"
     ]
    }
   ],
   "source": [
    "numberOfRabbits = 40\n",
    "courseIs15112 = True\n",
    "99problems = 0 # will crash because it starts with a number"
   ]
  },
  {
   "cell_type": "markdown",
   "metadata": {},
   "source": [
    "- Variables can be updated with assignment operations."
   ]
  },
  {
   "cell_type": "code",
   "execution_count": 4,
   "metadata": {},
   "outputs": [
    {
     "name": "stdout",
     "output_type": "stream",
     "text": [
      "7\n",
      "35\n"
     ]
    }
   ],
   "source": [
    "x = 5\n",
    "x += 2 # same as x = x + 2\n",
    "print(x) # should be 7\n",
    "\n",
    "# This can be done with any of the arithmetic operations.\n",
    "y = 350\n",
    "y //= 10\n",
    "print(y) # should be 35"
   ]
  },
  {
   "cell_type": "markdown",
   "metadata": {},
   "source": [
    "2. Statements and Expressions\n",
    "- An expression is a data value or an operation that evaluates to a value."
   ]
  },
  {
   "cell_type": "code",
   "execution_count": 5,
   "metadata": {},
   "outputs": [
    {
     "data": {
      "text/plain": [
       "True"
      ]
     },
     "execution_count": 5,
     "metadata": {},
     "output_type": "execute_result"
    }
   ],
   "source": [
    "# Examples of expressions.\n",
    "# Note that when this is run in the editor, none of these values are displayed.\n",
    "4\n",
    "\"Hello World\"\n",
    "7 + 2\n",
    "True or False\n",
    "(2 < 3) and (9 > 0)"
   ]
  },
  {
   "cell_type": "markdown",
   "metadata": {},
   "source": [
    "- A statement is a line of code that performs an action. Unlike expressions, statements cannot be used in operations."
   ]
  },
  {
   "cell_type": "code",
   "execution_count": 6,
   "metadata": {},
   "outputs": [
    {
     "name": "stdout",
     "output_type": "stream",
     "text": [
      "4\n"
     ]
    }
   ],
   "source": [
    "# Examples of statements.\n",
    "print(4)\n",
    "x = True"
   ]
  },
  {
   "cell_type": "markdown",
   "metadata": {},
   "source": [
    "3. Functions\n",
    "- A function is a procedure (a sequence of statements) stored under a name that can be used repeatedly by calling the name."
   ]
  },
  {
   "cell_type": "code",
   "execution_count": 7,
   "metadata": {},
   "outputs": [
    {
     "name": "stdout",
     "output_type": "stream",
     "text": [
      "I'm in the double function!\n",
      "4\n",
      "I'm in the double function!\n",
      "10\n",
      "I'm in the double function!\n",
      "5\n"
     ]
    }
   ],
   "source": [
    "# A function is composed of two parts: the header and the body.\n",
    "\n",
    "# The header defines the name and parameters.\n",
    "# A function header is written as follows: def functionName(parameters):\n",
    "# The parameters are variables that will be provided when the function is called.\n",
    "# The header ends with a colon to indicate that a body will follow.\n",
    "\n",
    "# The body contains the actions (statements) that the function performs.\n",
    "# The body is written under the function with an indent.\n",
    "# When the lines are no longer indented, the function body ends.\n",
    "# Functions usually contain a return statement. This will provide the result when the function is called.\n",
    "\n",
    "# Example:\n",
    "\n",
    "def double(x):\n",
    "    print(\"I'm in the double function!\")\n",
    "    return 2 * x\n",
    "\n",
    "# To call the function, we use the function's name,\n",
    "# followed by parentheses which contain the data values we want to use, called function arguments.\n",
    "# This function call will evaluate to an expression.\n",
    "\n",
    "print(double(2)) # will print 4\n",
    "print(double(5)) # will print 10\n",
    "print(double(1) + 3) # will print 5"
   ]
  },
  {
   "cell_type": "markdown",
   "metadata": {},
   "source": [
    "- Functions can have as many parameters as they need, or none at all."
   ]
  },
  {
   "cell_type": "code",
   "execution_count": 8,
   "metadata": {},
   "outputs": [
    {
     "name": "stdout",
     "output_type": "stream",
     "text": [
      "6\n",
      "42\n"
     ]
    },
    {
     "ename": "TypeError",
     "evalue": "g() takes 0 positional arguments but 1 was given",
     "output_type": "error",
     "traceback": [
      "\u001b[1;31m---------------------------------------------------------------------------\u001b[0m",
      "\u001b[1;31mTypeError\u001b[0m                                 Traceback (most recent call last)",
      "\u001b[1;32m<ipython-input-8-c451d4c6188c>\u001b[0m in \u001b[0;36m<module>\u001b[1;34m\u001b[0m\n\u001b[0;32m     10\u001b[0m \u001b[1;33m\u001b[0m\u001b[0m\n\u001b[0;32m     11\u001b[0m \u001b[1;31m# Note - the number of arguments provided must match the number of parameters!\u001b[0m\u001b[1;33m\u001b[0m\u001b[1;33m\u001b[0m\u001b[1;33m\u001b[0m\u001b[0m\n\u001b[1;32m---> 12\u001b[1;33m \u001b[0mprint\u001b[0m\u001b[1;33m(\u001b[0m\u001b[0mg\u001b[0m\u001b[1;33m(\u001b[0m\u001b[1;36m2\u001b[0m\u001b[1;33m)\u001b[0m\u001b[1;33m)\u001b[0m \u001b[1;31m# will crash\u001b[0m\u001b[1;33m\u001b[0m\u001b[1;33m\u001b[0m\u001b[0m\n\u001b[0m\u001b[0;32m     13\u001b[0m \u001b[0mprint\u001b[0m\u001b[1;33m(\u001b[0m\u001b[0mf\u001b[0m\u001b[1;33m(\u001b[0m\u001b[1;36m1\u001b[0m\u001b[1;33m,\u001b[0m \u001b[1;36m2\u001b[0m\u001b[1;33m)\u001b[0m\u001b[1;33m)\u001b[0m \u001b[1;31m# would also crash if it ran\u001b[0m\u001b[1;33m\u001b[0m\u001b[1;33m\u001b[0m\u001b[0m\n",
      "\u001b[1;31mTypeError\u001b[0m: g() takes 0 positional arguments but 1 was given"
     ]
    }
   ],
   "source": [
    "def f(x, y, z):\n",
    "    return x + y + z\n",
    "\n",
    "print(f(1, 3, 2)) # returns 6\n",
    "\n",
    "def g():\n",
    "    return 42\n",
    "\n",
    "print(g()) # returns 42\n",
    "\n",
    "# Note - the number of arguments provided must match the number of parameters!\n",
    "print(g(2)) # will crash\n",
    "print(f(1, 2)) # would also crash if it ran"
   ]
  },
  {
   "cell_type": "markdown",
   "metadata": {},
   "source": [
    "4. Built-in Functions"
   ]
  },
  {
   "cell_type": "code",
   "execution_count": 9,
   "metadata": {},
   "outputs": [
    {
     "name": "stdout",
     "output_type": "stream",
     "text": [
      "Type conversion functions:\n",
      "False\n",
      "42.0\n",
      "2\n",
      "And some basic math functions:\n",
      "5\n",
      "3\n",
      "2\n",
      "8\n",
      "2.4\n"
     ]
    }
   ],
   "source": [
    "# Some functions are already provided by Python\n",
    "\n",
    "print(\"Type conversion functions:\")\n",
    "print(bool(0))   # convert to boolean (True or False)\n",
    "print(float(42)) # convert to a floating point number\n",
    "print(int(2.8))  # convert to an integer (int)\n",
    "\n",
    "print(\"And some basic math functions:\")\n",
    "print(abs(-5))   # absolute value\n",
    "print(max(2,3))  # return the max value\n",
    "print(min(2,3))  # return the min value\n",
    "print(pow(2,3))  # raise to the given power (pow(x,y) == x**y)\n",
    "print(round(2.354, 1)) # round with the given number of digits"
   ]
  },
  {
   "cell_type": "markdown",
   "metadata": {},
   "source": [
    "5. Module Functions\n",
    "- Call without importing"
   ]
  },
  {
   "cell_type": "code",
   "execution_count": 10,
   "metadata": {},
   "outputs": [
    {
     "ename": "NameError",
     "evalue": "name 'math' is not defined",
     "output_type": "error",
     "traceback": [
      "\u001b[1;31m---------------------------------------------------------------------------\u001b[0m",
      "\u001b[1;31mNameError\u001b[0m                                 Traceback (most recent call last)",
      "\u001b[1;32m<ipython-input-10-1f150d8d3c3a>\u001b[0m in \u001b[0;36m<module>\u001b[1;34m\u001b[0m\n\u001b[1;32m----> 1\u001b[1;33m \u001b[0mprint\u001b[0m\u001b[1;33m(\u001b[0m\u001b[0mmath\u001b[0m\u001b[1;33m.\u001b[0m\u001b[0mfactorial\u001b[0m\u001b[1;33m(\u001b[0m\u001b[1;36m20\u001b[0m\u001b[1;33m)\u001b[0m\u001b[1;33m)\u001b[0m  \u001b[1;31m# we did not first import the math module\u001b[0m\u001b[1;33m\u001b[0m\u001b[1;33m\u001b[0m\u001b[0m\n\u001b[0m\u001b[0;32m      2\u001b[0m \u001b[1;33m\u001b[0m\u001b[0m\n\u001b[0;32m      3\u001b[0m \u001b[1;31m# Python output:\u001b[0m\u001b[1;33m\u001b[0m\u001b[1;33m\u001b[0m\u001b[1;33m\u001b[0m\u001b[0m\n\u001b[0;32m      4\u001b[0m \u001b[1;31m#   NameError: name 'math' is not defined\u001b[0m\u001b[1;33m\u001b[0m\u001b[1;33m\u001b[0m\u001b[1;33m\u001b[0m\u001b[0m\n",
      "\u001b[1;31mNameError\u001b[0m: name 'math' is not defined"
     ]
    }
   ],
   "source": [
    "print(math.factorial(20))  # we did not first import the math module\n",
    "\n",
    "# Python output:\n",
    "#   NameError: name 'math' is not defined"
   ]
  },
  {
   "cell_type": "markdown",
   "metadata": {},
   "source": [
    "- Call with importing"
   ]
  },
  {
   "cell_type": "code",
   "execution_count": 11,
   "metadata": {},
   "outputs": [
    {
     "name": "stdout",
     "output_type": "stream",
     "text": [
      "2432902008176640000\n"
     ]
    }
   ],
   "source": [
    "import math\n",
    "print(math.factorial(20))  # much better...\n",
    "\n",
    "# Note that the module name is included before the function name, separated by a ."
   ]
  },
  {
   "cell_type": "markdown",
   "metadata": {},
   "source": [
    "# Part 2\n",
    "6. Variable Scope\n",
    "- Variables exist in a specific scope based on when they are defined. This means they are not visible and cannot be used outside that scope, in other parts of the code."
   ]
  },
  {
   "cell_type": "code",
   "execution_count": 12,
   "metadata": {},
   "outputs": [
    {
     "name": "stdout",
     "output_type": "stream",
     "text": [
      "x: 4\n",
      "y: 5\n",
      "9\n",
      "True\n",
      "35\n"
     ]
    }
   ],
   "source": [
    "def f(x):\n",
    "    print(\"x:\", x)\n",
    "    y = 5\n",
    "    print(\"y:\", y)\n",
    "    return x + y\n",
    "print(f(4))\n",
    "print(x) # will crash!\n",
    "print(y) # would also crash if we reached it!"
   ]
  },
  {
   "cell_type": "markdown",
   "metadata": {},
   "source": [
    "- Variables in functions have a local scope. They exist only inside the immediate function, and have no relation to variables of the same name in different functions."
   ]
  },
  {
   "cell_type": "code",
   "execution_count": 13,
   "metadata": {},
   "outputs": [
    {
     "name": "stdout",
     "output_type": "stream",
     "text": [
      "In f, x = 4\n",
      "In g, x = 2\n",
      "In f, x = 6\n",
      "In g, x = 2\n",
      "20\n",
      "In f, x = 1\n",
      "In f, x = 10\n",
      "In f, x = 60\n",
      "50\n"
     ]
    }
   ],
   "source": [
    "def f(x):\n",
    "    print(\"In f, x =\", x)\n",
    "    x += 5\n",
    "    return x\n",
    "\n",
    "def g(x):\n",
    "    y = f(x*2)\n",
    "    print(\"In g, x =\", x)\n",
    "    z = f(x*3)\n",
    "    print(\"In g, x =\", x)\n",
    "    return y + z\n",
    "\n",
    "print(g(2))\n",
    "\n",
    "# Another example\n",
    "\n",
    "def f(x):\n",
    "    print(\"In f, x =\", x)\n",
    "    x += 7\n",
    "    return round(x / 3)\n",
    "\n",
    "def g(x):\n",
    "    x *= 10\n",
    "    return 2 * f(x)\n",
    "\n",
    "def h(x):\n",
    "    x += 3\n",
    "    return f(x+4) + g(x)\n",
    "\n",
    "print(h(f(1)))"
   ]
  },
  {
   "cell_type": "markdown",
   "metadata": {},
   "source": [
    "- When defined outside of functions, variables have a global scope and can be used anywhere."
   ]
  },
  {
   "cell_type": "code",
   "execution_count": 14,
   "metadata": {},
   "outputs": [
    {
     "name": "stdout",
     "output_type": "stream",
     "text": [
      "105\n",
      "106\n",
      "100\n",
      "106\n",
      "108\n",
      "102\n"
     ]
    }
   ],
   "source": [
    "# In general, you should avoid using global variables.\n",
    "# You will even lose style points if you use them!\n",
    "# Still, you need to understand how they work, since others\n",
    "# will use them, and there may also be some very few occasions\n",
    "# where you should use them, too!\n",
    "\n",
    "g = 100\n",
    "\n",
    "def f(x):\n",
    "    return x + g\n",
    "\n",
    "print(f(5)) # 105\n",
    "print(f(6)) # 106\n",
    "print(g)    # 100\n",
    "\n",
    "# Another example\n",
    "\n",
    "def f(x):\n",
    "    # If we modify a global variable, we must declare it as global.\n",
    "    # Otherwise, Python will assume it is a local variable.\n",
    "    global g\n",
    "    g += 1\n",
    "    return x + g\n",
    "\n",
    "print(f(5)) # 106\n",
    "print(f(6)) # 108\n",
    "print(g)    # 102"
   ]
  },
  {
   "cell_type": "markdown",
   "metadata": {},
   "source": [
    "7. Return Statements\n",
    "- Basic Example"
   ]
  },
  {
   "cell_type": "code",
   "execution_count": 15,
   "metadata": {},
   "outputs": [
    {
     "name": "stdout",
     "output_type": "stream",
     "text": [
      "True\n",
      "False\n",
      "False\n"
     ]
    }
   ],
   "source": [
    "def isPositive(x):\n",
    "    return (x > 0)\n",
    "\n",
    "print(isPositive(5))  # True\n",
    "print(isPositive(-5)) # False\n",
    "print(isPositive(0))  # False"
   ]
  },
  {
   "cell_type": "markdown",
   "metadata": {},
   "source": [
    "- Return ends the function immediately:"
   ]
  },
  {
   "cell_type": "code",
   "execution_count": 16,
   "metadata": {},
   "outputs": [
    {
     "name": "stdout",
     "output_type": "stream",
     "text": [
      "Hello!\n",
      "True\n"
     ]
    }
   ],
   "source": [
    "def isPositive(x):\n",
    "    print(\"Hello!\")   # runs\n",
    "    return (x > 0)\n",
    "    print(\"Goodbye!\") # does not run (\"dead code\")\n",
    "\n",
    "print(isPositive(5))  # prints Hello, then True"
   ]
  },
  {
   "cell_type": "markdown",
   "metadata": {},
   "source": [
    "- No return statement --> return None:"
   ]
  },
  {
   "cell_type": "code",
   "execution_count": 17,
   "metadata": {},
   "outputs": [
    {
     "name": "stdout",
     "output_type": "stream",
     "text": [
      "None\n"
     ]
    }
   ],
   "source": [
    "def f(x):\n",
    "    x + 42\n",
    "\n",
    "print(f(5)) # None"
   ]
  },
  {
   "cell_type": "markdown",
   "metadata": {},
   "source": [
    "- Another example:"
   ]
  },
  {
   "cell_type": "code",
   "execution_count": 18,
   "metadata": {},
   "outputs": [
    {
     "name": "stdout",
     "output_type": "stream",
     "text": [
      "None\n"
     ]
    }
   ],
   "source": [
    "def f(x):\n",
    "    result = x + 42\n",
    "\n",
    "print(f(5)) # None"
   ]
  },
  {
   "cell_type": "markdown",
   "metadata": {},
   "source": [
    "8. Print versus Return\n",
    "- Confusing print and return is a common early mistake."
   ]
  },
  {
   "cell_type": "code",
   "execution_count": 19,
   "metadata": {},
   "outputs": [
    {
     "name": "stdout",
     "output_type": "stream",
     "text": [
      "8\n",
      "27\n",
      "None\n",
      "64\n"
     ]
    },
    {
     "ename": "TypeError",
     "evalue": "unsupported operand type(s) for *: 'int' and 'NoneType'",
     "output_type": "error",
     "traceback": [
      "\u001b[1;31m---------------------------------------------------------------------------\u001b[0m",
      "\u001b[1;31mTypeError\u001b[0m                                 Traceback (most recent call last)",
      "\u001b[1;32m<ipython-input-19-f2981e98f4b4>\u001b[0m in \u001b[0;36m<module>\u001b[1;34m\u001b[0m\n\u001b[0;32m      4\u001b[0m \u001b[0mcubed\u001b[0m\u001b[1;33m(\u001b[0m\u001b[1;36m2\u001b[0m\u001b[1;33m)\u001b[0m          \u001b[1;31m# seems to work!\u001b[0m\u001b[1;33m\u001b[0m\u001b[1;33m\u001b[0m\u001b[0m\n\u001b[0;32m      5\u001b[0m \u001b[0mprint\u001b[0m\u001b[1;33m(\u001b[0m\u001b[0mcubed\u001b[0m\u001b[1;33m(\u001b[0m\u001b[1;36m3\u001b[0m\u001b[1;33m)\u001b[0m\u001b[1;33m)\u001b[0m   \u001b[1;31m# sort of works (but prints None, which is weird)\u001b[0m\u001b[1;33m\u001b[0m\u001b[1;33m\u001b[0m\u001b[0m\n\u001b[1;32m----> 6\u001b[1;33m \u001b[0mprint\u001b[0m\u001b[1;33m(\u001b[0m\u001b[1;36m2\u001b[0m\u001b[1;33m*\u001b[0m\u001b[0mcubed\u001b[0m\u001b[1;33m(\u001b[0m\u001b[1;36m4\u001b[0m\u001b[1;33m)\u001b[0m\u001b[1;33m)\u001b[0m \u001b[1;31m# Error!\u001b[0m\u001b[1;33m\u001b[0m\u001b[1;33m\u001b[0m\u001b[0m\n\u001b[0m",
      "\u001b[1;31mTypeError\u001b[0m: unsupported operand type(s) for *: 'int' and 'NoneType'"
     ]
    }
   ],
   "source": [
    "def cubed(x):\n",
    "    print(x**3) # Here is the error!\n",
    "\n",
    "cubed(2)          # seems to work!\n",
    "print(cubed(3))   # sort of works (but prints None, which is weird)\n",
    "print(2*cubed(4)) # Error!"
   ]
  },
  {
   "cell_type": "markdown",
   "metadata": {},
   "source": [
    "- Once again (correctly):"
   ]
  },
  {
   "cell_type": "code",
   "execution_count": 20,
   "metadata": {},
   "outputs": [
    {
     "name": "stdout",
     "output_type": "stream",
     "text": [
      "27\n",
      "128\n"
     ]
    }
   ],
   "source": [
    "def cubed(x):\n",
    "    return (x**3) # That's better!\n",
    "\n",
    "cubed(2)          # seems to be ignored (why?)\n",
    "print(cubed(3))   # works!\n",
    "print(2*cubed(4)) # works!"
   ]
  },
  {
   "cell_type": "markdown",
   "metadata": {},
   "source": [
    "9. Function Composition"
   ]
  },
  {
   "cell_type": "code",
   "execution_count": 21,
   "metadata": {},
   "outputs": [
    {
     "name": "stdout",
     "output_type": "stream",
     "text": [
      "500\n"
     ]
    }
   ],
   "source": [
    "def f(w):\n",
    "    return 10*w\n",
    "\n",
    "def g(x, y):\n",
    "    return f(3*x) + y\n",
    "\n",
    "def h(z):\n",
    "    return f(g(z, f(z+1)))\n",
    "\n",
    "print(h(1)) # hint: try the \"visualize\" feature"
   ]
  },
  {
   "cell_type": "markdown",
   "metadata": {},
   "source": [
    "10. Helper Functions"
   ]
  },
  {
   "cell_type": "code",
   "execution_count": 22,
   "metadata": {},
   "outputs": [
    {
     "name": "stdout",
     "output_type": "stream",
     "text": [
      "4\n",
      "4\n"
     ]
    }
   ],
   "source": [
    "# We commonly write functions to solve problems.\n",
    "# We can also write functions to store an action that is used multiple times!\n",
    "# These are called helper functions.\n",
    "\n",
    "def onesDigit(n):\n",
    "    return n%10\n",
    "\n",
    "def largerOnesDigit(x, y):\n",
    "    return max(onesDigit(x), onesDigit(y))\n",
    "\n",
    "print(largerOnesDigit(134, 672)) # 4\n",
    "print(largerOnesDigit(132, 674)) # Still 4"
   ]
  },
  {
   "cell_type": "markdown",
   "metadata": {},
   "source": [
    "11. Recommended Functions"
   ]
  },
  {
   "cell_type": "code",
   "execution_count": 23,
   "metadata": {},
   "outputs": [
    {
     "name": "stdout",
     "output_type": "stream",
     "text": [
      "0\n",
      "2\n",
      "1\n",
      "2\n",
      "True\n",
      "False\n",
      "0.30000000000000004\n",
      "5.551115123125783e-17\n",
      "True\n",
      "True\n"
     ]
    }
   ],
   "source": [
    "# There are a few functions from modules you'll definitely want to use in the assignments\n",
    "\n",
    "# First: the built-in round function has confusing behavior when rounding 0.5.\n",
    "# Use our function roundHalfUp to fix this.\n",
    "\n",
    "def roundHalfUp(d):\n",
    "    # Round to nearest with ties going away from zero.\n",
    "    # You do not need to understand how this function works.\n",
    "    import decimal\n",
    "    rounding = decimal.ROUND_HALF_UP\n",
    "    return int(decimal.Decimal(d).to_integral_value(rounding=rounding))\n",
    "\n",
    "print(round(0.5)) # This evaluates to 0 - what!\n",
    "print(round(1.5)) # And this will be 2 - so confusing!\n",
    "print(roundHalfUp(0.5)) # Now this will always round 0.5 up (to 1)\n",
    "print(roundHalfUp(1.5)) # This still rounds up too!\n",
    "\n",
    "# Second: when comparing floats, == doesn't work quite right.\n",
    "# Use almostEqual to compare floats instead\n",
    "\n",
    "print(0.1 + 0.1 == 0.2) # True, but...\n",
    "d1 = 0.1 + 0.1 + 0.1\n",
    "d2 = 0.3\n",
    "print(d1 == d2) # False!\n",
    "print(d1)       # prints 0.30000000000000004 (uh oh)\n",
    "print(d1 - d2)  # prints 5.55111512313e-17 (tiny, but non-zero!)\n",
    "# Moral: never use == with floats!\n",
    "\n",
    "# Python includes a builtin function math.isclose(), but that function\n",
    "# has some confusing behavior when comparing values close to 0.\n",
    "# Instead, let's just make our own version of isclose:\n",
    "\n",
    "def almostEqual(x, y):\n",
    "    return abs(x - y) < 10**-9\n",
    "\n",
    "# This will now work properly!\n",
    "print(almostEqual(0, 0.0000000000001))\n",
    "print(almostEqual(d1, d2))"
   ]
  },
  {
   "cell_type": "markdown",
   "metadata": {},
   "source": [
    "12. Test Functions\n",
    "- A broken test function"
   ]
  },
  {
   "cell_type": "code",
   "execution_count": 24,
   "metadata": {},
   "outputs": [
    {
     "name": "stdout",
     "output_type": "stream",
     "text": [
      "Testing onesDigit()...Passed!\n"
     ]
    }
   ],
   "source": [
    "def onesDigit(n):\n",
    "    return n%10\n",
    "\n",
    "def testOnesDigit():\n",
    "    print(\"Testing onesDigit()...\", end=\"\")\n",
    "    assert(onesDigit(5) == 5)\n",
    "    assert(onesDigit(123) == 3)\n",
    "    assert(onesDigit(100) == 0)\n",
    "    assert(onesDigit(999) == 9)\n",
    "    print(\"Passed!\")\n",
    "\n",
    "testOnesDigit() # Passed!  Why is this bad?"
   ]
  },
  {
   "cell_type": "markdown",
   "metadata": {},
   "source": [
    "- A better version"
   ]
  },
  {
   "cell_type": "code",
   "execution_count": 25,
   "metadata": {},
   "outputs": [
    {
     "name": "stdout",
     "output_type": "stream",
     "text": [
      "Testing onesDigit()..."
     ]
    },
    {
     "ename": "AssertionError",
     "evalue": "",
     "output_type": "error",
     "traceback": [
      "\u001b[1;31m---------------------------------------------------------------------------\u001b[0m",
      "\u001b[1;31mAssertionError\u001b[0m                            Traceback (most recent call last)",
      "\u001b[1;32m<ipython-input-25-c9edfeef41b4>\u001b[0m in \u001b[0;36m<module>\u001b[1;34m\u001b[0m\n\u001b[0;32m     11\u001b[0m     \u001b[0mprint\u001b[0m\u001b[1;33m(\u001b[0m\u001b[1;34m\"Passed!\"\u001b[0m\u001b[1;33m)\u001b[0m\u001b[1;33m\u001b[0m\u001b[1;33m\u001b[0m\u001b[0m\n\u001b[0;32m     12\u001b[0m \u001b[1;33m\u001b[0m\u001b[0m\n\u001b[1;32m---> 13\u001b[1;33m \u001b[0mtestOnesDigit\u001b[0m\u001b[1;33m(\u001b[0m\u001b[1;33m)\u001b[0m \u001b[1;31m# Crashed!  So the test function worked!\u001b[0m\u001b[1;33m\u001b[0m\u001b[1;33m\u001b[0m\u001b[0m\n\u001b[0m",
      "\u001b[1;32m<ipython-input-25-c9edfeef41b4>\u001b[0m in \u001b[0;36mtestOnesDigit\u001b[1;34m()\u001b[0m\n\u001b[0;32m      8\u001b[0m     \u001b[1;32massert\u001b[0m\u001b[1;33m(\u001b[0m\u001b[0monesDigit\u001b[0m\u001b[1;33m(\u001b[0m\u001b[1;36m100\u001b[0m\u001b[1;33m)\u001b[0m \u001b[1;33m==\u001b[0m \u001b[1;36m0\u001b[0m\u001b[1;33m)\u001b[0m\u001b[1;33m\u001b[0m\u001b[1;33m\u001b[0m\u001b[0m\n\u001b[0;32m      9\u001b[0m     \u001b[1;32massert\u001b[0m\u001b[1;33m(\u001b[0m\u001b[0monesDigit\u001b[0m\u001b[1;33m(\u001b[0m\u001b[1;36m999\u001b[0m\u001b[1;33m)\u001b[0m \u001b[1;33m==\u001b[0m \u001b[1;36m9\u001b[0m\u001b[1;33m)\u001b[0m\u001b[1;33m\u001b[0m\u001b[1;33m\u001b[0m\u001b[0m\n\u001b[1;32m---> 10\u001b[1;33m     \u001b[1;32massert\u001b[0m\u001b[1;33m(\u001b[0m\u001b[0monesDigit\u001b[0m\u001b[1;33m(\u001b[0m\u001b[1;33m-\u001b[0m\u001b[1;36m123\u001b[0m\u001b[1;33m)\u001b[0m \u001b[1;33m==\u001b[0m \u001b[1;36m3\u001b[0m\u001b[1;33m)\u001b[0m \u001b[1;31m# Added this test\u001b[0m\u001b[1;33m\u001b[0m\u001b[1;33m\u001b[0m\u001b[0m\n\u001b[0m\u001b[0;32m     11\u001b[0m     \u001b[0mprint\u001b[0m\u001b[1;33m(\u001b[0m\u001b[1;34m\"Passed!\"\u001b[0m\u001b[1;33m)\u001b[0m\u001b[1;33m\u001b[0m\u001b[1;33m\u001b[0m\u001b[0m\n\u001b[0;32m     12\u001b[0m \u001b[1;33m\u001b[0m\u001b[0m\n",
      "\u001b[1;31mAssertionError\u001b[0m: "
     ]
    }
   ],
   "source": [
    "def onesDigit(n):\n",
    "    return n%10\n",
    "\n",
    "def testOnesDigit():\n",
    "    print(\"Testing onesDigit()...\", end=\"\")\n",
    "    assert(onesDigit(5) == 5)\n",
    "    assert(onesDigit(123) == 3)\n",
    "    assert(onesDigit(100) == 0)\n",
    "    assert(onesDigit(999) == 9)\n",
    "    assert(onesDigit(-123) == 3) # Added this test\n",
    "    print(\"Passed!\")\n",
    "\n",
    "testOnesDigit() # Crashed!  So the test function worked!"
   ]
  }
 ],
 "metadata": {
  "kernelspec": {
   "display_name": "Python 3",
   "language": "python",
   "name": "python3"
  },
  "language_info": {
   "codemirror_mode": {
    "name": "ipython",
    "version": 3
   },
   "file_extension": ".py",
   "mimetype": "text/x-python",
   "name": "python",
   "nbconvert_exporter": "python",
   "pygments_lexer": "ipython3",
   "version": "3.7.3"
  }
 },
 "nbformat": 4,
 "nbformat_minor": 4
}
