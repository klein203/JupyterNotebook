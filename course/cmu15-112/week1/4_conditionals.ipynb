{
 "cells": [
  {
   "cell_type": "markdown",
   "metadata": {},
   "source": [
    "# Part 1\n",
    "1. if statement"
   ]
  },
  {
   "cell_type": "code",
   "execution_count": 1,
   "metadata": {},
   "outputs": [
    {
     "name": "stdout",
     "output_type": "stream",
     "text": [
      "ABCD\n",
      "AD\n"
     ]
    }
   ],
   "source": [
    "def f(x):\n",
    "    print(\"A\", end=\"\")\n",
    "    if (x == 0):\n",
    "        print(\"B\", end=\"\")\n",
    "        print(\"C\", end=\"\")\n",
    "    print(\"D\")\n",
    "\n",
    "f(0)\n",
    "f(1)"
   ]
  },
  {
   "cell_type": "code",
   "execution_count": 2,
   "metadata": {},
   "outputs": [
    {
     "name": "stdout",
     "output_type": "stream",
     "text": [
      "abs1(5) = 5 and abs1(-5) = 5\n",
      "abs2(5) = 5 and abs2(-5) = 5\n",
      "abs3(5) = 5 and abs3(-5) = 5\n",
      "abs4(5) = 5 and abs4(-5) = 5\n"
     ]
    }
   ],
   "source": [
    "# These examples define abs(n), which is a nice example here, but it is\n",
    "# also a builtin function, so you do not need to define it to use it.\n",
    "\n",
    "def abs1(n):\n",
    "    if (n < 0):\n",
    "        n = -n\n",
    "    return n\n",
    "\n",
    "# again, with same-line indenting\n",
    "\n",
    "def abs2(n):\n",
    "    if (n < 0): n = -n # only indent this way for very short lines (if at all)\n",
    "    return n\n",
    "\n",
    "# again, with multiple return statements\n",
    "\n",
    "def abs3(n):\n",
    "    if (n < 0):\n",
    "        return -n\n",
    "    return n\n",
    "\n",
    "# aside: you can do this with boolean arithmetic, but don't!\n",
    "\n",
    "def abs4(n):\n",
    "    return (n < 0)*(-n) + (n>=0)*(n) # this is awful!\n",
    "\n",
    "# now show that they all work properly:\n",
    "\n",
    "print(\"abs1(5) =\", abs1(5), \"and abs1(-5) =\", abs1(-5))\n",
    "print(\"abs2(5) =\", abs2(5), \"and abs2(-5) =\", abs2(-5))\n",
    "print(\"abs3(5) =\", abs3(5), \"and abs3(-5) =\", abs3(-5))\n",
    "print(\"abs4(5) =\", abs4(5), \"and abs4(-5) =\", abs4(-5))"
   ]
  },
  {
   "cell_type": "markdown",
   "metadata": {},
   "source": [
    "2. if-else statement"
   ]
  },
  {
   "cell_type": "code",
   "execution_count": 3,
   "metadata": {},
   "outputs": [
    {
     "name": "stdout",
     "output_type": "stream",
     "text": [
      "ABCG\n",
      "ADEG\n",
      "ADFG\n"
     ]
    }
   ],
   "source": [
    "def f(x):\n",
    "    print(\"A\", end=\"\")\n",
    "    if (x == 0):\n",
    "        print(\"B\", end=\"\")\n",
    "        print(\"C\", end=\"\")\n",
    "    else:\n",
    "        print(\"D\", end=\"\")\n",
    "        if (x == 1):\n",
    "            print(\"E\", end=\"\")\n",
    "        else:\n",
    "            print(\"F\", end=\"\")\n",
    "    print(\"G\")\n",
    "\n",
    "f(0)\n",
    "f(1)\n",
    "f(2)"
   ]
  },
  {
   "cell_type": "code",
   "execution_count": 4,
   "metadata": {},
   "outputs": [
    {
     "name": "stdout",
     "output_type": "stream",
     "text": [
      "abs5(5) = 5 and abs5(-5) = 5\n",
      "abs6(5) = 5 and abs6(-5) = 5\n"
     ]
    }
   ],
   "source": [
    "def abs5(n):\n",
    "    if (n >= 0):\n",
    "        return n\n",
    "    else:\n",
    "        return -n\n",
    "\n",
    "# or, if you prefer...\n",
    "\n",
    "def abs6(n):\n",
    "    if (n >= 0):\n",
    "        sign = +1\n",
    "    else:\n",
    "        sign = -1\n",
    "    return sign * n\n",
    "\n",
    "print(\"abs5(5) =\", abs5(5), \"and abs5(-5) =\", abs5(-5))\n",
    "print(\"abs6(5) =\", abs6(5), \"and abs6(-5) =\", abs6(-5))"
   ]
  },
  {
   "cell_type": "markdown",
   "metadata": {},
   "source": [
    "3. if-elif-else statement"
   ]
  },
  {
   "cell_type": "code",
   "execution_count": 5,
   "metadata": {},
   "outputs": [
    {
     "name": "stdout",
     "output_type": "stream",
     "text": [
      "ABCH\n",
      "ADH\n",
      "AEFH\n",
      "AEGH\n"
     ]
    }
   ],
   "source": [
    "def f(x):\n",
    "    print(\"A\", end=\"\")\n",
    "    if (x == 0):\n",
    "        print(\"B\", end=\"\")\n",
    "        print(\"C\", end=\"\")\n",
    "    elif (x == 1):\n",
    "        print(\"D\", end=\"\")\n",
    "    else:\n",
    "        print(\"E\", end=\"\")\n",
    "        if (x == 2):\n",
    "            print(\"F\", end=\"\")\n",
    "        else:\n",
    "            print(\"G\", end=\"\")\n",
    "    print(\"H\")\n",
    "\n",
    "f(0)\n",
    "f(1)\n",
    "f(2)\n",
    "f(3)"
   ]
  },
  {
   "cell_type": "code",
   "execution_count": 6,
   "metadata": {},
   "outputs": [
    {
     "name": "stdout",
     "output_type": "stream",
     "text": [
      "y = 4*x**2 + 5*x + 1 has 2 root(s).\n",
      "y = 4*x**2 + 4*x + 1 has 1 root(s).\n",
      "y = 4*x**2 + 3*x + 1 has 0 root(s).\n"
     ]
    }
   ],
   "source": [
    "def numberOfRoots(a, b, c):\n",
    "    # Returns number of roots (zeros) of y = a*x**2 + b*x + c\n",
    "    d = b**2 - 4*a*c\n",
    "    if (d > 0):\n",
    "        return 2\n",
    "    elif (d == 0):\n",
    "        return 1\n",
    "    else:\n",
    "        return 0\n",
    "\n",
    "print(\"y = 4*x**2 + 5*x + 1 has\", numberOfRoots(4,5,1), \"root(s).\")\n",
    "print(\"y = 4*x**2 + 4*x + 1 has\", numberOfRoots(4,4,1), \"root(s).\")\n",
    "print(\"y = 4*x**2 + 3*x + 1 has\", numberOfRoots(4,3,1), \"root(s).\")"
   ]
  },
  {
   "cell_type": "code",
   "execution_count": 7,
   "metadata": {},
   "outputs": [
    {
     "name": "stdout",
     "output_type": "stream",
     "text": [
      "103 --> A\n",
      " 88 --> B\n",
      " 70 --> C\n",
      " 61 --> D\n",
      " 22 --> F\n"
     ]
    }
   ],
   "source": [
    "def getGrade(score):\n",
    "    if (score >= 90):\n",
    "        grade = \"A\"\n",
    "    elif (score >= 80):\n",
    "        grade = \"B\"\n",
    "    elif (score >= 70):\n",
    "        grade = \"C\"\n",
    "    elif (score >= 60):\n",
    "        grade = \"D\"\n",
    "    else:\n",
    "        grade = \"F\"\n",
    "    return grade\n",
    "\n",
    "print(\"103 -->\", getGrade(103))\n",
    "print(\" 88 -->\", getGrade(88))\n",
    "print(\" 70 -->\", getGrade(70))\n",
    "print(\" 61 -->\", getGrade(61))\n",
    "print(\" 22 -->\", getGrade(22))"
   ]
  },
  {
   "cell_type": "markdown",
   "metadata": {},
   "source": [
    "# Part 2\n",
    "4. if-else expression"
   ]
  },
  {
   "cell_type": "code",
   "execution_count": 8,
   "metadata": {},
   "outputs": [
    {
     "name": "stdout",
     "output_type": "stream",
     "text": [
      "abs7(5) = 5 and abs7(-5) = 5\n"
     ]
    }
   ],
   "source": [
    "# if-else expression (not an if-else statement!)\n",
    "\n",
    "def abs7(n):\n",
    "    return n if (n >= 0) else -n\n",
    "\n",
    "print(\"abs7(5) =\", abs7(5), \"and abs7(-5) =\", abs7(-5))"
   ]
  },
  {
   "cell_type": "markdown",
   "metadata": {},
   "source": [
    "5. Incorrect usage\n",
    "- Negated Condition (with \"else\" clause)\n",
    "- Empty \"if\" Clause\n",
    "- Using \"if\" instead of \"and\"\n",
    "- Using another \"if\" instead of \"else\"\n",
    "- Using \"arithmetic logic\" instead of \"boolean logic\""
   ]
  }
 ],
 "metadata": {
  "kernelspec": {
   "display_name": "Python 3",
   "language": "python",
   "name": "python3"
  },
  "language_info": {
   "codemirror_mode": {
    "name": "ipython",
    "version": 3
   },
   "file_extension": ".py",
   "mimetype": "text/x-python",
   "name": "python",
   "nbconvert_exporter": "python",
   "pygments_lexer": "ipython3",
   "version": "3.7.3"
  }
 },
 "nbformat": 4,
 "nbformat_minor": 4
}
