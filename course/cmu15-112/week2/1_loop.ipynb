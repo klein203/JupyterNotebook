{
 "cells": [
  {
   "cell_type": "markdown",
   "metadata": {},
   "source": [
    "1. for loops and range"
   ]
  },
  {
   "cell_type": "code",
   "execution_count": 1,
   "metadata": {},
   "outputs": [
    {
     "name": "stdout",
     "output_type": "stream",
     "text": [
      "True\n"
     ]
    }
   ],
   "source": [
    "# A for loop repeats an action a specific number of times\n",
    "# based on the provided range\n",
    "def sumFromMToN(m, n):\n",
    "    total = 0\n",
    "    # note that range(x, y) includes x but excludes y\n",
    "    for x in range(m, n+1):\n",
    "        total += x\n",
    "    return total\n",
    "\n",
    "print(sumFromMToN(5, 10) == 5+6+7+8+9+10)"
   ]
  },
  {
   "cell_type": "code",
   "execution_count": 2,
   "metadata": {},
   "outputs": [
    {
     "name": "stdout",
     "output_type": "stream",
     "text": [
      "True\n",
      "True\n"
     ]
    }
   ],
   "source": [
    "def sumFromMToN(m, n):\n",
    "    return sum(range(m, n+1))\n",
    "\n",
    "print(sumFromMToN(5, 10) == 5+6+7+8+9+10)\n",
    "\n",
    "# And we can even do this with a closed-form formula,\n",
    "# which is the fastest way, but which doesn't really\n",
    "# help us demonstrate loops.  :-)\n",
    "\n",
    "def sumToN(n):\n",
    "    # helper function\n",
    "    return n*(n+1)//2\n",
    "\n",
    "def sumFromMToN_byFormula(m, n):\n",
    "    return (sumToN(n) - sumToN(m-1))\n",
    "\n",
    "print(sumFromMToN_byFormula(5, 10) == 5+6+7+8+9+10)"
   ]
  },
  {
   "cell_type": "code",
   "execution_count": 3,
   "metadata": {},
   "outputs": [
    {
     "name": "stdout",
     "output_type": "stream",
     "text": [
      "True\n"
     ]
    }
   ],
   "source": [
    "def sumToN(n):\n",
    "    total = 0\n",
    "    # range defaults the starting number to 0\n",
    "    for x in range(n+1):\n",
    "        total += x\n",
    "    return total\n",
    "\n",
    "print(sumToN(5) == 0+1+2+3+4+5)"
   ]
  },
  {
   "cell_type": "code",
   "execution_count": 4,
   "metadata": {},
   "outputs": [
    {
     "name": "stdout",
     "output_type": "stream",
     "text": [
      "True\n"
     ]
    }
   ],
   "source": [
    "def sumEveryKthFromMToN(m, n, k):\n",
    "    total = 0\n",
    "    # the third parameter becomes a step\n",
    "    for x in range(m, n+1, k):\n",
    "        total += x\n",
    "    return total\n",
    "\n",
    "print(sumEveryKthFromMToN(5, 20, 7) == (5 + 12 + 19))"
   ]
  },
  {
   "cell_type": "code",
   "execution_count": 5,
   "metadata": {},
   "outputs": [
    {
     "name": "stdout",
     "output_type": "stream",
     "text": [
      "True\n"
     ]
    }
   ],
   "source": [
    "# We can also change the step by changing the inside of the loop\n",
    "def sumOfOddsFromMToN(m, n):\n",
    "    total = 0\n",
    "    for x in range(m, n+1):\n",
    "        if (x % 2 == 1):\n",
    "            total += x\n",
    "    return total\n",
    "\n",
    "print(sumOfOddsFromMToN(4, 10) == sumOfOddsFromMToN(5,9) == (5+7+9))"
   ]
  },
  {
   "cell_type": "code",
   "execution_count": 6,
   "metadata": {},
   "outputs": [
    {
     "name": "stdout",
     "output_type": "stream",
     "text": [
      "True\n"
     ]
    }
   ],
   "source": [
    "# Here we will range in reverse\n",
    "# (not wise in this case, but instructional)\n",
    "def sumOfOddsFromMToN(m, n):\n",
    "    total = 0\n",
    "    for x in range(n, m-1, -1):\n",
    "        if (x % 2 == 1):\n",
    "            total += x\n",
    "    return total\n",
    "\n",
    "print(sumOfOddsFromMToN(4, 10) == sumOfOddsFromMToN(5,9) == (5+7+9))"
   ]
  },
  {
   "cell_type": "markdown",
   "metadata": {},
   "source": [
    "2. nested for loops"
   ]
  },
  {
   "cell_type": "code",
   "execution_count": 7,
   "metadata": {},
   "outputs": [
    {
     "name": "stdout",
     "output_type": "stream",
     "text": [
      "( 0 , 0 )  ( 0 , 1 )  ( 0 , 2 )  ( 0 , 3 )  ( 0 , 4 )  ( 0 , 5 )  \n",
      "( 1 , 0 )  ( 1 , 1 )  ( 1 , 2 )  ( 1 , 3 )  ( 1 , 4 )  ( 1 , 5 )  \n",
      "( 2 , 0 )  ( 2 , 1 )  ( 2 , 2 )  ( 2 , 3 )  ( 2 , 4 )  ( 2 , 5 )  \n",
      "( 3 , 0 )  ( 3 , 1 )  ( 3 , 2 )  ( 3 , 3 )  ( 3 , 4 )  ( 3 , 5 )  \n",
      "( 4 , 0 )  ( 4 , 1 )  ( 4 , 2 )  ( 4 , 3 )  ( 4 , 4 )  ( 4 , 5 )  \n"
     ]
    }
   ],
   "source": [
    "# We can put loops inside of loops to repeat actions at multiple levels\n",
    "# This prints the coordinates\n",
    "def printCoordinates(xMax, yMax):\n",
    "    for x in range(xMax+1):\n",
    "        for y in range(yMax+1):\n",
    "            print(\"(\", x, \",\", y, \")  \", end=\"\")\n",
    "        print()\n",
    "\n",
    "printCoordinates(4, 5)"
   ]
  },
  {
   "cell_type": "code",
   "execution_count": 8,
   "metadata": {},
   "outputs": [
    {
     "name": "stdout",
     "output_type": "stream",
     "text": [
      "*****\n",
      "*****\n",
      "*****\n",
      "*****\n",
      "*****\n"
     ]
    }
   ],
   "source": [
    "def printStarRectangle(n):\n",
    "    # print an nxn rectangle of asterisks\n",
    "    for row in range(n):\n",
    "        for col in range(n):\n",
    "            print(\"*\", end=\"\")\n",
    "        print()\n",
    "\n",
    "printStarRectangle(5)"
   ]
  },
  {
   "cell_type": "code",
   "execution_count": 9,
   "metadata": {},
   "outputs": [
    {
     "name": "stdout",
     "output_type": "stream",
     "text": [
      "0 \n",
      "1 * \n",
      "2 * * \n",
      "3 * * * \n",
      "4 * * * * \n"
     ]
    }
   ],
   "source": [
    "# What would this do? Be careful and be precise!\n",
    "\n",
    "def printMysteryStarShape(n):\n",
    "    for row in range(n):\n",
    "        print(row, end=\" \")\n",
    "        for col in range(row):\n",
    "            print(\"*\", end=\" \")\n",
    "        print()\n",
    "\n",
    "printMysteryStarShape(5)"
   ]
  },
  {
   "cell_type": "markdown",
   "metadata": {},
   "source": [
    "3. while loops"
   ]
  },
  {
   "cell_type": "code",
   "execution_count": 10,
   "metadata": {},
   "outputs": [
    {
     "name": "stdout",
     "output_type": "stream",
     "text": [
      "True\n"
     ]
    }
   ],
   "source": [
    "# use while loops when there is an indeterminate number of iterations\n",
    "\n",
    "def leftmostDigit(n):\n",
    "    n = abs(n)\n",
    "    while (n >= 10):\n",
    "        n = n//10\n",
    "    return n\n",
    "\n",
    "print(leftmostDigit(72658489290098) == 7)"
   ]
  },
  {
   "cell_type": "code",
   "execution_count": 11,
   "metadata": {},
   "outputs": [
    {
     "name": "stdout",
     "output_type": "stream",
     "text": [
      "Multiples of 4 or 7: 0 4 7 8 12 14 16 20 21 24 28 32 35 36 40 \n"
     ]
    }
   ],
   "source": [
    "# eg: find the nth number that is a multiple of either 4 or 7\n",
    "def isMultipleOf4or7(x):\n",
    "    return ((x % 4) == 0) or ((x % 7) == 0)\n",
    "\n",
    "def nthMultipleOf4or7(n):\n",
    "    found = 0\n",
    "    guess = -1\n",
    "    while (found <= n):\n",
    "        guess += 1\n",
    "        if (isMultipleOf4or7(guess)):\n",
    "            found += 1\n",
    "    return guess\n",
    "\n",
    "print(\"Multiples of 4 or 7: \", end=\"\")\n",
    "for n in range(15):\n",
    "    print(nthMultipleOf4or7(n), end=\" \")\n",
    "print()"
   ]
  },
  {
   "cell_type": "code",
   "execution_count": 12,
   "metadata": {},
   "outputs": [
    {
     "name": "stdout",
     "output_type": "stream",
     "text": [
      "True\n"
     ]
    }
   ],
   "source": [
    "# sum numbers from 1 to 10\n",
    "# note:  this works, but you should not use \"while\" here.\n",
    "#        instead, do this with \"for\" (once you know how)\n",
    "def sumToN(n):\n",
    "    # note: even though this works, it is bad style.\n",
    "    # You should do this with a \"for\" loop, not a \"while\" loop.\n",
    "    total = 0\n",
    "    counter = 1\n",
    "    while (counter <= n):\n",
    "        total += counter\n",
    "        counter += 1\n",
    "    return total\n",
    "\n",
    "print(sumToN(5) == 1+2+3+4+5)"
   ]
  },
  {
   "cell_type": "markdown",
   "metadata": {},
   "source": [
    "4. break and continue"
   ]
  },
  {
   "cell_type": "code",
   "execution_count": 13,
   "metadata": {},
   "outputs": [
    {
     "name": "stdout",
     "output_type": "stream",
     "text": [
      "1 2 4 5 7 \n"
     ]
    }
   ],
   "source": [
    "# continue, break, and pass are three keywords used in loops\n",
    "# in order to change the program flow\n",
    "for n in range(200):\n",
    "    if (n % 3 == 0):\n",
    "        continue # skips rest of this pass\n",
    "    elif (n == 8):\n",
    "        break # skips rest of entire loop\n",
    "    else:\n",
    "        pass # does nothing! pass is a placeholder, not needed here\n",
    "    print(n, end=\" \")\n",
    "print()"
   ]
  },
  {
   "cell_type": "code",
   "execution_count": 14,
   "metadata": {},
   "outputs": [
    {
     "name": "stdin",
     "output_type": "stream",
     "text": [
      "Enter a string (or 'done' to quit):  hello\n"
     ]
    },
    {
     "name": "stdout",
     "output_type": "stream",
     "text": [
      "  You entered:  hello\n"
     ]
    },
    {
     "name": "stdin",
     "output_type": "stream",
     "text": [
      "Enter a string (or 'done' to quit):  done\n"
     ]
    },
    {
     "name": "stdout",
     "output_type": "stream",
     "text": [
      "Bye!\n",
      "You entered 1 lines (not counting 'done').\n"
     ]
    }
   ],
   "source": [
    "# Note- this is advanced content, as it uses strings. It's okay\n",
    "# to not fully understand the content below.\n",
    "def readUntilDone():\n",
    "    linesEntered = 0\n",
    "    while (True):\n",
    "        response = input(\"Enter a string (or 'done' to quit): \")\n",
    "        if (response == \"done\"):\n",
    "            break\n",
    "        print(\"  You entered: \", response)\n",
    "        linesEntered += 1\n",
    "    print(\"Bye!\")\n",
    "    return linesEntered\n",
    "\n",
    "linesEntered = readUntilDone()\n",
    "print(\"You entered\", linesEntered, \"lines (not counting 'done').\")"
   ]
  },
  {
   "cell_type": "markdown",
   "metadata": {},
   "source": [
    "5. isPrime"
   ]
  },
  {
   "cell_type": "code",
   "execution_count": 15,
   "metadata": {},
   "outputs": [
    {
     "name": "stdout",
     "output_type": "stream",
     "text": [
      "2 3 5 7 11 13 17 19 23 29 31 37 41 43 47 53 59 61 67 71 73 79 83 89 97 \n"
     ]
    }
   ],
   "source": [
    "# Note: there are faster/better ways.  We're just going for clarity and simplicity here.\n",
    "def isPrime(n):\n",
    "    if (n < 2):\n",
    "        return False\n",
    "    for factor in range(2,n):\n",
    "        if (n % factor == 0):\n",
    "            return False\n",
    "    return True\n",
    "\n",
    "# And take it for a spin\n",
    "for n in range(100):\n",
    "    if isPrime(n):\n",
    "        print(n, end=\" \")\n",
    "print()"
   ]
  },
  {
   "cell_type": "code",
   "execution_count": 16,
   "metadata": {},
   "outputs": [
    {
     "name": "stdout",
     "output_type": "stream",
     "text": [
      "2 3 5 7 11 13 17 19 23 29 31 37 41 43 47 53 59 61 67 71 73 79 83 89 97 \n"
     ]
    }
   ],
   "source": [
    "# Note: this is still not the fastest way, but it's a nice improvement.\n",
    "def fasterIsPrime(n):\n",
    "    if (n < 2):\n",
    "        return False\n",
    "    if (n == 2):\n",
    "        return True\n",
    "    if (n % 2 == 0):\n",
    "        return False\n",
    "    maxFactor = round(n**0.5)\n",
    "    for factor in range(3,maxFactor+1,2):\n",
    "        if (n % factor == 0):\n",
    "            return False\n",
    "    return True\n",
    "\n",
    "# And try out this version:\n",
    "for n in range(100):\n",
    "    if fasterIsPrime(n):\n",
    "        print(n, end=\" \")\n",
    "print()"
   ]
  },
  {
   "cell_type": "code",
   "execution_count": 17,
   "metadata": {},
   "outputs": [
    {
     "name": "stdout",
     "output_type": "stream",
     "text": [
      "They seem to work the same!\n",
      "Timing isPrime( 499 ) , returns  True , time =  0.9999275207519531 ms\n",
      "Timing fasterIsPrime( 499 ) , returns  True , time =  0.0 ms\n"
     ]
    }
   ],
   "source": [
    "def isPrime(n):\n",
    "    if (n < 2):\n",
    "        return False\n",
    "    for factor in range(2,n):\n",
    "        if (n % factor == 0):\n",
    "            return False\n",
    "    return True\n",
    "\n",
    "def fasterIsPrime(n):\n",
    "    if (n < 2):\n",
    "        return False\n",
    "    if (n == 2):\n",
    "        return True\n",
    "    if (n % 2 == 0):\n",
    "        return False\n",
    "    maxFactor = round(n**0.5)\n",
    "    for factor in range(3,maxFactor+1,2):\n",
    "        if (n % factor == 0):\n",
    "            return False\n",
    "    return True\n",
    "\n",
    "# Verify these are the same\n",
    "for n in range(100):\n",
    "    assert(isPrime(n) == fasterIsPrime(n))\n",
    "print(\"They seem to work the same!\")\n",
    "\n",
    "# Now let's see if we really sped things up\n",
    "import time\n",
    "bigPrime = 499 # Try 1010809, or 10101023, or 102030407\n",
    "print(\"Timing isPrime(\",bigPrime,\")\", end=\" \")\n",
    "time0 = time.time()\n",
    "print(\", returns \", isPrime(bigPrime), end=\" \")\n",
    "time1 = time.time()\n",
    "print(\", time = \",(time1-time0)*1000,\"ms\")\n",
    "\n",
    "print(\"Timing fasterIsPrime(\",bigPrime,\")\", end=\" \")\n",
    "time0 = time.time()\n",
    "print(\", returns \", fasterIsPrime(bigPrime), end=\" \")\n",
    "time1 = time.time()\n",
    "print(\", time = \",(time1-time0)*1000,\"ms\")"
   ]
  },
  {
   "cell_type": "markdown",
   "metadata": {},
   "source": [
    "6. nthPrime"
   ]
  },
  {
   "cell_type": "code",
   "execution_count": 18,
   "metadata": {},
   "outputs": [
    {
     "name": "stdout",
     "output_type": "stream",
     "text": [
      "0 2\n",
      "1 3\n",
      "2 5\n",
      "3 7\n",
      "4 11\n",
      "5 13\n",
      "6 17\n",
      "7 19\n",
      "8 23\n",
      "9 29\n",
      "Done!\n"
     ]
    }
   ],
   "source": [
    "def isPrime(n):\n",
    "    if (n < 2):\n",
    "        return False\n",
    "    if (n == 2):\n",
    "        return True\n",
    "    if (n % 2 == 0):\n",
    "        return False\n",
    "    maxFactor = round(n**0.5)\n",
    "    for factor in range(3,maxFactor+1,2):\n",
    "        if (n % factor == 0):\n",
    "            return False\n",
    "    return True\n",
    "\n",
    "# Adapt the \"nth\" pattern we used above in nthMultipleOf4or7()\n",
    "\n",
    "def nthPrime(n):\n",
    "    found = 0\n",
    "    guess = 0\n",
    "    while (found <= n):\n",
    "        guess += 1\n",
    "        if (isPrime(guess)):\n",
    "            found += 1\n",
    "    return guess\n",
    "\n",
    "# and let's see a list of the primes\n",
    "for n in range(10):\n",
    "    print(n, nthPrime(n))\n",
    "print(\"Done!\")"
   ]
  }
 ],
 "metadata": {
  "kernelspec": {
   "display_name": "Python 3",
   "language": "python",
   "name": "python3"
  },
  "language_info": {
   "codemirror_mode": {
    "name": "ipython",
    "version": 3
   },
   "file_extension": ".py",
   "mimetype": "text/x-python",
   "name": "python",
   "nbconvert_exporter": "python",
   "pygments_lexer": "ipython3",
   "version": "3.7.3"
  }
 },
 "nbformat": 4,
 "nbformat_minor": 4
}
