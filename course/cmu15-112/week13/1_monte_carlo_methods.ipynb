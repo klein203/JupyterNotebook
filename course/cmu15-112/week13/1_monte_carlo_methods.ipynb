{
 "cells": [
  {
   "cell_type": "markdown",
   "metadata": {},
   "source": [
    "Monte Carlo Methods:\n",
    "1. Definition:\n",
    "- Using (pseudo)random numbers to solve (not-so-random) problems.\n",
    "2. General approach\n",
    "- Run Trials\n",
    "- In each trial, simulate event (coin toss, dice rolling, etc)\n",
    "- Count # of successful trials\n",
    "- Guess that Expected Odds ~= Observed Odds = (successful trials) / (total trials)\n",
    "3. Law of Large Numbers\n",
    "- As total trials increases, observed odds --> expected odds.\n",
    "4. Time-Accuracy Tradeoff\n",
    "- More trials == more accurate + more time"
   ]
  },
  {
   "cell_type": "markdown",
   "metadata": {},
   "source": [
    "Examples:\n",
    "- Finding pi on a desert isle (see piOnADesertIsle.py)"
   ]
  },
  {
   "cell_type": "code",
   "execution_count": null,
   "metadata": {},
   "outputs": [],
   "source": [
    "%run piOnADesertIsle.py"
   ]
  },
  {
   "cell_type": "markdown",
   "metadata": {},
   "source": [
    "- Random Run Length (see randomRunLength.py)"
   ]
  },
  {
   "cell_type": "code",
   "execution_count": null,
   "metadata": {},
   "outputs": [],
   "source": [
    "%run randomRunLength.py"
   ]
  },
  {
   "cell_type": "markdown",
   "metadata": {},
   "source": [
    "- Dice Throwing Tables (see diceThrowing.py and betterDiceThrowing.py)"
   ]
  },
  {
   "cell_type": "code",
   "execution_count": null,
   "metadata": {},
   "outputs": [],
   "source": [
    "%run diceThrowing.py"
   ]
  },
  {
   "cell_type": "code",
   "execution_count": null,
   "metadata": {},
   "outputs": [],
   "source": [
    "%run betterDiceThrowing.py"
   ]
  },
  {
   "cell_type": "markdown",
   "metadata": {},
   "source": [
    "- The Birthday Problem (see birthdayProblem.py)"
   ]
  },
  {
   "cell_type": "code",
   "execution_count": null,
   "metadata": {},
   "outputs": [],
   "source": [
    "%run birthdayProblem.py"
   ]
  }
 ],
 "metadata": {
  "kernelspec": {
   "display_name": "Python 3",
   "language": "python",
   "name": "python3"
  },
  "language_info": {
   "codemirror_mode": {
    "name": "ipython",
    "version": 3
   },
   "file_extension": ".py",
   "mimetype": "text/x-python",
   "name": "python",
   "nbconvert_exporter": "python",
   "pygments_lexer": "ipython3",
   "version": "3.7.3"
  }
 },
 "nbformat": 4,
 "nbformat_minor": 4
}
