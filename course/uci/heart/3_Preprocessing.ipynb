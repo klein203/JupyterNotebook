{
 "cells": [
  {
   "cell_type": "markdown",
   "metadata": {},
   "source": [
    "# 概述\n",
    "特征预处理，数据分析中定类、定序、定距、定比四大基本数据类型。定类数据转换为OneHotEncoding\n",
    "## 导入工具包和数据集"
   ]
  },
  {
   "cell_type": "code",
   "execution_count": null,
   "metadata": {},
   "outputs": [],
   "source": [
    "import warnings\n",
    "warnings.filterwarnings(\"ignore\")\n",
    "\n",
    "import pandas as pd"
   ]
  },
  {
   "cell_type": "code",
   "execution_count": null,
   "metadata": {},
   "outputs": [],
   "source": [
    "df = pd.read_csv('./data/heart.csv')"
   ]
  },
  {
   "cell_type": "code",
   "execution_count": null,
   "metadata": {},
   "outputs": [],
   "source": [
    "df.shape"
   ]
  },
  {
   "cell_type": "code",
   "execution_count": null,
   "metadata": {},
   "outputs": [],
   "source": [
    "df.head()"
   ]
  },
  {
   "cell_type": "code",
   "execution_count": null,
   "metadata": {},
   "outputs": [],
   "source": [
    "df.dtypes"
   ]
  },
  {
   "cell_type": "markdown",
   "metadata": {},
   "source": [
    "## 将简写的列名改为完整的特征名称"
   ]
  },
  {
   "cell_type": "code",
   "execution_count": null,
   "metadata": {},
   "outputs": [],
   "source": [
    "df.columns = [\n",
    "    \"age\",\n",
    "    \"sex\",\n",
    "    \"chest_pain_type\",\n",
    "    \"resting_blood_pressure\",\n",
    "    \"cholestrerol\",\n",
    "    \"fasting_blood_sugar\",\n",
    "    \"rest_ecg\",\n",
    "    \"max_heart_rate_achieved\",\n",
    "    \"exercise_induced_angina\",\n",
    "    \"st_depression\",\n",
    "    \"st_slope\",\n",
    "    \"num_major_vessels\",\n",
    "    \"thalassemia\",\n",
    "    \"target\"\n",
    "]\n",
    "\n",
    "df.head()"
   ]
  },
  {
   "cell_type": "markdown",
   "metadata": {},
   "source": [
    "## 区分 定类、定序、定距、定比 四种特征\n",
    "特征类型 | 描述 | 举例 | 运算  \n",
    "-: | -: | -: | -:\n",
    "定类 Norminal Data | 离散值 | 颜色（红、蓝、黄、绿） | 仅可判断是否相等\n",
    "定序 Ordinal Data | 离散值，有顺序 | 学历（大学、中学、小学） | 定类运算+排序\n",
    "定距 Interval Data | 连续值，可比大小，但维数无可比性，数值0不代表真正零点 | 摄氏度、地震级数 | 定序运算+加减\n",
    "定比 Ratio Data | 连续值，维数有可比性，数值0代表真正零点 | 年龄、体重 | 定距运算+乘除"
   ]
  },
  {
   "cell_type": "markdown",
   "metadata": {},
   "source": [
    "## 将定类特征由整数编码转为实际对应的字符串"
   ]
  },
  {
   "cell_type": "code",
   "execution_count": null,
   "metadata": {},
   "outputs": [],
   "source": [
    "df[\"sex\"][df[\"sex\"] == 0] = 'female'\n",
    "df[\"sex\"][df[\"sex\"] == 1] = 'male'\n",
    "\n",
    "df[\"chest_pain_type\"][df[\"chest_pain_type\"] == 0] = 'typical angina'\n",
    "df[\"chest_pain_type\"][df[\"chest_pain_type\"] == 1] = 'atypical angina'\n",
    "df[\"chest_pain_type\"][df[\"chest_pain_type\"] == 2] = 'non-anginal pain'\n",
    "df[\"chest_pain_type\"][df[\"chest_pain_type\"] == 3] = 'asymptomatic'\n",
    "\n",
    "df[\"fasting_blood_sugar\"][df[\"fasting_blood_sugar\"] == 0] = 'lower than 120 mg/ml'\n",
    "df[\"fasting_blood_sugar\"][df[\"fasting_blood_sugar\"] == 1] = 'greater than 120 mg/ml'\n",
    "\n",
    "df[\"rest_ecg\"][df[\"rest_ecg\"] == 0] = 'normal'\n",
    "df[\"rest_ecg\"][df[\"rest_ecg\"] == 1] = 'ST-T wave abnormality'\n",
    "df[\"rest_ecg\"][df[\"rest_ecg\"] == 2] = 'left ventricular hypertrophy'\n",
    "\n",
    "df[\"exercise_induced_angina\"][df[\"exercise_induced_angina\"] == 0] = 'no'\n",
    "df[\"exercise_induced_angina\"][df[\"exercise_induced_angina\"] == 1] = 'yes'\n",
    "\n",
    "df[\"st_slope\"][df[\"st_slope\"] == 0] = 'upsloping'\n",
    "df[\"st_slope\"][df[\"st_slope\"] == 1] = 'flat'\n",
    "df[\"st_slope\"][df[\"st_slope\"] == 2] = 'downsloping'\n",
    "\n",
    "df[\"thalassemia\"][df[\"thalassemia\"] == 0] = 'unknown'\n",
    "df[\"thalassemia\"][df[\"thalassemia\"] == 1] = 'normal'\n",
    "df[\"thalassemia\"][df[\"thalassemia\"] == 2] = 'fixed defect'\n",
    "df[\"thalassemia\"][df[\"thalassemia\"] == 3] = 'reversable defect'\n",
    "\n",
    "# df[\"target\"][df[\"target\"] == 0] = 'No Heart Disease'\n",
    "# df[\"target\"][df[\"target\"] == 1] = 'Heart Disease'\n",
    "\n",
    "df.head()"
   ]
  },
  {
   "cell_type": "code",
   "execution_count": null,
   "metadata": {},
   "outputs": [],
   "source": [
    "df.dtypes"
   ]
  },
  {
   "cell_type": "markdown",
   "metadata": {},
   "source": [
    "## 将离散的定类和定序特征列转为OneHotEncoding"
   ]
  },
  {
   "cell_type": "code",
   "execution_count": null,
   "metadata": {},
   "outputs": [],
   "source": [
    "df = pd.get_dummies(df)\n",
    "df.columns"
   ]
  },
  {
   "cell_type": "code",
   "execution_count": null,
   "metadata": {},
   "outputs": [],
   "source": [
    "df.head()"
   ]
  },
  {
   "cell_type": "code",
   "execution_count": null,
   "metadata": {},
   "outputs": [],
   "source": [
    "df.shape"
   ]
  },
  {
   "cell_type": "code",
   "execution_count": null,
   "metadata": {},
   "outputs": [],
   "source": [
    "df.iloc[0]"
   ]
  },
  {
   "cell_type": "markdown",
   "metadata": {},
   "source": [
    "## 将处理好的数据集导出为csv文件"
   ]
  },
  {
   "cell_type": "code",
   "execution_count": null,
   "metadata": {},
   "outputs": [],
   "source": [
    "df.to_csv(\"./data/process_heart.csv\", index=False)"
   ]
  }
 ],
 "metadata": {
  "kernelspec": {
   "display_name": "Python 3",
   "language": "python",
   "name": "python3"
  },
  "language_info": {
   "codemirror_mode": {
    "name": "ipython",
    "version": 3
   },
   "file_extension": ".py",
   "mimetype": "text/x-python",
   "name": "python",
   "nbconvert_exporter": "python",
   "pygments_lexer": "ipython3",
   "version": "3.7.3"
  }
 },
 "nbformat": 4,
 "nbformat_minor": 4
}
