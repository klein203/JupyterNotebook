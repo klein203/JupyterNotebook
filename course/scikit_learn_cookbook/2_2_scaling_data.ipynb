{
 "cells": [
  {
   "cell_type": "markdown",
   "metadata": {},
   "source": [
    "# key words\n",
    "- preprocessing: scale, StandardScaler, MinMaxScaler, fit, transform, fit_transform"
   ]
  },
  {
   "cell_type": "code",
   "execution_count": 1,
   "metadata": {},
   "outputs": [
    {
     "name": "stdout",
     "output_type": "stream",
     "text": [
      "X[:, :3] before scaling...\n",
      "mean [ 3.61352356 11.36363636 11.13677866]\n",
      "std [ 8.59304135 23.29939569  6.85357058]\n",
      "X[:, :3] after scaling...\n",
      "mean [-8.78743718e-17 -6.34319123e-16 -2.68291099e-15]\n",
      "std [1. 1. 1.]\n",
      "X[:, 2] before scaling...\n",
      "X[:, 2] after scaling...\n",
      "[-8.78743718e-17 -6.34319123e-16 -2.68291099e-15] [1. 1. 1.]\n",
      "[0. 0. 0.] [1. 1. 1.]\n"
     ]
    },
    {
     "data": {
      "image/png": "[encoded data removed]",
      "text/plain": [
       "<Figure size 864x432 with 2 Axes>"
      ]
     },
     "metadata": {
      "needs_background": "light"
     },
     "output_type": "display_data"
    }
   ],
   "source": [
    "import numpy as np\n",
    "import pandas as pd\n",
    "import matplotlib.pyplot as plt\n",
    "%matplotlib inline\n",
    "\n",
    "from sklearn import datasets\n",
    "from sklearn import preprocessing\n",
    "\n",
    "boston = datasets.load_boston()\n",
    "\n",
    "# (506, 13), (506,)\n",
    "X, y = boston.data, boston.target\n",
    "\n",
    "mean = X[:, :3].mean(axis=0)\n",
    "std = X[:, :3].std(axis=0)\n",
    "print(\"X[:, :3] before scaling...\")\n",
    "print(\"mean %s\" % mean)\n",
    "print(\"std %s\" % std)\n",
    "\n",
    "# scale to N(0.0, 1.0)\n",
    "X_scale = preprocessing.scale(X[:, :3])\n",
    "scale_mean = X_scale.mean(axis=0)\n",
    "scale_std = X_scale.std(axis=0)\n",
    "print(\"X[:, :3] after scaling...\")\n",
    "print(\"mean %s\" % scale_mean)\n",
    "print(\"std %s\" % scale_std)\n",
    "\n",
    "# plot hist\n",
    "plt.figure(figsize=(6 * 2, 6))\n",
    "\n",
    "print(\"X[:, 2] before scaling...\")\n",
    "plt.subplot(1, 2, 1)\n",
    "plt.hist(X[:, 2], bins=50)\n",
    "\n",
    "print(\"X[:, 2] after scaling...\")\n",
    "plt.subplot(1, 2, 2)\n",
    "plt.hist(X_scale[:, 2], bins=50)\n",
    "\n",
    "# scalar\n",
    "standard_scaler = preprocessing.StandardScaler()\n",
    "s_s = standard_scaler.fit_transform(X[:, :3])\n",
    "print(s_s.mean(axis=0), s_s.std(axis=0))\n",
    "\n",
    "minmax_scaler = preprocessing.MinMaxScaler()\n",
    "minmax_scaler.fit(X[:, :3])\n",
    "mm_s = minmax_scaler.transform(X[:, :3])\n",
    "print(mm_s.min(axis=0), mm_s.max(axis=0))"
   ]
  }
 ],
 "metadata": {
  "kernelspec": {
   "display_name": "Python 3",
   "language": "python",
   "name": "python3"
  },
  "language_info": {
   "codemirror_mode": {
    "name": "ipython",
    "version": 3
   },
   "file_extension": ".py",
   "mimetype": "text/x-python",
   "name": "python",
   "nbconvert_exporter": "python",
   "pygments_lexer": "ipython3",
   "version": "3.7.3"
  }
 },
 "nbformat": 4,
 "nbformat_minor": 4
}
