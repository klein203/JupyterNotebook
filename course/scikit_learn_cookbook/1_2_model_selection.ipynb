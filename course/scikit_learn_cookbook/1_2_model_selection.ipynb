{
 "cells": [
  {
   "cell_type": "markdown",
   "metadata": {},
   "source": [
    "# key words\n",
    "- classifier: KNN\n",
    "- model selection: cross_val_score, sorted"
   ]
  },
  {
   "cell_type": "code",
   "execution_count": 1,
   "metadata": {},
   "outputs": [
    {
     "name": "stdout",
     "output_type": "stream",
     "text": [
      "[(3, '0.8259', '0.0748'), (4, '0.8196', '0.0419'), (2, '0.7835', '0.0735')]\n"
     ]
    }
   ],
   "source": [
    "from sklearn.datasets import load_iris\n",
    "from sklearn.model_selection import train_test_split, cross_val_score\n",
    "\n",
    "from sklearn.neighbors import KNeighborsClassifier\n",
    "\n",
    "iris = load_iris()\n",
    "\n",
    "X = iris.data[:, :2]\n",
    "y = iris.target\n",
    "X_train, X_test, y_train, y_test = train_test_split(X, y, test_size=0.25, random_state=7)\n",
    "\n",
    "all_scores = []\n",
    "for n in range(2, 5):\n",
    "    clf = KNeighborsClassifier(n_neighbors=n)\n",
    "    clf.fit(X_train, y_train)\n",
    "    scores = cross_val_score(clf, X_train, y_train, cv=10)\n",
    "    all_scores.append((n, \"%.4f\" % scores.mean(), \"%.4f\" % scores.std()))\n",
    "\n",
    "all_scores = sorted(all_scores, key=lambda x:x[1], reverse=True)\n",
    "print(all_scores)"
   ]
  }
 ],
 "metadata": {
  "kernelspec": {
   "display_name": "Python 3",
   "language": "python",
   "name": "python3"
  },
  "language_info": {
   "codemirror_mode": {
    "name": "ipython",
    "version": 3
   },
   "file_extension": ".py",
   "mimetype": "text/x-python",
   "name": "python",
   "nbconvert_exporter": "python",
   "pygments_lexer": "ipython3",
   "version": "3.7.3"
  }
 },
 "nbformat": 4,
 "nbformat_minor": 4
}
