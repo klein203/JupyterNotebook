{
 "cells": [
  {
   "cell_type": "markdown",
   "metadata": {},
   "source": [
    "# key words\n",
    "- regressor: Lars, LarsCV"
   ]
  },
  {
   "cell_type": "code",
   "execution_count": 1,
   "metadata": {},
   "outputs": [
    {
     "name": "stdout",
     "output_type": "stream",
     "text": [
      "X.shape (200, 500)\n",
      "lars, masked X.shape (200, 10)\n",
      "lars_cv, masked X.shape (200, 27)\n",
      "lars_12 MSE = 11.17404127790056\n",
      "lars_500 MSE = 8.960445815169377e+28\n"
     ]
    }
   ],
   "source": [
    "import numpy as np\n",
    "import matplotlib.pyplot as plt\n",
    "%matplotlib inline\n",
    "\n",
    "from sklearn import datasets\n",
    "\n",
    "from sklearn.linear_model import Lars, LarsCV\n",
    "\n",
    "# sparse matrix: n_feature=500\n",
    "X_reg, y_reg = datasets.make_regression(n_samples=200, n_features=500, n_informative=10, noise=2)\n",
    "print(\"X.shape\", X_reg.shape)\n",
    "\n",
    "lars = Lars(n_nonzero_coefs=10)\n",
    "lars.fit(X_reg, y_reg)\n",
    "mask = (lars.coef_ != 0)\n",
    "print(\"lars, masked X.shape\", X_reg[:, mask].shape)\n",
    "\n",
    "lars_cv = LarsCV(cv=4, max_iter=80)\n",
    "lars_cv.fit(X_reg, y_reg)\n",
    "mask_cv = (lars_cv.coef_ != 0)\n",
    "print(\"lars_cv, masked X.shape\", X_reg[:, mask_cv].shape)\n",
    "\n",
    "train_n = 100\n",
    "lars_12 = Lars(n_nonzero_coefs=12)\n",
    "lars_12.fit(X_reg[:train_n], y_reg[:train_n])\n",
    "\n",
    "lars_500 = Lars() # it's 500 by default\n",
    "lars_500.fit(X_reg[:train_n], y_reg[:train_n])\n",
    "\n",
    "print(\"lars_12 MSE =\", np.mean(np.power(y_reg[train_n:] - lars_12.predict(X_reg[train_n:]), 2)))\n",
    "print(\"lars_500 MSE =\", np.mean(np.power(y_reg[train_n:] - lars_500.predict(X_reg[train_n:]), 2)))"
   ]
  }
 ],
 "metadata": {
  "kernelspec": {
   "display_name": "Python 3",
   "language": "python",
   "name": "python3"
  },
  "language_info": {
   "codemirror_mode": {
    "name": "ipython",
    "version": 3
   },
   "file_extension": ".py",
   "mimetype": "text/x-python",
   "name": "python",
   "nbconvert_exporter": "python",
   "pygments_lexer": "ipython3",
   "version": "3.7.3"
  }
 },
 "nbformat": 4,
 "nbformat_minor": 4
}
