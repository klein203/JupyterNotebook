{
 "cells": [
  {
   "cell_type": "markdown",
   "metadata": {},
   "source": [
    "# key words\n",
    "- classifier: SVC\n",
    "- regressor: logistic regression\n",
    "- model selection: train_test_split, cross_val_score\n",
    "- metrics: accuracy_score"
   ]
  },
  {
   "cell_type": "code",
   "execution_count": 1,
   "metadata": {},
   "outputs": [
    {
     "name": "stdout",
     "output_type": "stream",
     "text": [
      "SVC mean = 0.8478, std = 0.0546\n",
      "LR mean = 0.8388, std = 0.0552\n",
      "Accuracy of SVC on original Test Set: 0.6842\n",
      "Accuracy of LR on original Test Set: 0.6842\n"
     ]
    }
   ],
   "source": [
    "from sklearn.datasets import load_iris\n",
    "from sklearn.model_selection import train_test_split, cross_val_score\n",
    "\n",
    "from sklearn.svm import SVC\n",
    "from sklearn.linear_model import LogisticRegression\n",
    "\n",
    "from sklearn.metrics import accuracy_score\n",
    "\n",
    "iris = load_iris()\n",
    "\n",
    "X = iris.data[:, :2]\n",
    "y = iris.target\n",
    "X_train, X_test, y_train, y_test = train_test_split(X, y, test_size=0.25, random_state=7)\n",
    "\n",
    "X_train2, X_test2, y_train2, y_test2 = train_test_split(X_train, y_train, test_size=0.25, random_state=7)\n",
    "\n",
    "svc_clf = SVC(kernel='linear', random_state=7)\n",
    "svc_clf.fit(X_train2, y_train2)\n",
    "svc_scores = cross_val_score(svc_clf, X_train, y_train, cv=4)\n",
    "print(\"SVC mean = %.4f, std = %.4f\" % (svc_scores.mean(), svc_scores.std()))\n",
    "\n",
    "lr_clf = LogisticRegression(solver='lbfgs', multi_class='auto', random_state=7)\n",
    "lr_clf.fit(X_train2, y_train2)\n",
    "lr_scores = cross_val_score(lr_clf, X_train, y_train, cv=4)\n",
    "print(\"LR mean = %.4f, std = %.4f\" % (lr_scores.mean(), lr_scores.std()))\n",
    "\n",
    "print(\"Accuracy of SVC on original Test Set: %.4f\" % accuracy_score(y_test, svc_clf.predict(X_test)))\n",
    "print(\"Accuracy of LR on original Test Set: %.4f\" % accuracy_score(y_test, lr_clf.predict(X_test)))"
   ]
  }
 ],
 "metadata": {
  "kernelspec": {
   "display_name": "Python 3",
   "language": "python",
   "name": "python3"
  },
  "language_info": {
   "codemirror_mode": {
    "name": "ipython",
    "version": 3
   },
   "file_extension": ".py",
   "mimetype": "text/x-python",
   "name": "python",
   "nbconvert_exporter": "python",
   "pygments_lexer": "ipython3",
   "version": "3.7.3"
  }
 },
 "nbformat": 4,
 "nbformat_minor": 4
}
