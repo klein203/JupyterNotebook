{
 "cells": [
  {
   "cell_type": "markdown",
   "metadata": {},
   "source": [
    "# key words\n",
    "- classifier: SVC, KNN\n",
    "- regressor: SVR\n",
    "- metrics: make_scorer"
   ]
  },
  {
   "cell_type": "code",
   "execution_count": 1,
   "metadata": {},
   "outputs": [
    {
     "name": "stdout",
     "output_type": "stream",
     "text": [
      "svc 0.9735, 0.0154\n",
      "svc_poly 0.9642, 0.0262\n",
      "svr 0.9643, 0.0253\n",
      "svr predict: [2.13728021] [2]\n"
     ]
    }
   ],
   "source": [
    "import numpy as np\n",
    "\n",
    "from sklearn.datasets import load_iris\n",
    "from sklearn.model_selection import train_test_split, cross_val_score\n",
    "\n",
    "from sklearn.svm import SVC, SVR\n",
    "from sklearn.neighbors import KNeighborsClassifier\n",
    "\n",
    "from sklearn.metrics import accuracy_score, make_scorer\n",
    "\n",
    "iris = load_iris()\n",
    "\n",
    "X = iris.data\n",
    "y = iris.target\n",
    "X_train, X_test, y_train, y_test = train_test_split(X, y, stratify=y, random_state=7)\n",
    "\n",
    "svc_clf = SVC(kernel='linear').fit(X_train, y_train)\n",
    "svc_scores = cross_val_score(svc_clf, X_train, y_train, cv=4)\n",
    "print('svc %.4f, %.4f' % (svc_scores.mean(), svc_scores.std()))\n",
    "\n",
    "svc_poly_clf = SVC(kernel='poly', gamma='scale', degree=3).fit(X_train, y_train)\n",
    "svc_poly_scores = cross_val_score(svc_poly_clf, X_train, y_train, cv=4)\n",
    "print('svc_poly %.4f, %.4f' % (svc_poly_scores.mean(), svc_poly_scores.std()))\n",
    "\n",
    "svr_clf = SVR(kernel = 'linear').fit(X_train, y_train)\n",
    "svr_to_class_scorer = make_scorer(lambda y_test, orig_y_pred: accuracy_score(y_test, np.rint(orig_y_pred).astype(np.int)), greater_is_better=True)\n",
    "svr_scores = cross_val_score(svr_clf, X_train, y_train, cv=4, scoring=svr_to_class_scorer)\n",
    "print('svr %.4f, %.4f' % (svr_scores.mean(), svr_scores.std()))\n",
    "\n",
    "# example\n",
    "orig_y_pred = svr_clf.predict([X_train[0, :]])\n",
    "y_pred = np.rint(orig_y_pred).astype(np.int)\n",
    "print('svr predict:', orig_y_pred, y_pred)"
   ]
  }
 ],
 "metadata": {
  "kernelspec": {
   "display_name": "Python 3",
   "language": "python",
   "name": "python3"
  },
  "language_info": {
   "codemirror_mode": {
    "name": "ipython",
    "version": 3
   },
   "file_extension": ".py",
   "mimetype": "text/x-python",
   "name": "python",
   "nbconvert_exporter": "python",
   "pygments_lexer": "ipython3",
   "version": "3.7.3"
  }
 },
 "nbformat": 4,
 "nbformat_minor": 4
}
