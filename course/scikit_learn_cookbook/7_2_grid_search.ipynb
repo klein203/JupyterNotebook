{
 "cells": [
  {
   "cell_type": "markdown",
   "metadata": {},
   "source": [
    "# key words\n",
    "- model selection: train_test_split, cross_val_score, GridSearchCV, RandomizedSearchCV\n",
    "- regressor: KNeighborsRegressor"
   ]
  },
  {
   "cell_type": "code",
   "execution_count": 1,
   "metadata": {},
   "outputs": [
    {
     "name": "stdout",
     "output_type": "stream",
     "text": [
      "119 ms ± 3.1 ms per loop (mean ± std. dev. of 7 runs, 10 loops each)\n",
      "GridSearchCV best_params {'n_neighbors': 3}\n",
      "[({'n_neighbors': 3}, 0.9566666666666667), ({'n_neighbors': 4}, 0.9400000000000001), ({'n_neighbors': 5}, 0.9566666666666667), ({'n_neighbors': 6}, 0.9483333333333333), ({'n_neighbors': 7}, 0.9566666666666667), ({'n_neighbors': 8}, 0.9566666666666667)]\n",
      "298 ms ± 8.36 ms per loop (mean ± std. dev. of 7 runs, 1 loop each)\n",
      "RandomizedSearchCV best_params {'n_neighbors': 12}\n",
      "[({'n_neighbors': 45}, 0.95), ({'n_neighbors': 12}, 0.9566666666666667), ({'n_neighbors': 11}, 0.9566666666666667), ({'n_neighbors': 19}, 0.9416666666666667), ({'n_neighbors': 27}, 0.9566666666666667), ({'n_neighbors': 33}, 0.9400000000000001), ({'n_neighbors': 41}, 0.9400000000000001), ({'n_neighbors': 14}, 0.9566666666666667), ({'n_neighbors': 46}, 0.9400000000000001), ({'n_neighbors': 49}, 0.95), ({'n_neighbors': 9}, 0.9566666666666667), ({'n_neighbors': 25}, 0.9483333333333333), ({'n_neighbors': 18}, 0.95), ({'n_neighbors': 30}, 0.9483333333333335), ({'n_neighbors': 24}, 0.9483333333333335)]\n"
     ]
    }
   ],
   "source": [
    "import numpy as np\n",
    "import matplotlib.pyplot as plt\n",
    "%matplotlib inline\n",
    "\n",
    "from sklearn import datasets\n",
    "from sklearn.model_selection import train_test_split, cross_val_score, GridSearchCV, RandomizedSearchCV\n",
    "from sklearn.neighbors import KNeighborsClassifier\n",
    "\n",
    "iris = datasets.load_iris()\n",
    "X = iris.data[:, 2:]\n",
    "y = iris.target\n",
    "\n",
    "X_train, X_test, y_train, y_test = train_test_split(X, y, stratify=y, random_state=7)\n",
    "\n",
    "knn_clf = KNeighborsClassifier()\n",
    "param_grid = {'n_neighbors': list(range(3, 9, 1))}\n",
    "\n",
    "# GridSearchCV\n",
    "gs = GridSearchCV(knn_clf, param_grid, cv=10, iid=False)\n",
    "%timeit gs.fit(X_train, y_train)\n",
    "print(\"GridSearchCV best_params\", gs.best_params_)\n",
    "print([pair for pair in zip(gs.cv_results_['params'], gs.cv_results_['mean_test_score'])])\n",
    "\n",
    "# RandomizedSearchCV\n",
    "param_dist = {'n_neighbors': list(range(3, 50, 1))}\n",
    "rs = RandomizedSearchCV(knn_clf, param_dist, cv=10, n_iter=15, iid=False)\n",
    "%timeit rs.fit(X_train, y_train)\n",
    "print(\"RandomizedSearchCV best_params\", rs.best_params_)\n",
    "print([pair for pair in zip(rs.cv_results_['params'], rs.cv_results_['mean_test_score'])])"
   ]
  }
 ],
 "metadata": {
  "kernelspec": {
   "display_name": "Python 3",
   "language": "python",
   "name": "python3"
  },
  "language_info": {
   "codemirror_mode": {
    "name": "ipython",
    "version": 3
   },
   "file_extension": ".py",
   "mimetype": "text/x-python",
   "name": "python",
   "nbconvert_exporter": "python",
   "pygments_lexer": "ipython3",
   "version": "3.7.3"
  }
 },
 "nbformat": 4,
 "nbformat_minor": 4
}
