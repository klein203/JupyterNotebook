{
 "cells": [
  {
   "cell_type": "markdown",
   "metadata": {},
   "source": [
    "# key words\n",
    "- imputer: SimpleImputer\n",
    "- decomposition: PCA\n",
    "- pipeline: Pipeline"
   ]
  },
  {
   "cell_type": "code",
   "execution_count": 1,
   "metadata": {},
   "outputs": [
    {
     "name": "stdout",
     "output_type": "stream",
     "text": [
      "X mean, std\n",
      "[5.84333333 3.05733333 3.758      1.19933333]\n",
      "[0.82530129 0.43441097 1.75940407 0.75969263]\n",
      "\n",
      "masked X[:5]\n",
      "[[nan 3.5 1.4 nan]\n",
      " [nan nan 1.4 0.2]\n",
      " [nan nan 1.3 0.2]\n",
      " [4.6 3.1 1.5 nan]\n",
      " [5.  nan 1.4 nan]]\n",
      "\n",
      "transformed X[:5] (imputer->pca)\n",
      "[[-2.12414941  0.59470941  0.75889869 -0.08961   ]\n",
      " [-2.39305284  0.67802664 -0.31765177 -0.15059087]\n",
      " [-2.48472376  0.70011121 -0.29185242 -0.17164098]\n",
      " [-2.37146519 -0.72648886  0.56050194 -0.16680433]\n",
      " [-2.35054401 -0.33609653  0.57820286 -0.30169872]]\n",
      "\n",
      "recovered X mean, std\n",
      "[5.89693878 3.06320755 3.69322034 1.22525253]\n",
      "[0.6918048  0.36080012 1.62142854 0.62910979]\n"
     ]
    }
   ],
   "source": [
    "import numpy as np\n",
    "\n",
    "from sklearn import datasets\n",
    "from sklearn import impute, pipeline, decomposition\n",
    "\n",
    "iris = datasets.load_iris()\n",
    "X = iris.data\n",
    "print(\"X mean, std\")\n",
    "print(X.mean(axis=0))\n",
    "print(X.std(axis=0))\n",
    "print()\n",
    "\n",
    "# init mask array randomly\n",
    "masking_array = np.random.binomial(1, .25, X.shape).astype(bool)\n",
    "\n",
    "X[masking_array] = np.nan\n",
    "print(\"masked X[:5]\")\n",
    "print(X[:5])\n",
    "print()\n",
    "\n",
    "pca = decomposition.PCA(copy=True, iterated_power='auto', n_components=None, random_state=None, svd_solver='auto', tol=0.0, whiten=False)\n",
    "imputer = impute.SimpleImputer(copy=True, missing_values=np.nan, strategy='mean', verbose=0)\n",
    "\n",
    "pipe = pipeline.Pipeline([('imputer', imputer), ('pca', pca)])\n",
    "X_transformed = pipe.fit_transform(X)\n",
    "print(\"transformed X[:5] (imputer->pca)\")\n",
    "print(X_transformed[:5])\n",
    "print()\n",
    "\n",
    "recovered_X = pca.inverse_transform(X_transformed)\n",
    "print(\"recovered X mean, std\")\n",
    "print(recovered_X.mean(axis=0))\n",
    "print(recovered_X.std(axis=0))"
   ]
  }
 ],
 "metadata": {
  "kernelspec": {
   "display_name": "Python 3",
   "language": "python",
   "name": "python3"
  },
  "language_info": {
   "codemirror_mode": {
    "name": "ipython",
    "version": 3
   },
   "file_extension": ".py",
   "mimetype": "text/x-python",
   "name": "python",
   "nbconvert_exporter": "python",
   "pygments_lexer": "ipython3",
   "version": "3.7.3"
  }
 },
 "nbformat": 4,
 "nbformat_minor": 4
}
