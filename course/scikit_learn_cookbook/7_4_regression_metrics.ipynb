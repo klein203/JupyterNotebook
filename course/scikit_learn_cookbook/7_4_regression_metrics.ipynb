{
 "cells": [
  {
   "cell_type": "markdown",
   "metadata": {},
   "source": [
    "# key words\n",
    "- model selection: train_test_split, cross_val_score, GridSearchCV, RandomizedSearchCV\n",
    "- regressor: KNeighborsRegressor, Ridge\n",
    "- ensemble: GradientBoostingRegressor, RandomForestRegressor"
   ]
  },
  {
   "cell_type": "code",
   "execution_count": 1,
   "metadata": {},
   "outputs": [
    {
     "name": "stdout",
     "output_type": "stream",
     "text": [
      "RandomizedSearchCV best_params: {'n_neighbors': 4}, best_score: 0.4646\n"
     ]
    }
   ],
   "source": [
    "import numpy as np\n",
    "%matplotlib inline\n",
    "\n",
    "from sklearn import datasets\n",
    "from sklearn.model_selection import train_test_split, cross_val_score, GridSearchCV, RandomizedSearchCV\n",
    "from sklearn.neighbors import KNeighborsRegressor\n",
    "from sklearn.linear_model import Ridge\n",
    "from sklearn.ensemble import GradientBoostingRegressor, RandomForestRegressor\n",
    "\n",
    "\n",
    "boston = datasets.load_boston()\n",
    "X, y = boston.data, boston.target\n",
    "\n",
    "X_train, X_test, y_train, y_test = train_test_split(X, y, test_size=0.2, random_state=7)\n",
    "\n",
    "param_dist = {'n_neighbors': list(range(3, 20, 1))}\n",
    "rs = RandomizedSearchCV(KNeighborsRegressor(), param_dist, cv=10, n_iter=17, iid=False)\n",
    "rs.fit(X_train, y_train)\n",
    "print(\"RandomizedSearchCV best_params: %s, best_score: %.4f\" % (rs.best_params_, rs.best_score_))"
   ]
  },
  {
   "cell_type": "code",
   "execution_count": 2,
   "metadata": {},
   "outputs": [
    {
     "data": {
      "text/plain": [
       "0.7443218509488488"
      ]
     },
     "execution_count": 2,
     "metadata": {},
     "output_type": "execute_result"
    }
   ],
   "source": [
    "# ridge\n",
    "cross_val_score(Ridge(), X_train, y_train, cv=10).mean()"
   ]
  },
  {
   "cell_type": "code",
   "execution_count": 3,
   "metadata": {},
   "outputs": [
    {
     "data": {
      "text/plain": [
       "0.8297748978795465"
      ]
     },
     "execution_count": 3,
     "metadata": {},
     "output_type": "execute_result"
    }
   ],
   "source": [
    "# gradient boosting regressor\n",
    "cross_val_score(GradientBoostingRegressor(max_depth=7), X_train, y_train, cv=10).mean()"
   ]
  },
  {
   "cell_type": "code",
   "execution_count": 4,
   "metadata": {},
   "outputs": [
    {
     "name": "stdout",
     "output_type": "stream",
     "text": [
      "RandomizedSearchCV best_params: {'n_estimators': 4000, 'max_depth': 3, 'learning_rate': 0.01}, best_score: 0.8884\n"
     ]
    }
   ],
   "source": [
    "# random forest regressor\n",
    "param_dist = {'n_estimators': [4000], 'learning_rate': [0.01], 'max_depth': [1, 2, 3, 5, 7]}\n",
    "rs = RandomizedSearchCV(GradientBoostingRegressor(), param_dist, cv=5, n_iter=5, n_jobs=-1, iid=False)\n",
    "rs.fit(X_train, y_train)\n",
    "print(\"RandomizedSearchCV best_params: %s, best_score: %.4f\" % (rs.best_params_, rs.best_score_))"
   ]
  }
 ],
 "metadata": {
  "kernelspec": {
   "display_name": "Python 3",
   "language": "python",
   "name": "python3"
  },
  "language_info": {
   "codemirror_mode": {
    "name": "ipython",
    "version": 3
   },
   "file_extension": ".py",
   "mimetype": "text/x-python",
   "name": "python",
   "nbconvert_exporter": "python",
   "pygments_lexer": "ipython3",
   "version": "3.7.3"
  }
 },
 "nbformat": 4,
 "nbformat_minor": 4
}
