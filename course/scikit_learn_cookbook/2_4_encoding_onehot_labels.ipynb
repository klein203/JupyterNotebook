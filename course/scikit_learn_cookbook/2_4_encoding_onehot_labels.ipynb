{
 "cells": [
  {
   "cell_type": "markdown",
   "metadata": {},
   "source": [
    "# key words\n",
    "- preprocessing: OneHotEncoder\n",
    "- feature extraction: DictVectorizer\n",
    "- regressor: MultiOutputRegressor\n",
    "- metrics: roc_auc_score"
   ]
  },
  {
   "cell_type": "code",
   "execution_count": 1,
   "metadata": {},
   "outputs": [
    {
     "name": "stdout",
     "output_type": "stream",
     "text": [
      "label example:\n",
      "[[1. 0. 0.]\n",
      " [0. 1. 0.]\n",
      " [0. 0. 1.]]\n",
      "y_multi_pred_ori:\n",
      "[[ 0.81327059  0.37348962 -0.1867602 ]\n",
      " [ 0.9524035   0.17877376 -0.13117727]\n",
      " [-0.01657826  0.36538441  0.65119386]\n",
      " [ 0.1772412   0.47768186  0.34507695]\n",
      " [ 0.87693053  0.14905609 -0.02598662]]\n",
      "y_multi_pred:\n",
      "[[1. 0. 0.]\n",
      " [1. 0. 0.]\n",
      " [0. 0. 1.]\n",
      " [0. 0. 0.]\n",
      " [1. 0. 0.]]\n",
      "roc_auc_score: 0.9198717948717948\n",
      "\n",
      "Multi-Output Scores for the Iris Flowers: \n",
      "Accuracy score of flower - Col 0: 1.0000\n",
      "AUC score of flower - Col 0: 1.0000\n",
      "\n",
      "Accuracy score of flower - Col 1: 0.7368\n",
      "AUC score of flower - Col 1: 0.7692\n",
      "\n",
      "Accuracy score of flower - Col 2: 0.9737\n",
      "AUC score of flower - Col 2: 0.9904\n",
      "\n",
      "[[1. 0. 0.]\n",
      " [1. 0. 0.]\n",
      " [1. 0. 0.]\n",
      " [1. 0. 0.]\n",
      " [1. 0. 0.]]\n"
     ]
    }
   ],
   "source": [
    "import numpy as np\n",
    "\n",
    "from sklearn import datasets\n",
    "from sklearn import preprocessing\n",
    "\n",
    "from sklearn.model_selection import train_test_split\n",
    "\n",
    "from sklearn.feature_extraction import DictVectorizer\n",
    "\n",
    "from sklearn.linear_model import Ridge\n",
    "from sklearn.multioutput import MultiOutputRegressor\n",
    "\n",
    "from sklearn.metrics import roc_auc_score\n",
    "from sklearn.metrics import accuracy_score\n",
    "\n",
    "iris = datasets.load_iris()\n",
    "X, y = iris.data, iris.target\n",
    "\n",
    "one_hot_encoder = preprocessing.OneHotEncoder(categories='auto')\n",
    "one_hot_encoder.fit(y.reshape(-1, 1))\n",
    "label_example = one_hot_encoder.transform(np.arange(0, 3).reshape(-1, 1)).toarray()\n",
    "print(\"label example:\\n%s\" % label_example)\n",
    "\n",
    "ridge_estimator = Ridge(alpha=1.0, copy_X=True, fit_intercept=True, max_iter=None, normalize=False, random_state=None, solver='auto', tol=0.001)\n",
    "multi_ridge = MultiOutputRegressor(ridge_estimator, n_jobs=-1)\n",
    "y_multi = one_hot_encoder.transform(y.reshape(-1, 1)).toarray()\n",
    "X_train, X_test, y_train, y_test = train_test_split(X, y_multi, stratify=y, random_state=7)\n",
    "\n",
    "multi_ridge.fit(X_train, y_train)\n",
    "y_multi_pred_ori = multi_ridge.predict(X_test)\n",
    "print(\"y_multi_pred_ori:\\n%s\" % y_multi_pred_ori[:5])\n",
    "\n",
    "y_multi_pred = preprocessing.binarize(y_multi_pred_ori, threshold=0.5)\n",
    "print(\"y_multi_pred:\\n%s\" % y_multi_pred[:5])\n",
    "\n",
    "score = roc_auc_score(y_test, y_multi_pred_ori)\n",
    "print(\"roc_auc_score:\", score)\n",
    "\n",
    "print()\n",
    "\n",
    "print (\"Multi-Output Scores for the Iris Flowers: \")\n",
    "for column_number in range(0, 3):\n",
    "    print(\"Accuracy score of flower - Col %d: %.4f\" % (column_number, accuracy_score(y_test[:, column_number], y_multi_pred[:, column_number])))\n",
    "    print(\"AUC score of flower - Col %d: %.4f\" % (column_number, roc_auc_score(y_test[:, column_number], y_multi_pred_ori[:, column_number])))\n",
    "    print()\n",
    "\n",
    "dv = DictVectorizer()\n",
    "species_dict = [{'species': iris.target_names[i]} for i in y]\n",
    "label_example_2 = dv.fit_transform(species_dict).toarray()\n",
    "print(label_example_2[:5])"
   ]
  }
 ],
 "metadata": {
  "kernelspec": {
   "display_name": "Python 3",
   "language": "python",
   "name": "python3"
  },
  "language_info": {
   "codemirror_mode": {
    "name": "ipython",
    "version": 3
   },
   "file_extension": ".py",
   "mimetype": "text/x-python",
   "name": "python",
   "nbconvert_exporter": "python",
   "pygments_lexer": "ipython3",
   "version": "3.7.3"
  }
 },
 "nbformat": 4,
 "nbformat_minor": 4
}
