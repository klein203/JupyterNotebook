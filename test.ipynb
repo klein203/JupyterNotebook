{
 "cells": [
  {
   "cell_type": "code",
   "execution_count": 6,
   "metadata": {},
   "outputs": [
    {
     "name": "stdout",
     "output_type": "stream",
     "text": [
      "[1.5]\n"
     ]
    }
   ],
   "source": [
    "a = [1, 2]\n",
    "print([(a[0] + a[1])/2])"
   ]
  },
  {
   "cell_type": "code",
   "execution_count": 14,
   "metadata": {},
   "outputs": [
    {
     "name": "stdout",
     "output_type": "stream",
     "text": [
      "   a  b\n",
      "0  1  2\n",
      "1  2  3\n",
      "2  3  4\n",
      "----------------\n",
      "0    1\n",
      "1    2\n",
      "2    3\n",
      "Name: a, dtype: int64\n",
      "----------------\n",
      "2\n",
      "----------------\n",
      "0\n",
      "a    1\n",
      "b    2\n",
      "Name: 0, dtype: int64\n",
      "1\n",
      "a    2\n",
      "b    3\n",
      "Name: 1, dtype: int64\n",
      "2\n",
      "a    3\n",
      "b    4\n",
      "Name: 2, dtype: int64\n"
     ]
    }
   ],
   "source": [
    "import pandas as pd\n",
    "data = pd.DataFrame({'a':[1,2,3],\n",
    "                   'b':[2,3,4]})\n",
    "print(data)\n",
    "print('----------------')\n",
    "print(data['a'])\n",
    "print('----------------')\n",
    "print(data['a'][1])\n",
    "print('----------------')\n",
    "for i, row in data.iterrows():\n",
    "    print(i)\n",
    "    print(row)\n"
   ]
  },
  {
   "cell_type": "code",
   "execution_count": 1,
   "metadata": {},
   "outputs": [
    {
     "name": "stdout",
     "output_type": "stream",
     "text": [
      "a 1\n",
      "b 2\n",
      "c 3\n"
     ]
    }
   ],
   "source": [
    "t = {'a':1, 'b':2, 'c':3}\n",
    "for i in t.items():\n",
    "    print(i[0], i[1])"
   ]
  },
  {
   "cell_type": "code",
   "execution_count": 6,
   "metadata": {},
   "outputs": [
    {
     "name": "stdout",
     "output_type": "stream",
     "text": [
      "__repr__\n",
      "__repr__\n"
     ]
    }
   ],
   "source": [
    "class A(object):\n",
    "    pass\n",
    "\n",
    "    def __str__(self):\n",
    "        return \"__str__\"\n",
    "\n",
    "    def __repr__(self):\n",
    "        return \"__repr__\"\n",
    "\n",
    "a = A()\n",
    "print(a)\n",
    "print(str(a))"
   ]
  }
 ],
 "metadata": {
  "kernelspec": {
   "display_name": "Python 3",
   "language": "python",
   "name": "python3"
  },
  "language_info": {
   "codemirror_mode": {
    "name": "ipython",
    "version": 3
   },
   "file_extension": ".py",
   "mimetype": "text/x-python",
   "name": "python",
   "nbconvert_exporter": "python",
   "pygments_lexer": "ipython3",
   "version": "3.7.3"
  }
 },
 "nbformat": 4,
 "nbformat_minor": 4
}
