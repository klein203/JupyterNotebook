{
 "cells": [
  {
   "cell_type": "code",
   "execution_count": 66,
   "metadata": {},
   "outputs": [],
   "source": [
    "import pandas as pd\n",
    "import math\n",
    "import os"
   ]
  },
  {
   "cell_type": "code",
   "execution_count": 69,
   "metadata": {},
   "outputs": [
    {
     "name": "stdout",
     "output_type": "stream",
     "text": [
      "D:\\JupyterNotebook\n",
      "   年龄 有房子 有工作 分类类别\n",
      "0  25   是   是   通过\n",
      "1  26   否   是   通过\n",
      "2  28   是   是   通过\n",
      "3  30   是   否   通过\n",
      "4  35   否   是   通过\n",
      "5  60   否   否  不通过\n"
     ]
    }
   ],
   "source": [
    "data = pd.read_excel('d:\\JupyterNotebook\\DecisionTree\\data.xlsx')\n",
    "print(os.getcwd())\n",
    "print(data)"
   ]
  }
 ],
 "metadata": {
  "kernelspec": {
   "display_name": "Python 3",
   "language": "python",
   "name": "python3"
  },
  "language_info": {
   "codemirror_mode": {
    "name": "ipython",
    "version": 3
   },
   "file_extension": ".py",
   "mimetype": "text/x-python",
   "name": "python",
   "nbconvert_exporter": "python",
   "pygments_lexer": "ipython3",
   "version": "3.7.3"
  }
 },
 "nbformat": 4,
 "nbformat_minor": 4
}
