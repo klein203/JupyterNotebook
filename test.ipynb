{
 "cells": [
  {
   "cell_type": "code",
   "execution_count": 27,
   "metadata": {},
   "outputs": [],
   "source": [
    "import pandas as pd\n",
    "import math"
   ]
  },
  {
   "cell_type": "code",
   "execution_count": 3,
   "metadata": {},
   "outputs": [
    {
     "name": "stdout",
     "output_type": "stream",
     "text": [
      "[1.5]\n"
     ]
    }
   ],
   "source": [
    "a = [1, 2]\n",
    "print([(a[0] + a[1])/2])"
   ]
  },
  {
   "cell_type": "code",
   "execution_count": 54,
   "metadata": {},
   "outputs": [
    {
     "name": "stdout",
     "output_type": "stream",
     "text": [
      "0.9709505944546686\n"
     ]
    }
   ],
   "source": [
    "p1 = 6/15\n",
    "p2 = 9/15\n",
    "print(- p1 * math.log(p1, 2) - p2 * math.log(p2, 2))"
   ]
  },
  {
   "cell_type": "code",
   "execution_count": 1,
   "metadata": {},
   "outputs": [
    {
     "name": "stdout",
     "output_type": "stream",
     "text": [
      "   a  b\n",
      "0  1  2\n",
      "1  2  3\n",
      "2  3  4\n",
      "----------------\n",
      "0    1\n",
      "1    2\n",
      "2    3\n",
      "Name: a, dtype: int64\n",
      "----------------\n",
      "2\n",
      "----------------\n",
      "0\n",
      "a    1\n",
      "b    2\n",
      "Name: 0, dtype: int64\n",
      "1\n",
      "a    2\n",
      "b    3\n",
      "Name: 1, dtype: int64\n",
      "2\n",
      "a    3\n",
      "b    4\n",
      "Name: 2, dtype: int64\n"
     ]
    }
   ],
   "source": [
    "data = pd.DataFrame({'a':[1,2,3],\n",
    "                   'b':[2,3,4]})\n",
    "print(data)\n",
    "print('----------------')\n",
    "print(data['a'])\n",
    "print('----------------')\n",
    "print(data['a'][1])\n",
    "print('----------------')\n",
    "for i, row in data.iterrows():\n",
    "    print(i)\n",
    "    print(row)\n"
   ]
  },
  {
   "cell_type": "code",
   "execution_count": 1,
   "metadata": {},
   "outputs": [
    {
     "name": "stdout",
     "output_type": "stream",
     "text": [
      "a 1\n",
      "b 2\n",
      "c 3\n"
     ]
    }
   ],
   "source": [
    "t = {'a':1, 'b':2, 'c':3}\n",
    "for i in t.items():\n",
    "    print(i[0], i[1])"
   ]
  },
  {
   "cell_type": "code",
   "execution_count": 2,
   "metadata": {},
   "outputs": [
    {
     "name": "stdout",
     "output_type": "stream",
     "text": [
      "__str__\n",
      "__str__\n"
     ]
    }
   ],
   "source": [
    "class A(object):\n",
    "    pass\n",
    "\n",
    "    def __str__(self):\n",
    "        return \"__str__\"\n",
    "\n",
    "    def __repr__(self):\n",
    "        return \"__repr__\"\n",
    "\n",
    "a = A()\n",
    "print(a)\n",
    "print(str(a))"
   ]
  },
  {
   "cell_type": "code",
   "execution_count": 57,
   "metadata": {},
   "outputs": [
    {
     "name": "stdout",
     "output_type": "stream",
     "text": [
      "23.5 0.9852281360342516\n",
      "------------------\n",
      "23.5 0.9852281360342516\n",
      "------------------\n",
      "25.0 1.0945699380562093\n",
      "26.5 1.1019550008653876\n",
      "30.5 1.2123269712673068\n",
      "35.0 1.2049410973822487\n",
      "37.0 0.9463540418640243\n",
      "------------------\n",
      "37.0 0.9463540418640243\n",
      "------------------\n",
      "39.0 1.1007042468089754\n",
      "46.0 1.2446680575512874\n",
      "58.5 1.3885947615540288\n",
      "65.5 0.7289554884164346\n",
      "------------------\n",
      "65.5 0.7289554884164346\n",
      "------------------\n",
      "66.5 0.8\n"
     ]
    },
    {
     "name": "stderr",
     "output_type": "stream",
     "text": [
      "d:\\Miniconda3\\lib\\site-packages\\ipykernel_launcher.py:20: UserWarning: Boolean Series key will be reindexed to match DataFrame index.\n",
      "d:\\Miniconda3\\lib\\site-packages\\ipykernel_launcher.py:27: UserWarning: Boolean Series key will be reindexed to match DataFrame index.\n"
     ]
    }
   ],
   "source": [
    "data = pd.DataFrame({'年龄':[24, 26, 23, 27, 34, 36, 36, 38, 40, 52, 67, 74, 67, 66, 65],\n",
    "                    '类别':['不通过', '不通过', '通过', '通过', '不通过', '不通过', '不通过', '通过', '通过', '通过', '通过', '通过', '通过', '通过', '不通过']})\n",
    "feature = '年龄'\n",
    "label = '类别'\n",
    "sorted_data = data.sort_values(feature, ascending=True)\n",
    "unique_feature_vals = sorted_data[feature].unique()\n",
    "if len(unique_feature_vals) < 2:\n",
    "    # TODO\n",
    "    print('TODO: len(unique_feature_vals) < 2')\n",
    "elif len(unique_feature_vals) == 2:\n",
    "    discreted_points = [(unique_feature_vals[0] + unique_feature_vals[1]) / 2]\n",
    "else:\n",
    "    discreted_points = (unique_feature_vals[0:-2] + unique_feature_vals[1:-1]) / 2\n",
    "    point = 0\n",
    "    entropy = 1000000.\n",
    "    for split_point in discreted_points:\n",
    "        entropy_temp = 0.\n",
    "        l_entropy_temp = 0.\n",
    "        l_labels = data[sorted_data[feature] <= split_point][label]\n",
    "        for _, cnt in l_labels.value_counts().items():\n",
    "            p = cnt / len(l_labels)\n",
    "            l_entropy_temp += - p * math.log(p, 2)\n",
    "        entropy_temp += len(l_labels) / len(sorted_data) * l_entropy_temp\n",
    "        \n",
    "        r_entropy_temp = 0.\n",
    "        r_labels = data[sorted_data[feature] > split_point][label]\n",
    "        for _, cnt in r_labels.value_counts().items():\n",
    "            p = cnt / len(r_labels)\n",
    "            entropy_temp += - p * math.log(p, 2)\n",
    "        entropy_temp += len(r_labels) / len(sorted_data) * r_entropy_temp\n",
    "\n",
    "        if entropy_temp < entropy:\n",
    "            point = split_point\n",
    "            entropy = entropy_temp\n"
   ]
  },
  {
   "cell_type": "code",
   "execution_count": 59,
   "metadata": {},
   "outputs": [
    {
     "name": "stdout",
     "output_type": "stream",
     "text": [
      "   年龄   类别\n",
      "0  24  不通过\n",
      "2  23   通过\n"
     ]
    }
   ],
   "source": [
    "data = pd.DataFrame({'年龄':[24, 26, 23, 27, 34, 36, 36, 38, 40, 52, 67, 74, 67, 66, 65],\n",
    "                    '类别':['不通过', '不通过', '通过', '通过', '不通过', '不通过', '不通过', '通过', '通过', '通过', '通过', '通过', '通过', '通过', '不通过']})\n",
    "\n",
    "print(data[data['年龄']<25])"
   ]
  }
 ],
 "metadata": {
  "kernelspec": {
   "display_name": "Python 3",
   "language": "python",
   "name": "python3"
  },
  "language_info": {
   "codemirror_mode": {
    "name": "ipython",
    "version": 3
   },
   "file_extension": ".py",
   "mimetype": "text/x-python",
   "name": "python",
   "nbconvert_exporter": "python",
   "pygments_lexer": "ipython3",
   "version": "3.7.3"
  }
 },
 "nbformat": 4,
 "nbformat_minor": 4
}
