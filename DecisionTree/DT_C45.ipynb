{
 "cells": [
  {
   "cell_type": "code",
   "execution_count": 41,
   "metadata": {},
   "outputs": [],
   "source": [
    "import pandas as pd\n",
    "import math\n",
    "import logging"
   ]
  },
  {
   "cell_type": "code",
   "execution_count": 42,
   "metadata": {},
   "outputs": [],
   "source": [
    "logger = logging.getLogger('DT_C45')"
   ]
  },
  {
   "cell_type": "code",
   "execution_count": 43,
   "metadata": {},
   "outputs": [],
   "source": [
    "def load_data():\n",
    "    data = pd.DataFrame({'年龄':['青年', '青年', '青年', '青年', '青年', '中年', '中年', '中年', '中年', '中年', '老年', '老年', '老年', '老年', '老年'], \n",
    "                         '有工作':['否', '否', '是', '是', '否', '否', '否', '是', '否', '否', '否', '否', '是', '是', '否'], \n",
    "                         '有房子':['否', '否', '否', '是', '否', '否', '否', '是', '是', '是', '是', '是', '否', '否', '否'], \n",
    "                         '信贷情况':['一般', '好', '好', '一般', '一般', '一般', '好', '好', '非常好', '非常好', '非常好', '好', '好', '非常好', '一般'], \n",
    "                         '类别':['不通过', '不通过', '通过', '通过', '不通过', '不通过', '不通过', '通过', '通过', '通过', '通过', '通过', '通过', '通过', '不通过']})\n",
    "    return data"
   ]
  },
  {
   "cell_type": "code",
   "execution_count": 44,
   "metadata": {},
   "outputs": [],
   "source": [
    "def load_test_data():\n",
    "    data = pd.DataFrame({'年龄':['青年', '中年'], \n",
    "                         '有工作':['是', '是'], \n",
    "                         '有房子':['有', '有'], \n",
    "                         '信贷情况':['一般', '好'], \n",
    "                         '类别':['通过', '通过']})\n",
    "    return data"
   ]
  },
  {
   "cell_type": "code",
   "execution_count": 45,
   "metadata": {},
   "outputs": [],
   "source": [
    "def calc_entropy(data):\n",
    "    labels = data[data.columns[-1]]\n",
    "    m = len(data)\n",
    "\n",
    "#     cnt_labels = {}\n",
    "    entropy = 0\n",
    "#     logging.debug('y_labels:\\n%s' % labels.value_counts())\n",
    "    for _, cnt in labels.value_counts().items():\n",
    "#         cnt_labels[label] = cnt\n",
    "        p = cnt / m\n",
    "        entropy += - p * math.log(p, 2)\n",
    "    \n",
    "#     logging.debug('entropy: %s' % entropy)\n",
    "    return entropy"
   ]
  },
  {
   "cell_type": "code",
   "execution_count": 52,
   "metadata": {},
   "outputs": [],
   "source": [
    "def choose_best_feature(data):\n",
    "    columns = data.columns[:-1]\n",
    "    m = len(data)\n",
    "    logging.debug('data:\\n%s' % data)\n",
    "    \n",
    "    base_entropy = calc_entropy(data)\n",
    "    info_gain_rate = 0.\n",
    "    best_feature = None\n",
    "    for feature in columns:\n",
    "        # C4.5 spileinfo\n",
    "        spilt_info = 0.\n",
    "        for _, cnt in data[feature].value_counts().items():\n",
    "            p = cnt / m\n",
    "            spilt_info += - p * math.log(p, 2)\n",
    "        \n",
    "        unique_feature_vals = data[feature].unique()\n",
    "        logging.debug('feature: %s, unique_val: %s' % (feature, unique_feature_vals))\n",
    "\n",
    "        c_entropy = 0.\n",
    "        for unique_feature_val in unique_feature_vals:\n",
    "            sub_data_temp = split_data(data, feature, unique_feature_val)\n",
    "            m_sub = len(sub_data_temp)\n",
    "            delta_c_entropy = m_sub / m * calc_entropy(sub_data_temp)\n",
    "            logging.debug('%s: %s, [%d/%d], delta_c_entropy: %.6f, sub_data:\\n%s' % (feature, unique_feature_val, m_sub, m, delta_c_entropy, sub_data_temp))\n",
    "            c_entropy += delta_c_entropy\n",
    "        \n",
    "        logging.debug('feature: %s, total_c_entropy: %.6f' % (feature, c_entropy))\n",
    "        \n",
    "        # I(Y|X) = H(Y) - H(Y|X), as H(Y) is fixed in the same data set, to get the biggest I\n",
    "        info_gain_rate_temp = (base_entropy - c_entropy) / spilt_info\n",
    "        \n",
    "        if info_gain_rate_temp > info_gain_rate:\n",
    "            logging.debug('feature: %s, info_gain_rate_temp: %.6f' % (feature, info_gain_rate_temp))\n",
    "            info_gain_rate = info_gain_rate_temp\n",
    "            best_feature = feature\n",
    "    \n",
    "    logging.info('best feature: %s, info gain rate: %.6f' % (best_feature, info_gain_rate))\n",
    "    \n",
    "    return best_feature"
   ]
  },
  {
   "cell_type": "code",
   "execution_count": 47,
   "metadata": {},
   "outputs": [],
   "source": [
    "def split_data(data, feature, value):\n",
    "    sub_data_temp = data[data[feature] == value].copy()\n",
    "    sub_data_temp.drop(feature, axis=1, inplace=True)\n",
    "    return sub_data_temp"
   ]
  },
  {
   "cell_type": "code",
   "execution_count": 48,
   "metadata": {},
   "outputs": [],
   "source": [
    "def major_label(labels):\n",
    "    value_counts = labels.value_counts().sort_values(ascending=False)\n",
    "    logging.info('label conflict exists:\\n%s' % (value_counts))\n",
    "    return value_counts.index[0]"
   ]
  },
  {
   "cell_type": "code",
   "execution_count": 49,
   "metadata": {},
   "outputs": [],
   "source": [
    "def create_tree(data):\n",
    "    labels = data[data.columns[-1]]\n",
    "    unique_labels = labels.unique()\n",
    "    \n",
    "    # if only one unique label left, just pick this label\n",
    "    if len(unique_labels) == 1:\n",
    "        return unique_labels[0]\n",
    "    \n",
    "    # if some conflicts on labels with same input, pick the label with highest probability\n",
    "    if len(data.columns) == 1:\n",
    "        return major_label(labels)\n",
    "    \n",
    "    best_feature = choose_best_feature(data)\n",
    "    tree = {best_feature: {}}\n",
    "    \n",
    "    unique_feature_vals = data[best_feature].unique()\n",
    "    for val in unique_feature_vals:\n",
    "        tree[best_feature][val] = create_tree(split_data(data, best_feature, val))\n",
    "    \n",
    "    return tree"
   ]
  },
  {
   "cell_type": "code",
   "execution_count": 50,
   "metadata": {},
   "outputs": [],
   "source": [
    "def fit(model, data):\n",
    "    labels = data[data.columns[-1]]\n",
    "    m = len(data)\n",
    "    \n",
    "    pred_data = pd.DataFrame()\n",
    "    for row in data.iterrows():\n",
    "        node = model\n",
    "        while True:\n",
    "            if type(node) != dict:\n",
    "                pred_data = pred_data.append(pd.DataFrame({'pred_labels': [node]}), ignore_index=True)\n",
    "                break\n",
    "                \n",
    "            for k in node.keys():\n",
    "                feature = k\n",
    "                break\n",
    "            \n",
    "            feature_vals = node[feature].keys()\n",
    "            for feature_val in feature_vals:\n",
    "                # row is a tuple of (#, pandas series)\n",
    "                if str(row[-1][feature]) == feature_val:\n",
    "                    node = node[feature][feature_val]\n",
    "                    break\n",
    "    \n",
    "    results = pred_data[pred_data['pred_labels'] == labels]\n",
    "    ratings = len(results) / m\n",
    "    return ratings"
   ]
  },
  {
   "cell_type": "code",
   "execution_count": 53,
   "metadata": {},
   "outputs": [
    {
     "name": "stderr",
     "output_type": "stream",
     "text": [
      "<ipython-input-53-a24b5b9c725b>[8] - base entropy: 0.9709505944546686\n",
      "<ipython-input-52-86646c0847f7>[37] - best feature: 有房子, info gain rate: 0.432538\n",
      "<ipython-input-52-86646c0847f7>[37] - best feature: 有工作, info gain rate: 1.000000\n",
      "<ipython-input-53-a24b5b9c725b>[11] - model: {'有房子': {'否': {'有工作': {'否': '不通过', '是': '通过'}}, '是': '通过'}}\n"
     ]
    }
   ],
   "source": [
    "if __name__ == '__main__':\n",
    "    # logging setting\n",
    "#     logging.basicConfig(level=logging.DEBUG, format='%(asctime)s - %(filename)s[line:%(lineno)d] - %(levelname)s: %(message)s')\n",
    "    logging.basicConfig(level=logging.INFO, format='%(filename)s[%(lineno)d] - %(message)s')\n",
    "    # model train\n",
    "    data = load_data()\n",
    "    base_entropy = calc_entropy(data)\n",
    "    logging.info('base entropy: %s' % base_entropy)\n",
    "    \n",
    "    model = create_tree(data)\n",
    "    logging.info('model: %s' % model)\n",
    "    \n",
    "    # test\n",
    "#     test_data = load_test_data()\n",
    "#     ratings = fit(model, test_data)\n",
    "#     print('------------')\n",
    "#     print(ratings)\n",
    "#     logging.debug('test_data:\\n%s' % test_data)\n",
    "#     logging.info('rating: %.2f%%' % (ratings * 100))"
   ]
  },
  {
   "cell_type": "code",
   "execution_count": null,
   "metadata": {},
   "outputs": [],
   "source": []
  }
 ],
 "metadata": {
  "kernelspec": {
   "display_name": "Python 3",
   "language": "python",
   "name": "python3"
  },
  "language_info": {
   "codemirror_mode": {
    "name": "ipython",
    "version": 3
   },
   "file_extension": ".py",
   "mimetype": "text/x-python",
   "name": "python",
   "nbconvert_exporter": "python",
   "pygments_lexer": "ipython3",
   "version": "3.7.3"
  }
 },
 "nbformat": 4,
 "nbformat_minor": 4
}
