{
 "cells": [
  {
   "cell_type": "code",
   "execution_count": 1,
   "metadata": {},
   "outputs": [
    {
     "name": "stdout",
     "output_type": "stream",
     "text": [
      "coef = [1.  2.  5.5]\n",
      "intercept = 2.999999999999986\n"
     ]
    }
   ],
   "source": [
    "import numpy as np\n",
    "from sklearn.datasets import load_iris\n",
    "from sklearn.linear_model import LinearRegression\n",
    "from sklearn import metrics\n",
    "\n",
    "pair = [0, 1, 2]\n",
    "\n",
    "iris = load_iris()\n",
    "\n",
    "X = iris.data[:, pair]\n",
    "# y = iris.target\n",
    "\n",
    "X_train = X\n",
    "y_train = np.dot(X, np.array([1, 2, 5.5])) + 3\n",
    "\n",
    "model = LinearRegression()\n",
    "model.fit(X_train, y_train)\n",
    "print('coef =', model.coef_)\n",
    "print('intercept =', model.intercept_ )\n",
    "\n",
    "# scores = model.score(X_train, y_train)\n",
    "# print(scores)"
   ]
  }
 ],
 "metadata": {
  "kernelspec": {
   "display_name": "Python 3",
   "language": "python",
   "name": "python3"
  },
  "language_info": {
   "codemirror_mode": {
    "name": "ipython",
    "version": 3
   },
   "file_extension": ".py",
   "mimetype": "text/x-python",
   "name": "python",
   "nbconvert_exporter": "python",
   "pygments_lexer": "ipython3",
   "version": "3.7.3"
  }
 },
 "nbformat": 4,
 "nbformat_minor": 4
}
