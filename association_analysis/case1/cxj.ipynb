{
 "metadata": {
  "language_info": {
   "codemirror_mode": {
    "name": "ipython",
    "version": 3
   },
   "file_extension": ".py",
   "mimetype": "text/x-python",
   "name": "python",
   "nbconvert_exporter": "python",
   "pygments_lexer": "ipython3",
   "version": "3.7.3-final"
  },
  "orig_nbformat": 2,
  "kernelspec": {
   "name": "Python 3.7.3 64-bit ('Miniconda3')",
   "display_name": "Python 3.7.3 64-bit ('Miniconda3')",
   "metadata": {
    "interpreter": {
     "hash": "a72f68cc148b279a81ef0488079e33db58bd3e723d7638e46009e47145dcc430"
    }
   }
  }
 },
 "nbformat": 4,
 "nbformat_minor": 2,
 "cells": [
  {
   "source": [
    "# CXJ\n",
    "## preprocess"
   ],
   "cell_type": "markdown",
   "metadata": {}
  },
  {
   "cell_type": "code",
   "execution_count": 2,
   "metadata": {},
   "outputs": [],
   "source": [
    "import pandas as pd\n",
    "import pickle\n",
    "\n",
    "# column field definition\n",
    "REC_COL_DATE = \"日期\"\n",
    "REC_COL_PLATE = \"车牌\"\n",
    "REC_COL_S_CODE = \"S码\"\n",
    "\n",
    "# raw files\n",
    "raw_files = [\n",
    "    './data/CXJ_202001_03.csv',\n",
    "    './data/CXJ_202004_05.csv',\n",
    "    './data/CXJ_202006_07.csv',\n",
    "    './data/CXJ_202008_09.csv',\n",
    "]\n",
    "\n",
    "# files to save list of SCODE groups\n",
    "pkl_files = [\n",
    "    # './data/CXJ_202001_03.pkl',\n",
    "    './data/CXJ_202004_05.pkl',\n",
    "    # './data/CXJ_202006_07.pkl',\n",
    "    # './data/CXJ_202008_09.pkl',\n",
    "]\n",
    "\n",
    "rules_pkl_files = [\n",
    "    # './data/rules_202001_03.pkl',\n",
    "    './data/rules_202004_05.pkl',\n",
    "    # './data/rules_202006_07.pkl',\n",
    "    # './data/rules_202008_09.pkl',\n",
    "]\n",
    "\n",
    "rules_txt_files = [\n",
    "    # './data/rules_202001_03.txt',\n",
    "    './data/rules_202004_05.txt',\n",
    "    # './data/rules_202006_07.txt',\n",
    "    # './data/rules_202008_09.txt',\n",
    "]\n",
    "\n",
    "\n",
    "def save_to_pickle(file, trans, mode='wb'):\n",
    "    with open(file, mode) as f:\n",
    "        pickle.dump(trans, f)\n",
    "    print(\"file %s(%d) saved\" % (file, len(trans)))\n",
    "\n",
    "def load_from_pickle(file, mode='rb'):\n",
    "    with open(file, mode) as f:\n",
    "        trans = pickle.load(f)\n",
    "    print(\"file %s(%d) loaded\" % (file, len(trans)))\n",
    "    return trans\n",
    "\n",
    "def batch_save(from_files, to_files):\n",
    "    for from_file, to_file in zip(from_files, to_files):\n",
    "        trans = []\n",
    "        df = pd.read_csv(from_file, encoding=\"utf-8\")\n",
    "        df.groupby([REC_COL_DATE, REC_COL_PLATE]).apply(lambda x:trans.append(list(set(x[REC_COL_S_CODE]))))\n",
    "        save_to_pickle(to_file, trans)\n",
    "\n",
    "def batch_load(from_files):\n",
    "    trans = []\n",
    "    for from_file in from_files:\n",
    "        trans.extend(load_from_pickle(from_file))\n",
    "    return trans"
   ]
  },
  {
   "cell_type": "code",
   "execution_count": null,
   "metadata": {},
   "outputs": [],
   "source": [
    "# extract code list from raw records and save to pkl files\n",
    "batch_save(raw_files, pkl_files)"
   ]
  },
  {
   "cell_type": "code",
   "execution_count": null,
   "metadata": {},
   "outputs": [],
   "source": [
    "# volumn is too big to compute\n",
    "# trans = batch_load(pkl_files)"
   ]
  },
  {
   "source": [
    "## algo: fp-growth"
   ],
   "cell_type": "markdown",
   "metadata": {}
  },
  {
   "cell_type": "code",
   "execution_count": 3,
   "metadata": {},
   "outputs": [
    {
     "output_type": "stream",
     "name": "stdout",
     "text": [
      "file ./data/CXJ_202004_05.pkl(693020) loaded\n"
     ]
    },
    {
     "output_type": "error",
     "ename": "MemoryError",
     "evalue": "",
     "traceback": [
      "\u001b[1;31m---------------------------------------------------------------------------\u001b[0m",
      "\u001b[1;31mMemoryError\u001b[0m                               Traceback (most recent call last)",
      "\u001b[1;32m<ipython-input-3-d842f6268782>\u001b[0m in \u001b[0;36m<module>\u001b[1;34m\u001b[0m\n\u001b[0;32m      7\u001b[0m \u001b[1;33m\u001b[0m\u001b[0m\n\u001b[0;32m      8\u001b[0m     \u001b[1;31m# at least 2 elements for each pair\u001b[0m\u001b[1;33m\u001b[0m\u001b[1;33m\u001b[0m\u001b[1;33m\u001b[0m\u001b[0m\n\u001b[1;32m----> 9\u001b[1;33m     \u001b[0mpatterns\u001b[0m \u001b[1;33m=\u001b[0m \u001b[0mpyfpgrowth\u001b[0m\u001b[1;33m.\u001b[0m\u001b[0mfind_frequent_patterns\u001b[0m\u001b[1;33m(\u001b[0m\u001b[0mtrans\u001b[0m\u001b[1;33m,\u001b[0m \u001b[1;36m2\u001b[0m\u001b[1;33m)\u001b[0m\u001b[1;33m\u001b[0m\u001b[1;33m\u001b[0m\u001b[0m\n\u001b[0m\u001b[0;32m     10\u001b[0m \u001b[1;33m\u001b[0m\u001b[0m\n\u001b[0;32m     11\u001b[0m     \u001b[1;31m# data mining with threholds of confidence 70%\u001b[0m\u001b[1;33m\u001b[0m\u001b[1;33m\u001b[0m\u001b[1;33m\u001b[0m\u001b[0m\n",
      "\u001b[1;32md:\\Miniconda3\\lib\\site-packages\\pyfpgrowth\\pyfpgrowth.py\u001b[0m in \u001b[0;36mfind_frequent_patterns\u001b[1;34m(transactions, support_threshold)\u001b[0m\n\u001b[0;32m    251\u001b[0m     \"\"\"\n\u001b[0;32m    252\u001b[0m     \u001b[0mtree\u001b[0m \u001b[1;33m=\u001b[0m \u001b[0mFPTree\u001b[0m\u001b[1;33m(\u001b[0m\u001b[0mtransactions\u001b[0m\u001b[1;33m,\u001b[0m \u001b[0msupport_threshold\u001b[0m\u001b[1;33m,\u001b[0m \u001b[1;32mNone\u001b[0m\u001b[1;33m,\u001b[0m \u001b[1;32mNone\u001b[0m\u001b[1;33m)\u001b[0m\u001b[1;33m\u001b[0m\u001b[1;33m\u001b[0m\u001b[0m\n\u001b[1;32m--> 253\u001b[1;33m     \u001b[1;32mreturn\u001b[0m \u001b[0mtree\u001b[0m\u001b[1;33m.\u001b[0m\u001b[0mmine_patterns\u001b[0m\u001b[1;33m(\u001b[0m\u001b[0msupport_threshold\u001b[0m\u001b[1;33m)\u001b[0m\u001b[1;33m\u001b[0m\u001b[1;33m\u001b[0m\u001b[0m\n\u001b[0m\u001b[0;32m    254\u001b[0m \u001b[1;33m\u001b[0m\u001b[0m\n\u001b[0;32m    255\u001b[0m \u001b[1;33m\u001b[0m\u001b[0m\n",
      "\u001b[1;32md:\\Miniconda3\\lib\\site-packages\\pyfpgrowth\\pyfpgrowth.py\u001b[0m in \u001b[0;36mmine_patterns\u001b[1;34m(self, threshold)\u001b[0m\n\u001b[0;32m    153\u001b[0m             \u001b[1;32mreturn\u001b[0m \u001b[0mself\u001b[0m\u001b[1;33m.\u001b[0m\u001b[0mgenerate_pattern_list\u001b[0m\u001b[1;33m(\u001b[0m\u001b[1;33m)\u001b[0m\u001b[1;33m\u001b[0m\u001b[1;33m\u001b[0m\u001b[0m\n\u001b[0;32m    154\u001b[0m         \u001b[1;32melse\u001b[0m\u001b[1;33m:\u001b[0m\u001b[1;33m\u001b[0m\u001b[1;33m\u001b[0m\u001b[0m\n\u001b[1;32m--> 155\u001b[1;33m             \u001b[1;32mreturn\u001b[0m \u001b[0mself\u001b[0m\u001b[1;33m.\u001b[0m\u001b[0mzip_patterns\u001b[0m\u001b[1;33m(\u001b[0m\u001b[0mself\u001b[0m\u001b[1;33m.\u001b[0m\u001b[0mmine_sub_trees\u001b[0m\u001b[1;33m(\u001b[0m\u001b[0mthreshold\u001b[0m\u001b[1;33m)\u001b[0m\u001b[1;33m)\u001b[0m\u001b[1;33m\u001b[0m\u001b[1;33m\u001b[0m\u001b[0m\n\u001b[0m\u001b[0;32m    156\u001b[0m \u001b[1;33m\u001b[0m\u001b[0m\n\u001b[0;32m    157\u001b[0m     \u001b[1;32mdef\u001b[0m \u001b[0mzip_patterns\u001b[0m\u001b[1;33m(\u001b[0m\u001b[0mself\u001b[0m\u001b[1;33m,\u001b[0m \u001b[0mpatterns\u001b[0m\u001b[1;33m)\u001b[0m\u001b[1;33m:\u001b[0m\u001b[1;33m\u001b[0m\u001b[1;33m\u001b[0m\u001b[0m\n",
      "\u001b[1;32md:\\Miniconda3\\lib\\site-packages\\pyfpgrowth\\pyfpgrowth.py\u001b[0m in \u001b[0;36mmine_sub_trees\u001b[1;34m(self, threshold)\u001b[0m\n\u001b[0;32m    233\u001b[0m             subtree = FPTree(conditional_tree_input, threshold,\n\u001b[0;32m    234\u001b[0m                              item, self.frequent[item])\n\u001b[1;32m--> 235\u001b[1;33m             \u001b[0msubtree_patterns\u001b[0m \u001b[1;33m=\u001b[0m \u001b[0msubtree\u001b[0m\u001b[1;33m.\u001b[0m\u001b[0mmine_patterns\u001b[0m\u001b[1;33m(\u001b[0m\u001b[0mthreshold\u001b[0m\u001b[1;33m)\u001b[0m\u001b[1;33m\u001b[0m\u001b[1;33m\u001b[0m\u001b[0m\n\u001b[0m\u001b[0;32m    236\u001b[0m \u001b[1;33m\u001b[0m\u001b[0m\n\u001b[0;32m    237\u001b[0m             \u001b[1;31m# Insert subtree patterns into main patterns dictionary.\u001b[0m\u001b[1;33m\u001b[0m\u001b[1;33m\u001b[0m\u001b[1;33m\u001b[0m\u001b[0m\n",
      "\u001b[1;32md:\\Miniconda3\\lib\\site-packages\\pyfpgrowth\\pyfpgrowth.py\u001b[0m in \u001b[0;36mmine_patterns\u001b[1;34m(self, threshold)\u001b[0m\n\u001b[0;32m    153\u001b[0m             \u001b[1;32mreturn\u001b[0m \u001b[0mself\u001b[0m\u001b[1;33m.\u001b[0m\u001b[0mgenerate_pattern_list\u001b[0m\u001b[1;33m(\u001b[0m\u001b[1;33m)\u001b[0m\u001b[1;33m\u001b[0m\u001b[1;33m\u001b[0m\u001b[0m\n\u001b[0;32m    154\u001b[0m         \u001b[1;32melse\u001b[0m\u001b[1;33m:\u001b[0m\u001b[1;33m\u001b[0m\u001b[1;33m\u001b[0m\u001b[0m\n\u001b[1;32m--> 155\u001b[1;33m             \u001b[1;32mreturn\u001b[0m \u001b[0mself\u001b[0m\u001b[1;33m.\u001b[0m\u001b[0mzip_patterns\u001b[0m\u001b[1;33m(\u001b[0m\u001b[0mself\u001b[0m\u001b[1;33m.\u001b[0m\u001b[0mmine_sub_trees\u001b[0m\u001b[1;33m(\u001b[0m\u001b[0mthreshold\u001b[0m\u001b[1;33m)\u001b[0m\u001b[1;33m)\u001b[0m\u001b[1;33m\u001b[0m\u001b[1;33m\u001b[0m\u001b[0m\n\u001b[0m\u001b[0;32m    156\u001b[0m \u001b[1;33m\u001b[0m\u001b[0m\n\u001b[0;32m    157\u001b[0m     \u001b[1;32mdef\u001b[0m \u001b[0mzip_patterns\u001b[0m\u001b[1;33m(\u001b[0m\u001b[0mself\u001b[0m\u001b[1;33m,\u001b[0m \u001b[0mpatterns\u001b[0m\u001b[1;33m)\u001b[0m\u001b[1;33m:\u001b[0m\u001b[1;33m\u001b[0m\u001b[1;33m\u001b[0m\u001b[0m\n",
      "\u001b[1;32md:\\Miniconda3\\lib\\site-packages\\pyfpgrowth\\pyfpgrowth.py\u001b[0m in \u001b[0;36mmine_sub_trees\u001b[1;34m(self, threshold)\u001b[0m\n\u001b[0;32m    233\u001b[0m             subtree = FPTree(conditional_tree_input, threshold,\n\u001b[0;32m    234\u001b[0m                              item, self.frequent[item])\n\u001b[1;32m--> 235\u001b[1;33m             \u001b[0msubtree_patterns\u001b[0m \u001b[1;33m=\u001b[0m \u001b[0msubtree\u001b[0m\u001b[1;33m.\u001b[0m\u001b[0mmine_patterns\u001b[0m\u001b[1;33m(\u001b[0m\u001b[0mthreshold\u001b[0m\u001b[1;33m)\u001b[0m\u001b[1;33m\u001b[0m\u001b[1;33m\u001b[0m\u001b[0m\n\u001b[0m\u001b[0;32m    236\u001b[0m \u001b[1;33m\u001b[0m\u001b[0m\n\u001b[0;32m    237\u001b[0m             \u001b[1;31m# Insert subtree patterns into main patterns dictionary.\u001b[0m\u001b[1;33m\u001b[0m\u001b[1;33m\u001b[0m\u001b[1;33m\u001b[0m\u001b[0m\n",
      "\u001b[1;32md:\\Miniconda3\\lib\\site-packages\\pyfpgrowth\\pyfpgrowth.py\u001b[0m in \u001b[0;36mmine_patterns\u001b[1;34m(self, threshold)\u001b[0m\n\u001b[0;32m    151\u001b[0m         \"\"\"\n\u001b[0;32m    152\u001b[0m         \u001b[1;32mif\u001b[0m \u001b[0mself\u001b[0m\u001b[1;33m.\u001b[0m\u001b[0mtree_has_single_path\u001b[0m\u001b[1;33m(\u001b[0m\u001b[0mself\u001b[0m\u001b[1;33m.\u001b[0m\u001b[0mroot\u001b[0m\u001b[1;33m)\u001b[0m\u001b[1;33m:\u001b[0m\u001b[1;33m\u001b[0m\u001b[1;33m\u001b[0m\u001b[0m\n\u001b[1;32m--> 153\u001b[1;33m             \u001b[1;32mreturn\u001b[0m \u001b[0mself\u001b[0m\u001b[1;33m.\u001b[0m\u001b[0mgenerate_pattern_list\u001b[0m\u001b[1;33m(\u001b[0m\u001b[1;33m)\u001b[0m\u001b[1;33m\u001b[0m\u001b[1;33m\u001b[0m\u001b[0m\n\u001b[0m\u001b[0;32m    154\u001b[0m         \u001b[1;32melse\u001b[0m\u001b[1;33m:\u001b[0m\u001b[1;33m\u001b[0m\u001b[1;33m\u001b[0m\u001b[0m\n\u001b[0;32m    155\u001b[0m             \u001b[1;32mreturn\u001b[0m \u001b[0mself\u001b[0m\u001b[1;33m.\u001b[0m\u001b[0mzip_patterns\u001b[0m\u001b[1;33m(\u001b[0m\u001b[0mself\u001b[0m\u001b[1;33m.\u001b[0m\u001b[0mmine_sub_trees\u001b[0m\u001b[1;33m(\u001b[0m\u001b[0mthreshold\u001b[0m\u001b[1;33m)\u001b[0m\u001b[1;33m)\u001b[0m\u001b[1;33m\u001b[0m\u001b[1;33m\u001b[0m\u001b[0m\n",
      "\u001b[1;32md:\\Miniconda3\\lib\\site-packages\\pyfpgrowth\\pyfpgrowth.py\u001b[0m in \u001b[0;36mgenerate_pattern_list\u001b[1;34m(self)\u001b[0m\n\u001b[0;32m    191\u001b[0m                 \u001b[0mpattern\u001b[0m \u001b[1;33m=\u001b[0m \u001b[0mtuple\u001b[0m\u001b[1;33m(\u001b[0m\u001b[0msorted\u001b[0m\u001b[1;33m(\u001b[0m\u001b[0mlist\u001b[0m\u001b[1;33m(\u001b[0m\u001b[0msubset\u001b[0m\u001b[1;33m)\u001b[0m \u001b[1;33m+\u001b[0m \u001b[0msuffix_value\u001b[0m\u001b[1;33m)\u001b[0m\u001b[1;33m)\u001b[0m\u001b[1;33m\u001b[0m\u001b[1;33m\u001b[0m\u001b[0m\n\u001b[0;32m    192\u001b[0m                 \u001b[0mpatterns\u001b[0m\u001b[1;33m[\u001b[0m\u001b[0mpattern\u001b[0m\u001b[1;33m]\u001b[0m \u001b[1;33m=\u001b[0m\u001b[0;31m \u001b[0m\u001b[0;31m\\\u001b[0m\u001b[1;33m\u001b[0m\u001b[1;33m\u001b[0m\u001b[0m\n\u001b[1;32m--> 193\u001b[1;33m                     \u001b[0mmin\u001b[0m\u001b[1;33m(\u001b[0m\u001b[1;33m[\u001b[0m\u001b[0mself\u001b[0m\u001b[1;33m.\u001b[0m\u001b[0mfrequent\u001b[0m\u001b[1;33m[\u001b[0m\u001b[0mx\u001b[0m\u001b[1;33m]\u001b[0m \u001b[1;32mfor\u001b[0m \u001b[0mx\u001b[0m \u001b[1;32min\u001b[0m \u001b[0msubset\u001b[0m\u001b[1;33m]\u001b[0m\u001b[1;33m)\u001b[0m\u001b[1;33m\u001b[0m\u001b[1;33m\u001b[0m\u001b[0m\n\u001b[0m\u001b[0;32m    194\u001b[0m \u001b[1;33m\u001b[0m\u001b[0m\n\u001b[0;32m    195\u001b[0m         \u001b[1;32mreturn\u001b[0m \u001b[0mpatterns\u001b[0m\u001b[1;33m\u001b[0m\u001b[1;33m\u001b[0m\u001b[0m\n",
      "\u001b[1;31mMemoryError\u001b[0m: "
     ]
    }
   ],
   "source": [
    "# create fp-tree\n",
    "import pyfpgrowth\n",
    "\n",
    "\n",
    "for from_file, to_file in zip(pkl_files, rules_pkl_files):\n",
    "    trans = load_from_pickle(from_file)\n",
    "\n",
    "    # at least 2 elements for each pair\n",
    "    patterns = pyfpgrowth.find_frequent_patterns(trans, 2)\n",
    "\n",
    "    # data mining with threholds of confidence 70%\n",
    "    rules = pyfpgrowth.generate_association_rules(patterns, 0.7)\n",
    "\n",
    "    # save rules to file\n",
    "    save_to_pickle(to_file, rules)"
   ]
  },
  {
   "source": [
    "## post process"
   ],
   "cell_type": "markdown",
   "metadata": {}
  },
  {
   "cell_type": "code",
   "execution_count": 31,
   "metadata": {
    "tags": []
   },
   "outputs": [],
   "source": [
    "# init service code dictionary\n",
    "import pandas\n",
    "\n",
    "DT_COL_S_CODE = \"服务编码\"\n",
    "DT_COL_S_NAME = \"服务名称\"\n",
    "\n",
    "def load_scode_dict(file):\n",
    "\n",
    "    df = pd.read_csv(file, encoding=\"utf-8\")\n",
    "    dt = dict()\n",
    "\n",
    "    def foo(x):\n",
    "        dt[x[DT_COL_S_CODE]] = x[DT_COL_S_NAME]\n",
    "    \n",
    "    df.apply(foo, axis=1)\n",
    "    return dt\n",
    "\n",
    "scode_dict_file = \"./data/service_info.csv\"\n",
    "\n",
    "scode_dict = load_scode_dict(scode_dict_file)\n",
    "\n",
    "def fullname(scode):\n",
    "    return \"%s %s\" % (scode, scode_dict.get(scode))"
   ]
  },
  {
   "cell_type": "code",
   "execution_count": 51,
   "metadata": {
    "tags": []
   },
   "outputs": [
    {
     "output_type": "stream",
     "name": "stdout",
     "text": [
      "file ./data/rules_on_1_3.pkl(623105) loaded\nfile ./data/rules_on_1_3.txt saved\n"
     ]
    }
   ],
   "source": [
    "def save_rules(from_file, to_file, mode='a', l_limit=1):\n",
    "    rules = load_from_pickle(from_file)\n",
    "    with open(to_file, mode, encoding='utf-8') as f:\n",
    "        for rule in rules:\n",
    "            if len(rule) <= l_limit:\n",
    "                line = \"{}\\t=>\\t{}\\t{:.0%}\\n\".format(list(map(fullname, rule)), \\\n",
    "                    list(map(fullname, rules[rule][0])), rules[rule][1])\n",
    "                f.write(line)\n",
    "    print(\"file %s saved\" % to_file)\n",
    "\n",
    "\n",
    "for from_file, to_file in zip(pkl_files, rules_files):\n",
    "    save_rules(from_file, to_file)"
   ]
  }
 ]
}